{
 "cells": [
  {
   "attachments": {},
   "cell_type": "markdown",
   "metadata": {},
   "source": [
    "# Aufgabenstellungen \"Innovative Cheese Producing Company\""
   ]
  },
  {
   "cell_type": "code",
   "execution_count": 1,
   "metadata": {},
   "outputs": [],
   "source": [
    "import os\n",
    "\n",
    "from plotly.subplots import make_subplots\n",
    "import plotly.graph_objects as go\n",
    "\n",
    "from pyspark.sql import SparkSession, Window\n",
    "from pyspark.sql.functions import col, count, date_format, first, format_number, month, row_number, sum\n",
    "from pyspark.sql.types import StructType, StructField, StringType, TimestampType, IntegerType, DoubleType, DecimalType\n",
    "\n",
    "from prophet import Prophet\n",
    "from prophet.plot import plot_plotly, plot_components_plotly"
   ]
  },
  {
   "cell_type": "code",
   "execution_count": 2,
   "metadata": {},
   "outputs": [],
   "source": [
    "spark = SparkSession.Builder().getOrCreate()"
   ]
  },
  {
   "cell_type": "code",
   "execution_count": 3,
   "metadata": {},
   "outputs": [],
   "source": [
    "data_file_path = r\".\\data\"\n",
    "results_path = r\".\\results\""
   ]
  },
  {
   "attachments": {},
   "cell_type": "markdown",
   "metadata": {},
   "source": [
    "## Tatsächliche Taktleistung vs. geplante Taktleistung (10 Takte/Minute)"
   ]
  },
  {
   "cell_type": "code",
   "execution_count": 4,
   "metadata": {},
   "outputs": [
    {
     "name": "stdout",
     "output_type": "stream",
     "text": [
      "Number of rows in oee_data.csv: 120186\n",
      "\n",
      "root\n",
      " |-- machine_identifier: string (nullable = true)\n",
      " |-- timestamp: timestamp (nullable = true)\n",
      " |-- expected_cycles_per_minute: double (nullable = true)\n",
      " |-- actual_cycles_per_minute: double (nullable = true)\n",
      "\n",
      "+-------------------------+-------------------+--------------------------+------------------------+\n",
      "|machine_identifier       |timestamp          |expected_cycles_per_minute|actual_cycles_per_minute|\n",
      "+-------------------------+-------------------+--------------------------+------------------------+\n",
      "|innovative_cheese_machine|2022-05-09 06:44:33|null                      |0.368069589138031       |\n",
      "|innovative_cheese_machine|2022-05-30 20:51:51|null                      |5.289139747619629       |\n",
      "|innovative_cheese_machine|2022-06-02 12:47:03|null                      |8.800000190734863       |\n",
      "|innovative_cheese_machine|2022-06-05 22:20:38|null                      |8.800000190734863       |\n",
      "|innovative_cheese_machine|2022-05-03 12:20:10|9.0                       |null                    |\n",
      "|innovative_cheese_machine|2022-05-04 19:48:22|null                      |9.107467651367188       |\n",
      "|innovative_cheese_machine|2022-06-06 05:32:52|null                      |8.645533561706543       |\n",
      "|innovative_cheese_machine|2022-06-02 02:11:03|null                      |4.793863773345947       |\n",
      "|innovative_cheese_machine|2022-06-02 04:07:01|null                      |8.800000190734863       |\n",
      "|innovative_cheese_machine|2022-05-03 16:16:26|null                      |8.766802787780762       |\n",
      "|innovative_cheese_machine|2022-06-02 13:48:00|null                      |8.250824928283691       |\n",
      "|innovative_cheese_machine|2022-05-31 16:56:48|null                      |9.090909004211426       |\n",
      "|innovative_cheese_machine|2022-06-06 01:50:07|null                      |3.7888355255126953      |\n",
      "|innovative_cheese_machine|2022-06-02 02:06:14|null                      |8.800000190734863       |\n",
      "|innovative_cheese_machine|2022-06-05 16:42:49|null                      |0.9809050559997559      |\n",
      "|innovative_cheese_machine|2022-05-06 19:34:36|null                      |4.621072292327881       |\n",
      "|innovative_cheese_machine|2022-06-13 21:19:32|null                      |8.199999809265137       |\n",
      "|innovative_cheese_machine|2022-05-12 05:03:34|null                      |8.527572631835938       |\n",
      "|innovative_cheese_machine|2022-05-12 04:52:20|null                      |8.571428298950195       |\n",
      "|innovative_cheese_machine|2022-06-06 04:17:20|null                      |8.756567001342773       |\n",
      "|innovative_cheese_machine|2022-05-03 22:36:48|null                      |1.2044767141342163      |\n",
      "|innovative_cheese_machine|2022-05-31 05:11:56|null                      |4.728877544403076       |\n",
      "|innovative_cheese_machine|2022-06-01 16:40:57|null                      |5.502567768096924       |\n",
      "|innovative_cheese_machine|2022-05-10 17:10:52|null                      |1.1739845275878906      |\n",
      "|innovative_cheese_machine|2022-05-05 02:20:12|null                      |8.61079216003418        |\n",
      "|innovative_cheese_machine|2022-05-09 10:50:54|null                      |4.1655097007751465      |\n",
      "|innovative_cheese_machine|2022-06-02 11:56:42|null                      |8.28729248046875        |\n",
      "|innovative_cheese_machine|2022-06-08 01:14:49|null                      |8.300000190734863       |\n",
      "|innovative_cheese_machine|2022-05-31 20:10:23|null                      |9.199999809265137       |\n",
      "|innovative_cheese_machine|2022-06-06 03:00:38|null                      |8.605852127075195       |\n",
      "|innovative_cheese_machine|2022-05-30 21:50:03|null                      |6.0                     |\n",
      "|innovative_cheese_machine|2022-06-02 03:40:35|null                      |0.8580808043479919      |\n",
      "|innovative_cheese_machine|2022-05-03 14:36:36|null                      |9.0                     |\n",
      "|innovative_cheese_machine|2022-06-06 12:59:40|null                      |2.1434695720672607      |\n",
      "|innovative_cheese_machine|2022-05-10 02:53:59|null                      |0.3133120536804199      |\n",
      "|innovative_cheese_machine|2022-05-09 08:39:04|null                      |3.9598731994628906      |\n",
      "|innovative_cheese_machine|2022-06-06 07:23:47|null                      |9.316770553588867       |\n",
      "|innovative_cheese_machine|2022-06-09 17:58:16|null                      |8.310249328613281       |\n",
      "|innovative_cheese_machine|2022-06-06 05:37:34|null                      |8.787345886230469       |\n",
      "|innovative_cheese_machine|2022-05-04 16:55:11|null                      |4.642525672912598       |\n",
      "|innovative_cheese_machine|2022-05-04 07:50:45|null                      |8.823529243469238       |\n",
      "|innovative_cheese_machine|2022-05-10 01:51:47|null                      |0.7753998041152954      |\n",
      "|innovative_cheese_machine|2022-06-02 03:28:06|null                      |5.038629531860352       |\n",
      "|innovative_cheese_machine|2022-05-03 12:29:05|null                      |0.5087212324142456      |\n",
      "|innovative_cheese_machine|2022-05-10 04:07:16|null                      |0.700345516204834       |\n",
      "|innovative_cheese_machine|2022-05-31 20:09:38|null                      |9.179926872253418       |\n",
      "|innovative_cheese_machine|2022-05-04 11:57:18|null                      |0.6279370188713074      |\n",
      "|innovative_cheese_machine|2022-05-04 07:52:36|null                      |8.81316089630127        |\n",
      "|innovative_cheese_machine|2022-05-06 08:35:13|null                      |8.844339370727539       |\n",
      "|innovative_cheese_machine|2022-05-09 13:55:58|null                      |5.5167341232299805      |\n",
      "|innovative_cheese_machine|2022-06-13 22:58:31|null                      |8.797654151916504       |\n",
      "|innovative_cheese_machine|2022-05-05 13:53:47|null                      |9.0                     |\n",
      "|innovative_cheese_machine|2022-05-12 04:58:30|null                      |9.0                     |\n",
      "|innovative_cheese_machine|2022-06-01 09:09:22|null                      |2.2523422241210938      |\n",
      "|innovative_cheese_machine|2022-06-01 12:50:45|null                      |4.815409183502197       |\n",
      "|innovative_cheese_machine|2022-05-05 00:18:36|null                      |9.185547828674316       |\n",
      "|innovative_cheese_machine|2022-06-06 06:31:57|null                      |9.357454299926758       |\n",
      "|innovative_cheese_machine|2022-06-06 05:03:28|null                      |8.58614730834961        |\n",
      "|innovative_cheese_machine|2022-06-03 03:33:37|null                      |0.43724367022514343     |\n",
      "|innovative_cheese_machine|2022-05-06 14:20:19|null                      |7.664793014526367       |\n",
      "|innovative_cheese_machine|2022-05-08 12:16:21|null                      |0.8692125082015991      |\n",
      "|innovative_cheese_machine|2022-06-02 10:43:01|null                      |8.800000190734863       |\n",
      "|innovative_cheese_machine|2022-05-31 02:24:07|null                      |3.642544984817505       |\n",
      "|innovative_cheese_machine|2022-06-01 03:16:50|null                      |8.800000190734863       |\n",
      "|innovative_cheese_machine|2022-05-09 15:28:37|null                      |5.5167341232299805      |\n",
      "|innovative_cheese_machine|2022-05-12 04:37:25|null                      |8.802817344665527       |\n",
      "|innovative_cheese_machine|2022-06-01 16:32:51|null                      |4.868549346923828       |\n",
      "|innovative_cheese_machine|2022-05-04 17:20:18|null                      |8.710801124572754       |\n",
      "|innovative_cheese_machine|2022-05-10 01:41:38|null                      |9.0                     |\n",
      "|innovative_cheese_machine|2022-05-31 10:40:42|null                      |4.731861114501953       |\n",
      "|innovative_cheese_machine|2022-05-04 08:30:24|null                      |8.782201766967773       |\n",
      "|innovative_cheese_machine|2022-06-13 11:09:55|null                      |8.300000190734863       |\n",
      "|innovative_cheese_machine|2022-06-02 11:12:52|null                      |5.292872428894043       |\n",
      "|innovative_cheese_machine|2022-05-04 21:04:18|null                      |8.246289253234863       |\n",
      "|innovative_cheese_machine|2022-05-10 04:15:38|null                      |9.0                     |\n",
      "|innovative_cheese_machine|2022-05-30 22:53:59|null                      |5.480453014373779       |\n",
      "|innovative_cheese_machine|2022-05-04 20:50:51|null                      |6.899724006652832       |\n",
      "|innovative_cheese_machine|2022-05-05 19:35:07|null                      |8.328706741333008       |\n",
      "|innovative_cheese_machine|2022-06-14 01:22:52|null                      |8.465011596679688       |\n",
      "|innovative_cheese_machine|2022-05-09 16:33:29|null                      |5.1493306159973145      |\n",
      "|innovative_cheese_machine|2022-05-12 05:01:21|null                      |8.95522403717041        |\n",
      "|innovative_cheese_machine|2022-05-05 09:56:42|null                      |8.787345886230469       |\n",
      "|innovative_cheese_machine|2022-05-06 07:44:19|null                      |9.0                     |\n",
      "|innovative_cheese_machine|2022-05-12 03:49:57|null                      |8.849557876586914       |\n",
      "|innovative_cheese_machine|2022-05-09 22:37:04|null                      |8.792496681213379       |\n",
      "|innovative_cheese_machine|2022-05-31 23:01:40|null                      |5.059021949768066       |\n",
      "|innovative_cheese_machine|2022-06-01 12:32:22|null                      |5.2337751388549805      |\n",
      "|innovative_cheese_machine|2022-06-01 21:52:08|null                      |8.53727912902832        |\n",
      "|innovative_cheese_machine|2022-06-02 11:17:49|null                      |4.930966377258301       |\n",
      "|innovative_cheese_machine|2022-05-04 20:24:34|null                      |8.823529243469238       |\n",
      "|innovative_cheese_machine|2022-06-01 06:15:41|null                      |4.334007740020752       |\n",
      "|innovative_cheese_machine|2022-06-01 01:10:58|null                      |3.7850112915039062      |\n",
      "|innovative_cheese_machine|2022-06-01 14:22:49|null                      |2.0109078884124756      |\n",
      "|innovative_cheese_machine|2022-06-10 00:29:19|null                      |7.653061389923096       |\n",
      "|innovative_cheese_machine|2022-06-05 07:24:49|9.199999809265137         |null                    |\n",
      "|innovative_cheese_machine|2022-06-01 02:21:19|null                      |4.649721145629883       |\n",
      "|innovative_cheese_machine|2022-05-30 23:05:44|null                      |5.39374303817749        |\n",
      "|innovative_cheese_machine|2022-05-05 11:13:31|null                      |5.675368785858154       |\n",
      "|innovative_cheese_machine|2022-06-03 14:36:12|null                      |5.042016983032227       |\n",
      "|innovative_cheese_machine|2022-06-01 21:26:48|null                      |5.639097690582275       |\n",
      "+-------------------------+-------------------+--------------------------+------------------------+\n",
      "only showing top 100 rows\n",
      "\n"
     ]
    }
   ],
   "source": [
    "data_file_name = r\"oee_data.csv\"\n",
    "data_file = os.path.join(data_file_path, data_file_name)\n",
    "\n",
    "input_schema = StructType([\n",
    "    StructField(\"machine_identifier\", StringType()),\n",
    "    StructField(\"timestamp\", TimestampType()),\n",
    "    StructField(\"expected_cycles_per_minute\", DoubleType()),\n",
    "    StructField(\"actual_cycles_per_minute\", DoubleType())\n",
    "])\n",
    "oee_data = spark.read.csv(\n",
    "    data_file,\n",
    "    schema=input_schema,\n",
    "    header=True\n",
    ")\n",
    "print(f\"Number of rows in {data_file_name}: {oee_data.count()}\\n\")\n",
    "oee_data.printSchema()\n",
    "oee_data.show(100, truncate=False)"
   ]
  },
  {
   "cell_type": "code",
   "execution_count": 5,
   "metadata": {},
   "outputs": [
    {
     "name": "stdout",
     "output_type": "stream",
     "text": [
      "+-------+--------------------------+\n",
      "|summary|expected_cycles_per_minute|\n",
      "+-------+--------------------------+\n",
      "|count  |693                       |\n",
      "|mean   |8.024531022466794         |\n",
      "|stddev |1.234863821905644         |\n",
      "|min    |4.0                       |\n",
      "|max    |15.0                      |\n",
      "+-------+--------------------------+\n",
      "\n",
      "+-------+------------------------+\n",
      "|summary|actual_cycles_per_minute|\n",
      "+-------+------------------------+\n",
      "|count  |119578                  |\n",
      "|mean   |6.134943375608459       |\n",
      "|stddev |2.7938130270122654      |\n",
      "|min    |0.0                     |\n",
      "|max    |10.0                    |\n",
      "+-------+------------------------+\n",
      "\n"
     ]
    }
   ],
   "source": [
    "# one single machine?\n",
    "assert oee_data.select(oee_data.machine_identifier).distinct().count() == 1, \\\n",
    "    \"More than one single machine in data set!\"\n",
    "\n",
    "# at least one value per row in \"expected_cycles_per_minute\" or \"actual_cycles_per_minute\"\n",
    "rows_both_null = oee_data.filter(oee_data.expected_cycles_per_minute.isNull() & oee_data.actual_cycles_per_minute.isNull())\n",
    "assert rows_both_null.count() == 0, \\\n",
    "    (f\"Error! There are rows in {data_file_name} where both values of cycles/minute are null\",\n",
    "     rows_both_null.show(truncate=False)\n",
    "    )\n",
    "\n",
    "# chronologically order by timestamp (from oldest to recent)\n",
    "oee_data_chrono = oee_data.orderBy(\"timestamp\")\n",
    "# oee_data_chrono.show(100, truncate=False)\n",
    "\n",
    "expected_cycles_per_minute = oee_data_chrono.\\\n",
    "    select([oee_data.timestamp, oee_data_chrono.expected_cycles_per_minute]).\\\n",
    "        filter(oee_data_chrono.expected_cycles_per_minute.isNotNull())\n",
    "actual_cycles_per_minute = oee_data_chrono.\\\n",
    "    select([oee_data.timestamp, oee_data_chrono.actual_cycles_per_minute]).\\\n",
    "        filter(oee_data_chrono.actual_cycles_per_minute.isNotNull())\n",
    "\n",
    "# some basic statistics\n",
    "expected_cycles_per_minute.describe(\"expected_cycles_per_minute\").show(truncate=False)\n",
    "actual_cycles_per_minute.describe(\"actual_cycles_per_minute\").show(truncate=False)"
   ]
  },
  {
   "cell_type": "code",
   "execution_count": null,
   "metadata": {},
   "outputs": [],
   "source": [
    "pd_expected_cycles_per_minute = expected_cycles_per_minute.withColumn(\"timestamp\", date_format(\"timestamp\", 'yyyy-MM-dd HH:mm:ss.SSS')).toPandas()\n",
    "pd_actual_cycles_per_minute = actual_cycles_per_minute.withColumn(\"timestamp\", date_format(\"timestamp\", 'yyyy-MM-dd HH:mm:ss.SSS')).toPandas()\n",
    "\n",
    "TARGET_CYCLES_PER_MINUTE = 10\n",
    "\n",
    "fig = go.Figure()\n",
    "fig.add_hline(\n",
    "    y=TARGET_CYCLES_PER_MINUTE,\n",
    "    name=\"Angestrebte Takte / Minute\",\n",
    "    line_color=\"green\", line_dash=\"dash\",\n",
    "    annotation_text=\"Angestrebte Takte / Minute\", \n",
    "    annotation_position=\"top right\"\n",
    ")\n",
    "fig.add_trace(\n",
    "    go.Scatter(\n",
    "        x=pd_actual_cycles_per_minute.timestamp,\n",
    "        y=pd_actual_cycles_per_minute.actual_cycles_per_minute,\n",
    "        name=\"Tatsächliche Takte / Minute\",\n",
    "        line_shape=\"hv\", line_width=1\n",
    "    )\n",
    ")\n",
    "fig.add_trace(\n",
    "    go.Scatter(\n",
    "        x=pd_expected_cycles_per_minute.timestamp,\n",
    "        y=pd_expected_cycles_per_minute.expected_cycles_per_minute,\n",
    "        name=\"Eingestellte Takte / Minute\",\n",
    "        line_shape=\"hv\", opacity=0.5\n",
    "    )\n",
    ")\n",
    "fig.update_layout(\n",
    "    title=\"Tatsächliche vs. eingestellte vs. angestrebte Taktleistung\",\n",
    "    yaxis_title=\"Takte / Minute\",\n",
    "    legend=dict(\n",
    "        orientation=\"h\",\n",
    "        yanchor=\"top\",\n",
    "        y=-0.1,\n",
    "        xanchor=\"center\",\n",
    "        x=0.5\n",
    "    )\n",
    ")\n",
    "fig.show()\n",
    "fig.write_html(file=os.path.join(results_path, r\"plots\\cycles_per_minute.html\"))"
   ]
  },
  {
   "attachments": {},
   "cell_type": "markdown",
   "metadata": {},
   "source": [
    "## Menge an produzierten Packungen"
   ]
  },
  {
   "cell_type": "code",
   "execution_count": 7,
   "metadata": {},
   "outputs": [
    {
     "name": "stdout",
     "output_type": "stream",
     "text": [
      "Number of rows in package_data.csv: 270155\n",
      "\n",
      "root\n",
      " |-- machine_identifier: string (nullable = true)\n",
      " |-- timestamp: timestamp (nullable = true)\n",
      " |-- good_packs: integer (nullable = true)\n",
      " |-- reject_packs: integer (nullable = true)\n",
      "\n",
      "+-------------------------+-----------------------+----------+------------+\n",
      "|machine_identifier       |timestamp              |good_packs|reject_packs|\n",
      "+-------------------------+-----------------------+----------+------------+\n",
      "|innovative_cheese_machine|2022-05-04 15:05:49.295|23        |1           |\n",
      "|innovative_cheese_machine|2022-05-04 03:15:28.947|24        |0           |\n",
      "|innovative_cheese_machine|2022-05-04 08:13:54.767|20        |4           |\n",
      "|innovative_cheese_machine|2022-05-04 05:35:29.769|24        |0           |\n",
      "|innovative_cheese_machine|2022-05-04 05:53:27.95 |24        |0           |\n",
      "|innovative_cheese_machine|2022-05-04 02:21:29.676|24        |0           |\n",
      "|innovative_cheese_machine|2022-05-04 06:11:55.258|24        |0           |\n",
      "|innovative_cheese_machine|2022-05-04 12:18:51.853|24        |0           |\n",
      "|innovative_cheese_machine|2022-05-04 18:13:42.917|24        |0           |\n",
      "|innovative_cheese_machine|2022-05-03 11:58:55.259|24        |0           |\n",
      "|innovative_cheese_machine|2022-05-04 13:01:57.262|24        |0           |\n",
      "|innovative_cheese_machine|2022-05-04 06:30:05.16 |24        |0           |\n",
      "|innovative_cheese_machine|2022-05-04 04:35:43.29 |24        |0           |\n",
      "|innovative_cheese_machine|2022-05-03 12:13:00.73 |24        |0           |\n",
      "|innovative_cheese_machine|2022-05-04 00:45:44.28 |24        |0           |\n",
      "|innovative_cheese_machine|2022-05-03 18:36:01.776|19        |5           |\n",
      "|innovative_cheese_machine|2022-05-03 16:50:26.549|24        |0           |\n",
      "|innovative_cheese_machine|2022-05-04 04:39:43.668|22        |2           |\n",
      "|innovative_cheese_machine|2022-05-03 22:09:14.88 |24        |0           |\n",
      "|innovative_cheese_machine|2022-05-04 05:44:23.422|23        |1           |\n",
      "+-------------------------+-----------------------+----------+------------+\n",
      "only showing top 20 rows\n",
      "\n"
     ]
    }
   ],
   "source": [
    "data_file_name = r\"package_data.csv\"\n",
    "data_file = os.path.join(data_file_path, data_file_name)\n",
    "\n",
    "input_schema = StructType([\n",
    "    StructField(\"machine_identifier\", StringType()),\n",
    "    StructField(\"timestamp\", TimestampType()),\n",
    "    StructField(\"good_packs\", IntegerType()),\n",
    "    StructField(\"reject_packs\", IntegerType())\n",
    "])\n",
    "package_data = spark.read.csv(\n",
    "    data_file,\n",
    "    schema=input_schema,\n",
    "    header=True\n",
    ")\n",
    "print(f\"Number of rows in {data_file_name}: {package_data.count()}\\n\")\n",
    "package_data.printSchema()\n",
    "package_data.show(truncate=False)"
   ]
  },
  {
   "cell_type": "code",
   "execution_count": 8,
   "metadata": {},
   "outputs": [
    {
     "name": "stdout",
     "output_type": "stream",
     "text": [
      "+-------------------------+-----------------------+----------+------------+\n",
      "|machine_identifier       |timestamp              |good_packs|reject_packs|\n",
      "+-------------------------+-----------------------+----------+------------+\n",
      "|innovative_cheese_machine|2022-05-03 10:04:32.68 |0         |0           |\n",
      "|innovative_cheese_machine|2022-05-03 10:04:46.17 |0         |0           |\n",
      "|innovative_cheese_machine|2022-05-03 11:25:00.71 |0         |0           |\n",
      "|innovative_cheese_machine|2022-05-03 11:25:14.595|0         |0           |\n",
      "|innovative_cheese_machine|2022-05-03 11:25:37.41 |0         |0           |\n",
      "|innovative_cheese_machine|2022-05-31 16:49:32.279|23        |5           |\n",
      "|innovative_cheese_machine|2022-06-10 22:03:45.551|0         |8           |\n",
      "|innovative_cheese_machine|2022-06-20 05:51:18.94 |0         |0           |\n",
      "|innovative_cheese_machine|2022-05-26 01:00:48.937|0         |0           |\n",
      "|innovative_cheese_machine|2022-07-07 14:42:30.36 |0         |0           |\n",
      "|innovative_cheese_machine|2022-06-20 05:57:06.165|0         |0           |\n",
      "|innovative_cheese_machine|2022-07-07 14:39:01.239|0         |0           |\n",
      "|innovative_cheese_machine|2022-05-06 00:54:39.968|0         |0           |\n",
      "|innovative_cheese_machine|2022-06-13 06:56:28.878|0         |0           |\n",
      "|innovative_cheese_machine|2022-05-26 01:01:25.342|0         |0           |\n",
      "|innovative_cheese_machine|2022-05-20 09:54:22.584|20        |0           |\n",
      "|innovative_cheese_machine|2022-06-13 06:59:24.62 |0         |0           |\n",
      "|innovative_cheese_machine|2022-06-13 07:00:31.507|0         |0           |\n",
      "|innovative_cheese_machine|2022-06-02 00:17:40.65 |0         |20          |\n",
      "|innovative_cheese_machine|2022-06-13 06:58:37.211|0         |0           |\n",
      "|innovative_cheese_machine|2022-05-06 06:27:28.901|0         |0           |\n",
      "|innovative_cheese_machine|2022-06-20 05:52:25.407|0         |0           |\n",
      "|innovative_cheese_machine|2022-06-03 21:46:12.274|0         |0           |\n",
      "|innovative_cheese_machine|2022-05-26 01:00:37.25 |0         |0           |\n",
      "|innovative_cheese_machine|2022-05-08 12:22:10.895|0         |0           |\n",
      "|innovative_cheese_machine|2022-06-02 00:17:47.47 |2         |10          |\n",
      "|innovative_cheese_machine|2022-05-23 06:02:18.871|0         |0           |\n",
      "|innovative_cheese_machine|2022-07-08 10:57:25.426|0         |0           |\n",
      "|innovative_cheese_machine|2022-06-20 09:37:01.788|0         |8           |\n",
      "|innovative_cheese_machine|2022-05-16 07:16:14.739|0         |0           |\n",
      "|innovative_cheese_machine|2022-06-10 22:03:53.51 |0         |0           |\n",
      "|innovative_cheese_machine|2022-05-30 06:54:13.856|0         |0           |\n",
      "|innovative_cheese_machine|2022-07-12 09:00:36.692|24        |1           |\n",
      "|innovative_cheese_machine|2022-05-06 00:55:11.888|0         |0           |\n",
      "|innovative_cheese_machine|2022-07-01 03:38:49.376|0         |0           |\n",
      "|innovative_cheese_machine|2022-07-08 11:05:56.598|0         |8           |\n",
      "|innovative_cheese_machine|2022-05-23 06:08:18.174|0         |0           |\n",
      "|innovative_cheese_machine|2022-05-23 06:02:28.872|0         |0           |\n",
      "|innovative_cheese_machine|2022-05-16 07:16:00.819|0         |0           |\n",
      "|innovative_cheese_machine|2022-06-20 09:37:08.972|0         |16          |\n",
      "|innovative_cheese_machine|2022-06-20 05:56:19.176|0         |0           |\n",
      "|innovative_cheese_machine|2022-06-16 05:00:45.604|0         |12          |\n",
      "|innovative_cheese_machine|2022-05-08 12:17:40.61 |0         |0           |\n",
      "|innovative_cheese_machine|2022-05-16 07:14:15.82 |0         |0           |\n",
      "|innovative_cheese_machine|2022-06-13 07:00:20.5  |0         |0           |\n",
      "|innovative_cheese_machine|2022-06-20 05:55:13.424|0         |0           |\n",
      "|innovative_cheese_machine|2022-05-16 07:16:43.512|0         |0           |\n",
      "|innovative_cheese_machine|2022-07-07 14:42:23.719|0         |0           |\n",
      "|innovative_cheese_machine|2022-05-06 21:28:04.814|0         |0           |\n",
      "|innovative_cheese_machine|2022-07-07 14:42:04.455|0         |0           |\n",
      "|innovative_cheese_machine|2022-05-20 12:36:26.8  |0         |0           |\n",
      "|innovative_cheese_machine|2022-05-23 06:08:27.254|0         |0           |\n",
      "|innovative_cheese_machine|2022-06-13 06:55:30.753|0         |0           |\n",
      "|innovative_cheese_machine|2022-06-20 05:51:45.443|0         |0           |\n",
      "|innovative_cheese_machine|2022-07-07 14:39:07.971|0         |0           |\n",
      "|innovative_cheese_machine|2022-07-07 14:41:27.951|0         |0           |\n",
      "|innovative_cheese_machine|2022-07-07 14:42:11.88 |0         |0           |\n",
      "|innovative_cheese_machine|2022-07-08 11:00:26.64 |0         |0           |\n",
      "|innovative_cheese_machine|2022-06-13 22:53:53.231|0         |8           |\n",
      "|innovative_cheese_machine|2022-06-20 05:56:48.89 |0         |0           |\n",
      "|innovative_cheese_machine|2022-05-06 21:27:57.494|0         |0           |\n",
      "|innovative_cheese_machine|2022-07-08 11:05:48.274|0         |0           |\n",
      "|innovative_cheese_machine|2022-07-08 10:56:22.89 |0         |0           |\n",
      "|innovative_cheese_machine|2022-06-03 05:28:24.705|0         |12          |\n",
      "|innovative_cheese_machine|2022-06-13 06:55:59.422|0         |0           |\n",
      "|innovative_cheese_machine|2022-05-30 06:53:32.716|0         |0           |\n",
      "|innovative_cheese_machine|2022-05-06 06:27:15.721|0         |0           |\n",
      "|innovative_cheese_machine|2022-05-08 12:17:09.565|0         |0           |\n",
      "|innovative_cheese_machine|2022-07-08 09:54:36.575|0         |0           |\n",
      "|innovative_cheese_machine|2022-05-30 06:55:54.805|0         |0           |\n",
      "|innovative_cheese_machine|2022-05-30 06:55:31.665|0         |0           |\n",
      "|innovative_cheese_machine|2022-05-06 06:27:05.304|0         |0           |\n",
      "|innovative_cheese_machine|2022-07-08 10:59:56.792|0         |0           |\n",
      "|innovative_cheese_machine|2022-06-03 05:28:31.524|0         |8           |\n",
      "|innovative_cheese_machine|2022-06-23 20:00:33.462|0         |0           |\n",
      "|innovative_cheese_machine|2022-06-30 15:45:53.237|24        |5           |\n",
      "|innovative_cheese_machine|2022-07-07 14:21:09.47 |0         |0           |\n",
      "|innovative_cheese_machine|2022-06-13 06:58:51.619|0         |0           |\n",
      "|innovative_cheese_machine|2022-05-23 06:06:52.538|0         |0           |\n",
      "|innovative_cheese_machine|2022-06-20 05:57:17.245|0         |8           |\n",
      "|innovative_cheese_machine|2022-07-07 14:28:29.388|0         |0           |\n",
      "|innovative_cheese_machine|2022-06-13 06:55:44.746|0         |0           |\n",
      "|innovative_cheese_machine|2022-06-13 06:55:02.394|0         |0           |\n",
      "|innovative_cheese_machine|2022-05-08 12:18:41.46 |0         |0           |\n",
      "|innovative_cheese_machine|2022-05-23 06:07:12.538|0         |0           |\n",
      "|innovative_cheese_machine|2022-06-20 05:56:57.29 |0         |0           |\n",
      "|innovative_cheese_machine|2022-06-20 05:52:37.471|0         |0           |\n",
      "|innovative_cheese_machine|2022-05-17 15:07:31.527|12        |0           |\n",
      "|innovative_cheese_machine|2022-06-13 06:58:59.119|0         |0           |\n",
      "|innovative_cheese_machine|2022-06-20 05:52:10.839|0         |0           |\n",
      "|innovative_cheese_machine|2022-07-01 00:29:43.975|20        |11          |\n",
      "|innovative_cheese_machine|2022-07-07 14:42:17.403|0         |0           |\n",
      "|innovative_cheese_machine|2022-06-14 09:21:44.835|0         |8           |\n",
      "|innovative_cheese_machine|2022-07-08 10:57:31.839|0         |0           |\n",
      "|innovative_cheese_machine|2022-05-06 00:54:46.352|0         |0           |\n",
      "|innovative_cheese_machine|2022-05-20 12:36:15.9  |0         |0           |\n",
      "|innovative_cheese_machine|2022-05-30 07:04:21.769|0         |0           |\n",
      "|innovative_cheese_machine|2022-06-24 11:01:11.182|0         |0           |\n",
      "|innovative_cheese_machine|2022-05-23 06:00:35.834|0         |0           |\n",
      "|innovative_cheese_machine|2022-05-08 12:21:38.458|0         |0           |\n",
      "|innovative_cheese_machine|2022-05-23 06:08:07.46 |0         |0           |\n",
      "|innovative_cheese_machine|2022-05-23 06:02:38.871|0         |0           |\n",
      "|innovative_cheese_machine|2022-06-14 09:21:37.518|0         |0           |\n",
      "|innovative_cheese_machine|2022-05-06 00:55:37.201|0         |0           |\n",
      "|innovative_cheese_machine|2022-06-03 21:46:05.406|0         |0           |\n",
      "|innovative_cheese_machine|2022-07-13 07:23:16.058|24        |2           |\n",
      "|innovative_cheese_machine|2022-06-20 05:51:31.943|0         |0           |\n",
      "|innovative_cheese_machine|2022-07-08 11:00:34.964|0         |0           |\n",
      "|innovative_cheese_machine|2022-05-31 16:44:29.333|24        |1           |\n",
      "|innovative_cheese_machine|2022-05-09 05:44:51.144|0         |0           |\n",
      "|innovative_cheese_machine|2022-07-07 14:28:35.704|0         |0           |\n",
      "|innovative_cheese_machine|2022-05-23 06:07:02.539|0         |0           |\n",
      "|innovative_cheese_machine|2022-07-08 11:05:28.562|0         |0           |\n",
      "|innovative_cheese_machine|2022-05-06 21:29:58.314|0         |0           |\n",
      "|innovative_cheese_machine|2022-05-19 22:30:54.199|23        |4           |\n",
      "|innovative_cheese_machine|2022-05-26 01:01:14.43 |0         |0           |\n",
      "|innovative_cheese_machine|2022-05-16 07:16:08.72 |0         |0           |\n",
      "|innovative_cheese_machine|2022-06-13 06:55:16.353|0         |0           |\n",
      "|innovative_cheese_machine|2022-06-13 22:59:11.854|23        |2           |\n",
      "|innovative_cheese_machine|2022-07-07 13:59:17.188|0         |0           |\n",
      "|innovative_cheese_machine|2022-05-30 16:15:55.975|0         |0           |\n",
      "|innovative_cheese_machine|2022-06-01 23:27:47.893|20        |2           |\n",
      "|innovative_cheese_machine|2022-05-13 21:25:02.678|0         |12          |\n",
      "|innovative_cheese_machine|2022-07-07 14:42:37.568|0         |4           |\n",
      "|innovative_cheese_machine|2022-05-13 21:25:09.346|0         |0           |\n",
      "|innovative_cheese_machine|2022-07-12 04:11:58.666|23        |4           |\n",
      "|innovative_cheese_machine|2022-05-31 22:56:21.873|24        |7           |\n",
      "|innovative_cheese_machine|2022-06-01 19:52:09.568|0         |16          |\n",
      "|innovative_cheese_machine|2022-05-23 06:06:37.489|0         |0           |\n",
      "|innovative_cheese_machine|2022-06-20 05:56:41.688|0         |0           |\n",
      "|innovative_cheese_machine|2022-05-23 06:00:48.514|0         |0           |\n",
      "|innovative_cheese_machine|2022-07-08 11:00:05.547|0         |0           |\n",
      "|innovative_cheese_machine|2022-05-23 06:07:22.537|0         |0           |\n",
      "|innovative_cheese_machine|2022-06-14 09:21:30.339|0         |16          |\n",
      "|innovative_cheese_machine|2022-07-07 13:59:30.831|0         |0           |\n",
      "|innovative_cheese_machine|2022-07-08 10:56:54.738|0         |0           |\n",
      "|innovative_cheese_machine|2022-05-06 00:54:59.121|0         |0           |\n",
      "|innovative_cheese_machine|2022-05-30 15:42:24.866|0         |0           |\n",
      "|innovative_cheese_machine|2022-06-13 06:56:14.306|0         |0           |\n",
      "|innovative_cheese_machine|2022-07-08 10:57:11.74 |0         |0           |\n",
      "|innovative_cheese_machine|2022-05-23 06:03:04.432|0         |0           |\n",
      "|innovative_cheese_machine|2022-05-30 06:58:28.122|0         |0           |\n",
      "|innovative_cheese_machine|2022-05-06 00:54:52.736|0         |0           |\n",
      "|innovative_cheese_machine|2022-06-13 22:53:46.763|0         |12          |\n",
      "|innovative_cheese_machine|2022-06-23 21:17:21.266|0         |0           |\n",
      "|innovative_cheese_machine|2022-07-07 14:28:19.712|0         |0           |\n",
      "|innovative_cheese_machine|2022-05-06 06:26:57.412|0         |0           |\n",
      "|innovative_cheese_machine|2022-07-08 10:57:38.3  |0         |0           |\n",
      "|innovative_cheese_machine|2022-05-08 12:16:47.206|0         |0           |\n",
      "|innovative_cheese_machine|2022-06-13 07:00:41.384|0         |0           |\n",
      "|innovative_cheese_machine|2022-05-06 21:29:28.474|0         |0           |\n",
      "|innovative_cheese_machine|2022-05-06 21:29:50.994|0         |0           |\n",
      "|innovative_cheese_machine|2022-06-20 05:56:30.885|0         |0           |\n",
      "|innovative_cheese_machine|2022-06-13 06:59:06.62 |0         |0           |\n",
      "|innovative_cheese_machine|2022-05-09 05:56:01.284|0         |0           |\n",
      "|innovative_cheese_machine|2022-05-23 06:02:05.475|0         |0           |\n",
      "|innovative_cheese_machine|2022-06-16 05:01:16.469|0         |12          |\n",
      "|innovative_cheese_machine|2022-05-08 12:21:02.426|0         |0           |\n",
      "|innovative_cheese_machine|2022-07-08 10:58:33.571|0         |0           |\n",
      "|innovative_cheese_machine|2022-05-08 12:16:22.505|0         |0           |\n",
      "|innovative_cheese_machine|2022-06-01 19:52:39.672|0         |8           |\n",
      "|innovative_cheese_machine|2022-07-08 10:58:24.499|0         |0           |\n",
      "|innovative_cheese_machine|2022-05-06 00:55:05.504|0         |0           |\n",
      "|innovative_cheese_machine|2022-05-06 06:26:50.788|0         |0           |\n",
      "|innovative_cheese_machine|2022-05-08 12:19:32.398|0         |0           |\n",
      "|innovative_cheese_machine|2022-06-20 05:51:58.406|0         |0           |\n",
      "|innovative_cheese_machine|2022-07-01 03:38:55.693|0         |0           |\n",
      "|innovative_cheese_machine|2022-07-25 05:28:43.406|0         |0           |\n",
      "|innovative_cheese_machine|2022-07-16 13:39:08.307|0         |0           |\n",
      "|innovative_cheese_machine|2022-07-25 05:45:00.746|0         |0           |\n",
      "|innovative_cheese_machine|2022-07-16 13:39:16.366|0         |0           |\n",
      "|innovative_cheese_machine|2022-07-16 13:42:06.532|0         |0           |\n",
      "|innovative_cheese_machine|2022-07-16 13:43:31.389|0         |0           |\n",
      "|innovative_cheese_machine|2022-07-16 13:42:13.593|0         |0           |\n",
      "|innovative_cheese_machine|2022-07-16 13:37:47.282|0         |0           |\n",
      "|innovative_cheese_machine|2022-07-25 05:29:12.927|0         |0           |\n",
      "|innovative_cheese_machine|2022-07-16 13:41:58.716|0         |0           |\n",
      "|innovative_cheese_machine|2022-07-16 13:42:20.652|0         |0           |\n",
      "|innovative_cheese_machine|2022-07-25 05:44:15.361|0         |0           |\n",
      "|innovative_cheese_machine|2022-07-25 05:29:56.111|0         |0           |\n",
      "|innovative_cheese_machine|2022-07-30 05:05:05.984|0         |0           |\n",
      "|innovative_cheese_machine|2022-07-16 13:38:46.451|0         |0           |\n",
      "|innovative_cheese_machine|2022-07-16 13:43:17.173|0         |0           |\n",
      "|innovative_cheese_machine|2022-07-22 21:44:01.238|0         |0           |\n",
      "|innovative_cheese_machine|2022-07-16 13:43:37.448|0         |0           |\n",
      "|innovative_cheese_machine|2022-07-25 05:43:30.154|0         |0           |\n",
      "|innovative_cheese_machine|2022-07-25 05:43:52.429|0         |0           |\n",
      "|innovative_cheese_machine|2022-07-30 05:04:53.983|0         |0           |\n",
      "|innovative_cheese_machine|2022-07-25 05:44:28.282|0         |0           |\n",
      "|innovative_cheese_machine|2022-07-25 05:29:27.227|0         |0           |\n",
      "|innovative_cheese_machine|2022-07-25 05:43:10.234|0         |0           |\n",
      "|innovative_cheese_machine|2022-07-16 13:43:24.329|0         |0           |\n",
      "|innovative_cheese_machine|2022-07-28 04:31:00.195|23        |2           |\n",
      "|innovative_cheese_machine|2022-07-25 05:28:58.422|0         |0           |\n",
      "|innovative_cheese_machine|2022-07-16 13:39:01.247|0         |0           |\n",
      "|innovative_cheese_machine|2022-07-16 13:38:54.186|0         |0           |\n",
      "|innovative_cheese_machine|2022-07-25 05:43:41.269|0         |0           |\n",
      "|innovative_cheese_machine|2022-07-25 05:29:41.327|0         |0           |\n",
      "|innovative_cheese_machine|2022-07-25 05:44:39.586|0         |0           |\n",
      "|innovative_cheese_machine|2022-07-25 05:30:10.207|0         |0           |\n",
      "|innovative_cheese_machine|2022-07-16 13:37:52.166|0         |0           |\n",
      "|innovative_cheese_machine|2022-05-03 11:25:26.267|0         |0           |\n",
      "|innovative_cheese_machine|2022-05-03 10:11:01.202|0         |0           |\n",
      "|innovative_cheese_machine|2022-05-04 05:59:15.75 |23        |0           |\n",
      "|innovative_cheese_machine|2022-05-03 10:04:39.349|0         |0           |\n",
      "|innovative_cheese_machine|2022-05-03 10:10:53.491|0         |0           |\n",
      "|innovative_cheese_machine|2022-05-03 11:25:07.723|0         |0           |\n",
      "+-------------------------+-----------------------+----------+------------+\n",
      "\n"
     ]
    },
    {
     "ename": "AssertionError",
     "evalue": "('Error! There are 207 rows in package_data.csv where sum of good and reject packs is not 24', None)",
     "output_type": "error",
     "traceback": [
      "\u001b[1;31m---------------------------------------------------------------------------\u001b[0m",
      "\u001b[1;31mAssertionError\u001b[0m                            Traceback (most recent call last)",
      "Cell \u001b[1;32mIn[8], line 3\u001b[0m\n\u001b[0;32m      1\u001b[0m \u001b[39m# sum of \"good_packs\" and \"reject_packs\" is 24?\u001b[39;00m\n\u001b[0;32m      2\u001b[0m sum_not_24 \u001b[39m=\u001b[39m package_data\u001b[39m.\u001b[39mfilter((package_data\u001b[39m.\u001b[39mgood_packs \u001b[39m+\u001b[39m package_data\u001b[39m.\u001b[39mreject_packs)\u001b[39m.\u001b[39malias(\u001b[39m\"\u001b[39m\u001b[39msum_packs\u001b[39m\u001b[39m\"\u001b[39m) \u001b[39m!=\u001b[39m \u001b[39m24\u001b[39m)\n\u001b[1;32m----> 3\u001b[0m \u001b[39massert\u001b[39;00m sum_not_24\u001b[39m.\u001b[39mcount() \u001b[39m==\u001b[39m \u001b[39m0\u001b[39m, \\\n\u001b[0;32m      4\u001b[0m     (\u001b[39mf\u001b[39m\u001b[39m\"\u001b[39m\u001b[39mError! There are \u001b[39m\u001b[39m{\u001b[39;00msum_not_24\u001b[39m.\u001b[39mcount()\u001b[39m}\u001b[39;00m\u001b[39m rows in \u001b[39m\u001b[39m{\u001b[39;00mdata_file_name\u001b[39m}\u001b[39;00m\u001b[39m where sum of good and reject packs is not 24\u001b[39m\u001b[39m\"\u001b[39m,\n\u001b[0;32m      5\u001b[0m      sum_not_24\u001b[39m.\u001b[39mshow(\u001b[39m1000\u001b[39m, truncate\u001b[39m=\u001b[39m\u001b[39mFalse\u001b[39;00m)\n\u001b[0;32m      6\u001b[0m     )\n",
      "\u001b[1;31mAssertionError\u001b[0m: ('Error! There are 207 rows in package_data.csv where sum of good and reject packs is not 24', None)"
     ]
    }
   ],
   "source": [
    "# sum of \"good_packs\" and \"reject_packs\" is 24?\n",
    "sum_not_24 = package_data.filter((package_data.good_packs + package_data.reject_packs).alias(\"sum_packs\") != 24)\n",
    "assert sum_not_24.count() == 0, \\\n",
    "    (f\"Error! There are {sum_not_24.count()} rows in {data_file_name} where sum of good and reject packs is not 24\",\n",
    "     sum_not_24.show(1000, truncate=False)\n",
    "    )"
   ]
  },
  {
   "cell_type": "code",
   "execution_count": 9,
   "metadata": {},
   "outputs": [],
   "source": [
    "# chronologically order by timestamp (from oldest to recent)\n",
    "package_data_chrono = package_data.orderBy(\"timestamp\")\n",
    "# package_data_chrono.show(100, truncate=False)\n",
    "\n",
    "sum_packs = package_data_chrono.\\\n",
    "    select([\n",
    "        sum(package_data_chrono.good_packs).alias(\"sum_good_packs\"),\n",
    "        sum(package_data_chrono.reject_packs).alias(\"sum_reject_packs\")\n",
    "    ])"
   ]
  },
  {
   "cell_type": "code",
   "execution_count": 10,
   "metadata": {},
   "outputs": [
    {
     "data": {
      "application/vnd.plotly.v1+json": {
       "config": {
        "plotlyServerURL": "https://plot.ly"
       },
       "data": [
        {
         "hoverinfo": "label+percent",
         "labels": [
          "Summe Gutpackungen",
          "Summe Schlechtpackungen"
         ],
         "marker": {
          "line": {
           "color": "#000000",
           "width": 2
          }
         },
         "textinfo": "value",
         "type": "pie",
         "values": [
          6185465,
          293871
         ]
        }
       ],
       "layout": {
        "separators": ". ",
        "template": {
         "data": {
          "bar": [
           {
            "error_x": {
             "color": "#2a3f5f"
            },
            "error_y": {
             "color": "#2a3f5f"
            },
            "marker": {
             "line": {
              "color": "#E5ECF6",
              "width": 0.5
             },
             "pattern": {
              "fillmode": "overlay",
              "size": 10,
              "solidity": 0.2
             }
            },
            "type": "bar"
           }
          ],
          "barpolar": [
           {
            "marker": {
             "line": {
              "color": "#E5ECF6",
              "width": 0.5
             },
             "pattern": {
              "fillmode": "overlay",
              "size": 10,
              "solidity": 0.2
             }
            },
            "type": "barpolar"
           }
          ],
          "carpet": [
           {
            "aaxis": {
             "endlinecolor": "#2a3f5f",
             "gridcolor": "white",
             "linecolor": "white",
             "minorgridcolor": "white",
             "startlinecolor": "#2a3f5f"
            },
            "baxis": {
             "endlinecolor": "#2a3f5f",
             "gridcolor": "white",
             "linecolor": "white",
             "minorgridcolor": "white",
             "startlinecolor": "#2a3f5f"
            },
            "type": "carpet"
           }
          ],
          "choropleth": [
           {
            "colorbar": {
             "outlinewidth": 0,
             "ticks": ""
            },
            "type": "choropleth"
           }
          ],
          "contour": [
           {
            "colorbar": {
             "outlinewidth": 0,
             "ticks": ""
            },
            "colorscale": [
             [
              0,
              "#0d0887"
             ],
             [
              0.1111111111111111,
              "#46039f"
             ],
             [
              0.2222222222222222,
              "#7201a8"
             ],
             [
              0.3333333333333333,
              "#9c179e"
             ],
             [
              0.4444444444444444,
              "#bd3786"
             ],
             [
              0.5555555555555556,
              "#d8576b"
             ],
             [
              0.6666666666666666,
              "#ed7953"
             ],
             [
              0.7777777777777778,
              "#fb9f3a"
             ],
             [
              0.8888888888888888,
              "#fdca26"
             ],
             [
              1,
              "#f0f921"
             ]
            ],
            "type": "contour"
           }
          ],
          "contourcarpet": [
           {
            "colorbar": {
             "outlinewidth": 0,
             "ticks": ""
            },
            "type": "contourcarpet"
           }
          ],
          "heatmap": [
           {
            "colorbar": {
             "outlinewidth": 0,
             "ticks": ""
            },
            "colorscale": [
             [
              0,
              "#0d0887"
             ],
             [
              0.1111111111111111,
              "#46039f"
             ],
             [
              0.2222222222222222,
              "#7201a8"
             ],
             [
              0.3333333333333333,
              "#9c179e"
             ],
             [
              0.4444444444444444,
              "#bd3786"
             ],
             [
              0.5555555555555556,
              "#d8576b"
             ],
             [
              0.6666666666666666,
              "#ed7953"
             ],
             [
              0.7777777777777778,
              "#fb9f3a"
             ],
             [
              0.8888888888888888,
              "#fdca26"
             ],
             [
              1,
              "#f0f921"
             ]
            ],
            "type": "heatmap"
           }
          ],
          "heatmapgl": [
           {
            "colorbar": {
             "outlinewidth": 0,
             "ticks": ""
            },
            "colorscale": [
             [
              0,
              "#0d0887"
             ],
             [
              0.1111111111111111,
              "#46039f"
             ],
             [
              0.2222222222222222,
              "#7201a8"
             ],
             [
              0.3333333333333333,
              "#9c179e"
             ],
             [
              0.4444444444444444,
              "#bd3786"
             ],
             [
              0.5555555555555556,
              "#d8576b"
             ],
             [
              0.6666666666666666,
              "#ed7953"
             ],
             [
              0.7777777777777778,
              "#fb9f3a"
             ],
             [
              0.8888888888888888,
              "#fdca26"
             ],
             [
              1,
              "#f0f921"
             ]
            ],
            "type": "heatmapgl"
           }
          ],
          "histogram": [
           {
            "marker": {
             "pattern": {
              "fillmode": "overlay",
              "size": 10,
              "solidity": 0.2
             }
            },
            "type": "histogram"
           }
          ],
          "histogram2d": [
           {
            "colorbar": {
             "outlinewidth": 0,
             "ticks": ""
            },
            "colorscale": [
             [
              0,
              "#0d0887"
             ],
             [
              0.1111111111111111,
              "#46039f"
             ],
             [
              0.2222222222222222,
              "#7201a8"
             ],
             [
              0.3333333333333333,
              "#9c179e"
             ],
             [
              0.4444444444444444,
              "#bd3786"
             ],
             [
              0.5555555555555556,
              "#d8576b"
             ],
             [
              0.6666666666666666,
              "#ed7953"
             ],
             [
              0.7777777777777778,
              "#fb9f3a"
             ],
             [
              0.8888888888888888,
              "#fdca26"
             ],
             [
              1,
              "#f0f921"
             ]
            ],
            "type": "histogram2d"
           }
          ],
          "histogram2dcontour": [
           {
            "colorbar": {
             "outlinewidth": 0,
             "ticks": ""
            },
            "colorscale": [
             [
              0,
              "#0d0887"
             ],
             [
              0.1111111111111111,
              "#46039f"
             ],
             [
              0.2222222222222222,
              "#7201a8"
             ],
             [
              0.3333333333333333,
              "#9c179e"
             ],
             [
              0.4444444444444444,
              "#bd3786"
             ],
             [
              0.5555555555555556,
              "#d8576b"
             ],
             [
              0.6666666666666666,
              "#ed7953"
             ],
             [
              0.7777777777777778,
              "#fb9f3a"
             ],
             [
              0.8888888888888888,
              "#fdca26"
             ],
             [
              1,
              "#f0f921"
             ]
            ],
            "type": "histogram2dcontour"
           }
          ],
          "mesh3d": [
           {
            "colorbar": {
             "outlinewidth": 0,
             "ticks": ""
            },
            "type": "mesh3d"
           }
          ],
          "parcoords": [
           {
            "line": {
             "colorbar": {
              "outlinewidth": 0,
              "ticks": ""
             }
            },
            "type": "parcoords"
           }
          ],
          "pie": [
           {
            "automargin": true,
            "type": "pie"
           }
          ],
          "scatter": [
           {
            "fillpattern": {
             "fillmode": "overlay",
             "size": 10,
             "solidity": 0.2
            },
            "type": "scatter"
           }
          ],
          "scatter3d": [
           {
            "line": {
             "colorbar": {
              "outlinewidth": 0,
              "ticks": ""
             }
            },
            "marker": {
             "colorbar": {
              "outlinewidth": 0,
              "ticks": ""
             }
            },
            "type": "scatter3d"
           }
          ],
          "scattercarpet": [
           {
            "marker": {
             "colorbar": {
              "outlinewidth": 0,
              "ticks": ""
             }
            },
            "type": "scattercarpet"
           }
          ],
          "scattergeo": [
           {
            "marker": {
             "colorbar": {
              "outlinewidth": 0,
              "ticks": ""
             }
            },
            "type": "scattergeo"
           }
          ],
          "scattergl": [
           {
            "marker": {
             "colorbar": {
              "outlinewidth": 0,
              "ticks": ""
             }
            },
            "type": "scattergl"
           }
          ],
          "scattermapbox": [
           {
            "marker": {
             "colorbar": {
              "outlinewidth": 0,
              "ticks": ""
             }
            },
            "type": "scattermapbox"
           }
          ],
          "scatterpolar": [
           {
            "marker": {
             "colorbar": {
              "outlinewidth": 0,
              "ticks": ""
             }
            },
            "type": "scatterpolar"
           }
          ],
          "scatterpolargl": [
           {
            "marker": {
             "colorbar": {
              "outlinewidth": 0,
              "ticks": ""
             }
            },
            "type": "scatterpolargl"
           }
          ],
          "scatterternary": [
           {
            "marker": {
             "colorbar": {
              "outlinewidth": 0,
              "ticks": ""
             }
            },
            "type": "scatterternary"
           }
          ],
          "surface": [
           {
            "colorbar": {
             "outlinewidth": 0,
             "ticks": ""
            },
            "colorscale": [
             [
              0,
              "#0d0887"
             ],
             [
              0.1111111111111111,
              "#46039f"
             ],
             [
              0.2222222222222222,
              "#7201a8"
             ],
             [
              0.3333333333333333,
              "#9c179e"
             ],
             [
              0.4444444444444444,
              "#bd3786"
             ],
             [
              0.5555555555555556,
              "#d8576b"
             ],
             [
              0.6666666666666666,
              "#ed7953"
             ],
             [
              0.7777777777777778,
              "#fb9f3a"
             ],
             [
              0.8888888888888888,
              "#fdca26"
             ],
             [
              1,
              "#f0f921"
             ]
            ],
            "type": "surface"
           }
          ],
          "table": [
           {
            "cells": {
             "fill": {
              "color": "#EBF0F8"
             },
             "line": {
              "color": "white"
             }
            },
            "header": {
             "fill": {
              "color": "#C8D4E3"
             },
             "line": {
              "color": "white"
             }
            },
            "type": "table"
           }
          ]
         },
         "layout": {
          "annotationdefaults": {
           "arrowcolor": "#2a3f5f",
           "arrowhead": 0,
           "arrowwidth": 1
          },
          "autotypenumbers": "strict",
          "coloraxis": {
           "colorbar": {
            "outlinewidth": 0,
            "ticks": ""
           }
          },
          "colorscale": {
           "diverging": [
            [
             0,
             "#8e0152"
            ],
            [
             0.1,
             "#c51b7d"
            ],
            [
             0.2,
             "#de77ae"
            ],
            [
             0.3,
             "#f1b6da"
            ],
            [
             0.4,
             "#fde0ef"
            ],
            [
             0.5,
             "#f7f7f7"
            ],
            [
             0.6,
             "#e6f5d0"
            ],
            [
             0.7,
             "#b8e186"
            ],
            [
             0.8,
             "#7fbc41"
            ],
            [
             0.9,
             "#4d9221"
            ],
            [
             1,
             "#276419"
            ]
           ],
           "sequential": [
            [
             0,
             "#0d0887"
            ],
            [
             0.1111111111111111,
             "#46039f"
            ],
            [
             0.2222222222222222,
             "#7201a8"
            ],
            [
             0.3333333333333333,
             "#9c179e"
            ],
            [
             0.4444444444444444,
             "#bd3786"
            ],
            [
             0.5555555555555556,
             "#d8576b"
            ],
            [
             0.6666666666666666,
             "#ed7953"
            ],
            [
             0.7777777777777778,
             "#fb9f3a"
            ],
            [
             0.8888888888888888,
             "#fdca26"
            ],
            [
             1,
             "#f0f921"
            ]
           ],
           "sequentialminus": [
            [
             0,
             "#0d0887"
            ],
            [
             0.1111111111111111,
             "#46039f"
            ],
            [
             0.2222222222222222,
             "#7201a8"
            ],
            [
             0.3333333333333333,
             "#9c179e"
            ],
            [
             0.4444444444444444,
             "#bd3786"
            ],
            [
             0.5555555555555556,
             "#d8576b"
            ],
            [
             0.6666666666666666,
             "#ed7953"
            ],
            [
             0.7777777777777778,
             "#fb9f3a"
            ],
            [
             0.8888888888888888,
             "#fdca26"
            ],
            [
             1,
             "#f0f921"
            ]
           ]
          },
          "colorway": [
           "#636efa",
           "#EF553B",
           "#00cc96",
           "#ab63fa",
           "#FFA15A",
           "#19d3f3",
           "#FF6692",
           "#B6E880",
           "#FF97FF",
           "#FECB52"
          ],
          "font": {
           "color": "#2a3f5f"
          },
          "geo": {
           "bgcolor": "white",
           "lakecolor": "white",
           "landcolor": "#E5ECF6",
           "showlakes": true,
           "showland": true,
           "subunitcolor": "white"
          },
          "hoverlabel": {
           "align": "left"
          },
          "hovermode": "closest",
          "mapbox": {
           "style": "light"
          },
          "paper_bgcolor": "white",
          "plot_bgcolor": "#E5ECF6",
          "polar": {
           "angularaxis": {
            "gridcolor": "white",
            "linecolor": "white",
            "ticks": ""
           },
           "bgcolor": "#E5ECF6",
           "radialaxis": {
            "gridcolor": "white",
            "linecolor": "white",
            "ticks": ""
           }
          },
          "scene": {
           "xaxis": {
            "backgroundcolor": "#E5ECF6",
            "gridcolor": "white",
            "gridwidth": 2,
            "linecolor": "white",
            "showbackground": true,
            "ticks": "",
            "zerolinecolor": "white"
           },
           "yaxis": {
            "backgroundcolor": "#E5ECF6",
            "gridcolor": "white",
            "gridwidth": 2,
            "linecolor": "white",
            "showbackground": true,
            "ticks": "",
            "zerolinecolor": "white"
           },
           "zaxis": {
            "backgroundcolor": "#E5ECF6",
            "gridcolor": "white",
            "gridwidth": 2,
            "linecolor": "white",
            "showbackground": true,
            "ticks": "",
            "zerolinecolor": "white"
           }
          },
          "shapedefaults": {
           "line": {
            "color": "#2a3f5f"
           }
          },
          "ternary": {
           "aaxis": {
            "gridcolor": "white",
            "linecolor": "white",
            "ticks": ""
           },
           "baxis": {
            "gridcolor": "white",
            "linecolor": "white",
            "ticks": ""
           },
           "bgcolor": "#E5ECF6",
           "caxis": {
            "gridcolor": "white",
            "linecolor": "white",
            "ticks": ""
           }
          },
          "title": {
           "x": 0.05
          },
          "xaxis": {
           "automargin": true,
           "gridcolor": "white",
           "linecolor": "white",
           "ticks": "",
           "title": {
            "standoff": 15
           },
           "zerolinecolor": "white",
           "zerolinewidth": 2
          },
          "yaxis": {
           "automargin": true,
           "gridcolor": "white",
           "linecolor": "white",
           "ticks": "",
           "title": {
            "standoff": 15
           },
           "zerolinecolor": "white",
           "zerolinewidth": 2
          }
         }
        },
        "title": {
         "text": "Produzierte Packungen vom 03.05.2022 bis 30.07.2022"
        }
       }
      }
     },
     "metadata": {},
     "output_type": "display_data"
    }
   ],
   "source": [
    "# Plot showing total amount of produced packs\n",
    "fig = go.Figure(data=go.Pie(\n",
    "    labels=[\"Summe Gutpackungen\", \"Summe Schlechtpackungen\"],\n",
    "    values=list(sum_packs.first().asDict().values()),\n",
    "    textinfo=\"value\",\n",
    "    hoverinfo='label+percent',\n",
    "    marker=dict(line=dict(color='#000000', width=2))\n",
    "))\n",
    "fig.update_layout(\n",
    "    title_text=f\"Produzierte Packungen vom {package_data_chrono.first().timestamp.strftime('%d.%m.%Y')} bis {package_data.orderBy('timestamp', ascending=False).first().timestamp.strftime('%d.%m.%Y')}\",\n",
    "    separators=\". \")\n",
    "fig.show()\n",
    "fig.write_html(file=os.path.join(results_path, r\"plots\\produced_packs.html\"))"
   ]
  },
  {
   "cell_type": "code",
   "execution_count": 11,
   "metadata": {},
   "outputs": [
    {
     "data": {
      "application/vnd.plotly.v1+json": {
       "config": {
        "plotlyServerURL": "https://plot.ly"
       },
       "data": [
        {
         "domain": {
          "x": [
           0,
           0.2888888888888889
          ],
          "y": [
           0,
           1
          ]
         },
         "hoverinfo": "label+percent",
         "labels": [
          "Summe Gutpackungen",
          "Summe Schlechtpackungen"
         ],
         "marker": {
          "line": {
           "color": "#000000",
           "width": 2
          }
         },
         "textinfo": "value",
         "title": {
          "text": "Monat 5"
         },
         "type": "pie",
         "values": [
          1982814,
          97828
         ]
        },
        {
         "domain": {
          "x": [
           0.35555555555555557,
           0.6444444444444445
          ],
          "y": [
           0,
           1
          ]
         },
         "hoverinfo": "label+percent",
         "labels": [
          "Summe Gutpackungen",
          "Summe Schlechtpackungen"
         ],
         "marker": {
          "line": {
           "color": "#000000",
           "width": 2
          }
         },
         "textinfo": "value",
         "title": {
          "text": "Monat 6"
         },
         "type": "pie",
         "values": [
          2573443,
          125857
         ]
        },
        {
         "domain": {
          "x": [
           0.7111111111111111,
           1
          ],
          "y": [
           0,
           1
          ]
         },
         "hoverinfo": "label+percent",
         "labels": [
          "Summe Gutpackungen",
          "Summe Schlechtpackungen"
         ],
         "marker": {
          "line": {
           "color": "#000000",
           "width": 2
          }
         },
         "textinfo": "value",
         "title": {
          "text": "Monat 7"
         },
         "type": "pie",
         "values": [
          1629208,
          70186
         ]
        }
       ],
       "layout": {
        "separators": ". ",
        "template": {
         "data": {
          "bar": [
           {
            "error_x": {
             "color": "#2a3f5f"
            },
            "error_y": {
             "color": "#2a3f5f"
            },
            "marker": {
             "line": {
              "color": "#E5ECF6",
              "width": 0.5
             },
             "pattern": {
              "fillmode": "overlay",
              "size": 10,
              "solidity": 0.2
             }
            },
            "type": "bar"
           }
          ],
          "barpolar": [
           {
            "marker": {
             "line": {
              "color": "#E5ECF6",
              "width": 0.5
             },
             "pattern": {
              "fillmode": "overlay",
              "size": 10,
              "solidity": 0.2
             }
            },
            "type": "barpolar"
           }
          ],
          "carpet": [
           {
            "aaxis": {
             "endlinecolor": "#2a3f5f",
             "gridcolor": "white",
             "linecolor": "white",
             "minorgridcolor": "white",
             "startlinecolor": "#2a3f5f"
            },
            "baxis": {
             "endlinecolor": "#2a3f5f",
             "gridcolor": "white",
             "linecolor": "white",
             "minorgridcolor": "white",
             "startlinecolor": "#2a3f5f"
            },
            "type": "carpet"
           }
          ],
          "choropleth": [
           {
            "colorbar": {
             "outlinewidth": 0,
             "ticks": ""
            },
            "type": "choropleth"
           }
          ],
          "contour": [
           {
            "colorbar": {
             "outlinewidth": 0,
             "ticks": ""
            },
            "colorscale": [
             [
              0,
              "#0d0887"
             ],
             [
              0.1111111111111111,
              "#46039f"
             ],
             [
              0.2222222222222222,
              "#7201a8"
             ],
             [
              0.3333333333333333,
              "#9c179e"
             ],
             [
              0.4444444444444444,
              "#bd3786"
             ],
             [
              0.5555555555555556,
              "#d8576b"
             ],
             [
              0.6666666666666666,
              "#ed7953"
             ],
             [
              0.7777777777777778,
              "#fb9f3a"
             ],
             [
              0.8888888888888888,
              "#fdca26"
             ],
             [
              1,
              "#f0f921"
             ]
            ],
            "type": "contour"
           }
          ],
          "contourcarpet": [
           {
            "colorbar": {
             "outlinewidth": 0,
             "ticks": ""
            },
            "type": "contourcarpet"
           }
          ],
          "heatmap": [
           {
            "colorbar": {
             "outlinewidth": 0,
             "ticks": ""
            },
            "colorscale": [
             [
              0,
              "#0d0887"
             ],
             [
              0.1111111111111111,
              "#46039f"
             ],
             [
              0.2222222222222222,
              "#7201a8"
             ],
             [
              0.3333333333333333,
              "#9c179e"
             ],
             [
              0.4444444444444444,
              "#bd3786"
             ],
             [
              0.5555555555555556,
              "#d8576b"
             ],
             [
              0.6666666666666666,
              "#ed7953"
             ],
             [
              0.7777777777777778,
              "#fb9f3a"
             ],
             [
              0.8888888888888888,
              "#fdca26"
             ],
             [
              1,
              "#f0f921"
             ]
            ],
            "type": "heatmap"
           }
          ],
          "heatmapgl": [
           {
            "colorbar": {
             "outlinewidth": 0,
             "ticks": ""
            },
            "colorscale": [
             [
              0,
              "#0d0887"
             ],
             [
              0.1111111111111111,
              "#46039f"
             ],
             [
              0.2222222222222222,
              "#7201a8"
             ],
             [
              0.3333333333333333,
              "#9c179e"
             ],
             [
              0.4444444444444444,
              "#bd3786"
             ],
             [
              0.5555555555555556,
              "#d8576b"
             ],
             [
              0.6666666666666666,
              "#ed7953"
             ],
             [
              0.7777777777777778,
              "#fb9f3a"
             ],
             [
              0.8888888888888888,
              "#fdca26"
             ],
             [
              1,
              "#f0f921"
             ]
            ],
            "type": "heatmapgl"
           }
          ],
          "histogram": [
           {
            "marker": {
             "pattern": {
              "fillmode": "overlay",
              "size": 10,
              "solidity": 0.2
             }
            },
            "type": "histogram"
           }
          ],
          "histogram2d": [
           {
            "colorbar": {
             "outlinewidth": 0,
             "ticks": ""
            },
            "colorscale": [
             [
              0,
              "#0d0887"
             ],
             [
              0.1111111111111111,
              "#46039f"
             ],
             [
              0.2222222222222222,
              "#7201a8"
             ],
             [
              0.3333333333333333,
              "#9c179e"
             ],
             [
              0.4444444444444444,
              "#bd3786"
             ],
             [
              0.5555555555555556,
              "#d8576b"
             ],
             [
              0.6666666666666666,
              "#ed7953"
             ],
             [
              0.7777777777777778,
              "#fb9f3a"
             ],
             [
              0.8888888888888888,
              "#fdca26"
             ],
             [
              1,
              "#f0f921"
             ]
            ],
            "type": "histogram2d"
           }
          ],
          "histogram2dcontour": [
           {
            "colorbar": {
             "outlinewidth": 0,
             "ticks": ""
            },
            "colorscale": [
             [
              0,
              "#0d0887"
             ],
             [
              0.1111111111111111,
              "#46039f"
             ],
             [
              0.2222222222222222,
              "#7201a8"
             ],
             [
              0.3333333333333333,
              "#9c179e"
             ],
             [
              0.4444444444444444,
              "#bd3786"
             ],
             [
              0.5555555555555556,
              "#d8576b"
             ],
             [
              0.6666666666666666,
              "#ed7953"
             ],
             [
              0.7777777777777778,
              "#fb9f3a"
             ],
             [
              0.8888888888888888,
              "#fdca26"
             ],
             [
              1,
              "#f0f921"
             ]
            ],
            "type": "histogram2dcontour"
           }
          ],
          "mesh3d": [
           {
            "colorbar": {
             "outlinewidth": 0,
             "ticks": ""
            },
            "type": "mesh3d"
           }
          ],
          "parcoords": [
           {
            "line": {
             "colorbar": {
              "outlinewidth": 0,
              "ticks": ""
             }
            },
            "type": "parcoords"
           }
          ],
          "pie": [
           {
            "automargin": true,
            "type": "pie"
           }
          ],
          "scatter": [
           {
            "fillpattern": {
             "fillmode": "overlay",
             "size": 10,
             "solidity": 0.2
            },
            "type": "scatter"
           }
          ],
          "scatter3d": [
           {
            "line": {
             "colorbar": {
              "outlinewidth": 0,
              "ticks": ""
             }
            },
            "marker": {
             "colorbar": {
              "outlinewidth": 0,
              "ticks": ""
             }
            },
            "type": "scatter3d"
           }
          ],
          "scattercarpet": [
           {
            "marker": {
             "colorbar": {
              "outlinewidth": 0,
              "ticks": ""
             }
            },
            "type": "scattercarpet"
           }
          ],
          "scattergeo": [
           {
            "marker": {
             "colorbar": {
              "outlinewidth": 0,
              "ticks": ""
             }
            },
            "type": "scattergeo"
           }
          ],
          "scattergl": [
           {
            "marker": {
             "colorbar": {
              "outlinewidth": 0,
              "ticks": ""
             }
            },
            "type": "scattergl"
           }
          ],
          "scattermapbox": [
           {
            "marker": {
             "colorbar": {
              "outlinewidth": 0,
              "ticks": ""
             }
            },
            "type": "scattermapbox"
           }
          ],
          "scatterpolar": [
           {
            "marker": {
             "colorbar": {
              "outlinewidth": 0,
              "ticks": ""
             }
            },
            "type": "scatterpolar"
           }
          ],
          "scatterpolargl": [
           {
            "marker": {
             "colorbar": {
              "outlinewidth": 0,
              "ticks": ""
             }
            },
            "type": "scatterpolargl"
           }
          ],
          "scatterternary": [
           {
            "marker": {
             "colorbar": {
              "outlinewidth": 0,
              "ticks": ""
             }
            },
            "type": "scatterternary"
           }
          ],
          "surface": [
           {
            "colorbar": {
             "outlinewidth": 0,
             "ticks": ""
            },
            "colorscale": [
             [
              0,
              "#0d0887"
             ],
             [
              0.1111111111111111,
              "#46039f"
             ],
             [
              0.2222222222222222,
              "#7201a8"
             ],
             [
              0.3333333333333333,
              "#9c179e"
             ],
             [
              0.4444444444444444,
              "#bd3786"
             ],
             [
              0.5555555555555556,
              "#d8576b"
             ],
             [
              0.6666666666666666,
              "#ed7953"
             ],
             [
              0.7777777777777778,
              "#fb9f3a"
             ],
             [
              0.8888888888888888,
              "#fdca26"
             ],
             [
              1,
              "#f0f921"
             ]
            ],
            "type": "surface"
           }
          ],
          "table": [
           {
            "cells": {
             "fill": {
              "color": "#EBF0F8"
             },
             "line": {
              "color": "white"
             }
            },
            "header": {
             "fill": {
              "color": "#C8D4E3"
             },
             "line": {
              "color": "white"
             }
            },
            "type": "table"
           }
          ]
         },
         "layout": {
          "annotationdefaults": {
           "arrowcolor": "#2a3f5f",
           "arrowhead": 0,
           "arrowwidth": 1
          },
          "autotypenumbers": "strict",
          "coloraxis": {
           "colorbar": {
            "outlinewidth": 0,
            "ticks": ""
           }
          },
          "colorscale": {
           "diverging": [
            [
             0,
             "#8e0152"
            ],
            [
             0.1,
             "#c51b7d"
            ],
            [
             0.2,
             "#de77ae"
            ],
            [
             0.3,
             "#f1b6da"
            ],
            [
             0.4,
             "#fde0ef"
            ],
            [
             0.5,
             "#f7f7f7"
            ],
            [
             0.6,
             "#e6f5d0"
            ],
            [
             0.7,
             "#b8e186"
            ],
            [
             0.8,
             "#7fbc41"
            ],
            [
             0.9,
             "#4d9221"
            ],
            [
             1,
             "#276419"
            ]
           ],
           "sequential": [
            [
             0,
             "#0d0887"
            ],
            [
             0.1111111111111111,
             "#46039f"
            ],
            [
             0.2222222222222222,
             "#7201a8"
            ],
            [
             0.3333333333333333,
             "#9c179e"
            ],
            [
             0.4444444444444444,
             "#bd3786"
            ],
            [
             0.5555555555555556,
             "#d8576b"
            ],
            [
             0.6666666666666666,
             "#ed7953"
            ],
            [
             0.7777777777777778,
             "#fb9f3a"
            ],
            [
             0.8888888888888888,
             "#fdca26"
            ],
            [
             1,
             "#f0f921"
            ]
           ],
           "sequentialminus": [
            [
             0,
             "#0d0887"
            ],
            [
             0.1111111111111111,
             "#46039f"
            ],
            [
             0.2222222222222222,
             "#7201a8"
            ],
            [
             0.3333333333333333,
             "#9c179e"
            ],
            [
             0.4444444444444444,
             "#bd3786"
            ],
            [
             0.5555555555555556,
             "#d8576b"
            ],
            [
             0.6666666666666666,
             "#ed7953"
            ],
            [
             0.7777777777777778,
             "#fb9f3a"
            ],
            [
             0.8888888888888888,
             "#fdca26"
            ],
            [
             1,
             "#f0f921"
            ]
           ]
          },
          "colorway": [
           "#636efa",
           "#EF553B",
           "#00cc96",
           "#ab63fa",
           "#FFA15A",
           "#19d3f3",
           "#FF6692",
           "#B6E880",
           "#FF97FF",
           "#FECB52"
          ],
          "font": {
           "color": "#2a3f5f"
          },
          "geo": {
           "bgcolor": "white",
           "lakecolor": "white",
           "landcolor": "#E5ECF6",
           "showlakes": true,
           "showland": true,
           "subunitcolor": "white"
          },
          "hoverlabel": {
           "align": "left"
          },
          "hovermode": "closest",
          "mapbox": {
           "style": "light"
          },
          "paper_bgcolor": "white",
          "plot_bgcolor": "#E5ECF6",
          "polar": {
           "angularaxis": {
            "gridcolor": "white",
            "linecolor": "white",
            "ticks": ""
           },
           "bgcolor": "#E5ECF6",
           "radialaxis": {
            "gridcolor": "white",
            "linecolor": "white",
            "ticks": ""
           }
          },
          "scene": {
           "xaxis": {
            "backgroundcolor": "#E5ECF6",
            "gridcolor": "white",
            "gridwidth": 2,
            "linecolor": "white",
            "showbackground": true,
            "ticks": "",
            "zerolinecolor": "white"
           },
           "yaxis": {
            "backgroundcolor": "#E5ECF6",
            "gridcolor": "white",
            "gridwidth": 2,
            "linecolor": "white",
            "showbackground": true,
            "ticks": "",
            "zerolinecolor": "white"
           },
           "zaxis": {
            "backgroundcolor": "#E5ECF6",
            "gridcolor": "white",
            "gridwidth": 2,
            "linecolor": "white",
            "showbackground": true,
            "ticks": "",
            "zerolinecolor": "white"
           }
          },
          "shapedefaults": {
           "line": {
            "color": "#2a3f5f"
           }
          },
          "ternary": {
           "aaxis": {
            "gridcolor": "white",
            "linecolor": "white",
            "ticks": ""
           },
           "baxis": {
            "gridcolor": "white",
            "linecolor": "white",
            "ticks": ""
           },
           "bgcolor": "#E5ECF6",
           "caxis": {
            "gridcolor": "white",
            "linecolor": "white",
            "ticks": ""
           }
          },
          "title": {
           "x": 0.05
          },
          "xaxis": {
           "automargin": true,
           "gridcolor": "white",
           "linecolor": "white",
           "ticks": "",
           "title": {
            "standoff": 15
           },
           "zerolinecolor": "white",
           "zerolinewidth": 2
          },
          "yaxis": {
           "automargin": true,
           "gridcolor": "white",
           "linecolor": "white",
           "ticks": "",
           "title": {
            "standoff": 15
           },
           "zerolinecolor": "white",
           "zerolinewidth": 2
          }
         }
        },
        "title": {
         "text": "Produzierte Packungen je Monat"
        }
       }
      }
     },
     "metadata": {},
     "output_type": "display_data"
    }
   ],
   "source": [
    "# Plot showing total amount of produced packs per month\n",
    "monthly_produced_packages = package_data.\\\n",
    "    groupBy(month(col(\"timestamp\")).alias(\"month\")).\\\n",
    "        agg(\n",
    "            sum(col(\"good_packs\")).alias(\"monthly_good_packs\"),\n",
    "            sum(col(\"reject_packs\")).alias(\"monthly_reject_packs\")\n",
    "        ).\\\n",
    "    orderBy(col(\"month\"))\n",
    "pd_monthly_produced_packages = monthly_produced_packages.toPandas()\n",
    "\n",
    "fig = make_subplots(\n",
    "    rows=1, cols=pd_monthly_produced_packages.shape[0],\n",
    "    specs=[[{\"type\": \"domain\"} for _ in range(pd_monthly_produced_packages.shape[0])]]\n",
    ")\n",
    "for c in range(pd_monthly_produced_packages.shape[0]):\n",
    "    fig.add_trace(\n",
    "        go.Pie(\n",
    "            labels=[\"Summe Gutpackungen\", \"Summe Schlechtpackungen\"],\n",
    "            values=pd_monthly_produced_packages.iloc[c, 1:],\n",
    "            title=f\"Monat {pd_monthly_produced_packages.iloc[c, 0]}\",\n",
    "            textinfo=\"value\",\n",
    "            hoverinfo='label+percent',\n",
    "            marker=dict(line=dict(color='#000000', width=2))\n",
    "        ),\n",
    "        row=1, col=c+1\n",
    "    )\n",
    "fig.update_layout(\n",
    "    title_text=f\"Produzierte Packungen je Monat\",\n",
    "    separators=\". \")\n",
    "fig.show()\n",
    "fig.write_html(file=os.path.join(results_path, r\"plots\\produced_packs_per_month.html\"))"
   ]
  },
  {
   "attachments": {},
   "cell_type": "markdown",
   "metadata": {},
   "source": [
    "## Probleme / Schlechtpackungen bei \"vegan parmesan\""
   ]
  },
  {
   "cell_type": "code",
   "execution_count": 12,
   "metadata": {},
   "outputs": [
    {
     "name": "stdout",
     "output_type": "stream",
     "text": [
      "Number of rows in recipe_data.csv: 90\n",
      "\n",
      "root\n",
      " |-- machine_identifier: string (nullable = true)\n",
      " |-- timestamp: timestamp (nullable = true)\n",
      " |-- recipe: string (nullable = true)\n",
      "\n",
      "+-------------------------+-----------------------+-------------------+\n",
      "|machine_identifier       |timestamp              |recipe             |\n",
      "+-------------------------+-----------------------+-------------------+\n",
      "|innovative_cheese_machine|2022-06-06 22:51:16.477|cheese sticks      |\n",
      "|innovative_cheese_machine|2022-05-02 14:28:08.513|vegan parmesan     |\n",
      "|innovative_cheese_machine|2022-05-31 10:04:17.208|vegan cheese sticks|\n",
      "|innovative_cheese_machine|2022-07-07 13:04:10.479|vegan hero 150g    |\n",
      "|innovative_cheese_machine|2022-06-23 00:19:12.227|vegan hero 150g    |\n",
      "|innovative_cheese_machine|2022-07-12 10:18:49.266|vegan hero 150g    |\n",
      "|innovative_cheese_machine|2022-05-30 14:17:53.156|vegan cheese sticks|\n",
      "|innovative_cheese_machine|2022-05-27 11:00:49.677|vegan parmesan     |\n",
      "|innovative_cheese_machine|2022-05-02 09:22:22.632|vegan parmesan     |\n",
      "|innovative_cheese_machine|2022-05-27 14:04:25.245|vegan parmesan     |\n",
      "|innovative_cheese_machine|2022-06-10 14:59:16.611|cheese sticks      |\n",
      "|innovative_cheese_machine|2022-05-25 16:26:53.309|vegan parmesan     |\n",
      "|innovative_cheese_machine|2022-07-13 14:20:23.202|vegan hero 150g    |\n",
      "|innovative_cheese_machine|2022-05-03 09:21:44.886|vegan parmesan     |\n",
      "|innovative_cheese_machine|2022-05-25 17:26:56.395|vegan parmesan     |\n",
      "|innovative_cheese_machine|2022-07-13 23:20:54.967|vegan parmesan     |\n",
      "|innovative_cheese_machine|2022-05-27 13:36:19.24 |vegan parmesan     |\n",
      "|innovative_cheese_machine|2022-05-31 13:51:37.19 |vegan cheese sticks|\n",
      "|innovative_cheese_machine|2022-05-23 19:00:18.317|vegan parmesan     |\n",
      "|innovative_cheese_machine|2022-05-30 13:37:23.808|vegan cheese sticks|\n",
      "+-------------------------+-----------------------+-------------------+\n",
      "only showing top 20 rows\n",
      "\n"
     ]
    }
   ],
   "source": [
    "data_file_name = r\"recipe_data.csv\"\n",
    "data_file = os.path.join(data_file_path, data_file_name)\n",
    "\n",
    "input_schema = StructType([\n",
    "    StructField(\"machine_identifier\", StringType()),\n",
    "    StructField(\"timestamp\", TimestampType()),\n",
    "    StructField(\"recipe\", StringType())\n",
    "])\n",
    "recipe_data = spark.read.csv(\n",
    "    data_file,\n",
    "    schema=input_schema,\n",
    "    header=True\n",
    ")\n",
    "print(f\"Number of rows in {data_file_name}: {recipe_data.count()}\\n\")\n",
    "recipe_data.printSchema()\n",
    "recipe_data.show(truncate=False)"
   ]
  },
  {
   "cell_type": "code",
   "execution_count": 13,
   "metadata": {},
   "outputs": [
    {
     "name": "stdout",
     "output_type": "stream",
     "text": [
      "+-------------------------+-----------------------+-------------------+\n",
      "|machine_identifier       |timestamp              |recipe             |\n",
      "+-------------------------+-----------------------+-------------------+\n",
      "|innovative_cheese_machine|2022-05-02 06:26:37.727|vegan parmesan     |\n",
      "|innovative_cheese_machine|2022-05-02 06:26:54.623|vegan parmesan     |\n",
      "|innovative_cheese_machine|2022-05-02 07:18:23.93 |vegan parmesan     |\n",
      "|innovative_cheese_machine|2022-05-02 08:08:38.26 |vegan parmesan     |\n",
      "|innovative_cheese_machine|2022-05-02 08:46:10.376|vegan parmesan     |\n",
      "|innovative_cheese_machine|2022-05-02 09:13:14.861|vegan parmesan     |\n",
      "|innovative_cheese_machine|2022-05-02 09:22:22.632|vegan parmesan     |\n",
      "|innovative_cheese_machine|2022-05-02 14:28:08.513|vegan parmesan     |\n",
      "|innovative_cheese_machine|2022-05-02 14:51:49.959|vegan parmesan     |\n",
      "|innovative_cheese_machine|2022-05-02 15:22:22.631|vegan parmesan     |\n",
      "|innovative_cheese_machine|2022-05-03 09:21:44.886|vegan parmesan     |\n",
      "|innovative_cheese_machine|2022-05-06 18:51:30.723|vegan parmesan     |\n",
      "|innovative_cheese_machine|2022-05-09 08:53:54.86 |vegan parmesan     |\n",
      "|innovative_cheese_machine|2022-05-12 02:47:26.239|vegan parmesan     |\n",
      "|innovative_cheese_machine|2022-05-23 16:21:58.214|vegan parmesan     |\n",
      "|innovative_cheese_machine|2022-05-23 19:00:18.317|vegan parmesan     |\n",
      "|innovative_cheese_machine|2022-05-25 10:54:08.573|vegan parmesan     |\n",
      "|innovative_cheese_machine|2022-05-25 14:01:21.255|vegan parmesan     |\n",
      "|innovative_cheese_machine|2022-05-25 15:49:29.262|vegan parmesan     |\n",
      "|innovative_cheese_machine|2022-05-25 16:26:53.309|vegan parmesan     |\n",
      "|innovative_cheese_machine|2022-05-25 17:26:56.395|vegan parmesan     |\n",
      "|innovative_cheese_machine|2022-05-25 17:49:28.431|vegan parmesan     |\n",
      "|innovative_cheese_machine|2022-05-27 08:53:06.153|vegan parmesan     |\n",
      "|innovative_cheese_machine|2022-05-27 09:24:23.93 |vegan parmesan     |\n",
      "|innovative_cheese_machine|2022-05-27 11:00:49.677|vegan parmesan     |\n",
      "|innovative_cheese_machine|2022-05-27 12:53:30.237|vegan parmesan     |\n",
      "|innovative_cheese_machine|2022-05-27 13:36:19.24 |vegan parmesan     |\n",
      "|innovative_cheese_machine|2022-05-27 14:04:25.245|vegan parmesan     |\n",
      "|innovative_cheese_machine|2022-05-27 14:37:17.207|vegan parmesan     |\n",
      "|innovative_cheese_machine|2022-05-30 06:22:36.836|vegan parmesan     |\n",
      "|innovative_cheese_machine|2022-05-30 10:28:53.303|vegan parmesan     |\n",
      "|innovative_cheese_machine|2022-05-30 11:17:12.965|vegan parmesan     |\n",
      "|innovative_cheese_machine|2022-05-30 11:34:31.216|vegan parmesan     |\n",
      "|innovative_cheese_machine|2022-05-30 12:05:10.414|vegan parmesan     |\n",
      "|innovative_cheese_machine|2022-05-30 12:11:09.482|vegan parmesan     |\n",
      "|innovative_cheese_machine|2022-05-30 12:11:21.6  |vegan hero 400g    |\n",
      "|innovative_cheese_machine|2022-05-30 13:19:56.594|vegan hero 400g    |\n",
      "|innovative_cheese_machine|2022-05-30 13:33:28.833|vegan hero 400g    |\n",
      "|innovative_cheese_machine|2022-05-30 13:33:41.451|vegan cheese sticks|\n",
      "|innovative_cheese_machine|2022-05-30 13:36:09.427|test               |\n",
      "|innovative_cheese_machine|2022-05-30 13:37:23.808|vegan cheese sticks|\n",
      "|innovative_cheese_machine|2022-05-30 14:17:53.156|vegan cheese sticks|\n",
      "|innovative_cheese_machine|2022-05-30 14:58:00.525|vegan cheese sticks|\n",
      "|innovative_cheese_machine|2022-05-30 15:21:17.508|vegan cheese sticks|\n",
      "|innovative_cheese_machine|2022-05-31 10:04:17.208|vegan cheese sticks|\n",
      "|innovative_cheese_machine|2022-05-31 10:18:46.375|vegan cheese sticks|\n",
      "|innovative_cheese_machine|2022-05-31 12:55:45.19 |vegan cheese sticks|\n",
      "|innovative_cheese_machine|2022-05-31 13:10:20.93 |vegan cheese sticks|\n",
      "|innovative_cheese_machine|2022-05-31 13:51:37.19 |vegan cheese sticks|\n",
      "|innovative_cheese_machine|2022-05-31 14:12:40.565|vegan cheese sticks|\n",
      "|innovative_cheese_machine|2022-05-31 14:22:00.17 |vegan cheese sticks|\n",
      "|innovative_cheese_machine|2022-05-31 16:36:27.891|cheese sticks      |\n",
      "|innovative_cheese_machine|2022-06-02 07:09:52.77 |cheese sticks      |\n",
      "|innovative_cheese_machine|2022-06-02 08:25:25.786|cheese sticks      |\n",
      "|innovative_cheese_machine|2022-06-02 10:17:00.376|cheese sticks      |\n",
      "|innovative_cheese_machine|2022-06-03 06:07:00.616|cheese sticks      |\n",
      "|innovative_cheese_machine|2022-06-06 22:51:16.477|cheese sticks      |\n",
      "|innovative_cheese_machine|2022-06-09 17:04:01.286|cheese sticks      |\n",
      "|innovative_cheese_machine|2022-06-10 14:59:16.611|cheese sticks      |\n",
      "|innovative_cheese_machine|2022-06-15 10:12:33.662|cheese sticks      |\n",
      "|innovative_cheese_machine|2022-06-16 22:42:20.66 |cheese sticks      |\n",
      "|innovative_cheese_machine|2022-06-16 23:15:08.244|cheese sticks      |\n",
      "|innovative_cheese_machine|2022-06-16 23:15:19.817|vegan parmesan     |\n",
      "|innovative_cheese_machine|2022-06-16 23:19:45.54 |vegan parmesan     |\n",
      "|innovative_cheese_machine|2022-06-16 23:30:09.129|vegan hero 150g    |\n",
      "|innovative_cheese_machine|2022-06-21 02:53:23.372|vegan hero 150g    |\n",
      "|innovative_cheese_machine|2022-06-21 08:17:09.46 |vegan hero 150g    |\n",
      "|innovative_cheese_machine|2022-06-21 08:39:14.659|vegan hero 150g    |\n",
      "|innovative_cheese_machine|2022-06-22 04:16:02.368|vegan hero 150g    |\n",
      "|innovative_cheese_machine|2022-06-22 07:13:13.921|vegan hero 150g    |\n",
      "|innovative_cheese_machine|2022-06-22 07:20:26.994|vegan hero 150g    |\n",
      "|innovative_cheese_machine|2022-06-23 00:19:12.227|vegan hero 150g    |\n",
      "|innovative_cheese_machine|2022-06-24 20:32:39.311|vegan hero 150g    |\n",
      "|innovative_cheese_machine|2022-07-06 14:38:08.556|vegan hero 150g    |\n",
      "|innovative_cheese_machine|2022-07-07 13:04:10.479|vegan hero 150g    |\n",
      "|innovative_cheese_machine|2022-07-08 06:38:09.164|vegan hero 150g    |\n",
      "|innovative_cheese_machine|2022-07-08 08:51:28.402|vegan hero 150g    |\n",
      "|innovative_cheese_machine|2022-07-12 10:18:49.266|vegan hero 150g    |\n",
      "|innovative_cheese_machine|2022-07-12 10:19:08.034|vegan hero 150g    |\n",
      "|innovative_cheese_machine|2022-07-12 10:33:59.25 |vegan hero 150g    |\n",
      "|innovative_cheese_machine|2022-07-12 11:55:03.993|vegan hero 150g    |\n",
      "|innovative_cheese_machine|2022-07-13 14:20:23.202|vegan hero 150g    |\n",
      "|innovative_cheese_machine|2022-07-13 23:20:54.967|vegan parmesan     |\n",
      "|innovative_cheese_machine|2022-07-14 07:21:01.551|vegan parmesan     |\n",
      "|innovative_cheese_machine|2022-07-14 07:44:06.358|vegan parmesan     |\n",
      "|innovative_cheese_machine|2022-07-14 08:35:52.418|vegan parmesan     |\n",
      "|innovative_cheese_machine|2022-07-15 06:13:29.524|vegan parmesan     |\n",
      "|innovative_cheese_machine|2022-07-22 14:25:54.015|vegan parmesan     |\n",
      "|innovative_cheese_machine|2022-07-25 05:39:25.164|vegan parmesan     |\n",
      "|innovative_cheese_machine|2022-07-28 23:59:40.116|vegan parmesan     |\n",
      "+-------------------------+-----------------------+-------------------+\n",
      "\n"
     ]
    }
   ],
   "source": [
    "# chronologically order by timestamp (from oldest to recent)\n",
    "recipe_data_chrono = recipe_data.orderBy(\"timestamp\")\n",
    "recipe_data_chrono.show(100, truncate=False)"
   ]
  },
  {
   "cell_type": "code",
   "execution_count": 14,
   "metadata": {},
   "outputs": [],
   "source": [
    "# assign recipe to each done machine cycle\n",
    "package_data_chrono_expanded_by_recipe = package_data.alias(\"pd\").\\\n",
    "    join(recipe_data.alias(\"rd\"), on=col(\"rd.timestamp\") < col(\"pd.timestamp\")).\\\n",
    "        select(\n",
    "            \"pd.*\",\n",
    "            first(\"rd.recipe\").over(\n",
    "                Window.partitionBy(\"pd.timestamp\").orderBy(col(\"rd.timestamp\").desc())\n",
    "            ).alias(\"recipe\")\n",
    "        ).distinct()\\\n",
    "        .orderBy(\"pd.timestamp\")\n",
    "\n",
    "# package_data_chrono_expanded_by_recipe.show(100, truncate=False)"
   ]
  },
  {
   "cell_type": "code",
   "execution_count": 15,
   "metadata": {},
   "outputs": [
    {
     "name": "stdout",
     "output_type": "stream",
     "text": [
      "+--------------+----------------+------------------+-----------------------------+\n",
      "|date          |daily_good_packs|daily_reject_packs|daily_reject_packs_percentage|\n",
      "+--------------+----------------+------------------+-----------------------------+\n",
      "|2022-05-03 Tue|84402           |2934              |3.36                         |\n",
      "|2022-05-04 Wed|143584          |7063              |4.69                         |\n",
      "|2022-05-05 Thu|136486          |5618              |3.95                         |\n",
      "|2022-05-06 Fri|84222           |5034              |5.64                         |\n",
      "|2022-05-07 Sat|0               |120               |100.00                       |\n",
      "|2022-05-08 Sun|5               |91                |94.79                        |\n",
      "|2022-05-09 Mon|79863           |4089              |4.87                         |\n",
      "|2022-05-10 Tue|104147          |4909              |4.50                         |\n",
      "|2022-05-11 Wed|110662          |5234              |4.52                         |\n",
      "|2022-05-12 Thu|99686           |4882              |4.67                         |\n",
      "|2022-05-13 Fri|75956           |4768              |5.91                         |\n",
      "|2022-05-16 Mon|81117           |4083              |4.79                         |\n",
      "|2022-05-17 Tue|169877          |6703              |3.80                         |\n",
      "|2022-05-18 Wed|151944          |6576              |4.15                         |\n",
      "|2022-05-19 Thu|151139          |5872              |3.74                         |\n",
      "|2022-05-20 Fri|78040           |2836              |3.51                         |\n",
      "|2022-05-23 Mon|92477           |4219              |4.36                         |\n",
      "|2022-05-24 Tue|104152          |6296              |5.70                         |\n",
      "|2022-05-25 Wed|79515           |7605              |8.73                         |\n",
      "|2022-05-26 Thu|2828            |148               |4.97                         |\n",
      "|2022-05-30 Mon|0               |0                 |null                         |\n",
      "|2022-07-13 Wed|1932            |132               |6.40                         |\n",
      "|2022-07-14 Thu|139803          |5349              |3.69                         |\n",
      "|2022-07-15 Fri|91376           |4720              |4.91                         |\n",
      "|2022-07-16 Sat|0               |96                |100.00                       |\n",
      "|2022-07-18 Mon|102598          |5090              |4.73                         |\n",
      "|2022-07-19 Tue|120116          |3940              |3.18                         |\n",
      "|2022-07-20 Wed|78580           |4868              |5.83                         |\n",
      "|2022-07-21 Thu|76034           |2830              |3.59                         |\n",
      "|2022-07-22 Fri|101735          |3697              |3.51                         |\n",
      "|2022-07-25 Mon|94033           |3791              |3.88                         |\n",
      "|2022-07-26 Tue|102400          |3464              |3.27                         |\n",
      "|2022-07-27 Wed|130783          |5225              |3.84                         |\n",
      "|2022-07-28 Thu|133146          |5191              |3.75                         |\n",
      "|2022-07-29 Fri|133154          |4774              |3.46                         |\n",
      "|2022-07-30 Sat|22045           |971               |4.22                         |\n",
      "+--------------+----------------+------------------+-----------------------------+\n",
      "\n"
     ]
    }
   ],
   "source": [
    "RECIPE = \"vegan parmesan\"\n",
    "# filter \"recipe\" and aggreate over daily produced packs (good and reject)\n",
    "daily_produced_packs = package_data_chrono_expanded_by_recipe.\\\n",
    "    filter(col(\"recipe\") == RECIPE).\\\n",
    "    withColumn(\"date\", date_format(col(\"timestamp\"), \"yyyy-MM-dd E\")).\\\n",
    "    groupBy(col(\"date\")).\\\n",
    "        agg(\n",
    "            sum(\"good_packs\").alias(\"daily_good_packs\"),\n",
    "            sum(\"reject_packs\").alias(\"daily_reject_packs\")\n",
    "        ).\\\n",
    "    withColumn(\n",
    "        \"daily_reject_packs_percentage\",\n",
    "        format_number(col(\"daily_reject_packs\") / (col(\"daily_reject_packs\") + col(\"daily_good_packs\")) * 100, 2)\n",
    "    ).\\\n",
    "    orderBy(\"date\")\n",
    "daily_produced_packs.show(100, truncate=False)"
   ]
  },
  {
   "cell_type": "code",
   "execution_count": 16,
   "metadata": {},
   "outputs": [
    {
     "data": {
      "application/vnd.plotly.v1+json": {
       "config": {
        "plotlyServerURL": "https://plot.ly"
       },
       "data": [
        {
         "name": "Täglich produzierte Gutpackungen",
         "type": "bar",
         "x": [
          "2022-05-03 Tue",
          "2022-05-04 Wed",
          "2022-05-05 Thu",
          "2022-05-06 Fri",
          "2022-05-07 Sat",
          "2022-05-08 Sun",
          "2022-05-09 Mon",
          "2022-05-10 Tue",
          "2022-05-11 Wed",
          "2022-05-12 Thu",
          "2022-05-13 Fri",
          "2022-05-16 Mon",
          "2022-05-17 Tue",
          "2022-05-18 Wed",
          "2022-05-19 Thu",
          "2022-05-20 Fri",
          "2022-05-23 Mon",
          "2022-05-24 Tue",
          "2022-05-25 Wed",
          "2022-05-26 Thu",
          "2022-05-30 Mon",
          "2022-07-13 Wed",
          "2022-07-14 Thu",
          "2022-07-15 Fri",
          "2022-07-16 Sat",
          "2022-07-18 Mon",
          "2022-07-19 Tue",
          "2022-07-20 Wed",
          "2022-07-21 Thu",
          "2022-07-22 Fri",
          "2022-07-25 Mon",
          "2022-07-26 Tue",
          "2022-07-27 Wed",
          "2022-07-28 Thu",
          "2022-07-29 Fri",
          "2022-07-30 Sat"
         ],
         "y": [
          84402,
          143584,
          136486,
          84222,
          0,
          5,
          79863,
          104147,
          110662,
          99686,
          75956,
          81117,
          169877,
          151944,
          151139,
          78040,
          92477,
          104152,
          79515,
          2828,
          0,
          1932,
          139803,
          91376,
          0,
          102598,
          120116,
          78580,
          76034,
          101735,
          94033,
          102400,
          130783,
          133146,
          133154,
          22045
         ]
        },
        {
         "name": "Täglich produzierte Schlechtpackungen",
         "text": [
          "3.36%",
          "4.69%",
          "3.95%",
          "5.64%",
          "100.00%",
          "94.79%",
          "4.87%",
          "4.50%",
          "4.52%",
          "4.67%",
          "5.91%",
          "4.79%",
          "3.80%",
          "4.15%",
          "3.74%",
          "3.51%",
          "4.36%",
          "5.70%",
          "8.73%",
          "4.97%",
          "None%",
          "6.40%",
          "3.69%",
          "4.91%",
          "100.00%",
          "4.73%",
          "3.18%",
          "5.83%",
          "3.59%",
          "3.51%",
          "3.88%",
          "3.27%",
          "3.84%",
          "3.75%",
          "3.46%",
          "4.22%"
         ],
         "type": "bar",
         "x": [
          "2022-05-03 Tue",
          "2022-05-04 Wed",
          "2022-05-05 Thu",
          "2022-05-06 Fri",
          "2022-05-07 Sat",
          "2022-05-08 Sun",
          "2022-05-09 Mon",
          "2022-05-10 Tue",
          "2022-05-11 Wed",
          "2022-05-12 Thu",
          "2022-05-13 Fri",
          "2022-05-16 Mon",
          "2022-05-17 Tue",
          "2022-05-18 Wed",
          "2022-05-19 Thu",
          "2022-05-20 Fri",
          "2022-05-23 Mon",
          "2022-05-24 Tue",
          "2022-05-25 Wed",
          "2022-05-26 Thu",
          "2022-05-30 Mon",
          "2022-07-13 Wed",
          "2022-07-14 Thu",
          "2022-07-15 Fri",
          "2022-07-16 Sat",
          "2022-07-18 Mon",
          "2022-07-19 Tue",
          "2022-07-20 Wed",
          "2022-07-21 Thu",
          "2022-07-22 Fri",
          "2022-07-25 Mon",
          "2022-07-26 Tue",
          "2022-07-27 Wed",
          "2022-07-28 Thu",
          "2022-07-29 Fri",
          "2022-07-30 Sat"
         ],
         "y": [
          2934,
          7063,
          5618,
          5034,
          120,
          91,
          4089,
          4909,
          5234,
          4882,
          4768,
          4083,
          6703,
          6576,
          5872,
          2836,
          4219,
          6296,
          7605,
          148,
          0,
          132,
          5349,
          4720,
          96,
          5090,
          3940,
          4868,
          2830,
          3697,
          3791,
          3464,
          5225,
          5191,
          4774,
          971
         ]
        }
       ],
       "layout": {
        "barmode": "stack",
        "legend": {
         "orientation": "h",
         "x": 0.5,
         "xanchor": "center",
         "y": 1,
         "yanchor": "bottom"
        },
        "template": {
         "data": {
          "bar": [
           {
            "error_x": {
             "color": "#2a3f5f"
            },
            "error_y": {
             "color": "#2a3f5f"
            },
            "marker": {
             "line": {
              "color": "#E5ECF6",
              "width": 0.5
             },
             "pattern": {
              "fillmode": "overlay",
              "size": 10,
              "solidity": 0.2
             }
            },
            "type": "bar"
           }
          ],
          "barpolar": [
           {
            "marker": {
             "line": {
              "color": "#E5ECF6",
              "width": 0.5
             },
             "pattern": {
              "fillmode": "overlay",
              "size": 10,
              "solidity": 0.2
             }
            },
            "type": "barpolar"
           }
          ],
          "carpet": [
           {
            "aaxis": {
             "endlinecolor": "#2a3f5f",
             "gridcolor": "white",
             "linecolor": "white",
             "minorgridcolor": "white",
             "startlinecolor": "#2a3f5f"
            },
            "baxis": {
             "endlinecolor": "#2a3f5f",
             "gridcolor": "white",
             "linecolor": "white",
             "minorgridcolor": "white",
             "startlinecolor": "#2a3f5f"
            },
            "type": "carpet"
           }
          ],
          "choropleth": [
           {
            "colorbar": {
             "outlinewidth": 0,
             "ticks": ""
            },
            "type": "choropleth"
           }
          ],
          "contour": [
           {
            "colorbar": {
             "outlinewidth": 0,
             "ticks": ""
            },
            "colorscale": [
             [
              0,
              "#0d0887"
             ],
             [
              0.1111111111111111,
              "#46039f"
             ],
             [
              0.2222222222222222,
              "#7201a8"
             ],
             [
              0.3333333333333333,
              "#9c179e"
             ],
             [
              0.4444444444444444,
              "#bd3786"
             ],
             [
              0.5555555555555556,
              "#d8576b"
             ],
             [
              0.6666666666666666,
              "#ed7953"
             ],
             [
              0.7777777777777778,
              "#fb9f3a"
             ],
             [
              0.8888888888888888,
              "#fdca26"
             ],
             [
              1,
              "#f0f921"
             ]
            ],
            "type": "contour"
           }
          ],
          "contourcarpet": [
           {
            "colorbar": {
             "outlinewidth": 0,
             "ticks": ""
            },
            "type": "contourcarpet"
           }
          ],
          "heatmap": [
           {
            "colorbar": {
             "outlinewidth": 0,
             "ticks": ""
            },
            "colorscale": [
             [
              0,
              "#0d0887"
             ],
             [
              0.1111111111111111,
              "#46039f"
             ],
             [
              0.2222222222222222,
              "#7201a8"
             ],
             [
              0.3333333333333333,
              "#9c179e"
             ],
             [
              0.4444444444444444,
              "#bd3786"
             ],
             [
              0.5555555555555556,
              "#d8576b"
             ],
             [
              0.6666666666666666,
              "#ed7953"
             ],
             [
              0.7777777777777778,
              "#fb9f3a"
             ],
             [
              0.8888888888888888,
              "#fdca26"
             ],
             [
              1,
              "#f0f921"
             ]
            ],
            "type": "heatmap"
           }
          ],
          "heatmapgl": [
           {
            "colorbar": {
             "outlinewidth": 0,
             "ticks": ""
            },
            "colorscale": [
             [
              0,
              "#0d0887"
             ],
             [
              0.1111111111111111,
              "#46039f"
             ],
             [
              0.2222222222222222,
              "#7201a8"
             ],
             [
              0.3333333333333333,
              "#9c179e"
             ],
             [
              0.4444444444444444,
              "#bd3786"
             ],
             [
              0.5555555555555556,
              "#d8576b"
             ],
             [
              0.6666666666666666,
              "#ed7953"
             ],
             [
              0.7777777777777778,
              "#fb9f3a"
             ],
             [
              0.8888888888888888,
              "#fdca26"
             ],
             [
              1,
              "#f0f921"
             ]
            ],
            "type": "heatmapgl"
           }
          ],
          "histogram": [
           {
            "marker": {
             "pattern": {
              "fillmode": "overlay",
              "size": 10,
              "solidity": 0.2
             }
            },
            "type": "histogram"
           }
          ],
          "histogram2d": [
           {
            "colorbar": {
             "outlinewidth": 0,
             "ticks": ""
            },
            "colorscale": [
             [
              0,
              "#0d0887"
             ],
             [
              0.1111111111111111,
              "#46039f"
             ],
             [
              0.2222222222222222,
              "#7201a8"
             ],
             [
              0.3333333333333333,
              "#9c179e"
             ],
             [
              0.4444444444444444,
              "#bd3786"
             ],
             [
              0.5555555555555556,
              "#d8576b"
             ],
             [
              0.6666666666666666,
              "#ed7953"
             ],
             [
              0.7777777777777778,
              "#fb9f3a"
             ],
             [
              0.8888888888888888,
              "#fdca26"
             ],
             [
              1,
              "#f0f921"
             ]
            ],
            "type": "histogram2d"
           }
          ],
          "histogram2dcontour": [
           {
            "colorbar": {
             "outlinewidth": 0,
             "ticks": ""
            },
            "colorscale": [
             [
              0,
              "#0d0887"
             ],
             [
              0.1111111111111111,
              "#46039f"
             ],
             [
              0.2222222222222222,
              "#7201a8"
             ],
             [
              0.3333333333333333,
              "#9c179e"
             ],
             [
              0.4444444444444444,
              "#bd3786"
             ],
             [
              0.5555555555555556,
              "#d8576b"
             ],
             [
              0.6666666666666666,
              "#ed7953"
             ],
             [
              0.7777777777777778,
              "#fb9f3a"
             ],
             [
              0.8888888888888888,
              "#fdca26"
             ],
             [
              1,
              "#f0f921"
             ]
            ],
            "type": "histogram2dcontour"
           }
          ],
          "mesh3d": [
           {
            "colorbar": {
             "outlinewidth": 0,
             "ticks": ""
            },
            "type": "mesh3d"
           }
          ],
          "parcoords": [
           {
            "line": {
             "colorbar": {
              "outlinewidth": 0,
              "ticks": ""
             }
            },
            "type": "parcoords"
           }
          ],
          "pie": [
           {
            "automargin": true,
            "type": "pie"
           }
          ],
          "scatter": [
           {
            "fillpattern": {
             "fillmode": "overlay",
             "size": 10,
             "solidity": 0.2
            },
            "type": "scatter"
           }
          ],
          "scatter3d": [
           {
            "line": {
             "colorbar": {
              "outlinewidth": 0,
              "ticks": ""
             }
            },
            "marker": {
             "colorbar": {
              "outlinewidth": 0,
              "ticks": ""
             }
            },
            "type": "scatter3d"
           }
          ],
          "scattercarpet": [
           {
            "marker": {
             "colorbar": {
              "outlinewidth": 0,
              "ticks": ""
             }
            },
            "type": "scattercarpet"
           }
          ],
          "scattergeo": [
           {
            "marker": {
             "colorbar": {
              "outlinewidth": 0,
              "ticks": ""
             }
            },
            "type": "scattergeo"
           }
          ],
          "scattergl": [
           {
            "marker": {
             "colorbar": {
              "outlinewidth": 0,
              "ticks": ""
             }
            },
            "type": "scattergl"
           }
          ],
          "scattermapbox": [
           {
            "marker": {
             "colorbar": {
              "outlinewidth": 0,
              "ticks": ""
             }
            },
            "type": "scattermapbox"
           }
          ],
          "scatterpolar": [
           {
            "marker": {
             "colorbar": {
              "outlinewidth": 0,
              "ticks": ""
             }
            },
            "type": "scatterpolar"
           }
          ],
          "scatterpolargl": [
           {
            "marker": {
             "colorbar": {
              "outlinewidth": 0,
              "ticks": ""
             }
            },
            "type": "scatterpolargl"
           }
          ],
          "scatterternary": [
           {
            "marker": {
             "colorbar": {
              "outlinewidth": 0,
              "ticks": ""
             }
            },
            "type": "scatterternary"
           }
          ],
          "surface": [
           {
            "colorbar": {
             "outlinewidth": 0,
             "ticks": ""
            },
            "colorscale": [
             [
              0,
              "#0d0887"
             ],
             [
              0.1111111111111111,
              "#46039f"
             ],
             [
              0.2222222222222222,
              "#7201a8"
             ],
             [
              0.3333333333333333,
              "#9c179e"
             ],
             [
              0.4444444444444444,
              "#bd3786"
             ],
             [
              0.5555555555555556,
              "#d8576b"
             ],
             [
              0.6666666666666666,
              "#ed7953"
             ],
             [
              0.7777777777777778,
              "#fb9f3a"
             ],
             [
              0.8888888888888888,
              "#fdca26"
             ],
             [
              1,
              "#f0f921"
             ]
            ],
            "type": "surface"
           }
          ],
          "table": [
           {
            "cells": {
             "fill": {
              "color": "#EBF0F8"
             },
             "line": {
              "color": "white"
             }
            },
            "header": {
             "fill": {
              "color": "#C8D4E3"
             },
             "line": {
              "color": "white"
             }
            },
            "type": "table"
           }
          ]
         },
         "layout": {
          "annotationdefaults": {
           "arrowcolor": "#2a3f5f",
           "arrowhead": 0,
           "arrowwidth": 1
          },
          "autotypenumbers": "strict",
          "coloraxis": {
           "colorbar": {
            "outlinewidth": 0,
            "ticks": ""
           }
          },
          "colorscale": {
           "diverging": [
            [
             0,
             "#8e0152"
            ],
            [
             0.1,
             "#c51b7d"
            ],
            [
             0.2,
             "#de77ae"
            ],
            [
             0.3,
             "#f1b6da"
            ],
            [
             0.4,
             "#fde0ef"
            ],
            [
             0.5,
             "#f7f7f7"
            ],
            [
             0.6,
             "#e6f5d0"
            ],
            [
             0.7,
             "#b8e186"
            ],
            [
             0.8,
             "#7fbc41"
            ],
            [
             0.9,
             "#4d9221"
            ],
            [
             1,
             "#276419"
            ]
           ],
           "sequential": [
            [
             0,
             "#0d0887"
            ],
            [
             0.1111111111111111,
             "#46039f"
            ],
            [
             0.2222222222222222,
             "#7201a8"
            ],
            [
             0.3333333333333333,
             "#9c179e"
            ],
            [
             0.4444444444444444,
             "#bd3786"
            ],
            [
             0.5555555555555556,
             "#d8576b"
            ],
            [
             0.6666666666666666,
             "#ed7953"
            ],
            [
             0.7777777777777778,
             "#fb9f3a"
            ],
            [
             0.8888888888888888,
             "#fdca26"
            ],
            [
             1,
             "#f0f921"
            ]
           ],
           "sequentialminus": [
            [
             0,
             "#0d0887"
            ],
            [
             0.1111111111111111,
             "#46039f"
            ],
            [
             0.2222222222222222,
             "#7201a8"
            ],
            [
             0.3333333333333333,
             "#9c179e"
            ],
            [
             0.4444444444444444,
             "#bd3786"
            ],
            [
             0.5555555555555556,
             "#d8576b"
            ],
            [
             0.6666666666666666,
             "#ed7953"
            ],
            [
             0.7777777777777778,
             "#fb9f3a"
            ],
            [
             0.8888888888888888,
             "#fdca26"
            ],
            [
             1,
             "#f0f921"
            ]
           ]
          },
          "colorway": [
           "#636efa",
           "#EF553B",
           "#00cc96",
           "#ab63fa",
           "#FFA15A",
           "#19d3f3",
           "#FF6692",
           "#B6E880",
           "#FF97FF",
           "#FECB52"
          ],
          "font": {
           "color": "#2a3f5f"
          },
          "geo": {
           "bgcolor": "white",
           "lakecolor": "white",
           "landcolor": "#E5ECF6",
           "showlakes": true,
           "showland": true,
           "subunitcolor": "white"
          },
          "hoverlabel": {
           "align": "left"
          },
          "hovermode": "closest",
          "mapbox": {
           "style": "light"
          },
          "paper_bgcolor": "white",
          "plot_bgcolor": "#E5ECF6",
          "polar": {
           "angularaxis": {
            "gridcolor": "white",
            "linecolor": "white",
            "ticks": ""
           },
           "bgcolor": "#E5ECF6",
           "radialaxis": {
            "gridcolor": "white",
            "linecolor": "white",
            "ticks": ""
           }
          },
          "scene": {
           "xaxis": {
            "backgroundcolor": "#E5ECF6",
            "gridcolor": "white",
            "gridwidth": 2,
            "linecolor": "white",
            "showbackground": true,
            "ticks": "",
            "zerolinecolor": "white"
           },
           "yaxis": {
            "backgroundcolor": "#E5ECF6",
            "gridcolor": "white",
            "gridwidth": 2,
            "linecolor": "white",
            "showbackground": true,
            "ticks": "",
            "zerolinecolor": "white"
           },
           "zaxis": {
            "backgroundcolor": "#E5ECF6",
            "gridcolor": "white",
            "gridwidth": 2,
            "linecolor": "white",
            "showbackground": true,
            "ticks": "",
            "zerolinecolor": "white"
           }
          },
          "shapedefaults": {
           "line": {
            "color": "#2a3f5f"
           }
          },
          "ternary": {
           "aaxis": {
            "gridcolor": "white",
            "linecolor": "white",
            "ticks": ""
           },
           "baxis": {
            "gridcolor": "white",
            "linecolor": "white",
            "ticks": ""
           },
           "bgcolor": "#E5ECF6",
           "caxis": {
            "gridcolor": "white",
            "linecolor": "white",
            "ticks": ""
           }
          },
          "title": {
           "x": 0.05
          },
          "xaxis": {
           "automargin": true,
           "gridcolor": "white",
           "linecolor": "white",
           "ticks": "",
           "title": {
            "standoff": 15
           },
           "zerolinecolor": "white",
           "zerolinewidth": 2
          },
          "yaxis": {
           "automargin": true,
           "gridcolor": "white",
           "linecolor": "white",
           "ticks": "",
           "title": {
            "standoff": 15
           },
           "zerolinecolor": "white",
           "zerolinewidth": 2
          }
         }
        },
        "title": {
         "text": "vegan parmesan: Täglich produzierte Packungen"
        },
        "xaxis": {
         "tickangle": -90
        },
        "yaxis": {
         "title": {
          "text": "Anzahl Packungen"
         }
        }
       }
      }
     },
     "metadata": {},
     "output_type": "display_data"
    }
   ],
   "source": [
    "pd_daily_produced_packs = daily_produced_packs.toPandas()\n",
    "fig = go.Figure(data=[\n",
    "    go.Bar(name='Täglich produzierte Gutpackungen',\n",
    "           x=pd_daily_produced_packs.date, \n",
    "           y=pd_daily_produced_packs.daily_good_packs),\n",
    "    go.Bar(name='Täglich produzierte Schlechtpackungen',\n",
    "           x=pd_daily_produced_packs.date,\n",
    "           y=pd_daily_produced_packs.daily_reject_packs,\n",
    "           text=pd_daily_produced_packs.daily_reject_packs_percentage.apply(lambda x: f\"{x}%\"))\n",
    "])\n",
    "# Change the bar mode\n",
    "fig.update_layout(barmode='stack')\n",
    "fig.update_layout(\n",
    "    title=f\"{RECIPE}: Täglich produzierte Packungen\",\n",
    "    yaxis_title=\"Anzahl Packungen\",\n",
    "    legend=dict(\n",
    "       orientation=\"h\",\n",
    "       yanchor=\"bottom\",\n",
    "       y=1,\n",
    "       xanchor=\"center\",\n",
    "       x=0.5\n",
    "    )\n",
    ")\n",
    "fig.update_xaxes(tickangle=-90)\n",
    "# fig.update_yaxes(type=\"log\")\n",
    "fig.show()\n",
    "fig.write_html(file=os.path.join(results_path, rf\"plots\\{RECIPE}_daily_produced_packs.html\"))"
   ]
  },
  {
   "attachments": {},
   "cell_type": "markdown",
   "metadata": {},
   "source": [
    "## Hypothese: Vor allem unterbrochene Lichtschranken führen zu vielen Stillständen"
   ]
  },
  {
   "cell_type": "code",
   "execution_count": 17,
   "metadata": {},
   "outputs": [
    {
     "name": "stdout",
     "output_type": "stream",
     "text": [
      "Number of rows in error_messages_accumulated.csv: 1159\n",
      "\n",
      "root\n",
      " |-- machine_identifier: string (nullable = true)\n",
      " |-- timestamp: timestamp (nullable = true)\n",
      " |-- accumulated_dead_time: decimal(10,3) (nullable = true)\n",
      " |-- identifier: string (nullable = true)\n",
      " |-- station: integer (nullable = true)\n",
      " |-- station_instance: integer (nullable = true)\n",
      " |-- subsystem_instance: integer (nullable = true)\n",
      " |-- code: string (nullable = true)\n",
      "\n",
      "+-------------------------+-------------------+---------------------+--------------------+-------+----------------+------------------+----+\n",
      "|machine_identifier       |timestamp          |accumulated_dead_time|identifier          |station|station_instance|subsystem_instance|code|\n",
      "+-------------------------+-------------------+---------------------+--------------------+-------+----------------+------------------+----+\n",
      "|innovative_cheese_machine|2022-05-04 02:00:00|35.973               |1.0.130.1.1010.0.1.0|1      |0               |1                 |1010|\n",
      "|innovative_cheese_machine|2022-05-17 08:00:00|14.188               |1.0.130.1.1010.0.1.0|1      |0               |1                 |1010|\n",
      "|innovative_cheese_machine|2022-05-18 16:00:00|111.604              |1.0.130.1.1010.0.1.0|1      |0               |1                 |1010|\n",
      "|innovative_cheese_machine|2022-05-19 08:00:00|240.811              |1.0.130.1.1010.0.1.0|1      |0               |1                 |1010|\n",
      "|innovative_cheese_machine|2022-05-20 03:00:00|61.590               |1.0.130.1.1010.0.1.0|1      |0               |1                 |1010|\n",
      "|innovative_cheese_machine|2022-05-26 00:00:00|51.748               |1.0.130.1.1010.0.1.0|1      |0               |1                 |1010|\n",
      "|innovative_cheese_machine|2022-05-31 21:00:00|281.319              |1.0.130.1.1010.0.1.0|1      |0               |1                 |1010|\n",
      "|innovative_cheese_machine|2022-06-02 16:00:00|198.187              |1.0.130.1.1010.0.1.0|1      |0               |1                 |1010|\n",
      "|innovative_cheese_machine|2022-06-03 03:00:00|238.130              |1.0.130.1.1010.0.1.0|1      |0               |1                 |1010|\n",
      "|innovative_cheese_machine|2022-06-06 08:00:00|13.336               |1.0.130.1.1010.0.1.0|1      |0               |1                 |1010|\n",
      "|innovative_cheese_machine|2022-06-13 07:00:00|38.964               |1.0.130.1.1010.0.1.0|1      |0               |1                 |1010|\n",
      "|innovative_cheese_machine|2022-06-14 02:00:00|115.686              |1.0.130.1.1010.0.1.0|1      |0               |1                 |1010|\n",
      "|innovative_cheese_machine|2022-06-16 03:00:00|12.252               |1.0.130.1.1010.0.1.0|1      |0               |1                 |1010|\n",
      "|innovative_cheese_machine|2022-06-17 05:00:00|209.690              |1.0.130.1.1010.0.1.0|1      |0               |1                 |1010|\n",
      "|innovative_cheese_machine|2022-06-23 13:00:00|54.893               |1.0.130.1.1010.0.1.0|1      |0               |1                 |1010|\n",
      "|innovative_cheese_machine|2022-06-30 04:00:00|41.085               |1.0.130.1.1010.0.1.0|1      |0               |1                 |1010|\n",
      "|innovative_cheese_machine|2022-07-12 09:00:00|148.389              |1.0.130.1.1010.0.1.0|1      |0               |1                 |1010|\n",
      "|innovative_cheese_machine|2022-07-18 08:00:00|213.546              |1.0.130.1.1010.0.1.0|1      |0               |1                 |1010|\n",
      "|innovative_cheese_machine|2022-07-18 21:00:00|92.748               |1.0.130.1.1010.0.1.0|1      |0               |1                 |1010|\n",
      "|innovative_cheese_machine|2022-07-25 15:00:00|136.270              |1.0.130.1.1010.0.1.0|1      |0               |1                 |1010|\n",
      "+-------------------------+-------------------+---------------------+--------------------+-------+----------------+------------------+----+\n",
      "only showing top 20 rows\n",
      "\n"
     ]
    }
   ],
   "source": [
    "data_file_name = r\"error_messages_accumulated.csv\"\n",
    "data_file = os.path.join(data_file_path, data_file_name)\n",
    "\n",
    "input_schema = StructType([\n",
    "    StructField(\"machine_identifier\", StringType()),\n",
    "    StructField(\"timestamp\", TimestampType()),\n",
    "    StructField(\"accumulated_dead_time\", DecimalType(10, 3)),\n",
    "    StructField(\"identifier\", StringType()),\n",
    "    StructField(\"station\", IntegerType()),\n",
    "    StructField(\"station_instance\", IntegerType()),\n",
    "    StructField(\"subsystem_instance\", IntegerType()),\n",
    "    StructField(\"code\", StringType())\n",
    "])\n",
    "error_messages_accumulated = spark.read.csv(\n",
    "    data_file,\n",
    "    schema=input_schema,\n",
    "    header=True\n",
    ")\n",
    "print(f\"Number of rows in {data_file_name}: {error_messages_accumulated.count()}\\n\")\n",
    "error_messages_accumulated.printSchema()\n",
    "error_messages_accumulated.show(truncate=False)"
   ]
  },
  {
   "cell_type": "code",
   "execution_count": 18,
   "metadata": {},
   "outputs": [
    {
     "name": "stdout",
     "output_type": "stream",
     "text": [
      "+-------------------------+-------------------+---------------------+----------------------+-------+----------------+------------------+----+\n",
      "|machine_identifier       |timestamp          |accumulated_dead_time|identifier            |station|station_instance|subsystem_instance|code|\n",
      "+-------------------------+-------------------+---------------------+----------------------+-------+----------------+------------------+----+\n",
      "|innovative_cheese_machine|2022-05-03 10:00:00|345.806              |20.0.116.1.1181.0.1.0 |20     |0               |1                 |1181|\n",
      "|innovative_cheese_machine|2022-05-03 11:00:00|30.069               |93.0.0.0.2030.0.84.0  |93     |0               |0                 |2030|\n",
      "|innovative_cheese_machine|2022-05-03 11:00:00|35.693               |92.0.122.0.1019.0.1.0 |92     |0               |0                 |1019|\n",
      "|innovative_cheese_machine|2022-05-03 11:00:00|36.628               |93.0.122.0.1019.0.1.0 |93     |0               |0                 |1019|\n",
      "|innovative_cheese_machine|2022-05-03 12:00:00|44.998               |93.0.0.0.2030.0.84.0  |93     |0               |0                 |2030|\n",
      "|innovative_cheese_machine|2022-05-03 13:00:00|132.002              |2.0.107.0.1175.0.0.0  |2      |0               |0                 |1175|\n",
      "|innovative_cheese_machine|2022-05-03 14:00:00|30.068               |92.0.122.0.1019.0.1.0 |92     |0               |0                 |1019|\n",
      "|innovative_cheese_machine|2022-05-03 14:00:00|330.134              |1.0.130.1.1179.0.3.0  |1      |0               |1                 |1179|\n",
      "|innovative_cheese_machine|2022-05-03 16:00:00|61.394               |2.0.130.0.1010.0.0.0  |2      |0               |0                 |1010|\n",
      "|innovative_cheese_machine|2022-05-03 16:00:00|17.868               |92.0.122.0.1019.0.1.0 |92     |0               |0                 |1019|\n",
      "|innovative_cheese_machine|2022-05-03 16:00:00|35.544               |93.0.122.0.1019.0.1.0 |93     |0               |0                 |1019|\n",
      "|innovative_cheese_machine|2022-05-03 17:00:00|164.824              |2.0.130.0.1010.0.0.0  |2      |0               |0                 |1010|\n",
      "|innovative_cheese_machine|2022-05-03 20:00:00|159.094              |2.0.130.0.1010.0.0.0  |2      |0               |0                 |1010|\n",
      "|innovative_cheese_machine|2022-05-03 21:00:00|53.945               |2.0.130.0.1010.0.0.0  |2      |0               |0                 |1010|\n",
      "|innovative_cheese_machine|2022-05-04 00:00:00|17.080               |20.0.267.0.1562.0.0.0 |20     |0               |0                 |1562|\n",
      "|innovative_cheese_machine|2022-05-04 02:00:00|35.973               |1.0.130.1.1010.0.1.0  |1      |0               |1                 |1010|\n",
      "|innovative_cheese_machine|2022-05-04 03:00:00|66.572               |92.0.122.0.1019.0.1.0 |92     |0               |0                 |1019|\n",
      "|innovative_cheese_machine|2022-05-04 04:00:00|92.452               |92.0.122.0.1019.0.1.0 |92     |0               |0                 |1019|\n",
      "|innovative_cheese_machine|2022-05-04 05:00:00|22.224               |92.0.122.0.1019.0.1.0 |92     |0               |0                 |1019|\n",
      "|innovative_cheese_machine|2022-05-04 06:00:00|8.833                |20.0.625.0.2300.0.0.0 |20     |0               |0                 |2300|\n",
      "|innovative_cheese_machine|2022-05-04 07:00:00|124.981              |1.0.130.1.1010.0.1.0  |1      |0               |1                 |1010|\n",
      "|innovative_cheese_machine|2022-05-04 07:00:00|117.361              |2.0.107.0.1175.0.0.0  |2      |0               |0                 |1175|\n",
      "|innovative_cheese_machine|2022-05-04 07:00:00|120.716              |92.0.0.0.2030.0.82.0  |92     |0               |0                 |2030|\n",
      "|innovative_cheese_machine|2022-05-04 07:00:00|28.943               |92.0.122.0.1019.0.1.0 |92     |0               |0                 |1019|\n",
      "|innovative_cheese_machine|2022-05-04 08:00:00|30.068               |92.0.122.0.1019.0.1.0 |92     |0               |0                 |1019|\n",
      "|innovative_cheese_machine|2022-05-04 09:00:00|400.566              |319.0.757.0.1950.0.5.0|319    |0               |0                 |1950|\n",
      "|innovative_cheese_machine|2022-05-04 09:00:00|27.597               |92.0.122.0.1019.0.1.0 |92     |0               |0                 |1019|\n",
      "|innovative_cheese_machine|2022-05-04 10:00:00|9.780                |92.0.122.0.1019.0.1.0 |92     |0               |0                 |1019|\n",
      "|innovative_cheese_machine|2022-05-04 10:00:00|155.882              |2.0.130.0.1010.0.0.0  |2      |0               |0                 |1010|\n",
      "|innovative_cheese_machine|2022-05-04 10:00:00|34.529               |93.0.122.0.1019.0.1.0 |93     |0               |0                 |1019|\n",
      "|innovative_cheese_machine|2022-05-04 11:00:00|9.855                |20.0.625.0.2300.0.0.0 |20     |0               |0                 |2300|\n",
      "|innovative_cheese_machine|2022-05-04 11:00:00|13.180               |20.0.345.0.1562.0.0.0 |20     |0               |0                 |1562|\n",
      "|innovative_cheese_machine|2022-05-04 11:00:00|46.462               |92.0.122.0.1019.0.1.0 |92     |0               |0                 |1019|\n",
      "|innovative_cheese_machine|2022-05-04 12:00:00|44.357               |92.0.122.0.1019.0.1.0 |92     |0               |0                 |1019|\n",
      "|innovative_cheese_machine|2022-05-04 13:00:00|29.068               |92.0.122.0.1019.0.1.0 |92     |0               |0                 |1019|\n",
      "|innovative_cheese_machine|2022-05-04 14:00:00|203.450              |93.0.0.0.2030.0.84.0  |93     |0               |0                 |2030|\n",
      "|innovative_cheese_machine|2022-05-04 14:00:00|159.865              |319.0.757.0.1950.0.5.0|319    |0               |0                 |1950|\n",
      "|innovative_cheese_machine|2022-05-04 14:00:00|56.730               |93.0.122.0.1019.0.1.0 |93     |0               |0                 |1019|\n",
      "|innovative_cheese_machine|2022-05-04 15:00:00|30.069               |92.0.122.0.1019.0.1.0 |92     |0               |0                 |1019|\n",
      "|innovative_cheese_machine|2022-05-04 15:00:00|0.240                |93.0.122.0.1019.0.1.0 |93     |0               |0                 |1019|\n",
      "|innovative_cheese_machine|2022-05-04 16:00:00|31.984               |319.0.757.0.1950.0.5.0|319    |0               |0                 |1950|\n",
      "|innovative_cheese_machine|2022-05-04 16:00:00|249.432              |93.0.0.0.2030.0.84.0  |93     |0               |0                 |2030|\n",
      "|innovative_cheese_machine|2022-05-04 17:00:00|49.205               |92.0.122.0.1019.0.1.0 |92     |0               |0                 |1019|\n",
      "|innovative_cheese_machine|2022-05-04 20:00:00|32.921               |20.0.345.0.1562.0.0.0 |20     |0               |0                 |1562|\n",
      "|innovative_cheese_machine|2022-05-04 20:00:00|224.079              |2.0.130.0.1010.0.0.0  |2      |0               |0                 |1010|\n",
      "|innovative_cheese_machine|2022-05-04 22:00:00|135.198              |92.0.122.0.1019.0.1.0 |92     |0               |0                 |1019|\n",
      "|innovative_cheese_machine|2022-05-04 22:00:00|252.374              |91.0.122.0.1019.0.1.0 |91     |0               |0                 |1019|\n",
      "|innovative_cheese_machine|2022-05-04 23:00:00|38.216               |1.0.130.1.1010.0.1.0  |1      |0               |1                 |1010|\n",
      "|innovative_cheese_machine|2022-05-05 00:00:00|10.057               |92.0.122.0.1019.0.1.0 |92     |0               |0                 |1019|\n",
      "|innovative_cheese_machine|2022-05-05 01:00:00|282.587              |93.0.0.0.2030.0.84.0  |93     |0               |0                 |2030|\n",
      "|innovative_cheese_machine|2022-05-05 01:00:00|198.290              |92.0.122.0.1019.0.1.0 |92     |0               |0                 |1019|\n",
      "|innovative_cheese_machine|2022-05-05 04:00:00|32.765               |20.0.625.0.2300.0.0.0 |20     |0               |0                 |2300|\n",
      "|innovative_cheese_machine|2022-05-05 04:00:00|205.241              |2.0.130.0.1010.0.0.0  |2      |0               |0                 |1010|\n",
      "|innovative_cheese_machine|2022-05-05 04:00:00|46.378               |93.0.122.0.1019.0.1.0 |93     |0               |0                 |1019|\n",
      "|innovative_cheese_machine|2022-05-05 05:00:00|340.807              |1.0.130.1.1010.0.1.0  |1      |0               |1                 |1010|\n",
      "|innovative_cheese_machine|2022-05-05 06:00:00|40.177               |91.0.122.0.1019.0.1.0 |91     |0               |0                 |1019|\n",
      "|innovative_cheese_machine|2022-05-05 08:00:00|38.804               |319.0.757.0.1950.0.5.0|319    |0               |0                 |1950|\n",
      "|innovative_cheese_machine|2022-05-05 08:00:00|33.758               |93.0.122.0.1019.0.1.0 |93     |0               |0                 |1019|\n",
      "|innovative_cheese_machine|2022-05-05 09:00:00|318.259              |93.0.0.0.2030.0.84.0  |93     |0               |0                 |2030|\n",
      "|innovative_cheese_machine|2022-05-05 11:00:00|0.064                |318.1.768.0.2104.0.0.0|318    |1               |0                 |2104|\n",
      "|innovative_cheese_machine|2022-05-05 12:00:00|161.298              |93.0.0.0.2030.0.84.0  |93     |0               |0                 |2030|\n",
      "|innovative_cheese_machine|2022-05-05 13:00:00|10.325               |20.0.625.0.2300.0.0.0 |20     |0               |0                 |2300|\n",
      "|innovative_cheese_machine|2022-05-05 14:00:00|155.646              |41.1.926.2.1095.0.1.0 |41     |1               |2                 |1095|\n",
      "|innovative_cheese_machine|2022-05-05 15:00:00|182.148              |93.0.0.0.2030.0.84.0  |93     |0               |0                 |2030|\n",
      "|innovative_cheese_machine|2022-05-05 15:00:00|27.836               |319.0.757.0.1950.0.5.0|319    |0               |0                 |1950|\n",
      "|innovative_cheese_machine|2022-05-05 15:00:00|839.265              |41.1.926.2.1095.0.1.0 |41     |1               |2                 |1095|\n",
      "|innovative_cheese_machine|2022-05-05 17:00:00|258.011              |2.0.130.0.1010.0.0.0  |2      |0               |0                 |1010|\n",
      "|innovative_cheese_machine|2022-05-05 19:00:00|72.053               |93.0.0.0.2030.0.84.0  |93     |0               |0                 |2030|\n",
      "|innovative_cheese_machine|2022-05-05 20:00:00|36.024               |92.0.122.0.1019.0.1.0 |92     |0               |0                 |1019|\n",
      "|innovative_cheese_machine|2022-05-05 21:00:00|47.504               |92.0.122.0.1019.0.1.0 |92     |0               |0                 |1019|\n",
      "|innovative_cheese_machine|2022-05-05 21:00:00|90.348               |93.0.0.0.2030.0.84.0  |93     |0               |0                 |2030|\n",
      "|innovative_cheese_machine|2022-05-05 21:00:00|230.930              |2.0.130.0.1010.0.0.0  |2      |0               |0                 |1010|\n",
      "|innovative_cheese_machine|2022-05-05 23:00:00|30.448               |318.2.266.0.1331.2.1.0|318    |2               |0                 |1331|\n",
      "|innovative_cheese_machine|2022-05-05 23:00:00|17.084               |20.0.625.0.2300.0.0.0 |20     |0               |0                 |2300|\n",
      "|innovative_cheese_machine|2022-05-06 00:00:00|49.541               |1.0.130.1.1179.0.3.0  |1      |0               |1                 |1179|\n",
      "|innovative_cheese_machine|2022-05-06 06:00:00|69.449               |93.0.0.0.1999.0.2.0   |93     |0               |0                 |1999|\n",
      "|innovative_cheese_machine|2022-05-06 08:00:00|10.044               |20.0.625.0.2300.0.0.0 |20     |0               |0                 |2300|\n",
      "|innovative_cheese_machine|2022-05-06 11:00:00|24.822               |92.0.122.0.1019.0.1.0 |92     |0               |0                 |1019|\n",
      "|innovative_cheese_machine|2022-05-06 11:00:00|140.210              |2.0.130.0.1010.0.0.0  |2      |0               |0                 |1010|\n",
      "|innovative_cheese_machine|2022-05-06 12:00:00|10.749               |92.0.122.0.1019.0.1.0 |92     |0               |0                 |1019|\n",
      "|innovative_cheese_machine|2022-05-06 13:00:00|93.069               |93.0.0.0.2030.0.84.0  |93     |0               |0                 |2030|\n",
      "|innovative_cheese_machine|2022-05-06 13:00:00|10.547               |92.0.122.0.1019.0.1.0 |92     |0               |0                 |1019|\n",
      "|innovative_cheese_machine|2022-05-06 14:00:00|30.222               |20.0.625.0.2300.0.0.0 |20     |0               |0                 |2300|\n",
      "|innovative_cheese_machine|2022-05-06 14:00:00|126.517              |92.0.122.0.1019.0.1.0 |92     |0               |0                 |1019|\n",
      "|innovative_cheese_machine|2022-05-06 15:00:00|324.422              |1.0.130.1.1010.0.1.0  |1      |0               |1                 |1010|\n",
      "|innovative_cheese_machine|2022-05-06 15:00:00|310.269              |93.0.0.0.2030.0.84.0  |93     |0               |0                 |2030|\n",
      "|innovative_cheese_machine|2022-05-06 17:00:00|102.133              |20.0.625.0.2300.0.0.0 |20     |0               |0                 |2300|\n",
      "|innovative_cheese_machine|2022-05-06 17:00:00|104.185              |93.0.0.0.2030.0.84.0  |93     |0               |0                 |2030|\n",
      "|innovative_cheese_machine|2022-05-06 17:00:00|50.530               |318.1.266.0.1331.4.1.0|318    |1               |0                 |1331|\n",
      "|innovative_cheese_machine|2022-05-06 18:00:00|26.800               |318.1.266.0.1331.4.1.0|318    |1               |0                 |1331|\n",
      "|innovative_cheese_machine|2022-05-06 18:00:00|391.077              |20.0.625.0.2300.0.0.0 |20     |0               |0                 |2300|\n",
      "|innovative_cheese_machine|2022-05-06 19:00:00|3263.270             |20.0.625.0.2300.0.0.0 |20     |0               |0                 |2300|\n",
      "|innovative_cheese_machine|2022-05-06 20:00:00|2416.158             |20.0.625.0.2300.0.0.0 |20     |0               |0                 |2300|\n",
      "|innovative_cheese_machine|2022-05-06 21:00:00|450.874              |20.0.625.0.2300.0.0.0 |20     |0               |0                 |2300|\n",
      "|innovative_cheese_machine|2022-05-07 03:00:00|131.702              |319.0.757.0.1950.0.5.0|319    |0               |0                 |1950|\n",
      "|innovative_cheese_machine|2022-05-07 03:00:00|66.080               |92.0.0.0.2030.0.82.0  |92     |0               |0                 |2030|\n",
      "|innovative_cheese_machine|2022-05-07 03:00:00|42.823               |14.0.0.0.1427.0.1.0   |14     |0               |0                 |1427|\n",
      "|innovative_cheese_machine|2022-05-07 03:00:00|0.016                |3.0.0.0.1168.0.0.0    |3      |0               |0                 |1168|\n",
      "|innovative_cheese_machine|2022-05-07 03:00:00|0.064                |318.1.768.0.2104.0.0.0|318    |1               |0                 |2104|\n",
      "|innovative_cheese_machine|2022-05-08 12:00:00|27.093               |319.0.757.0.1950.0.5.0|319    |0               |0                 |1950|\n",
      "+-------------------------+-------------------+---------------------+----------------------+-------+----------------+------------------+----+\n",
      "only showing top 100 rows\n",
      "\n"
     ]
    }
   ],
   "source": [
    "# chronologically order by timestamp (from oldest to recent)\n",
    "error_messages_accumulated_chrono = error_messages_accumulated.orderBy(\"timestamp\")\n",
    "error_messages_accumulated_chrono.show(100, truncate=False)"
   ]
  },
  {
   "cell_type": "code",
   "execution_count": 19,
   "metadata": {},
   "outputs": [
    {
     "name": "stdout",
     "output_type": "stream",
     "text": [
      "Number of rows in error_messages_timeline.csv: 1593\n",
      "\n",
      "root\n",
      " |-- machine_identifier: string (nullable = true)\n",
      " |-- start_ts: timestamp (nullable = true)\n",
      " |-- end_ts: timestamp (nullable = true)\n",
      " |-- duration_in_s: decimal(10,3) (nullable = true)\n",
      " |-- identifier: string (nullable = true)\n",
      " |-- station: integer (nullable = true)\n",
      " |-- station_instance: integer (nullable = true)\n",
      " |-- subsystem_instance: integer (nullable = true)\n",
      " |-- code: string (nullable = true)\n",
      "\n",
      "+-------------------------+-----------------------+-----------------------+-------------+---------------------+-------+----------------+------------------+----+\n",
      "|machine_identifier       |start_ts               |end_ts                 |duration_in_s|identifier           |station|station_instance|subsystem_instance|code|\n",
      "+-------------------------+-----------------------+-----------------------+-------------+---------------------+-------+----------------+------------------+----+\n",
      "|innovative_cheese_machine|2022-05-03 10:04:47.337|2022-05-03 10:06:19.613|92.276       |20.0.116.1.1181.0.1.0|20     |0               |1                 |1181|\n",
      "|innovative_cheese_machine|2022-05-03 10:06:19.637|2022-05-03 10:06:32.73 |13.093       |20.0.116.1.1181.0.1.0|20     |0               |1                 |1181|\n",
      "|innovative_cheese_machine|2022-05-03 10:06:32.97 |2022-05-03 10:06:44.346|11.376       |20.0.116.1.1181.0.1.0|20     |0               |1                 |1181|\n",
      "|innovative_cheese_machine|2022-05-03 10:06:44.37 |2022-05-03 10:06:58.125|13.755       |20.0.116.1.1181.0.1.0|20     |0               |1                 |1181|\n",
      "|innovative_cheese_machine|2022-05-03 10:06:58.149|2022-05-03 10:09:54.155|176.006      |20.0.116.1.1181.0.1.0|20     |0               |1                 |1181|\n",
      "|innovative_cheese_machine|2022-05-03 10:09:54.179|2022-05-03 10:10:33.479|39.300       |20.0.116.1.1181.0.1.0|20     |0               |1                 |1181|\n",
      "|innovative_cheese_machine|2022-05-03 11:28:57.72 |2022-05-03 11:29:27.789|30.069       |93.0.0.0.2030.0.84.0 |93     |0               |0                 |2030|\n",
      "|innovative_cheese_machine|2022-05-03 11:30:41.533|2022-05-03 11:31:18.161|36.628       |93.0.122.0.1019.0.1.0|93     |0               |0                 |1019|\n",
      "|innovative_cheese_machine|2022-05-03 11:50:45.69 |2022-05-03 11:51:21.383|35.693       |92.0.122.0.1019.0.1.0|92     |0               |0                 |1019|\n",
      "|innovative_cheese_machine|2022-05-03 12:18:49.985|2022-05-03 12:19:34.983|44.998       |93.0.0.0.2030.0.84.0 |93     |0               |0                 |2030|\n",
      "|innovative_cheese_machine|2022-05-03 13:57:09.519|2022-05-03 13:59:21.521|132.002      |2.0.107.0.1175.0.0.0 |2      |0               |0                 |1175|\n",
      "|innovative_cheese_machine|2022-05-03 14:00:05.349|2022-05-03 14:00:35.417|30.068       |92.0.122.0.1019.0.1.0|92     |0               |0                 |1019|\n",
      "|innovative_cheese_machine|2022-05-03 14:09:09.298|2022-05-03 14:14:39.432|330.134      |1.0.130.1.1179.0.3.0 |1      |0               |1                 |1179|\n",
      "|innovative_cheese_machine|2022-05-03 16:52:34.954|2022-05-03 16:52:52.822|17.868       |92.0.122.0.1019.0.1.0|92     |0               |0                 |1019|\n",
      "|innovative_cheese_machine|2022-05-03 16:55:06.732|2022-05-03 16:55:42.276|35.544       |93.0.122.0.1019.0.1.0|93     |0               |0                 |1019|\n",
      "|innovative_cheese_machine|2022-05-03 16:58:58.606|2022-05-03 17:02:44.824|226.218      |2.0.130.0.1010.0.0.0 |2      |0               |0                 |1010|\n",
      "|innovative_cheese_machine|2022-05-03 20:57:20.906|2022-05-03 21:00:53.945|213.039      |2.0.130.0.1010.0.0.0 |2      |0               |0                 |1010|\n",
      "|innovative_cheese_machine|2022-05-04 00:02:52.7  |2022-05-04 00:03:09.78 |17.080       |20.0.267.0.1562.0.0.0|20     |0               |0                 |1562|\n",
      "|innovative_cheese_machine|2022-05-04 02:24:00.885|2022-05-04 02:24:36.858|35.973       |1.0.130.1.1010.0.1.0 |1      |0               |1                 |1010|\n",
      "|innovative_cheese_machine|2022-05-04 03:12:56.578|2022-05-04 03:13:07.654|11.076       |92.0.122.0.1019.0.1.0|92     |0               |0                 |1019|\n",
      "+-------------------------+-----------------------+-----------------------+-------------+---------------------+-------+----------------+------------------+----+\n",
      "only showing top 20 rows\n",
      "\n"
     ]
    }
   ],
   "source": [
    "data_file_name = r\"error_messages_timeline.csv\"\n",
    "data_file = os.path.join(data_file_path, data_file_name)\n",
    "\n",
    "input_schema = StructType([\n",
    "    StructField(\"machine_identifier\", StringType()),\n",
    "    StructField(\"start_ts\", TimestampType()),\n",
    "    StructField(\"end_ts\", TimestampType()),\n",
    "    StructField(\"duration_in_s\", DecimalType(10, 3)),\n",
    "    StructField(\"identifier\", StringType()),\n",
    "    StructField(\"station\", IntegerType()),\n",
    "    StructField(\"station_instance\", IntegerType()),\n",
    "    StructField(\"subsystem_instance\", IntegerType()),\n",
    "    StructField(\"code\", StringType())\n",
    "])\n",
    "error_messages_timeline = spark.read.csv(\n",
    "    data_file,\n",
    "    schema=input_schema,\n",
    "    header=True\n",
    ")\n",
    "print(f\"Number of rows in {data_file_name}: {error_messages_timeline.count()}\\n\")\n",
    "error_messages_timeline.printSchema()\n",
    "error_messages_timeline.show(truncate=False)"
   ]
  },
  {
   "cell_type": "code",
   "execution_count": 20,
   "metadata": {},
   "outputs": [
    {
     "name": "stdout",
     "output_type": "stream",
     "text": [
      "+-------------------------+-----------------------+-----------------------+-------------+----------------------+-------+----------------+------------------+----+\n",
      "|machine_identifier       |start_ts               |end_ts                 |duration_in_s|identifier            |station|station_instance|subsystem_instance|code|\n",
      "+-------------------------+-----------------------+-----------------------+-------------+----------------------+-------+----------------+------------------+----+\n",
      "|innovative_cheese_machine|2022-05-03 10:04:47.337|2022-05-03 10:06:19.613|92.276       |20.0.116.1.1181.0.1.0 |20     |0               |1                 |1181|\n",
      "|innovative_cheese_machine|2022-05-03 10:06:19.637|2022-05-03 10:06:32.73 |13.093       |20.0.116.1.1181.0.1.0 |20     |0               |1                 |1181|\n",
      "|innovative_cheese_machine|2022-05-03 10:06:32.97 |2022-05-03 10:06:44.346|11.376       |20.0.116.1.1181.0.1.0 |20     |0               |1                 |1181|\n",
      "|innovative_cheese_machine|2022-05-03 10:06:44.37 |2022-05-03 10:06:58.125|13.755       |20.0.116.1.1181.0.1.0 |20     |0               |1                 |1181|\n",
      "|innovative_cheese_machine|2022-05-03 10:06:58.149|2022-05-03 10:09:54.155|176.006      |20.0.116.1.1181.0.1.0 |20     |0               |1                 |1181|\n",
      "|innovative_cheese_machine|2022-05-03 10:09:54.179|2022-05-03 10:10:33.479|39.300       |20.0.116.1.1181.0.1.0 |20     |0               |1                 |1181|\n",
      "|innovative_cheese_machine|2022-05-03 11:28:57.72 |2022-05-03 11:29:27.789|30.069       |93.0.0.0.2030.0.84.0  |93     |0               |0                 |2030|\n",
      "|innovative_cheese_machine|2022-05-03 11:30:41.533|2022-05-03 11:31:18.161|36.628       |93.0.122.0.1019.0.1.0 |93     |0               |0                 |1019|\n",
      "|innovative_cheese_machine|2022-05-03 11:50:45.69 |2022-05-03 11:51:21.383|35.693       |92.0.122.0.1019.0.1.0 |92     |0               |0                 |1019|\n",
      "|innovative_cheese_machine|2022-05-03 12:18:49.985|2022-05-03 12:19:34.983|44.998       |93.0.0.0.2030.0.84.0  |93     |0               |0                 |2030|\n",
      "|innovative_cheese_machine|2022-05-03 13:57:09.519|2022-05-03 13:59:21.521|132.002      |2.0.107.0.1175.0.0.0  |2      |0               |0                 |1175|\n",
      "|innovative_cheese_machine|2022-05-03 14:00:05.349|2022-05-03 14:00:35.417|30.068       |92.0.122.0.1019.0.1.0 |92     |0               |0                 |1019|\n",
      "|innovative_cheese_machine|2022-05-03 14:09:09.298|2022-05-03 14:14:39.432|330.134      |1.0.130.1.1179.0.3.0  |1      |0               |1                 |1179|\n",
      "|innovative_cheese_machine|2022-05-03 16:52:34.954|2022-05-03 16:52:52.822|17.868       |92.0.122.0.1019.0.1.0 |92     |0               |0                 |1019|\n",
      "|innovative_cheese_machine|2022-05-03 16:55:06.732|2022-05-03 16:55:42.276|35.544       |93.0.122.0.1019.0.1.0 |93     |0               |0                 |1019|\n",
      "|innovative_cheese_machine|2022-05-03 16:58:58.606|2022-05-03 17:02:44.824|226.218      |2.0.130.0.1010.0.0.0  |2      |0               |0                 |1010|\n",
      "|innovative_cheese_machine|2022-05-03 20:57:20.906|2022-05-03 21:00:53.945|213.039      |2.0.130.0.1010.0.0.0  |2      |0               |0                 |1010|\n",
      "|innovative_cheese_machine|2022-05-04 00:02:52.7  |2022-05-04 00:03:09.78 |17.080       |20.0.267.0.1562.0.0.0 |20     |0               |0                 |1562|\n",
      "|innovative_cheese_machine|2022-05-04 02:24:00.885|2022-05-04 02:24:36.858|35.973       |1.0.130.1.1010.0.1.0  |1      |0               |1                 |1010|\n",
      "|innovative_cheese_machine|2022-05-04 03:12:56.578|2022-05-04 03:13:07.654|11.076       |92.0.122.0.1019.0.1.0 |92     |0               |0                 |1019|\n",
      "|innovative_cheese_machine|2022-05-04 03:45:56.452|2022-05-04 03:46:51.948|55.496       |92.0.122.0.1019.0.1.0 |92     |0               |0                 |1019|\n",
      "|innovative_cheese_machine|2022-05-04 04:21:49.987|2022-05-04 04:23:10.763|80.776       |92.0.122.0.1019.0.1.0 |92     |0               |0                 |1019|\n",
      "|innovative_cheese_machine|2022-05-04 04:50:16.266|2022-05-04 04:50:27.942|11.676       |92.0.122.0.1019.0.1.0 |92     |0               |0                 |1019|\n",
      "|innovative_cheese_machine|2022-05-04 05:46:50.172|2022-05-04 05:47:00.275|10.103       |92.0.122.0.1019.0.1.0 |92     |0               |0                 |1019|\n",
      "|innovative_cheese_machine|2022-05-04 05:52:06.479|2022-05-04 05:52:18.6  |12.121       |92.0.122.0.1019.0.1.0 |92     |0               |0                 |1019|\n",
      "|innovative_cheese_machine|2022-05-04 06:44:42.76 |2022-05-04 06:44:51.593|8.833        |20.0.625.0.2300.0.0.0 |20     |0               |0                 |2300|\n",
      "|innovative_cheese_machine|2022-05-04 07:02:09.327|2022-05-04 07:04:06.688|117.361      |2.0.107.0.1175.0.0.0  |2      |0               |0                 |1175|\n",
      "|innovative_cheese_machine|2022-05-04 07:13:52.557|2022-05-04 07:14:10.713|18.156       |92.0.122.0.1019.0.1.0 |92     |0               |0                 |1019|\n",
      "|innovative_cheese_machine|2022-05-04 07:32:20.905|2022-05-04 07:34:25.886|124.981      |1.0.130.1.1010.0.1.0  |1      |0               |1                 |1010|\n",
      "|innovative_cheese_machine|2022-05-04 07:37:33.104|2022-05-04 07:37:43.891|10.787       |92.0.122.0.1019.0.1.0 |92     |0               |0                 |1019|\n",
      "|innovative_cheese_machine|2022-05-04 07:38:26.14 |2022-05-04 07:40:26.856|120.716      |92.0.0.0.2030.0.82.0  |92     |0               |0                 |2030|\n",
      "|innovative_cheese_machine|2022-05-04 08:37:13.773|2022-05-04 08:37:43.841|30.068       |92.0.122.0.1019.0.1.0 |92     |0               |0                 |1019|\n",
      "|innovative_cheese_machine|2022-05-04 09:21:51.507|2022-05-04 09:22:06.928|15.421       |92.0.122.0.1019.0.1.0 |92     |0               |0                 |1019|\n",
      "|innovative_cheese_machine|2022-05-04 09:24:47.714|2022-05-04 09:24:59.89 |12.176       |92.0.122.0.1019.0.1.0 |92     |0               |0                 |1019|\n",
      "|innovative_cheese_machine|2022-05-04 09:33:48.98 |2022-05-04 09:40:29.546|400.566      |319.0.757.0.1950.0.5.0|319    |0               |0                 |1950|\n",
      "|innovative_cheese_machine|2022-05-04 10:00:59.621|2022-05-04 10:01:09.401|9.780        |92.0.122.0.1019.0.1.0 |92     |0               |0                 |1019|\n",
      "|innovative_cheese_machine|2022-05-04 10:03:05.814|2022-05-04 10:03:40.343|34.529       |93.0.122.0.1019.0.1.0 |93     |0               |0                 |1019|\n",
      "|innovative_cheese_machine|2022-05-04 10:55:42.541|2022-05-04 10:58:18.423|155.882      |2.0.130.0.1010.0.0.0  |2      |0               |0                 |1010|\n",
      "|innovative_cheese_machine|2022-05-04 11:10:23.3  |2022-05-04 11:10:39.694|16.394       |92.0.122.0.1019.0.1.0 |92     |0               |0                 |1019|\n",
      "|innovative_cheese_machine|2022-05-04 11:29:19.265|2022-05-04 11:29:29.12 |9.855        |20.0.625.0.2300.0.0.0 |20     |0               |0                 |2300|\n",
      "|innovative_cheese_machine|2022-05-04 11:44:58.21 |2022-05-04 11:45:28.278|30.068       |92.0.122.0.1019.0.1.0 |92     |0               |0                 |1019|\n",
      "|innovative_cheese_machine|2022-05-04 11:59:16.706|2022-05-04 11:59:29.886|13.180       |20.0.345.0.1562.0.0.0 |20     |0               |0                 |1562|\n",
      "|innovative_cheese_machine|2022-05-04 12:49:16.79 |2022-05-04 12:49:46.859|30.069       |92.0.122.0.1019.0.1.0 |92     |0               |0                 |1019|\n",
      "|innovative_cheese_machine|2022-05-04 12:56:08.511|2022-05-04 12:56:22.799|14.288       |92.0.122.0.1019.0.1.0 |92     |0               |0                 |1019|\n",
      "|innovative_cheese_machine|2022-05-04 13:03:54.787|2022-05-04 13:04:23.855|29.068       |92.0.122.0.1019.0.1.0 |92     |0               |0                 |1019|\n",
      "|innovative_cheese_machine|2022-05-04 14:10:03.763|2022-05-04 14:13:27.213|203.450      |93.0.0.0.2030.0.84.0  |93     |0               |0                 |2030|\n",
      "|innovative_cheese_machine|2022-05-04 14:25:42.788|2022-05-04 14:28:22.653|159.865      |319.0.757.0.1950.0.5.0|319    |0               |0                 |1950|\n",
      "|innovative_cheese_machine|2022-05-04 14:49:34.45 |2022-05-04 14:50:31.18 |56.730       |93.0.122.0.1019.0.1.0 |93     |0               |0                 |1019|\n",
      "|innovative_cheese_machine|2022-05-04 15:13:08.455|2022-05-04 15:13:38.524|30.069       |92.0.122.0.1019.0.1.0 |92     |0               |0                 |1019|\n",
      "|innovative_cheese_machine|2022-05-04 15:57:53.38 |2022-05-04 15:57:53.62 |0.240        |93.0.122.0.1019.0.1.0 |93     |0               |0                 |1019|\n",
      "|innovative_cheese_machine|2022-05-04 16:02:48.484|2022-05-04 16:05:46.636|178.152      |93.0.0.0.2030.0.84.0  |93     |0               |0                 |2030|\n",
      "|innovative_cheese_machine|2022-05-04 16:51:23.6  |2022-05-04 16:51:55.584|31.984       |319.0.757.0.1950.0.5.0|319    |0               |0                 |1950|\n",
      "|innovative_cheese_machine|2022-05-04 16:52:25.705|2022-05-04 16:53:36.985|71.280       |93.0.0.0.2030.0.84.0  |93     |0               |0                 |2030|\n",
      "|innovative_cheese_machine|2022-05-04 17:19:03.5  |2022-05-04 17:19:36.378|32.878       |92.0.122.0.1019.0.1.0 |92     |0               |0                 |1019|\n",
      "|innovative_cheese_machine|2022-05-04 17:39:18.341|2022-05-04 17:39:34.668|16.327       |92.0.122.0.1019.0.1.0 |92     |0               |0                 |1019|\n",
      "|innovative_cheese_machine|2022-05-04 20:29:23.5  |2022-05-04 20:33:07.579|224.079      |2.0.130.0.1010.0.0.0  |2      |0               |0                 |1010|\n",
      "|innovative_cheese_machine|2022-05-04 20:58:21.645|2022-05-04 20:58:54.566|32.921       |20.0.345.0.1562.0.0.0 |20     |0               |0                 |1562|\n",
      "|innovative_cheese_machine|2022-05-04 22:17:17.47 |2022-05-04 22:19:32.668|135.198      |92.0.122.0.1019.0.1.0 |92     |0               |0                 |1019|\n",
      "|innovative_cheese_machine|2022-05-04 22:55:27.893|2022-05-04 22:59:40.267|252.374      |91.0.122.0.1019.0.1.0 |91     |0               |0                 |1019|\n",
      "|innovative_cheese_machine|2022-05-04 23:10:54.782|2022-05-04 23:11:32.998|38.216       |1.0.130.1.1010.0.1.0  |1      |0               |1                 |1010|\n",
      "|innovative_cheese_machine|2022-05-05 00:17:48.451|2022-05-05 00:17:58.508|10.057       |92.0.122.0.1019.0.1.0 |92     |0               |0                 |1019|\n",
      "|innovative_cheese_machine|2022-05-05 01:06:54.872|2022-05-05 01:10:13.162|198.290      |92.0.122.0.1019.0.1.0 |92     |0               |0                 |1019|\n",
      "|innovative_cheese_machine|2022-05-05 01:12:41.515|2022-05-05 01:17:24.102|282.587      |93.0.0.0.2030.0.84.0  |93     |0               |0                 |2030|\n",
      "|innovative_cheese_machine|2022-05-05 04:21:46.727|2022-05-05 04:25:11.968|205.241      |2.0.130.0.1010.0.0.0  |2      |0               |0                 |1010|\n",
      "|innovative_cheese_machine|2022-05-05 04:25:59.593|2022-05-05 04:26:32.358|32.765       |20.0.625.0.2300.0.0.0 |20     |0               |0                 |2300|\n",
      "|innovative_cheese_machine|2022-05-05 04:35:30.242|2022-05-05 04:36:16.62 |46.378       |93.0.122.0.1019.0.1.0 |93     |0               |0                 |1019|\n",
      "|innovative_cheese_machine|2022-05-05 05:41:42.38 |2022-05-05 05:47:23.187|340.807      |1.0.130.1.1010.0.1.0  |1      |0               |1                 |1010|\n",
      "|innovative_cheese_machine|2022-05-05 06:27:40.613|2022-05-05 06:28:20.79 |40.177       |91.0.122.0.1019.0.1.0 |91     |0               |0                 |1019|\n",
      "|innovative_cheese_machine|2022-05-05 08:05:56.738|2022-05-05 08:06:35.542|38.804       |319.0.757.0.1950.0.5.0|319    |0               |0                 |1950|\n",
      "|innovative_cheese_machine|2022-05-05 08:21:05.78 |2022-05-05 08:21:39.538|33.758       |93.0.122.0.1019.0.1.0 |93     |0               |0                 |1019|\n",
      "|innovative_cheese_machine|2022-05-05 09:08:31.103|2022-05-05 09:10:04.66 |93.557       |93.0.0.0.2030.0.84.0  |93     |0               |0                 |2030|\n",
      "|innovative_cheese_machine|2022-05-05 09:50:41.407|2022-05-05 09:54:26.109|224.702      |93.0.0.0.2030.0.84.0  |93     |0               |0                 |2030|\n",
      "|innovative_cheese_machine|2022-05-05 11:28:34.534|2022-05-05 11:28:34.598|0.064        |318.1.768.0.2104.0.0.0|318    |1               |0                 |2104|\n",
      "|innovative_cheese_machine|2022-05-05 12:01:15.976|2022-05-05 12:03:57.274|161.298      |93.0.0.0.2030.0.84.0  |93     |0               |0                 |2030|\n",
      "|innovative_cheese_machine|2022-05-05 13:51:24.163|2022-05-05 13:51:34.488|10.325       |20.0.625.0.2300.0.0.0 |20     |0               |0                 |2300|\n",
      "|innovative_cheese_machine|2022-05-05 14:57:24.354|2022-05-05 15:13:59.265|994.911      |41.1.926.2.1095.0.1.0 |41     |1               |2                 |1095|\n",
      "|innovative_cheese_machine|2022-05-05 15:13:59.305|2022-05-05 15:14:17.517|18.212       |319.0.757.0.1950.0.5.0|319    |0               |0                 |1950|\n",
      "|innovative_cheese_machine|2022-05-05 15:14:17.557|2022-05-05 15:14:27.181|9.624        |319.0.757.0.1950.0.5.0|319    |0               |0                 |1950|\n",
      "|innovative_cheese_machine|2022-05-05 15:20:57.49 |2022-05-05 15:23:59.638|182.148      |93.0.0.0.2030.0.84.0  |93     |0               |0                 |2030|\n",
      "|innovative_cheese_machine|2022-05-05 17:48:03.768|2022-05-05 17:52:21.779|258.011      |2.0.130.0.1010.0.0.0  |2      |0               |0                 |1010|\n",
      "|innovative_cheese_machine|2022-05-05 19:44:06.884|2022-05-05 19:45:18.937|72.053       |93.0.0.0.2030.0.84.0  |93     |0               |0                 |2030|\n",
      "|innovative_cheese_machine|2022-05-05 20:57:54.186|2022-05-05 20:58:30.21 |36.024       |92.0.122.0.1019.0.1.0 |92     |0               |0                 |1019|\n",
      "|innovative_cheese_machine|2022-05-05 21:31:11.17 |2022-05-05 21:35:02.1  |230.930      |2.0.130.0.1010.0.0.0  |2      |0               |0                 |1010|\n",
      "|innovative_cheese_machine|2022-05-05 21:41:25.862|2022-05-05 21:42:56.21 |90.348       |93.0.0.0.2030.0.84.0  |93     |0               |0                 |2030|\n",
      "|innovative_cheese_machine|2022-05-05 21:45:18.656|2022-05-05 21:46:06.16 |47.504       |92.0.122.0.1019.0.1.0 |92     |0               |0                 |1019|\n",
      "|innovative_cheese_machine|2022-05-05 23:14:06.814|2022-05-05 23:14:23.898|17.084       |20.0.625.0.2300.0.0.0 |20     |0               |0                 |2300|\n",
      "|innovative_cheese_machine|2022-05-05 23:52:32.552|2022-05-05 23:53:03    |30.448       |318.2.266.0.1331.2.1.0|318    |2               |0                 |1331|\n",
      "|innovative_cheese_machine|2022-05-06 00:52:45.159|2022-05-06 00:53:34.7  |49.541       |1.0.130.1.1179.0.3.0  |1      |0               |1                 |1179|\n",
      "|innovative_cheese_machine|2022-05-06 06:44:19.26 |2022-05-06 06:45:28.709|69.449       |93.0.0.0.1999.0.2.0   |93     |0               |0                 |1999|\n",
      "|innovative_cheese_machine|2022-05-06 08:07:40.908|2022-05-06 08:07:50.952|10.044       |20.0.625.0.2300.0.0.0 |20     |0               |0                 |2300|\n",
      "|innovative_cheese_machine|2022-05-06 11:32:27.465|2022-05-06 11:34:47.675|140.210      |2.0.130.0.1010.0.0.0  |2      |0               |0                 |1010|\n",
      "|innovative_cheese_machine|2022-05-06 11:50:02.655|2022-05-06 11:50:17.23 |14.575       |92.0.122.0.1019.0.1.0 |92     |0               |0                 |1019|\n",
      "|innovative_cheese_machine|2022-05-06 11:58:12.596|2022-05-06 11:58:22.843|10.247       |92.0.122.0.1019.0.1.0 |92     |0               |0                 |1019|\n",
      "|innovative_cheese_machine|2022-05-06 12:17:50.126|2022-05-06 12:18:00.875|10.749       |92.0.122.0.1019.0.1.0 |92     |0               |0                 |1019|\n",
      "|innovative_cheese_machine|2022-05-06 13:04:56.432|2022-05-06 13:05:06.979|10.547       |92.0.122.0.1019.0.1.0 |92     |0               |0                 |1019|\n",
      "|innovative_cheese_machine|2022-05-06 13:51:03.824|2022-05-06 13:52:36.893|93.069       |93.0.0.0.2030.0.84.0  |93     |0               |0                 |2030|\n",
      "|innovative_cheese_machine|2022-05-06 14:32:57.62 |2022-05-06 14:33:27.842|30.222       |20.0.625.0.2300.0.0.0 |20     |0               |0                 |2300|\n",
      "|innovative_cheese_machine|2022-05-06 14:50:24.156|2022-05-06 14:52:30.673|126.517      |92.0.122.0.1019.0.1.0 |92     |0               |0                 |1019|\n",
      "|innovative_cheese_machine|2022-05-06 15:08:17.417|2022-05-06 15:10:23.222|125.805      |93.0.0.0.2030.0.84.0  |93     |0               |0                 |2030|\n",
      "|innovative_cheese_machine|2022-05-06 15:26:58.706|2022-05-06 15:28:28.488|89.782       |93.0.0.0.2030.0.84.0  |93     |0               |0                 |2030|\n",
      "+-------------------------+-----------------------+-----------------------+-------------+----------------------+-------+----------------+------------------+----+\n",
      "only showing top 100 rows\n",
      "\n"
     ]
    }
   ],
   "source": [
    "# chronologically order by timestamp (from oldest to recent)\n",
    "error_messages_timeline_chrono = error_messages_timeline.orderBy(\"start_ts\")\n",
    "error_messages_timeline_chrono.show(100, truncate=False)"
   ]
  },
  {
   "cell_type": "code",
   "execution_count": 21,
   "metadata": {},
   "outputs": [
    {
     "name": "stdout",
     "output_type": "stream",
     "text": [
      "Stillstände insgesamt 1593, davon durch unterbrochene Lichtschranken verursacht 275 (prozentual: 17.26%)\n"
     ]
    }
   ],
   "source": [
    "# count shutdowns total and shutdowns caused by light barriers\n",
    "shutdowns_total = error_messages_timeline.count()\n",
    "shutdowns_light_barrier = error_messages_timeline.filter(col('code') == '1019').count()\n",
    "print(\n",
    "    f\"Stillstände insgesamt {shutdowns_total},\",\n",
    "    f\"davon durch unterbrochene Lichtschranken verursacht {shutdowns_light_barrier}\",\n",
    "    f\"(prozentual: {shutdowns_light_barrier/shutdowns_total*100:.2f}%)\"\n",
    ")"
   ]
  },
  {
   "cell_type": "code",
   "execution_count": 22,
   "metadata": {},
   "outputs": [
    {
     "name": "stdout",
     "output_type": "stream",
     "text": [
      "Stillstände je FehlerID (code):\n",
      "+----+---------------+--------------------+\n",
      "|code|count_shutdowns|percentage_shutdowns|\n",
      "+----+---------------+--------------------+\n",
      "|1001|29             |1.82                |\n",
      "|1005|8              |0.50                |\n",
      "|1006|1              |0.06                |\n",
      "|1010|155            |9.73                |\n",
      "|1013|3              |0.19                |\n",
      "|1019|275            |17.26               |\n",
      "|1024|2              |0.13                |\n",
      "|1036|9              |0.56                |\n",
      "|1082|7              |0.44                |\n",
      "|1095|23             |1.44                |\n",
      "|1130|1              |0.06                |\n",
      "|1131|1              |0.06                |\n",
      "|1152|11             |0.69                |\n",
      "|1168|72             |4.52                |\n",
      "|1171|19             |1.19                |\n",
      "|1175|53             |3.33                |\n",
      "|1176|1              |0.06                |\n",
      "|1177|2              |0.13                |\n",
      "|1178|17             |1.07                |\n",
      "|1179|15             |0.94                |\n",
      "|1181|15             |0.94                |\n",
      "|1271|12             |0.75                |\n",
      "|1273|23             |1.44                |\n",
      "|1331|79             |4.96                |\n",
      "|1427|38             |2.39                |\n",
      "|1498|36             |2.26                |\n",
      "|1562|106            |6.65                |\n",
      "|1604|5              |0.31                |\n",
      "|1712|7              |0.44                |\n",
      "|1931|13             |0.82                |\n",
      "|1950|148            |9.29                |\n",
      "|1952|1              |0.06                |\n",
      "|1957|3              |0.19                |\n",
      "|1985|1              |0.06                |\n",
      "|1999|10             |0.63                |\n",
      "|2030|174            |10.92               |\n",
      "|2104|23             |1.44                |\n",
      "|2186|1              |0.06                |\n",
      "|2264|1              |0.06                |\n",
      "|2300|193            |12.12               |\n",
      "+----+---------------+--------------------+\n",
      "\n",
      "FehlerID (code) mit den meisten Stillständen (Top 3):\n",
      "+----+---------------+--------------------+\n",
      "|code|count_shutdowns|percentage_shutdowns|\n",
      "+----+---------------+--------------------+\n",
      "|1019|275            |17.26               |\n",
      "|2300|193            |12.12               |\n",
      "|2030|174            |10.92               |\n",
      "+----+---------------+--------------------+\n",
      "\n"
     ]
    }
   ],
   "source": [
    "# count shutdowns per error code\n",
    "shutdowns_per_error = error_messages_timeline.\\\n",
    "    groupBy(col(\"code\")).\\\n",
    "        agg(\n",
    "            count(\"code\").alias(\"count_shutdowns\")\n",
    "        ).\\\n",
    "    withColumn(\n",
    "        \"percentage_shutdowns\",\n",
    "        format_number(col(\"count_shutdowns\") / error_messages_timeline.count() * 100, 2)\n",
    "    ).\\\n",
    "    orderBy(col(\"code\"))\n",
    "print(\"Stillstände je FehlerID (code):\")\n",
    "shutdowns_per_error.show(100, truncate=False)\n",
    "print(\"FehlerID (code) mit den meisten Stillständen (Top 3):\")\n",
    "shutdowns_per_error.\\\n",
    "    withColumn(\"row\", row_number().over(Window.partitionBy().orderBy(col(\"count_shutdowns\").desc()))).\\\n",
    "    filter(col(\"row\") <= 3).drop(col(\"row\")).\\\n",
    "    show(truncate=False)"
   ]
  },
  {
   "cell_type": "code",
   "execution_count": 23,
   "metadata": {},
   "outputs": [
    {
     "name": "stdout",
     "output_type": "stream",
     "text": [
      "Stillstandszeit insgesamt:\n",
      "+-------------------------------------+\n",
      "|sum(total_accumulated_dead_time_in_s)|\n",
      "+-------------------------------------+\n",
      "|184757.371                           |\n",
      "+-------------------------------------+\n",
      "\n",
      "Stillstandszeit je FehlerID (code):\n",
      "+----+--------------------------------+--------------------------------------+\n",
      "|code|total_accumulated_dead_time_in_s|percentage_total_accumulated_dead_time|\n",
      "+----+--------------------------------+--------------------------------------+\n",
      "|1001|3015.154                        |1.63                                  |\n",
      "|1005|2239.476                        |1.21                                  |\n",
      "|1006|41.648                          |0.02                                  |\n",
      "|1010|22627.888                       |12.25                                 |\n",
      "|1013|0.000                           |0.00                                  |\n",
      "|1019|14754.290                       |7.99                                  |\n",
      "|1024|60.388                          |0.03                                  |\n",
      "|1036|878.446                         |0.48                                  |\n",
      "|1082|262.749                         |0.14                                  |\n",
      "|1095|7658.833                        |4.15                                  |\n",
      "|1130|30.212                          |0.02                                  |\n",
      "|1131|173.114                         |0.09                                  |\n",
      "|1152|5894.400                        |3.19                                  |\n",
      "|1168|1872.314                        |1.01                                  |\n",
      "|1171|542.451                         |0.29                                  |\n",
      "|1175|9545.506                        |5.17                                  |\n",
      "|1176|39.433                          |0.02                                  |\n",
      "|1177|41.757                          |0.02                                  |\n",
      "|1178|304.669                         |0.16                                  |\n",
      "|1179|1932.688                        |1.05                                  |\n",
      "|1181|753.473                         |0.41                                  |\n",
      "|1271|433.021                         |0.23                                  |\n",
      "|1273|4080.070                        |2.21                                  |\n",
      "|1331|4302.791                        |2.33                                  |\n",
      "|1427|2054.730                        |1.11                                  |\n",
      "|1498|17649.489                       |9.55                                  |\n",
      "|1562|4214.774                        |2.28                                  |\n",
      "|1604|220.315                         |0.12                                  |\n",
      "|1712|3717.324                        |2.01                                  |\n",
      "|1931|597.301                         |0.32                                  |\n",
      "|1950|14879.252                       |8.05                                  |\n",
      "|1952|88.602                          |0.05                                  |\n",
      "|1957|199.117                         |0.11                                  |\n",
      "|1985|463.677                         |0.25                                  |\n",
      "|1999|584.558                         |0.32                                  |\n",
      "|2030|39758.554                       |21.52                                 |\n",
      "|2104|2.315                           |0.00                                  |\n",
      "|2186|16.780                          |0.01                                  |\n",
      "|2264|96.564                          |0.05                                  |\n",
      "|2300|18729.248                       |10.14                                 |\n",
      "+----+--------------------------------+--------------------------------------+\n",
      "\n",
      "FehlerID (code) mit der akkumuliert meisten Stillstandszeit (Top 3):\n",
      "+----+--------------------------------+--------------------------------------+\n",
      "|code|total_accumulated_dead_time_in_s|percentage_total_accumulated_dead_time|\n",
      "+----+--------------------------------+--------------------------------------+\n",
      "|2030|39758.554                       |21.52                                 |\n",
      "|1010|22627.888                       |12.25                                 |\n",
      "|2300|18729.248                       |10.14                                 |\n",
      "+----+--------------------------------+--------------------------------------+\n",
      "\n"
     ]
    }
   ],
   "source": [
    "# aggregate dead time per error code\n",
    "dead_time_per_error = error_messages_accumulated.\\\n",
    "    groupBy(col(\"code\")).\\\n",
    "        agg(\n",
    "            sum(\"accumulated_dead_time\").alias(\"total_accumulated_dead_time_in_s\")\n",
    "        ).\\\n",
    "    withColumn(\n",
    "        \"percentage_total_accumulated_dead_time\",\n",
    "        format_number(col(\"total_accumulated_dead_time_in_s\") / sum(col(\"total_accumulated_dead_time_in_s\")).over(Window.partitionBy()) * 100, 2)\n",
    "    ).\\\n",
    "    orderBy(col(\"code\"))\n",
    "print(\"Stillstandszeit insgesamt:\")\n",
    "dead_time_per_error.groupBy().sum('total_accumulated_dead_time_in_s').show(truncate=False)\n",
    "print(\"Stillstandszeit je FehlerID (code):\")\n",
    "dead_time_per_error.show(100, truncate=False)\n",
    "print(\"FehlerID (code) mit der akkumuliert meisten Stillstandszeit (Top 3):\")\n",
    "dead_time_per_error.\\\n",
    "    withColumn(\"row\", row_number().over(Window.partitionBy().orderBy(col(\"total_accumulated_dead_time_in_s\").desc()))).\\\n",
    "    filter(col(\"row\") <= 3).drop(col(\"row\")).\\\n",
    "    show(truncate=False)"
   ]
  },
  {
   "cell_type": "code",
   "execution_count": 24,
   "metadata": {},
   "outputs": [
    {
     "data": {
      "application/vnd.plotly.v1+json": {
       "config": {
        "plotlyServerURL": "https://plot.ly"
       },
       "data": [
        {
         "name": "Anzahl Stillstände je FehlerID",
         "text": [
          "1.82%",
          "0.50%",
          "0.06%",
          "9.73%",
          "0.19%",
          "17.26%",
          "0.13%",
          "0.56%",
          "0.44%",
          "1.44%",
          "0.06%",
          "0.06%",
          "0.69%",
          "4.52%",
          "1.19%",
          "3.33%",
          "0.06%",
          "0.13%",
          "1.07%",
          "0.94%",
          "0.94%",
          "0.75%",
          "1.44%",
          "4.96%",
          "2.39%",
          "2.26%",
          "6.65%",
          "0.31%",
          "0.44%",
          "0.82%",
          "9.29%",
          "0.06%",
          "0.19%",
          "0.06%",
          "0.63%",
          "10.92%",
          "1.44%",
          "0.06%",
          "0.06%",
          "12.12%"
         ],
         "textangle": -90,
         "type": "bar",
         "x": [
          "1001",
          "1005",
          "1006",
          "1010",
          "1013",
          "1019",
          "1024",
          "1036",
          "1082",
          "1095",
          "1130",
          "1131",
          "1152",
          "1168",
          "1171",
          "1175",
          "1176",
          "1177",
          "1178",
          "1179",
          "1181",
          "1271",
          "1273",
          "1331",
          "1427",
          "1498",
          "1562",
          "1604",
          "1712",
          "1931",
          "1950",
          "1952",
          "1957",
          "1985",
          "1999",
          "2030",
          "2104",
          "2186",
          "2264",
          "2300"
         ],
         "xaxis": "x",
         "y": [
          29,
          8,
          1,
          155,
          3,
          275,
          2,
          9,
          7,
          23,
          1,
          1,
          11,
          72,
          19,
          53,
          1,
          2,
          17,
          15,
          15,
          12,
          23,
          79,
          38,
          36,
          106,
          5,
          7,
          13,
          148,
          1,
          3,
          1,
          10,
          174,
          23,
          1,
          1,
          193
         ],
         "yaxis": "y"
        },
        {
         "name": "Gesamte Stillstandszeit je FehlerID",
         "text": [
          "1.63%",
          "1.21%",
          "0.02%",
          "12.25%",
          "0.00%",
          "7.99%",
          "0.03%",
          "0.48%",
          "0.14%",
          "4.15%",
          "0.02%",
          "0.09%",
          "3.19%",
          "1.01%",
          "0.29%",
          "5.17%",
          "0.02%",
          "0.02%",
          "0.16%",
          "1.05%",
          "0.41%",
          "0.23%",
          "2.21%",
          "2.33%",
          "1.11%",
          "9.55%",
          "2.28%",
          "0.12%",
          "2.01%",
          "0.32%",
          "8.05%",
          "0.05%",
          "0.11%",
          "0.25%",
          "0.32%",
          "21.52%",
          "0.00%",
          "0.01%",
          "0.05%",
          "10.14%"
         ],
         "textangle": -90,
         "type": "bar",
         "x": [
          "1001",
          "1005",
          "1006",
          "1010",
          "1013",
          "1019",
          "1024",
          "1036",
          "1082",
          "1095",
          "1130",
          "1131",
          "1152",
          "1168",
          "1171",
          "1175",
          "1176",
          "1177",
          "1178",
          "1179",
          "1181",
          "1271",
          "1273",
          "1331",
          "1427",
          "1498",
          "1562",
          "1604",
          "1712",
          "1931",
          "1950",
          "1952",
          "1957",
          "1985",
          "1999",
          "2030",
          "2104",
          "2186",
          "2264",
          "2300"
         ],
         "xaxis": "x2",
         "y": [
          3015.154,
          2239.476,
          41.648,
          22627.888,
          0,
          14754.29,
          60.388,
          878.446,
          262.749,
          7658.833,
          30.212,
          173.114,
          5894.4,
          1872.314,
          542.451,
          9545.506,
          39.433,
          41.757,
          304.669,
          1932.688,
          753.473,
          433.021,
          4080.07,
          4302.791,
          2054.73,
          17649.489,
          4214.774,
          220.315,
          3717.324,
          597.301,
          14879.252,
          88.602,
          199.117,
          463.677,
          584.558,
          39758.554,
          2.315,
          16.78,
          96.564,
          18729.248
         ],
         "yaxis": "y2"
        }
       ],
       "layout": {
        "legend": {
         "orientation": "h",
         "x": 0.5,
         "xanchor": "center",
         "y": -0.25,
         "yanchor": "top"
        },
        "template": {
         "data": {
          "bar": [
           {
            "error_x": {
             "color": "#2a3f5f"
            },
            "error_y": {
             "color": "#2a3f5f"
            },
            "marker": {
             "line": {
              "color": "#E5ECF6",
              "width": 0.5
             },
             "pattern": {
              "fillmode": "overlay",
              "size": 10,
              "solidity": 0.2
             }
            },
            "type": "bar"
           }
          ],
          "barpolar": [
           {
            "marker": {
             "line": {
              "color": "#E5ECF6",
              "width": 0.5
             },
             "pattern": {
              "fillmode": "overlay",
              "size": 10,
              "solidity": 0.2
             }
            },
            "type": "barpolar"
           }
          ],
          "carpet": [
           {
            "aaxis": {
             "endlinecolor": "#2a3f5f",
             "gridcolor": "white",
             "linecolor": "white",
             "minorgridcolor": "white",
             "startlinecolor": "#2a3f5f"
            },
            "baxis": {
             "endlinecolor": "#2a3f5f",
             "gridcolor": "white",
             "linecolor": "white",
             "minorgridcolor": "white",
             "startlinecolor": "#2a3f5f"
            },
            "type": "carpet"
           }
          ],
          "choropleth": [
           {
            "colorbar": {
             "outlinewidth": 0,
             "ticks": ""
            },
            "type": "choropleth"
           }
          ],
          "contour": [
           {
            "colorbar": {
             "outlinewidth": 0,
             "ticks": ""
            },
            "colorscale": [
             [
              0,
              "#0d0887"
             ],
             [
              0.1111111111111111,
              "#46039f"
             ],
             [
              0.2222222222222222,
              "#7201a8"
             ],
             [
              0.3333333333333333,
              "#9c179e"
             ],
             [
              0.4444444444444444,
              "#bd3786"
             ],
             [
              0.5555555555555556,
              "#d8576b"
             ],
             [
              0.6666666666666666,
              "#ed7953"
             ],
             [
              0.7777777777777778,
              "#fb9f3a"
             ],
             [
              0.8888888888888888,
              "#fdca26"
             ],
             [
              1,
              "#f0f921"
             ]
            ],
            "type": "contour"
           }
          ],
          "contourcarpet": [
           {
            "colorbar": {
             "outlinewidth": 0,
             "ticks": ""
            },
            "type": "contourcarpet"
           }
          ],
          "heatmap": [
           {
            "colorbar": {
             "outlinewidth": 0,
             "ticks": ""
            },
            "colorscale": [
             [
              0,
              "#0d0887"
             ],
             [
              0.1111111111111111,
              "#46039f"
             ],
             [
              0.2222222222222222,
              "#7201a8"
             ],
             [
              0.3333333333333333,
              "#9c179e"
             ],
             [
              0.4444444444444444,
              "#bd3786"
             ],
             [
              0.5555555555555556,
              "#d8576b"
             ],
             [
              0.6666666666666666,
              "#ed7953"
             ],
             [
              0.7777777777777778,
              "#fb9f3a"
             ],
             [
              0.8888888888888888,
              "#fdca26"
             ],
             [
              1,
              "#f0f921"
             ]
            ],
            "type": "heatmap"
           }
          ],
          "heatmapgl": [
           {
            "colorbar": {
             "outlinewidth": 0,
             "ticks": ""
            },
            "colorscale": [
             [
              0,
              "#0d0887"
             ],
             [
              0.1111111111111111,
              "#46039f"
             ],
             [
              0.2222222222222222,
              "#7201a8"
             ],
             [
              0.3333333333333333,
              "#9c179e"
             ],
             [
              0.4444444444444444,
              "#bd3786"
             ],
             [
              0.5555555555555556,
              "#d8576b"
             ],
             [
              0.6666666666666666,
              "#ed7953"
             ],
             [
              0.7777777777777778,
              "#fb9f3a"
             ],
             [
              0.8888888888888888,
              "#fdca26"
             ],
             [
              1,
              "#f0f921"
             ]
            ],
            "type": "heatmapgl"
           }
          ],
          "histogram": [
           {
            "marker": {
             "pattern": {
              "fillmode": "overlay",
              "size": 10,
              "solidity": 0.2
             }
            },
            "type": "histogram"
           }
          ],
          "histogram2d": [
           {
            "colorbar": {
             "outlinewidth": 0,
             "ticks": ""
            },
            "colorscale": [
             [
              0,
              "#0d0887"
             ],
             [
              0.1111111111111111,
              "#46039f"
             ],
             [
              0.2222222222222222,
              "#7201a8"
             ],
             [
              0.3333333333333333,
              "#9c179e"
             ],
             [
              0.4444444444444444,
              "#bd3786"
             ],
             [
              0.5555555555555556,
              "#d8576b"
             ],
             [
              0.6666666666666666,
              "#ed7953"
             ],
             [
              0.7777777777777778,
              "#fb9f3a"
             ],
             [
              0.8888888888888888,
              "#fdca26"
             ],
             [
              1,
              "#f0f921"
             ]
            ],
            "type": "histogram2d"
           }
          ],
          "histogram2dcontour": [
           {
            "colorbar": {
             "outlinewidth": 0,
             "ticks": ""
            },
            "colorscale": [
             [
              0,
              "#0d0887"
             ],
             [
              0.1111111111111111,
              "#46039f"
             ],
             [
              0.2222222222222222,
              "#7201a8"
             ],
             [
              0.3333333333333333,
              "#9c179e"
             ],
             [
              0.4444444444444444,
              "#bd3786"
             ],
             [
              0.5555555555555556,
              "#d8576b"
             ],
             [
              0.6666666666666666,
              "#ed7953"
             ],
             [
              0.7777777777777778,
              "#fb9f3a"
             ],
             [
              0.8888888888888888,
              "#fdca26"
             ],
             [
              1,
              "#f0f921"
             ]
            ],
            "type": "histogram2dcontour"
           }
          ],
          "mesh3d": [
           {
            "colorbar": {
             "outlinewidth": 0,
             "ticks": ""
            },
            "type": "mesh3d"
           }
          ],
          "parcoords": [
           {
            "line": {
             "colorbar": {
              "outlinewidth": 0,
              "ticks": ""
             }
            },
            "type": "parcoords"
           }
          ],
          "pie": [
           {
            "automargin": true,
            "type": "pie"
           }
          ],
          "scatter": [
           {
            "fillpattern": {
             "fillmode": "overlay",
             "size": 10,
             "solidity": 0.2
            },
            "type": "scatter"
           }
          ],
          "scatter3d": [
           {
            "line": {
             "colorbar": {
              "outlinewidth": 0,
              "ticks": ""
             }
            },
            "marker": {
             "colorbar": {
              "outlinewidth": 0,
              "ticks": ""
             }
            },
            "type": "scatter3d"
           }
          ],
          "scattercarpet": [
           {
            "marker": {
             "colorbar": {
              "outlinewidth": 0,
              "ticks": ""
             }
            },
            "type": "scattercarpet"
           }
          ],
          "scattergeo": [
           {
            "marker": {
             "colorbar": {
              "outlinewidth": 0,
              "ticks": ""
             }
            },
            "type": "scattergeo"
           }
          ],
          "scattergl": [
           {
            "marker": {
             "colorbar": {
              "outlinewidth": 0,
              "ticks": ""
             }
            },
            "type": "scattergl"
           }
          ],
          "scattermapbox": [
           {
            "marker": {
             "colorbar": {
              "outlinewidth": 0,
              "ticks": ""
             }
            },
            "type": "scattermapbox"
           }
          ],
          "scatterpolar": [
           {
            "marker": {
             "colorbar": {
              "outlinewidth": 0,
              "ticks": ""
             }
            },
            "type": "scatterpolar"
           }
          ],
          "scatterpolargl": [
           {
            "marker": {
             "colorbar": {
              "outlinewidth": 0,
              "ticks": ""
             }
            },
            "type": "scatterpolargl"
           }
          ],
          "scatterternary": [
           {
            "marker": {
             "colorbar": {
              "outlinewidth": 0,
              "ticks": ""
             }
            },
            "type": "scatterternary"
           }
          ],
          "surface": [
           {
            "colorbar": {
             "outlinewidth": 0,
             "ticks": ""
            },
            "colorscale": [
             [
              0,
              "#0d0887"
             ],
             [
              0.1111111111111111,
              "#46039f"
             ],
             [
              0.2222222222222222,
              "#7201a8"
             ],
             [
              0.3333333333333333,
              "#9c179e"
             ],
             [
              0.4444444444444444,
              "#bd3786"
             ],
             [
              0.5555555555555556,
              "#d8576b"
             ],
             [
              0.6666666666666666,
              "#ed7953"
             ],
             [
              0.7777777777777778,
              "#fb9f3a"
             ],
             [
              0.8888888888888888,
              "#fdca26"
             ],
             [
              1,
              "#f0f921"
             ]
            ],
            "type": "surface"
           }
          ],
          "table": [
           {
            "cells": {
             "fill": {
              "color": "#EBF0F8"
             },
             "line": {
              "color": "white"
             }
            },
            "header": {
             "fill": {
              "color": "#C8D4E3"
             },
             "line": {
              "color": "white"
             }
            },
            "type": "table"
           }
          ]
         },
         "layout": {
          "annotationdefaults": {
           "arrowcolor": "#2a3f5f",
           "arrowhead": 0,
           "arrowwidth": 1
          },
          "autotypenumbers": "strict",
          "coloraxis": {
           "colorbar": {
            "outlinewidth": 0,
            "ticks": ""
           }
          },
          "colorscale": {
           "diverging": [
            [
             0,
             "#8e0152"
            ],
            [
             0.1,
             "#c51b7d"
            ],
            [
             0.2,
             "#de77ae"
            ],
            [
             0.3,
             "#f1b6da"
            ],
            [
             0.4,
             "#fde0ef"
            ],
            [
             0.5,
             "#f7f7f7"
            ],
            [
             0.6,
             "#e6f5d0"
            ],
            [
             0.7,
             "#b8e186"
            ],
            [
             0.8,
             "#7fbc41"
            ],
            [
             0.9,
             "#4d9221"
            ],
            [
             1,
             "#276419"
            ]
           ],
           "sequential": [
            [
             0,
             "#0d0887"
            ],
            [
             0.1111111111111111,
             "#46039f"
            ],
            [
             0.2222222222222222,
             "#7201a8"
            ],
            [
             0.3333333333333333,
             "#9c179e"
            ],
            [
             0.4444444444444444,
             "#bd3786"
            ],
            [
             0.5555555555555556,
             "#d8576b"
            ],
            [
             0.6666666666666666,
             "#ed7953"
            ],
            [
             0.7777777777777778,
             "#fb9f3a"
            ],
            [
             0.8888888888888888,
             "#fdca26"
            ],
            [
             1,
             "#f0f921"
            ]
           ],
           "sequentialminus": [
            [
             0,
             "#0d0887"
            ],
            [
             0.1111111111111111,
             "#46039f"
            ],
            [
             0.2222222222222222,
             "#7201a8"
            ],
            [
             0.3333333333333333,
             "#9c179e"
            ],
            [
             0.4444444444444444,
             "#bd3786"
            ],
            [
             0.5555555555555556,
             "#d8576b"
            ],
            [
             0.6666666666666666,
             "#ed7953"
            ],
            [
             0.7777777777777778,
             "#fb9f3a"
            ],
            [
             0.8888888888888888,
             "#fdca26"
            ],
            [
             1,
             "#f0f921"
            ]
           ]
          },
          "colorway": [
           "#636efa",
           "#EF553B",
           "#00cc96",
           "#ab63fa",
           "#FFA15A",
           "#19d3f3",
           "#FF6692",
           "#B6E880",
           "#FF97FF",
           "#FECB52"
          ],
          "font": {
           "color": "#2a3f5f"
          },
          "geo": {
           "bgcolor": "white",
           "lakecolor": "white",
           "landcolor": "#E5ECF6",
           "showlakes": true,
           "showland": true,
           "subunitcolor": "white"
          },
          "hoverlabel": {
           "align": "left"
          },
          "hovermode": "closest",
          "mapbox": {
           "style": "light"
          },
          "paper_bgcolor": "white",
          "plot_bgcolor": "#E5ECF6",
          "polar": {
           "angularaxis": {
            "gridcolor": "white",
            "linecolor": "white",
            "ticks": ""
           },
           "bgcolor": "#E5ECF6",
           "radialaxis": {
            "gridcolor": "white",
            "linecolor": "white",
            "ticks": ""
           }
          },
          "scene": {
           "xaxis": {
            "backgroundcolor": "#E5ECF6",
            "gridcolor": "white",
            "gridwidth": 2,
            "linecolor": "white",
            "showbackground": true,
            "ticks": "",
            "zerolinecolor": "white"
           },
           "yaxis": {
            "backgroundcolor": "#E5ECF6",
            "gridcolor": "white",
            "gridwidth": 2,
            "linecolor": "white",
            "showbackground": true,
            "ticks": "",
            "zerolinecolor": "white"
           },
           "zaxis": {
            "backgroundcolor": "#E5ECF6",
            "gridcolor": "white",
            "gridwidth": 2,
            "linecolor": "white",
            "showbackground": true,
            "ticks": "",
            "zerolinecolor": "white"
           }
          },
          "shapedefaults": {
           "line": {
            "color": "#2a3f5f"
           }
          },
          "ternary": {
           "aaxis": {
            "gridcolor": "white",
            "linecolor": "white",
            "ticks": ""
           },
           "baxis": {
            "gridcolor": "white",
            "linecolor": "white",
            "ticks": ""
           },
           "bgcolor": "#E5ECF6",
           "caxis": {
            "gridcolor": "white",
            "linecolor": "white",
            "ticks": ""
           }
          },
          "title": {
           "x": 0.05
          },
          "xaxis": {
           "automargin": true,
           "gridcolor": "white",
           "linecolor": "white",
           "ticks": "",
           "title": {
            "standoff": 15
           },
           "zerolinecolor": "white",
           "zerolinewidth": 2
          },
          "yaxis": {
           "automargin": true,
           "gridcolor": "white",
           "linecolor": "white",
           "ticks": "",
           "title": {
            "standoff": 15
           },
           "zerolinecolor": "white",
           "zerolinewidth": 2
          }
         }
        },
        "title": {
         "text": "Stillstände und Stillstandszeiten je FehlerID"
        },
        "xaxis": {
         "anchor": "y",
         "domain": [
          0,
          1
         ],
         "tickangle": -90
        },
        "xaxis2": {
         "anchor": "y2",
         "domain": [
          0,
          1
         ],
         "tickangle": -90,
         "title": {
          "text": "FehlerID (code)"
         }
        },
        "yaxis": {
         "anchor": "x",
         "domain": [
          0.575,
          1
         ],
         "title": {
          "text": "Anzahl"
         }
        },
        "yaxis2": {
         "anchor": "x2",
         "domain": [
          0,
          0.425
         ],
         "title": {
          "text": "Sekunden"
         }
        }
       }
      }
     },
     "metadata": {},
     "output_type": "display_data"
    }
   ],
   "source": [
    "# plot stats regarding shutdown and dead time per error\n",
    "pd_stats_per_error = shutdowns_per_error.alias(\"sd\").\\\n",
    "    join(dead_time_per_error.alias(\"dt\"), col(\"sd.code\") == col(\"dt.code\")).\\\n",
    "        select(\"sd.*\", \"dt.total_accumulated_dead_time_in_s\", \"dt.percentage_total_accumulated_dead_time\").\\\n",
    "        orderBy(col(\"sd.code\")).toPandas()\n",
    "\n",
    "fig = make_subplots(rows=2, cols=1)\n",
    "fig.add_trace(\n",
    "    go.Bar(name='Anzahl Stillstände je FehlerID',\n",
    "           x=pd_stats_per_error.code, \n",
    "           y=pd_stats_per_error.count_shutdowns,\n",
    "           text=pd_stats_per_error.percentage_shutdowns.apply(lambda x: f\"{x}%\"),\n",
    "           textangle=-90),\n",
    "    row=1, col=1\n",
    ")\n",
    "fig.add_trace(\n",
    "    go.Bar(name='Gesamte Stillstandszeit je FehlerID',\n",
    "           x=pd_stats_per_error.code, \n",
    "           y=pd_stats_per_error.total_accumulated_dead_time_in_s,\n",
    "           text=pd_stats_per_error.percentage_total_accumulated_dead_time.apply(lambda x: f\"{x}%\"),\n",
    "           textangle=-90),\n",
    "    row=2, col=1\n",
    ")\n",
    "fig.update_layout(\n",
    "    title_text=f\"Stillstände und Stillstandszeiten je FehlerID\",\n",
    "    xaxis2_title=\"FehlerID (code)\",\n",
    "    yaxis1_title=\"Anzahl\",\n",
    "    yaxis2_title=\"Sekunden\",\n",
    "    legend=dict(\n",
    "       orientation=\"h\",\n",
    "       yanchor=\"top\",\n",
    "       y=-0.25,\n",
    "       xanchor=\"center\",\n",
    "       x=0.5\n",
    "    )\n",
    ")\n",
    "fig.update_xaxes(tickangle=-90)\n",
    "fig.show()\n",
    "fig.write_html(file=os.path.join(results_path, r\"plots\\stats_per_error.html\"))"
   ]
  },
  {
   "attachments": {},
   "cell_type": "markdown",
   "metadata": {},
   "source": [
    "## Prognose der Packungsproduktion"
   ]
  },
  {
   "attachments": {},
   "cell_type": "markdown",
   "metadata": {},
   "source": [
    "### Vorabanalyse Tägliche Produktion"
   ]
  },
  {
   "cell_type": "code",
   "execution_count": 25,
   "metadata": {},
   "outputs": [
    {
     "name": "stdout",
     "output_type": "stream",
     "text": [
      "+--------------+----------------+------------------+-----------------------------+\n",
      "|date          |daily_good_packs|daily_reject_packs|daily_reject_packs_percentage|\n",
      "+--------------+----------------+------------------+-----------------------------+\n",
      "|2022-05-03 Tue|84402           |2934              |3.36                         |\n",
      "|2022-05-04 Wed|143584          |7063              |4.69                         |\n",
      "|2022-05-05 Thu|136486          |5618              |3.95                         |\n",
      "|2022-05-06 Fri|84222           |5034              |5.64                         |\n",
      "|2022-05-07 Sat|0               |120               |100.00                       |\n",
      "|2022-05-08 Sun|5               |91                |94.79                        |\n",
      "|2022-05-09 Mon|79863           |4089              |4.87                         |\n",
      "|2022-05-10 Tue|104147          |4909              |4.50                         |\n",
      "|2022-05-11 Wed|110662          |5234              |4.52                         |\n",
      "|2022-05-12 Thu|99686           |4882              |4.67                         |\n",
      "|2022-05-13 Fri|75956           |4768              |5.91                         |\n",
      "|2022-05-16 Mon|81117           |4083              |4.79                         |\n",
      "|2022-05-17 Tue|169877          |6703              |3.80                         |\n",
      "|2022-05-18 Wed|151944          |6576              |4.15                         |\n",
      "|2022-05-19 Thu|151139          |5872              |3.74                         |\n",
      "|2022-05-20 Fri|78040           |2836              |3.51                         |\n",
      "|2022-05-23 Mon|92477           |4219              |4.36                         |\n",
      "|2022-05-24 Tue|104152          |6296              |5.70                         |\n",
      "|2022-05-25 Wed|79515           |7605              |8.73                         |\n",
      "|2022-05-26 Thu|2828            |148               |4.97                         |\n",
      "|2022-05-30 Mon|37122           |2166              |5.51                         |\n",
      "|2022-05-31 Tue|115448          |6580              |5.39                         |\n",
      "|2022-06-01 Wed|133143          |5863              |4.22                         |\n",
      "|2022-06-02 Thu|146699          |6885              |4.48                         |\n",
      "|2022-06-03 Fri|122002          |7042              |5.46                         |\n",
      "|2022-06-05 Sun|125159          |5233              |4.01                         |\n",
      "|2022-06-06 Mon|120887          |4993              |3.97                         |\n",
      "|2022-06-07 Tue|14917           |1091              |6.82                         |\n",
      "|2022-06-08 Wed|102837          |4923              |4.57                         |\n",
      "|2022-06-09 Thu|89493           |5091              |5.38                         |\n",
      "|2022-06-10 Fri|116331          |6965              |5.65                         |\n",
      "|2022-06-13 Mon|106241          |4132              |3.74                         |\n",
      "|2022-06-14 Tue|166917          |6723              |3.87                         |\n",
      "|2022-06-15 Wed|155621          |6811              |4.19                         |\n",
      "|2022-06-16 Thu|35161           |1679              |4.56                         |\n",
      "|2022-06-17 Fri|30710           |1570              |4.86                         |\n",
      "|2022-06-20 Mon|77847           |5657              |6.77                         |\n",
      "|2022-06-21 Tue|87018           |9150              |9.51                         |\n",
      "|2022-06-22 Wed|160590          |6834              |4.08                         |\n",
      "|2022-06-23 Thu|136776          |8640              |5.94                         |\n",
      "|2022-06-24 Fri|46935           |2817              |5.66                         |\n",
      "|2022-06-27 Mon|113705          |5479              |4.60                         |\n",
      "|2022-06-28 Tue|157159          |7505              |4.56                         |\n",
      "|2022-06-29 Wed|146545          |5255              |3.46                         |\n",
      "|2022-06-30 Thu|180678          |5519              |2.96                         |\n",
      "|2022-07-01 Fri|20352           |679               |3.23                         |\n",
      "|2022-07-07 Thu|1400            |236               |14.43                        |\n",
      "|2022-07-08 Fri|504             |200               |28.41                        |\n",
      "|2022-07-10 Sun|372             |300               |44.64                        |\n",
      "|2022-07-11 Mon|48736           |3032              |5.86                         |\n",
      "|2022-07-12 Tue|108924          |6376              |5.53                         |\n",
      "|2022-07-13 Wed|123045          |5357              |4.17                         |\n",
      "|2022-07-14 Thu|139803          |5349              |3.69                         |\n",
      "|2022-07-15 Fri|91376           |4720              |4.91                         |\n",
      "|2022-07-16 Sat|0               |96                |100.00                       |\n",
      "|2022-07-18 Mon|102598          |5090              |4.73                         |\n",
      "|2022-07-19 Tue|120116          |3940              |3.18                         |\n",
      "|2022-07-20 Wed|78580           |4868              |5.83                         |\n",
      "|2022-07-21 Thu|76034           |2830              |3.59                         |\n",
      "|2022-07-22 Fri|101735          |3697              |3.51                         |\n",
      "|2022-07-25 Mon|94033           |3791              |3.88                         |\n",
      "|2022-07-26 Tue|102400          |3464              |3.27                         |\n",
      "|2022-07-27 Wed|130783          |5225              |3.84                         |\n",
      "|2022-07-28 Thu|133146          |5191              |3.75                         |\n",
      "|2022-07-29 Fri|133154          |4774              |3.46                         |\n",
      "|2022-07-30 Sat|22045           |971               |4.22                         |\n",
      "+--------------+----------------+------------------+-----------------------------+\n",
      "\n"
     ]
    }
   ],
   "source": [
    "# aggreate over daily produced packs (good and reject)\n",
    "daily_produced_packs_all = package_data_chrono_expanded_by_recipe.\\\n",
    "    withColumn(\"date\", date_format(col(\"timestamp\"), \"yyyy-MM-dd E\")).\\\n",
    "    groupBy(col(\"date\")).\\\n",
    "        agg(\n",
    "            sum(\"good_packs\").alias(\"daily_good_packs\"),\n",
    "            sum(\"reject_packs\").alias(\"daily_reject_packs\")\n",
    "        ).\\\n",
    "    withColumn(\n",
    "        \"daily_reject_packs_percentage\",\n",
    "        format_number(col(\"daily_reject_packs\") / (col(\"daily_reject_packs\") + col(\"daily_good_packs\")) * 100, 2)\n",
    "    ).\\\n",
    "    orderBy(\"date\")\n",
    "daily_produced_packs_all.show(100, truncate=False)"
   ]
  },
  {
   "cell_type": "code",
   "execution_count": 26,
   "metadata": {},
   "outputs": [
    {
     "data": {
      "application/vnd.plotly.v1+json": {
       "config": {
        "plotlyServerURL": "https://plot.ly"
       },
       "data": [
        {
         "name": "Täglich produzierte Gutpackungen",
         "type": "bar",
         "x": [
          "2022-05-03 Tue",
          "2022-05-04 Wed",
          "2022-05-05 Thu",
          "2022-05-06 Fri",
          "2022-05-07 Sat",
          "2022-05-08 Sun",
          "2022-05-09 Mon",
          "2022-05-10 Tue",
          "2022-05-11 Wed",
          "2022-05-12 Thu",
          "2022-05-13 Fri",
          "2022-05-16 Mon",
          "2022-05-17 Tue",
          "2022-05-18 Wed",
          "2022-05-19 Thu",
          "2022-05-20 Fri",
          "2022-05-23 Mon",
          "2022-05-24 Tue",
          "2022-05-25 Wed",
          "2022-05-26 Thu",
          "2022-05-30 Mon",
          "2022-05-31 Tue",
          "2022-06-01 Wed",
          "2022-06-02 Thu",
          "2022-06-03 Fri",
          "2022-06-05 Sun",
          "2022-06-06 Mon",
          "2022-06-07 Tue",
          "2022-06-08 Wed",
          "2022-06-09 Thu",
          "2022-06-10 Fri",
          "2022-06-13 Mon",
          "2022-06-14 Tue",
          "2022-06-15 Wed",
          "2022-06-16 Thu",
          "2022-06-17 Fri",
          "2022-06-20 Mon",
          "2022-06-21 Tue",
          "2022-06-22 Wed",
          "2022-06-23 Thu",
          "2022-06-24 Fri",
          "2022-06-27 Mon",
          "2022-06-28 Tue",
          "2022-06-29 Wed",
          "2022-06-30 Thu",
          "2022-07-01 Fri",
          "2022-07-07 Thu",
          "2022-07-08 Fri",
          "2022-07-10 Sun",
          "2022-07-11 Mon",
          "2022-07-12 Tue",
          "2022-07-13 Wed",
          "2022-07-14 Thu",
          "2022-07-15 Fri",
          "2022-07-16 Sat",
          "2022-07-18 Mon",
          "2022-07-19 Tue",
          "2022-07-20 Wed",
          "2022-07-21 Thu",
          "2022-07-22 Fri",
          "2022-07-25 Mon",
          "2022-07-26 Tue",
          "2022-07-27 Wed",
          "2022-07-28 Thu",
          "2022-07-29 Fri",
          "2022-07-30 Sat"
         ],
         "y": [
          84402,
          143584,
          136486,
          84222,
          0,
          5,
          79863,
          104147,
          110662,
          99686,
          75956,
          81117,
          169877,
          151944,
          151139,
          78040,
          92477,
          104152,
          79515,
          2828,
          37122,
          115448,
          133143,
          146699,
          122002,
          125159,
          120887,
          14917,
          102837,
          89493,
          116331,
          106241,
          166917,
          155621,
          35161,
          30710,
          77847,
          87018,
          160590,
          136776,
          46935,
          113705,
          157159,
          146545,
          180678,
          20352,
          1400,
          504,
          372,
          48736,
          108924,
          123045,
          139803,
          91376,
          0,
          102598,
          120116,
          78580,
          76034,
          101735,
          94033,
          102400,
          130783,
          133146,
          133154,
          22045
         ]
        },
        {
         "name": "Täglich produzierte Schlechtpackungen",
         "text": [
          "3.36%",
          "4.69%",
          "3.95%",
          "5.64%",
          "100.00%",
          "94.79%",
          "4.87%",
          "4.50%",
          "4.52%",
          "4.67%",
          "5.91%",
          "4.79%",
          "3.80%",
          "4.15%",
          "3.74%",
          "3.51%",
          "4.36%",
          "5.70%",
          "8.73%",
          "4.97%",
          "5.51%",
          "5.39%",
          "4.22%",
          "4.48%",
          "5.46%",
          "4.01%",
          "3.97%",
          "6.82%",
          "4.57%",
          "5.38%",
          "5.65%",
          "3.74%",
          "3.87%",
          "4.19%",
          "4.56%",
          "4.86%",
          "6.77%",
          "9.51%",
          "4.08%",
          "5.94%",
          "5.66%",
          "4.60%",
          "4.56%",
          "3.46%",
          "2.96%",
          "3.23%",
          "14.43%",
          "28.41%",
          "44.64%",
          "5.86%",
          "5.53%",
          "4.17%",
          "3.69%",
          "4.91%",
          "100.00%",
          "4.73%",
          "3.18%",
          "5.83%",
          "3.59%",
          "3.51%",
          "3.88%",
          "3.27%",
          "3.84%",
          "3.75%",
          "3.46%",
          "4.22%"
         ],
         "type": "bar",
         "x": [
          "2022-05-03 Tue",
          "2022-05-04 Wed",
          "2022-05-05 Thu",
          "2022-05-06 Fri",
          "2022-05-07 Sat",
          "2022-05-08 Sun",
          "2022-05-09 Mon",
          "2022-05-10 Tue",
          "2022-05-11 Wed",
          "2022-05-12 Thu",
          "2022-05-13 Fri",
          "2022-05-16 Mon",
          "2022-05-17 Tue",
          "2022-05-18 Wed",
          "2022-05-19 Thu",
          "2022-05-20 Fri",
          "2022-05-23 Mon",
          "2022-05-24 Tue",
          "2022-05-25 Wed",
          "2022-05-26 Thu",
          "2022-05-30 Mon",
          "2022-05-31 Tue",
          "2022-06-01 Wed",
          "2022-06-02 Thu",
          "2022-06-03 Fri",
          "2022-06-05 Sun",
          "2022-06-06 Mon",
          "2022-06-07 Tue",
          "2022-06-08 Wed",
          "2022-06-09 Thu",
          "2022-06-10 Fri",
          "2022-06-13 Mon",
          "2022-06-14 Tue",
          "2022-06-15 Wed",
          "2022-06-16 Thu",
          "2022-06-17 Fri",
          "2022-06-20 Mon",
          "2022-06-21 Tue",
          "2022-06-22 Wed",
          "2022-06-23 Thu",
          "2022-06-24 Fri",
          "2022-06-27 Mon",
          "2022-06-28 Tue",
          "2022-06-29 Wed",
          "2022-06-30 Thu",
          "2022-07-01 Fri",
          "2022-07-07 Thu",
          "2022-07-08 Fri",
          "2022-07-10 Sun",
          "2022-07-11 Mon",
          "2022-07-12 Tue",
          "2022-07-13 Wed",
          "2022-07-14 Thu",
          "2022-07-15 Fri",
          "2022-07-16 Sat",
          "2022-07-18 Mon",
          "2022-07-19 Tue",
          "2022-07-20 Wed",
          "2022-07-21 Thu",
          "2022-07-22 Fri",
          "2022-07-25 Mon",
          "2022-07-26 Tue",
          "2022-07-27 Wed",
          "2022-07-28 Thu",
          "2022-07-29 Fri",
          "2022-07-30 Sat"
         ],
         "y": [
          2934,
          7063,
          5618,
          5034,
          120,
          91,
          4089,
          4909,
          5234,
          4882,
          4768,
          4083,
          6703,
          6576,
          5872,
          2836,
          4219,
          6296,
          7605,
          148,
          2166,
          6580,
          5863,
          6885,
          7042,
          5233,
          4993,
          1091,
          4923,
          5091,
          6965,
          4132,
          6723,
          6811,
          1679,
          1570,
          5657,
          9150,
          6834,
          8640,
          2817,
          5479,
          7505,
          5255,
          5519,
          679,
          236,
          200,
          300,
          3032,
          6376,
          5357,
          5349,
          4720,
          96,
          5090,
          3940,
          4868,
          2830,
          3697,
          3791,
          3464,
          5225,
          5191,
          4774,
          971
         ]
        }
       ],
       "layout": {
        "barmode": "stack",
        "legend": {
         "orientation": "h",
         "x": 0.5,
         "xanchor": "center",
         "y": 1,
         "yanchor": "bottom"
        },
        "template": {
         "data": {
          "bar": [
           {
            "error_x": {
             "color": "#2a3f5f"
            },
            "error_y": {
             "color": "#2a3f5f"
            },
            "marker": {
             "line": {
              "color": "#E5ECF6",
              "width": 0.5
             },
             "pattern": {
              "fillmode": "overlay",
              "size": 10,
              "solidity": 0.2
             }
            },
            "type": "bar"
           }
          ],
          "barpolar": [
           {
            "marker": {
             "line": {
              "color": "#E5ECF6",
              "width": 0.5
             },
             "pattern": {
              "fillmode": "overlay",
              "size": 10,
              "solidity": 0.2
             }
            },
            "type": "barpolar"
           }
          ],
          "carpet": [
           {
            "aaxis": {
             "endlinecolor": "#2a3f5f",
             "gridcolor": "white",
             "linecolor": "white",
             "minorgridcolor": "white",
             "startlinecolor": "#2a3f5f"
            },
            "baxis": {
             "endlinecolor": "#2a3f5f",
             "gridcolor": "white",
             "linecolor": "white",
             "minorgridcolor": "white",
             "startlinecolor": "#2a3f5f"
            },
            "type": "carpet"
           }
          ],
          "choropleth": [
           {
            "colorbar": {
             "outlinewidth": 0,
             "ticks": ""
            },
            "type": "choropleth"
           }
          ],
          "contour": [
           {
            "colorbar": {
             "outlinewidth": 0,
             "ticks": ""
            },
            "colorscale": [
             [
              0,
              "#0d0887"
             ],
             [
              0.1111111111111111,
              "#46039f"
             ],
             [
              0.2222222222222222,
              "#7201a8"
             ],
             [
              0.3333333333333333,
              "#9c179e"
             ],
             [
              0.4444444444444444,
              "#bd3786"
             ],
             [
              0.5555555555555556,
              "#d8576b"
             ],
             [
              0.6666666666666666,
              "#ed7953"
             ],
             [
              0.7777777777777778,
              "#fb9f3a"
             ],
             [
              0.8888888888888888,
              "#fdca26"
             ],
             [
              1,
              "#f0f921"
             ]
            ],
            "type": "contour"
           }
          ],
          "contourcarpet": [
           {
            "colorbar": {
             "outlinewidth": 0,
             "ticks": ""
            },
            "type": "contourcarpet"
           }
          ],
          "heatmap": [
           {
            "colorbar": {
             "outlinewidth": 0,
             "ticks": ""
            },
            "colorscale": [
             [
              0,
              "#0d0887"
             ],
             [
              0.1111111111111111,
              "#46039f"
             ],
             [
              0.2222222222222222,
              "#7201a8"
             ],
             [
              0.3333333333333333,
              "#9c179e"
             ],
             [
              0.4444444444444444,
              "#bd3786"
             ],
             [
              0.5555555555555556,
              "#d8576b"
             ],
             [
              0.6666666666666666,
              "#ed7953"
             ],
             [
              0.7777777777777778,
              "#fb9f3a"
             ],
             [
              0.8888888888888888,
              "#fdca26"
             ],
             [
              1,
              "#f0f921"
             ]
            ],
            "type": "heatmap"
           }
          ],
          "heatmapgl": [
           {
            "colorbar": {
             "outlinewidth": 0,
             "ticks": ""
            },
            "colorscale": [
             [
              0,
              "#0d0887"
             ],
             [
              0.1111111111111111,
              "#46039f"
             ],
             [
              0.2222222222222222,
              "#7201a8"
             ],
             [
              0.3333333333333333,
              "#9c179e"
             ],
             [
              0.4444444444444444,
              "#bd3786"
             ],
             [
              0.5555555555555556,
              "#d8576b"
             ],
             [
              0.6666666666666666,
              "#ed7953"
             ],
             [
              0.7777777777777778,
              "#fb9f3a"
             ],
             [
              0.8888888888888888,
              "#fdca26"
             ],
             [
              1,
              "#f0f921"
             ]
            ],
            "type": "heatmapgl"
           }
          ],
          "histogram": [
           {
            "marker": {
             "pattern": {
              "fillmode": "overlay",
              "size": 10,
              "solidity": 0.2
             }
            },
            "type": "histogram"
           }
          ],
          "histogram2d": [
           {
            "colorbar": {
             "outlinewidth": 0,
             "ticks": ""
            },
            "colorscale": [
             [
              0,
              "#0d0887"
             ],
             [
              0.1111111111111111,
              "#46039f"
             ],
             [
              0.2222222222222222,
              "#7201a8"
             ],
             [
              0.3333333333333333,
              "#9c179e"
             ],
             [
              0.4444444444444444,
              "#bd3786"
             ],
             [
              0.5555555555555556,
              "#d8576b"
             ],
             [
              0.6666666666666666,
              "#ed7953"
             ],
             [
              0.7777777777777778,
              "#fb9f3a"
             ],
             [
              0.8888888888888888,
              "#fdca26"
             ],
             [
              1,
              "#f0f921"
             ]
            ],
            "type": "histogram2d"
           }
          ],
          "histogram2dcontour": [
           {
            "colorbar": {
             "outlinewidth": 0,
             "ticks": ""
            },
            "colorscale": [
             [
              0,
              "#0d0887"
             ],
             [
              0.1111111111111111,
              "#46039f"
             ],
             [
              0.2222222222222222,
              "#7201a8"
             ],
             [
              0.3333333333333333,
              "#9c179e"
             ],
             [
              0.4444444444444444,
              "#bd3786"
             ],
             [
              0.5555555555555556,
              "#d8576b"
             ],
             [
              0.6666666666666666,
              "#ed7953"
             ],
             [
              0.7777777777777778,
              "#fb9f3a"
             ],
             [
              0.8888888888888888,
              "#fdca26"
             ],
             [
              1,
              "#f0f921"
             ]
            ],
            "type": "histogram2dcontour"
           }
          ],
          "mesh3d": [
           {
            "colorbar": {
             "outlinewidth": 0,
             "ticks": ""
            },
            "type": "mesh3d"
           }
          ],
          "parcoords": [
           {
            "line": {
             "colorbar": {
              "outlinewidth": 0,
              "ticks": ""
             }
            },
            "type": "parcoords"
           }
          ],
          "pie": [
           {
            "automargin": true,
            "type": "pie"
           }
          ],
          "scatter": [
           {
            "fillpattern": {
             "fillmode": "overlay",
             "size": 10,
             "solidity": 0.2
            },
            "type": "scatter"
           }
          ],
          "scatter3d": [
           {
            "line": {
             "colorbar": {
              "outlinewidth": 0,
              "ticks": ""
             }
            },
            "marker": {
             "colorbar": {
              "outlinewidth": 0,
              "ticks": ""
             }
            },
            "type": "scatter3d"
           }
          ],
          "scattercarpet": [
           {
            "marker": {
             "colorbar": {
              "outlinewidth": 0,
              "ticks": ""
             }
            },
            "type": "scattercarpet"
           }
          ],
          "scattergeo": [
           {
            "marker": {
             "colorbar": {
              "outlinewidth": 0,
              "ticks": ""
             }
            },
            "type": "scattergeo"
           }
          ],
          "scattergl": [
           {
            "marker": {
             "colorbar": {
              "outlinewidth": 0,
              "ticks": ""
             }
            },
            "type": "scattergl"
           }
          ],
          "scattermapbox": [
           {
            "marker": {
             "colorbar": {
              "outlinewidth": 0,
              "ticks": ""
             }
            },
            "type": "scattermapbox"
           }
          ],
          "scatterpolar": [
           {
            "marker": {
             "colorbar": {
              "outlinewidth": 0,
              "ticks": ""
             }
            },
            "type": "scatterpolar"
           }
          ],
          "scatterpolargl": [
           {
            "marker": {
             "colorbar": {
              "outlinewidth": 0,
              "ticks": ""
             }
            },
            "type": "scatterpolargl"
           }
          ],
          "scatterternary": [
           {
            "marker": {
             "colorbar": {
              "outlinewidth": 0,
              "ticks": ""
             }
            },
            "type": "scatterternary"
           }
          ],
          "surface": [
           {
            "colorbar": {
             "outlinewidth": 0,
             "ticks": ""
            },
            "colorscale": [
             [
              0,
              "#0d0887"
             ],
             [
              0.1111111111111111,
              "#46039f"
             ],
             [
              0.2222222222222222,
              "#7201a8"
             ],
             [
              0.3333333333333333,
              "#9c179e"
             ],
             [
              0.4444444444444444,
              "#bd3786"
             ],
             [
              0.5555555555555556,
              "#d8576b"
             ],
             [
              0.6666666666666666,
              "#ed7953"
             ],
             [
              0.7777777777777778,
              "#fb9f3a"
             ],
             [
              0.8888888888888888,
              "#fdca26"
             ],
             [
              1,
              "#f0f921"
             ]
            ],
            "type": "surface"
           }
          ],
          "table": [
           {
            "cells": {
             "fill": {
              "color": "#EBF0F8"
             },
             "line": {
              "color": "white"
             }
            },
            "header": {
             "fill": {
              "color": "#C8D4E3"
             },
             "line": {
              "color": "white"
             }
            },
            "type": "table"
           }
          ]
         },
         "layout": {
          "annotationdefaults": {
           "arrowcolor": "#2a3f5f",
           "arrowhead": 0,
           "arrowwidth": 1
          },
          "autotypenumbers": "strict",
          "coloraxis": {
           "colorbar": {
            "outlinewidth": 0,
            "ticks": ""
           }
          },
          "colorscale": {
           "diverging": [
            [
             0,
             "#8e0152"
            ],
            [
             0.1,
             "#c51b7d"
            ],
            [
             0.2,
             "#de77ae"
            ],
            [
             0.3,
             "#f1b6da"
            ],
            [
             0.4,
             "#fde0ef"
            ],
            [
             0.5,
             "#f7f7f7"
            ],
            [
             0.6,
             "#e6f5d0"
            ],
            [
             0.7,
             "#b8e186"
            ],
            [
             0.8,
             "#7fbc41"
            ],
            [
             0.9,
             "#4d9221"
            ],
            [
             1,
             "#276419"
            ]
           ],
           "sequential": [
            [
             0,
             "#0d0887"
            ],
            [
             0.1111111111111111,
             "#46039f"
            ],
            [
             0.2222222222222222,
             "#7201a8"
            ],
            [
             0.3333333333333333,
             "#9c179e"
            ],
            [
             0.4444444444444444,
             "#bd3786"
            ],
            [
             0.5555555555555556,
             "#d8576b"
            ],
            [
             0.6666666666666666,
             "#ed7953"
            ],
            [
             0.7777777777777778,
             "#fb9f3a"
            ],
            [
             0.8888888888888888,
             "#fdca26"
            ],
            [
             1,
             "#f0f921"
            ]
           ],
           "sequentialminus": [
            [
             0,
             "#0d0887"
            ],
            [
             0.1111111111111111,
             "#46039f"
            ],
            [
             0.2222222222222222,
             "#7201a8"
            ],
            [
             0.3333333333333333,
             "#9c179e"
            ],
            [
             0.4444444444444444,
             "#bd3786"
            ],
            [
             0.5555555555555556,
             "#d8576b"
            ],
            [
             0.6666666666666666,
             "#ed7953"
            ],
            [
             0.7777777777777778,
             "#fb9f3a"
            ],
            [
             0.8888888888888888,
             "#fdca26"
            ],
            [
             1,
             "#f0f921"
            ]
           ]
          },
          "colorway": [
           "#636efa",
           "#EF553B",
           "#00cc96",
           "#ab63fa",
           "#FFA15A",
           "#19d3f3",
           "#FF6692",
           "#B6E880",
           "#FF97FF",
           "#FECB52"
          ],
          "font": {
           "color": "#2a3f5f"
          },
          "geo": {
           "bgcolor": "white",
           "lakecolor": "white",
           "landcolor": "#E5ECF6",
           "showlakes": true,
           "showland": true,
           "subunitcolor": "white"
          },
          "hoverlabel": {
           "align": "left"
          },
          "hovermode": "closest",
          "mapbox": {
           "style": "light"
          },
          "paper_bgcolor": "white",
          "plot_bgcolor": "#E5ECF6",
          "polar": {
           "angularaxis": {
            "gridcolor": "white",
            "linecolor": "white",
            "ticks": ""
           },
           "bgcolor": "#E5ECF6",
           "radialaxis": {
            "gridcolor": "white",
            "linecolor": "white",
            "ticks": ""
           }
          },
          "scene": {
           "xaxis": {
            "backgroundcolor": "#E5ECF6",
            "gridcolor": "white",
            "gridwidth": 2,
            "linecolor": "white",
            "showbackground": true,
            "ticks": "",
            "zerolinecolor": "white"
           },
           "yaxis": {
            "backgroundcolor": "#E5ECF6",
            "gridcolor": "white",
            "gridwidth": 2,
            "linecolor": "white",
            "showbackground": true,
            "ticks": "",
            "zerolinecolor": "white"
           },
           "zaxis": {
            "backgroundcolor": "#E5ECF6",
            "gridcolor": "white",
            "gridwidth": 2,
            "linecolor": "white",
            "showbackground": true,
            "ticks": "",
            "zerolinecolor": "white"
           }
          },
          "shapedefaults": {
           "line": {
            "color": "#2a3f5f"
           }
          },
          "ternary": {
           "aaxis": {
            "gridcolor": "white",
            "linecolor": "white",
            "ticks": ""
           },
           "baxis": {
            "gridcolor": "white",
            "linecolor": "white",
            "ticks": ""
           },
           "bgcolor": "#E5ECF6",
           "caxis": {
            "gridcolor": "white",
            "linecolor": "white",
            "ticks": ""
           }
          },
          "title": {
           "x": 0.05
          },
          "xaxis": {
           "automargin": true,
           "gridcolor": "white",
           "linecolor": "white",
           "ticks": "",
           "title": {
            "standoff": 15
           },
           "zerolinecolor": "white",
           "zerolinewidth": 2
          },
          "yaxis": {
           "automargin": true,
           "gridcolor": "white",
           "linecolor": "white",
           "ticks": "",
           "title": {
            "standoff": 15
           },
           "zerolinecolor": "white",
           "zerolinewidth": 2
          }
         }
        },
        "title": {
         "text": "Täglich produzierte Packungen"
        },
        "xaxis": {
         "tickangle": -90
        },
        "yaxis": {
         "title": {
          "text": "Anzahl Packungen"
         }
        }
       }
      }
     },
     "metadata": {},
     "output_type": "display_data"
    }
   ],
   "source": [
    "pd_daily_produced_packs_all = daily_produced_packs_all.toPandas()\n",
    "fig = go.Figure(data=[\n",
    "    go.Bar(name='Täglich produzierte Gutpackungen',\n",
    "           x=pd_daily_produced_packs_all.date, \n",
    "           y=pd_daily_produced_packs_all.daily_good_packs),\n",
    "    go.Bar(name='Täglich produzierte Schlechtpackungen',\n",
    "           x=pd_daily_produced_packs_all.date,\n",
    "           y=pd_daily_produced_packs_all.daily_reject_packs,\n",
    "           text=pd_daily_produced_packs_all.daily_reject_packs_percentage.apply(lambda x: f\"{x}%\"))\n",
    "])\n",
    "# Change the bar mode\n",
    "fig.update_layout(barmode='stack')\n",
    "fig.update_layout(\n",
    "    title=f\"Täglich produzierte Packungen\",\n",
    "    yaxis_title=\"Anzahl Packungen\",\n",
    "    legend=dict(\n",
    "       orientation=\"h\",\n",
    "       yanchor=\"bottom\",\n",
    "       y=1,\n",
    "       xanchor=\"center\",\n",
    "       x=0.5\n",
    "    )\n",
    ")\n",
    "fig.update_xaxes(tickangle=-90)\n",
    "# fig.update_yaxes(type=\"log\")\n",
    "fig.show()"
   ]
  },
  {
   "attachments": {},
   "cell_type": "markdown",
   "metadata": {},
   "source": [
    "### Vorabanalyse Stündliche Produktion"
   ]
  },
  {
   "cell_type": "code",
   "execution_count": 27,
   "metadata": {},
   "outputs": [
    {
     "name": "stdout",
     "output_type": "stream",
     "text": [
      "+-----------------+-----------------+-------------------+------------------------------+\n",
      "|date             |hourly_good_packs|hourly_reject_packs|hourly_reject_packs_percentage|\n",
      "+-----------------+-----------------+-------------------+------------------------------+\n",
      "|2022-05-03 10 Tue|0                |120                |100.00                        |\n",
      "|2022-05-03 11 Tue|2171             |397                |15.46                         |\n",
      "|2022-05-03 12 Tue|4713             |375                |7.37                          |\n",
      "|2022-05-03 13 Tue|3855             |153                |3.82                          |\n",
      "|2022-05-03 14 Tue|6498             |54                 |0.82                          |\n",
      "|2022-05-03 15 Tue|8980             |140                |1.54                          |\n",
      "|2022-05-03 16 Tue|9348             |108                |1.14                          |\n",
      "|2022-05-03 17 Tue|5765             |307                |5.06                          |\n",
      "|2022-05-03 18 Tue|3276             |132                |3.87                          |\n",
      "|2022-05-03 19 Tue|8340             |84                 |1.00                          |\n",
      "|2022-05-03 20 Tue|6999             |321                |4.39                          |\n",
      "|2022-05-03 21 Tue|8464             |296                |3.38                          |\n",
      "|2022-05-03 22 Tue|5878             |242                |3.95                          |\n",
      "|2022-05-03 23 Tue|10115            |205                |1.99                          |\n",
      "|2022-05-04 00 Wed|8149             |227                |2.71                          |\n",
      "|2022-05-04 01 Wed|9811             |197                |1.97                          |\n",
      "|2022-05-04 02 Wed|4045             |179                |4.24                          |\n",
      "|2022-05-04 03 Wed|5235             |213                |3.91                          |\n",
      "|2022-05-04 04 Wed|6129             |183                |2.90                          |\n",
      "|2022-05-04 05 Wed|6796             |187                |2.68                          |\n",
      "|2022-05-04 06 Wed|8382             |210                |2.44                          |\n",
      "|2022-05-04 07 Wed|8467             |269                |3.08                          |\n",
      "|2022-05-04 08 Wed|7359             |417                |5.36                          |\n",
      "|2022-05-04 09 Wed|6056             |208                |3.32                          |\n",
      "|2022-05-04 10 Wed|2914             |230                |7.32                          |\n",
      "|2022-05-04 11 Wed|7119             |249                |3.38                          |\n",
      "|2022-05-04 12 Wed|7345             |407                |5.25                          |\n",
      "|2022-05-04 13 Wed|5671             |281                |4.72                          |\n",
      "|2022-05-04 14 Wed|4472             |352                |7.30                          |\n",
      "|2022-05-04 15 Wed|5580             |1188               |17.55                         |\n",
      "|2022-05-04 16 Wed|786              |102                |11.49                         |\n",
      "|2022-05-04 17 Wed|5126             |346                |6.32                          |\n",
      "|2022-05-04 18 Wed|2147             |109                |4.83                          |\n",
      "|2022-05-04 19 Wed|4477             |491                |9.88                          |\n",
      "|2022-05-04 20 Wed|6426             |294                |4.38                          |\n",
      "|2022-05-04 21 Wed|6887             |361                |4.98                          |\n",
      "|2022-05-04 22 Wed|6919             |209                |2.93                          |\n",
      "|2022-05-04 23 Wed|7286             |154                |2.07                          |\n",
      "|2022-05-05 00 Thu|6227             |181                |2.82                          |\n",
      "|2022-05-05 01 Thu|6367             |161                |2.47                          |\n",
      "|2022-05-05 02 Thu|5010             |246                |4.68                          |\n",
      "|2022-05-05 03 Thu|4315             |125                |2.82                          |\n",
      "|2022-05-05 04 Thu|7506             |222                |2.87                          |\n",
      "|2022-05-05 05 Thu|3994             |278                |6.51                          |\n",
      "|2022-05-05 06 Thu|7515             |237                |3.06                          |\n",
      "|2022-05-05 07 Thu|5559             |177                |3.09                          |\n",
      "|2022-05-05 08 Thu|5540             |196                |3.42                          |\n",
      "|2022-05-05 09 Thu|8151             |225                |2.69                          |\n",
      "|2022-05-05 10 Thu|1152             |264                |18.64                         |\n",
      "|2022-05-05 11 Thu|8619             |453                |4.99                          |\n",
      "|2022-05-05 12 Thu|1873             |95                 |4.83                          |\n",
      "|2022-05-05 13 Thu|5600             |328                |5.53                          |\n",
      "|2022-05-05 14 Thu|3535             |497                |12.33                         |\n",
      "|2022-05-05 15 Thu|4343             |121                |2.71                          |\n",
      "|2022-05-05 16 Thu|5647             |185                |3.17                          |\n",
      "|2022-05-05 17 Thu|6813             |267                |3.77                          |\n",
      "|2022-05-05 18 Thu|3605             |91                 |2.46                          |\n",
      "|2022-05-05 19 Thu|7689             |207                |2.62                          |\n",
      "|2022-05-05 20 Thu|8489             |271                |3.09                          |\n",
      "|2022-05-05 21 Thu|6536             |400                |5.77                          |\n",
      "|2022-05-05 22 Thu|5281             |143                |2.64                          |\n",
      "|2022-05-05 23 Thu|7120             |248                |3.37                          |\n",
      "|2022-05-06 00 Fri|4131             |309                |6.96                          |\n",
      "|2022-05-06 06 Fri|3186             |294                |8.45                          |\n",
      "|2022-05-06 07 Fri|8566             |290                |3.27                          |\n",
      "|2022-05-06 08 Fri|6765             |195                |2.80                          |\n",
      "|2022-05-06 09 Fri|6083             |493                |7.50                          |\n",
      "|2022-05-06 10 Fri|2529             |231                |8.37                          |\n",
      "|2022-05-06 11 Fri|4803             |165                |3.32                          |\n",
      "|2022-05-06 12 Fri|8528             |232                |2.65                          |\n",
      "|2022-05-06 13 Fri|9284             |292                |3.05                          |\n",
      "|2022-05-06 14 Fri|8412             |252                |2.91                          |\n",
      "|2022-05-06 15 Fri|7672             |272                |3.42                          |\n",
      "|2022-05-06 16 Fri|9549             |219                |2.24                          |\n",
      "|2022-05-06 17 Fri|4478             |442                |8.98                          |\n",
      "|2022-05-06 18 Fri|236              |124                |34.44                         |\n",
      "|2022-05-06 19 Fri|0                |480                |100.00                        |\n",
      "|2022-05-06 20 Fri|0                |384                |100.00                        |\n",
      "|2022-05-06 21 Fri|0                |360                |100.00                        |\n",
      "|2022-05-07 03 Sat|0                |120                |100.00                        |\n",
      "|2022-05-08 12 Sun|5                |91                 |94.79                         |\n",
      "|2022-05-09 05 Mon|0                |0                  |null                          |\n",
      "|2022-05-09 06 Mon|0                |264                |100.00                        |\n",
      "|2022-05-09 07 Mon|0                |408                |100.00                        |\n",
      "|2022-05-09 08 Mon|2759             |577                |17.30                         |\n",
      "|2022-05-09 09 Mon|2085             |99                 |4.53                          |\n",
      "|2022-05-09 10 Mon|3446             |178                |4.91                          |\n",
      "|2022-05-09 11 Mon|4808             |112                |2.28                          |\n",
      "|2022-05-09 12 Mon|5085             |243                |4.56                          |\n",
      "|2022-05-09 13 Mon|4128             |192                |4.44                          |\n",
      "|2022-05-09 14 Mon|3917             |67                 |1.68                          |\n",
      "|2022-05-09 15 Mon|5298             |150                |2.75                          |\n",
      "|2022-05-09 16 Mon|6140             |148                |2.35                          |\n",
      "|2022-05-09 17 Mon|4485             |171                |3.67                          |\n",
      "|2022-05-09 18 Mon|4368             |120                |2.67                          |\n",
      "|2022-05-09 19 Mon|8134             |362                |4.26                          |\n",
      "|2022-05-09 20 Mon|7834             |206                |2.56                          |\n",
      "|2022-05-09 21 Mon|6311             |265                |4.03                          |\n",
      "|2022-05-09 22 Mon|3471             |81                 |2.28                          |\n",
      "|2022-05-09 23 Mon|7594             |446                |5.55                          |\n",
      "+-----------------+-----------------+-------------------+------------------------------+\n",
      "only showing top 100 rows\n",
      "\n"
     ]
    }
   ],
   "source": [
    "# aggreate over hourly produced packs (good and reject)\n",
    "hourly_produced_packs_all = package_data_chrono_expanded_by_recipe.\\\n",
    "    withColumn(\"date\", date_format(col(\"timestamp\"), \"yyyy-MM-dd HH E\")).\\\n",
    "    groupBy(col(\"date\")).\\\n",
    "        agg(\n",
    "            sum(\"good_packs\").alias(\"hourly_good_packs\"),\n",
    "            sum(\"reject_packs\").alias(\"hourly_reject_packs\")\n",
    "        ).\\\n",
    "    withColumn(\n",
    "        \"hourly_reject_packs_percentage\",\n",
    "        format_number(col(\"hourly_reject_packs\") / (col(\"hourly_reject_packs\") + col(\"hourly_good_packs\")) * 100, 2)\n",
    "    ).\\\n",
    "    orderBy(\"date\")\n",
    "hourly_produced_packs_all.show(100, truncate=False)"
   ]
  },
  {
   "cell_type": "code",
   "execution_count": 28,
   "metadata": {},
   "outputs": [
    {
     "data": {
      "application/vnd.plotly.v1+json": {
       "config": {
        "plotlyServerURL": "https://plot.ly"
       },
       "data": [
        {
         "name": "Stündlich produzierte Gutpackungen",
         "type": "bar",
         "x": [
          "2022-05-03 10 Tue",
          "2022-05-03 11 Tue",
          "2022-05-03 12 Tue",
          "2022-05-03 13 Tue",
          "2022-05-03 14 Tue",
          "2022-05-03 15 Tue",
          "2022-05-03 16 Tue",
          "2022-05-03 17 Tue",
          "2022-05-03 18 Tue",
          "2022-05-03 19 Tue",
          "2022-05-03 20 Tue",
          "2022-05-03 21 Tue",
          "2022-05-03 22 Tue",
          "2022-05-03 23 Tue",
          "2022-05-04 00 Wed",
          "2022-05-04 01 Wed",
          "2022-05-04 02 Wed",
          "2022-05-04 03 Wed",
          "2022-05-04 04 Wed",
          "2022-05-04 05 Wed",
          "2022-05-04 06 Wed",
          "2022-05-04 07 Wed",
          "2022-05-04 08 Wed",
          "2022-05-04 09 Wed",
          "2022-05-04 10 Wed",
          "2022-05-04 11 Wed",
          "2022-05-04 12 Wed",
          "2022-05-04 13 Wed",
          "2022-05-04 14 Wed",
          "2022-05-04 15 Wed",
          "2022-05-04 16 Wed",
          "2022-05-04 17 Wed",
          "2022-05-04 18 Wed",
          "2022-05-04 19 Wed",
          "2022-05-04 20 Wed",
          "2022-05-04 21 Wed",
          "2022-05-04 22 Wed",
          "2022-05-04 23 Wed",
          "2022-05-05 00 Thu",
          "2022-05-05 01 Thu",
          "2022-05-05 02 Thu",
          "2022-05-05 03 Thu",
          "2022-05-05 04 Thu",
          "2022-05-05 05 Thu",
          "2022-05-05 06 Thu",
          "2022-05-05 07 Thu",
          "2022-05-05 08 Thu",
          "2022-05-05 09 Thu",
          "2022-05-05 10 Thu",
          "2022-05-05 11 Thu",
          "2022-05-05 12 Thu",
          "2022-05-05 13 Thu",
          "2022-05-05 14 Thu",
          "2022-05-05 15 Thu",
          "2022-05-05 16 Thu",
          "2022-05-05 17 Thu",
          "2022-05-05 18 Thu",
          "2022-05-05 19 Thu",
          "2022-05-05 20 Thu",
          "2022-05-05 21 Thu",
          "2022-05-05 22 Thu",
          "2022-05-05 23 Thu",
          "2022-05-06 00 Fri",
          "2022-05-06 06 Fri",
          "2022-05-06 07 Fri",
          "2022-05-06 08 Fri",
          "2022-05-06 09 Fri",
          "2022-05-06 10 Fri",
          "2022-05-06 11 Fri",
          "2022-05-06 12 Fri",
          "2022-05-06 13 Fri",
          "2022-05-06 14 Fri",
          "2022-05-06 15 Fri",
          "2022-05-06 16 Fri",
          "2022-05-06 17 Fri",
          "2022-05-06 18 Fri",
          "2022-05-06 19 Fri",
          "2022-05-06 20 Fri",
          "2022-05-06 21 Fri",
          "2022-05-07 03 Sat",
          "2022-05-08 12 Sun",
          "2022-05-09 05 Mon",
          "2022-05-09 06 Mon",
          "2022-05-09 07 Mon",
          "2022-05-09 08 Mon",
          "2022-05-09 09 Mon",
          "2022-05-09 10 Mon",
          "2022-05-09 11 Mon",
          "2022-05-09 12 Mon",
          "2022-05-09 13 Mon",
          "2022-05-09 14 Mon",
          "2022-05-09 15 Mon",
          "2022-05-09 16 Mon",
          "2022-05-09 17 Mon",
          "2022-05-09 18 Mon",
          "2022-05-09 19 Mon",
          "2022-05-09 20 Mon",
          "2022-05-09 21 Mon",
          "2022-05-09 22 Mon",
          "2022-05-09 23 Mon",
          "2022-05-10 00 Tue",
          "2022-05-10 01 Tue",
          "2022-05-10 02 Tue",
          "2022-05-10 03 Tue",
          "2022-05-10 04 Tue",
          "2022-05-10 05 Tue",
          "2022-05-10 06 Tue",
          "2022-05-10 07 Tue",
          "2022-05-10 08 Tue",
          "2022-05-10 09 Tue",
          "2022-05-10 10 Tue",
          "2022-05-10 11 Tue",
          "2022-05-10 12 Tue",
          "2022-05-10 13 Tue",
          "2022-05-10 14 Tue",
          "2022-05-10 15 Tue",
          "2022-05-10 16 Tue",
          "2022-05-10 17 Tue",
          "2022-05-10 18 Tue",
          "2022-05-10 19 Tue",
          "2022-05-10 20 Tue",
          "2022-05-10 21 Tue",
          "2022-05-10 22 Tue",
          "2022-05-10 23 Tue",
          "2022-05-11 00 Wed",
          "2022-05-11 01 Wed",
          "2022-05-11 02 Wed",
          "2022-05-11 03 Wed",
          "2022-05-11 04 Wed",
          "2022-05-11 05 Wed",
          "2022-05-11 06 Wed",
          "2022-05-11 07 Wed",
          "2022-05-11 08 Wed",
          "2022-05-11 09 Wed",
          "2022-05-11 10 Wed",
          "2022-05-11 11 Wed",
          "2022-05-11 12 Wed",
          "2022-05-11 13 Wed",
          "2022-05-11 14 Wed",
          "2022-05-11 15 Wed",
          "2022-05-11 16 Wed",
          "2022-05-11 17 Wed",
          "2022-05-11 18 Wed",
          "2022-05-11 19 Wed",
          "2022-05-11 20 Wed",
          "2022-05-11 21 Wed",
          "2022-05-11 22 Wed",
          "2022-05-11 23 Wed",
          "2022-05-12 00 Thu",
          "2022-05-12 01 Thu",
          "2022-05-12 02 Thu",
          "2022-05-12 03 Thu",
          "2022-05-12 04 Thu",
          "2022-05-12 05 Thu",
          "2022-05-12 06 Thu",
          "2022-05-12 07 Thu",
          "2022-05-12 08 Thu",
          "2022-05-12 09 Thu",
          "2022-05-12 10 Thu",
          "2022-05-12 14 Thu",
          "2022-05-12 15 Thu",
          "2022-05-12 16 Thu",
          "2022-05-12 17 Thu",
          "2022-05-12 18 Thu",
          "2022-05-12 19 Thu",
          "2022-05-12 20 Thu",
          "2022-05-12 21 Thu",
          "2022-05-12 22 Thu",
          "2022-05-12 23 Thu",
          "2022-05-13 00 Fri",
          "2022-05-13 01 Fri",
          "2022-05-13 02 Fri",
          "2022-05-13 03 Fri",
          "2022-05-13 04 Fri",
          "2022-05-13 05 Fri",
          "2022-05-13 06 Fri",
          "2022-05-13 07 Fri",
          "2022-05-13 08 Fri",
          "2022-05-13 15 Fri",
          "2022-05-13 16 Fri",
          "2022-05-13 17 Fri",
          "2022-05-13 18 Fri",
          "2022-05-13 19 Fri",
          "2022-05-13 20 Fri",
          "2022-05-13 21 Fri",
          "2022-05-16 07 Mon",
          "2022-05-16 08 Mon",
          "2022-05-16 09 Mon",
          "2022-05-16 10 Mon",
          "2022-05-16 11 Mon",
          "2022-05-16 12 Mon",
          "2022-05-16 13 Mon",
          "2022-05-16 14 Mon",
          "2022-05-16 15 Mon",
          "2022-05-16 16 Mon",
          "2022-05-16 17 Mon",
          "2022-05-16 18 Mon",
          "2022-05-16 19 Mon",
          "2022-05-16 20 Mon",
          "2022-05-16 21 Mon",
          "2022-05-16 22 Mon",
          "2022-05-16 23 Mon",
          "2022-05-17 00 Tue",
          "2022-05-17 01 Tue",
          "2022-05-17 02 Tue",
          "2022-05-17 03 Tue",
          "2022-05-17 04 Tue",
          "2022-05-17 05 Tue",
          "2022-05-17 06 Tue",
          "2022-05-17 07 Tue",
          "2022-05-17 08 Tue",
          "2022-05-17 09 Tue",
          "2022-05-17 10 Tue",
          "2022-05-17 11 Tue",
          "2022-05-17 12 Tue",
          "2022-05-17 13 Tue",
          "2022-05-17 14 Tue",
          "2022-05-17 15 Tue",
          "2022-05-17 16 Tue",
          "2022-05-17 17 Tue",
          "2022-05-17 18 Tue",
          "2022-05-17 19 Tue",
          "2022-05-17 20 Tue",
          "2022-05-17 21 Tue",
          "2022-05-17 22 Tue",
          "2022-05-17 23 Tue",
          "2022-05-18 00 Wed",
          "2022-05-18 01 Wed",
          "2022-05-18 02 Wed",
          "2022-05-18 03 Wed",
          "2022-05-18 04 Wed",
          "2022-05-18 05 Wed",
          "2022-05-18 06 Wed",
          "2022-05-18 07 Wed",
          "2022-05-18 08 Wed",
          "2022-05-18 09 Wed",
          "2022-05-18 10 Wed",
          "2022-05-18 11 Wed",
          "2022-05-18 12 Wed",
          "2022-05-18 13 Wed",
          "2022-05-18 14 Wed",
          "2022-05-18 15 Wed",
          "2022-05-18 16 Wed",
          "2022-05-18 17 Wed",
          "2022-05-18 18 Wed",
          "2022-05-18 19 Wed",
          "2022-05-18 20 Wed",
          "2022-05-18 21 Wed",
          "2022-05-18 22 Wed",
          "2022-05-18 23 Wed",
          "2022-05-19 00 Thu",
          "2022-05-19 01 Thu",
          "2022-05-19 02 Thu",
          "2022-05-19 03 Thu",
          "2022-05-19 04 Thu",
          "2022-05-19 05 Thu",
          "2022-05-19 06 Thu",
          "2022-05-19 07 Thu",
          "2022-05-19 08 Thu",
          "2022-05-19 09 Thu",
          "2022-05-19 10 Thu",
          "2022-05-19 11 Thu",
          "2022-05-19 12 Thu",
          "2022-05-19 13 Thu",
          "2022-05-19 14 Thu",
          "2022-05-19 15 Thu",
          "2022-05-19 16 Thu",
          "2022-05-19 17 Thu",
          "2022-05-19 18 Thu",
          "2022-05-19 19 Thu",
          "2022-05-19 20 Thu",
          "2022-05-19 21 Thu",
          "2022-05-19 22 Thu",
          "2022-05-19 23 Thu",
          "2022-05-20 00 Fri",
          "2022-05-20 01 Fri",
          "2022-05-20 02 Fri",
          "2022-05-20 03 Fri",
          "2022-05-20 04 Fri",
          "2022-05-20 05 Fri",
          "2022-05-20 06 Fri",
          "2022-05-20 07 Fri",
          "2022-05-20 08 Fri",
          "2022-05-20 09 Fri",
          "2022-05-20 10 Fri",
          "2022-05-20 11 Fri",
          "2022-05-20 12 Fri",
          "2022-05-23 06 Mon",
          "2022-05-23 07 Mon",
          "2022-05-23 08 Mon",
          "2022-05-23 09 Mon",
          "2022-05-23 10 Mon",
          "2022-05-23 11 Mon",
          "2022-05-23 12 Mon",
          "2022-05-23 13 Mon",
          "2022-05-23 14 Mon",
          "2022-05-23 15 Mon",
          "2022-05-23 16 Mon",
          "2022-05-23 17 Mon",
          "2022-05-23 18 Mon",
          "2022-05-23 19 Mon",
          "2022-05-23 20 Mon",
          "2022-05-23 21 Mon",
          "2022-05-23 22 Mon",
          "2022-05-23 23 Mon",
          "2022-05-24 00 Tue",
          "2022-05-24 01 Tue",
          "2022-05-24 02 Tue",
          "2022-05-24 03 Tue",
          "2022-05-24 04 Tue",
          "2022-05-24 05 Tue",
          "2022-05-24 06 Tue",
          "2022-05-24 07 Tue",
          "2022-05-24 08 Tue",
          "2022-05-24 09 Tue",
          "2022-05-24 10 Tue",
          "2022-05-24 11 Tue",
          "2022-05-24 12 Tue",
          "2022-05-24 13 Tue",
          "2022-05-24 14 Tue",
          "2022-05-24 15 Tue",
          "2022-05-24 16 Tue",
          "2022-05-24 17 Tue",
          "2022-05-24 18 Tue",
          "2022-05-24 19 Tue",
          "2022-05-24 20 Tue",
          "2022-05-24 21 Tue",
          "2022-05-24 22 Tue",
          "2022-05-24 23 Tue",
          "2022-05-25 00 Wed",
          "2022-05-25 01 Wed",
          "2022-05-25 02 Wed",
          "2022-05-25 03 Wed",
          "2022-05-25 04 Wed",
          "2022-05-25 05 Wed",
          "2022-05-25 06 Wed",
          "2022-05-25 07 Wed",
          "2022-05-25 08 Wed",
          "2022-05-25 09 Wed",
          "2022-05-25 10 Wed",
          "2022-05-25 11 Wed",
          "2022-05-25 12 Wed",
          "2022-05-25 13 Wed",
          "2022-05-25 14 Wed",
          "2022-05-25 15 Wed",
          "2022-05-25 16 Wed",
          "2022-05-25 17 Wed",
          "2022-05-25 18 Wed",
          "2022-05-25 19 Wed",
          "2022-05-25 20 Wed",
          "2022-05-25 21 Wed",
          "2022-05-25 22 Wed",
          "2022-05-25 23 Wed",
          "2022-05-26 00 Thu",
          "2022-05-26 01 Thu",
          "2022-05-30 06 Mon",
          "2022-05-30 07 Mon",
          "2022-05-30 15 Mon",
          "2022-05-30 16 Mon",
          "2022-05-30 17 Mon",
          "2022-05-30 18 Mon",
          "2022-05-30 19 Mon",
          "2022-05-30 20 Mon",
          "2022-05-30 21 Mon",
          "2022-05-30 22 Mon",
          "2022-05-30 23 Mon",
          "2022-05-31 00 Tue",
          "2022-05-31 01 Tue",
          "2022-05-31 02 Tue",
          "2022-05-31 03 Tue",
          "2022-05-31 04 Tue",
          "2022-05-31 05 Tue",
          "2022-05-31 06 Tue",
          "2022-05-31 07 Tue",
          "2022-05-31 08 Tue",
          "2022-05-31 09 Tue",
          "2022-05-31 10 Tue",
          "2022-05-31 11 Tue",
          "2022-05-31 12 Tue",
          "2022-05-31 14 Tue",
          "2022-05-31 15 Tue",
          "2022-05-31 16 Tue",
          "2022-05-31 17 Tue",
          "2022-05-31 18 Tue",
          "2022-05-31 19 Tue",
          "2022-05-31 20 Tue",
          "2022-05-31 21 Tue",
          "2022-05-31 22 Tue",
          "2022-05-31 23 Tue",
          "2022-06-01 00 Wed",
          "2022-06-01 01 Wed",
          "2022-06-01 02 Wed",
          "2022-06-01 03 Wed",
          "2022-06-01 04 Wed",
          "2022-06-01 05 Wed",
          "2022-06-01 06 Wed",
          "2022-06-01 07 Wed",
          "2022-06-01 08 Wed",
          "2022-06-01 09 Wed",
          "2022-06-01 10 Wed",
          "2022-06-01 11 Wed",
          "2022-06-01 12 Wed",
          "2022-06-01 13 Wed",
          "2022-06-01 14 Wed",
          "2022-06-01 15 Wed",
          "2022-06-01 16 Wed",
          "2022-06-01 17 Wed",
          "2022-06-01 18 Wed",
          "2022-06-01 19 Wed",
          "2022-06-01 20 Wed",
          "2022-06-01 21 Wed",
          "2022-06-01 22 Wed",
          "2022-06-01 23 Wed",
          "2022-06-02 00 Thu",
          "2022-06-02 01 Thu",
          "2022-06-02 02 Thu",
          "2022-06-02 03 Thu",
          "2022-06-02 04 Thu",
          "2022-06-02 05 Thu",
          "2022-06-02 06 Thu",
          "2022-06-02 07 Thu",
          "2022-06-02 08 Thu",
          "2022-06-02 09 Thu",
          "2022-06-02 10 Thu",
          "2022-06-02 11 Thu",
          "2022-06-02 12 Thu",
          "2022-06-02 13 Thu",
          "2022-06-02 14 Thu",
          "2022-06-02 15 Thu",
          "2022-06-02 16 Thu",
          "2022-06-02 17 Thu",
          "2022-06-02 18 Thu",
          "2022-06-02 19 Thu",
          "2022-06-02 20 Thu",
          "2022-06-02 21 Thu",
          "2022-06-02 22 Thu",
          "2022-06-02 23 Thu",
          "2022-06-03 00 Fri",
          "2022-06-03 01 Fri",
          "2022-06-03 02 Fri",
          "2022-06-03 03 Fri",
          "2022-06-03 04 Fri",
          "2022-06-03 05 Fri",
          "2022-06-03 06 Fri",
          "2022-06-03 07 Fri",
          "2022-06-03 08 Fri",
          "2022-06-03 09 Fri",
          "2022-06-03 10 Fri",
          "2022-06-03 11 Fri",
          "2022-06-03 12 Fri",
          "2022-06-03 13 Fri",
          "2022-06-03 14 Fri",
          "2022-06-03 15 Fri",
          "2022-06-03 16 Fri",
          "2022-06-03 17 Fri",
          "2022-06-03 18 Fri",
          "2022-06-03 19 Fri",
          "2022-06-03 20 Fri",
          "2022-06-03 21 Fri",
          "2022-06-05 05 Sun",
          "2022-06-05 06 Sun",
          "2022-06-05 07 Sun",
          "2022-06-05 08 Sun",
          "2022-06-05 09 Sun",
          "2022-06-05 10 Sun",
          "2022-06-05 11 Sun",
          "2022-06-05 12 Sun",
          "2022-06-05 13 Sun",
          "2022-06-05 14 Sun",
          "2022-06-05 15 Sun",
          "2022-06-05 16 Sun",
          "2022-06-05 17 Sun",
          "2022-06-05 18 Sun",
          "2022-06-05 19 Sun",
          "2022-06-05 20 Sun",
          "2022-06-05 21 Sun",
          "2022-06-05 22 Sun",
          "2022-06-05 23 Sun",
          "2022-06-06 00 Mon",
          "2022-06-06 01 Mon",
          "2022-06-06 02 Mon",
          "2022-06-06 03 Mon",
          "2022-06-06 04 Mon",
          "2022-06-06 05 Mon",
          "2022-06-06 06 Mon",
          "2022-06-06 07 Mon",
          "2022-06-06 08 Mon",
          "2022-06-06 09 Mon",
          "2022-06-06 10 Mon",
          "2022-06-06 11 Mon",
          "2022-06-06 12 Mon",
          "2022-06-06 13 Mon",
          "2022-06-06 14 Mon",
          "2022-06-06 15 Mon",
          "2022-06-06 16 Mon",
          "2022-06-07 21 Tue",
          "2022-06-07 22 Tue",
          "2022-06-07 23 Tue",
          "2022-06-08 00 Wed",
          "2022-06-08 01 Wed",
          "2022-06-08 02 Wed",
          "2022-06-08 03 Wed",
          "2022-06-08 04 Wed",
          "2022-06-08 05 Wed",
          "2022-06-08 06 Wed",
          "2022-06-08 07 Wed",
          "2022-06-08 08 Wed",
          "2022-06-08 09 Wed",
          "2022-06-08 10 Wed",
          "2022-06-08 11 Wed",
          "2022-06-08 12 Wed",
          "2022-06-08 13 Wed",
          "2022-06-08 14 Wed",
          "2022-06-08 15 Wed",
          "2022-06-08 16 Wed",
          "2022-06-08 17 Wed",
          "2022-06-08 18 Wed",
          "2022-06-08 19 Wed",
          "2022-06-08 20 Wed",
          "2022-06-08 21 Wed",
          "2022-06-08 22 Wed",
          "2022-06-08 23 Wed",
          "2022-06-09 00 Thu",
          "2022-06-09 01 Thu",
          "2022-06-09 02 Thu",
          "2022-06-09 03 Thu",
          "2022-06-09 04 Thu",
          "2022-06-09 11 Thu",
          "2022-06-09 12 Thu",
          "2022-06-09 13 Thu",
          "2022-06-09 14 Thu",
          "2022-06-09 15 Thu",
          "2022-06-09 16 Thu",
          "2022-06-09 17 Thu",
          "2022-06-09 18 Thu",
          "2022-06-09 19 Thu",
          "2022-06-09 20 Thu",
          "2022-06-09 21 Thu",
          "2022-06-09 22 Thu",
          "2022-06-09 23 Thu",
          "2022-06-10 00 Fri",
          "2022-06-10 01 Fri",
          "2022-06-10 02 Fri",
          "2022-06-10 03 Fri",
          "2022-06-10 04 Fri",
          "2022-06-10 05 Fri",
          "2022-06-10 06 Fri",
          "2022-06-10 07 Fri",
          "2022-06-10 08 Fri",
          "2022-06-10 09 Fri",
          "2022-06-10 10 Fri",
          "2022-06-10 11 Fri",
          "2022-06-10 12 Fri",
          "2022-06-10 13 Fri",
          "2022-06-10 14 Fri",
          "2022-06-10 15 Fri",
          "2022-06-10 16 Fri",
          "2022-06-10 17 Fri",
          "2022-06-10 18 Fri",
          "2022-06-10 19 Fri",
          "2022-06-10 20 Fri",
          "2022-06-10 21 Fri",
          "2022-06-10 22 Fri",
          "2022-06-13 06 Mon",
          "2022-06-13 07 Mon",
          "2022-06-13 08 Mon",
          "2022-06-13 09 Mon",
          "2022-06-13 10 Mon",
          "2022-06-13 11 Mon",
          "2022-06-13 12 Mon",
          "2022-06-13 13 Mon",
          "2022-06-13 14 Mon",
          "2022-06-13 15 Mon",
          "2022-06-13 16 Mon",
          "2022-06-13 17 Mon",
          "2022-06-13 18 Mon",
          "2022-06-13 19 Mon",
          "2022-06-13 20 Mon",
          "2022-06-13 21 Mon",
          "2022-06-13 22 Mon",
          "2022-06-13 23 Mon",
          "2022-06-14 00 Tue",
          "2022-06-14 01 Tue",
          "2022-06-14 02 Tue",
          "2022-06-14 03 Tue",
          "2022-06-14 04 Tue",
          "2022-06-14 05 Tue",
          "2022-06-14 06 Tue",
          "2022-06-14 07 Tue",
          "2022-06-14 08 Tue",
          "2022-06-14 09 Tue",
          "2022-06-14 10 Tue",
          "2022-06-14 11 Tue",
          "2022-06-14 12 Tue",
          "2022-06-14 13 Tue",
          "2022-06-14 14 Tue",
          "2022-06-14 15 Tue",
          "2022-06-14 16 Tue",
          "2022-06-14 17 Tue",
          "2022-06-14 18 Tue",
          "2022-06-14 19 Tue",
          "2022-06-14 20 Tue",
          "2022-06-14 21 Tue",
          "2022-06-14 22 Tue",
          "2022-06-14 23 Tue",
          "2022-06-15 00 Wed",
          "2022-06-15 01 Wed",
          "2022-06-15 02 Wed",
          "2022-06-15 03 Wed",
          "2022-06-15 04 Wed",
          "2022-06-15 05 Wed",
          "2022-06-15 06 Wed",
          "2022-06-15 07 Wed",
          "2022-06-15 08 Wed",
          "2022-06-15 09 Wed",
          "2022-06-15 10 Wed",
          "2022-06-15 11 Wed",
          "2022-06-15 12 Wed",
          "2022-06-15 13 Wed",
          "2022-06-15 14 Wed",
          "2022-06-15 15 Wed",
          "2022-06-15 16 Wed",
          "2022-06-15 17 Wed",
          "2022-06-15 18 Wed",
          "2022-06-15 19 Wed",
          "2022-06-15 20 Wed",
          "2022-06-15 21 Wed",
          "2022-06-15 22 Wed",
          "2022-06-15 23 Wed",
          "2022-06-16 00 Thu",
          "2022-06-16 01 Thu",
          "2022-06-16 02 Thu",
          "2022-06-16 03 Thu",
          "2022-06-16 04 Thu",
          "2022-06-16 05 Thu",
          "2022-06-16 21 Thu",
          "2022-06-16 22 Thu",
          "2022-06-17 00 Fri",
          "2022-06-17 01 Fri",
          "2022-06-17 02 Fri",
          "2022-06-17 03 Fri",
          "2022-06-17 04 Fri",
          "2022-06-17 05 Fri",
          "2022-06-20 05 Mon",
          "2022-06-20 06 Mon",
          "2022-06-20 07 Mon",
          "2022-06-20 08 Mon",
          "2022-06-20 09 Mon",
          "2022-06-20 10 Mon",
          "2022-06-20 11 Mon",
          "2022-06-20 12 Mon",
          "2022-06-20 13 Mon",
          "2022-06-20 14 Mon",
          "2022-06-20 15 Mon",
          "2022-06-20 16 Mon",
          "2022-06-20 17 Mon",
          "2022-06-20 18 Mon",
          "2022-06-20 19 Mon",
          "2022-06-20 20 Mon",
          "2022-06-20 21 Mon",
          "2022-06-20 22 Mon",
          "2022-06-20 23 Mon",
          "2022-06-21 00 Tue",
          "2022-06-21 01 Tue",
          "2022-06-21 02 Tue",
          "2022-06-21 03 Tue",
          "2022-06-21 04 Tue",
          "2022-06-21 05 Tue",
          "2022-06-21 06 Tue",
          "2022-06-21 07 Tue",
          "2022-06-21 08 Tue",
          "2022-06-21 09 Tue",
          "2022-06-21 10 Tue",
          "2022-06-21 11 Tue",
          "2022-06-21 12 Tue",
          "2022-06-21 13 Tue",
          "2022-06-21 14 Tue",
          "2022-06-21 15 Tue",
          "2022-06-21 16 Tue",
          "2022-06-21 17 Tue",
          "2022-06-21 18 Tue",
          "2022-06-21 19 Tue",
          "2022-06-21 20 Tue",
          "2022-06-21 21 Tue",
          "2022-06-21 22 Tue",
          "2022-06-21 23 Tue",
          "2022-06-22 00 Wed",
          "2022-06-22 01 Wed",
          "2022-06-22 02 Wed",
          "2022-06-22 03 Wed",
          "2022-06-22 04 Wed",
          "2022-06-22 05 Wed",
          "2022-06-22 06 Wed",
          "2022-06-22 07 Wed",
          "2022-06-22 08 Wed",
          "2022-06-22 09 Wed",
          "2022-06-22 10 Wed",
          "2022-06-22 11 Wed",
          "2022-06-22 12 Wed",
          "2022-06-22 13 Wed",
          "2022-06-22 14 Wed",
          "2022-06-22 15 Wed",
          "2022-06-22 16 Wed",
          "2022-06-22 17 Wed",
          "2022-06-22 18 Wed",
          "2022-06-22 19 Wed",
          "2022-06-22 20 Wed",
          "2022-06-22 21 Wed",
          "2022-06-22 22 Wed",
          "2022-06-22 23 Wed",
          "2022-06-23 00 Thu",
          "2022-06-23 01 Thu",
          "2022-06-23 02 Thu",
          "2022-06-23 03 Thu",
          "2022-06-23 04 Thu",
          "2022-06-23 05 Thu",
          "2022-06-23 06 Thu",
          "2022-06-23 07 Thu",
          "2022-06-23 08 Thu",
          "2022-06-23 09 Thu",
          "2022-06-23 10 Thu",
          "2022-06-23 11 Thu",
          "2022-06-23 12 Thu",
          "2022-06-23 13 Thu",
          "2022-06-23 14 Thu",
          "2022-06-23 15 Thu",
          "2022-06-23 16 Thu",
          "2022-06-23 17 Thu",
          "2022-06-23 18 Thu",
          "2022-06-23 19 Thu",
          "2022-06-23 20 Thu",
          "2022-06-23 21 Thu",
          "2022-06-23 22 Thu",
          "2022-06-23 23 Thu",
          "2022-06-24 00 Fri",
          "2022-06-24 01 Fri",
          "2022-06-24 02 Fri",
          "2022-06-24 03 Fri",
          "2022-06-24 04 Fri",
          "2022-06-24 05 Fri",
          "2022-06-24 06 Fri",
          "2022-06-24 07 Fri",
          "2022-06-24 10 Fri",
          "2022-06-24 11 Fri",
          "2022-06-27 05 Mon",
          "2022-06-27 06 Mon",
          "2022-06-27 07 Mon",
          "2022-06-27 08 Mon",
          "2022-06-27 09 Mon",
          "2022-06-27 10 Mon",
          "2022-06-27 11 Mon",
          "2022-06-27 12 Mon",
          "2022-06-27 13 Mon",
          "2022-06-27 14 Mon",
          "2022-06-27 15 Mon",
          "2022-06-27 16 Mon",
          "2022-06-27 17 Mon",
          "2022-06-27 18 Mon",
          "2022-06-27 19 Mon",
          "2022-06-27 20 Mon",
          "2022-06-27 21 Mon",
          "2022-06-27 22 Mon",
          "2022-06-27 23 Mon",
          "2022-06-28 00 Tue",
          "2022-06-28 01 Tue",
          "2022-06-28 02 Tue",
          "2022-06-28 03 Tue",
          "2022-06-28 04 Tue",
          "2022-06-28 05 Tue",
          "2022-06-28 06 Tue",
          "2022-06-28 07 Tue",
          "2022-06-28 08 Tue",
          "2022-06-28 09 Tue",
          "2022-06-28 10 Tue",
          "2022-06-28 11 Tue",
          "2022-06-28 12 Tue",
          "2022-06-28 13 Tue",
          "2022-06-28 14 Tue",
          "2022-06-28 15 Tue",
          "2022-06-28 16 Tue",
          "2022-06-28 17 Tue",
          "2022-06-28 18 Tue",
          "2022-06-28 19 Tue",
          "2022-06-28 20 Tue",
          "2022-06-28 21 Tue",
          "2022-06-28 22 Tue",
          "2022-06-28 23 Tue",
          "2022-06-29 00 Wed",
          "2022-06-29 01 Wed",
          "2022-06-29 02 Wed",
          "2022-06-29 03 Wed",
          "2022-06-29 04 Wed",
          "2022-06-29 05 Wed",
          "2022-06-29 06 Wed",
          "2022-06-29 07 Wed",
          "2022-06-29 08 Wed",
          "2022-06-29 09 Wed",
          "2022-06-29 10 Wed",
          "2022-06-29 11 Wed",
          "2022-06-29 12 Wed",
          "2022-06-29 13 Wed",
          "2022-06-29 14 Wed",
          "2022-06-29 15 Wed",
          "2022-06-29 16 Wed",
          "2022-06-29 17 Wed",
          "2022-06-29 18 Wed",
          "2022-06-29 19 Wed",
          "2022-06-29 20 Wed",
          "2022-06-29 21 Wed",
          "2022-06-29 22 Wed",
          "2022-06-29 23 Wed",
          "2022-06-30 00 Thu",
          "2022-06-30 01 Thu",
          "2022-06-30 02 Thu",
          "2022-06-30 03 Thu",
          "2022-06-30 04 Thu",
          "2022-06-30 05 Thu",
          "2022-06-30 06 Thu",
          "2022-06-30 07 Thu",
          "2022-06-30 08 Thu",
          "2022-06-30 09 Thu",
          "2022-06-30 10 Thu",
          "2022-06-30 11 Thu",
          "2022-06-30 12 Thu",
          "2022-06-30 13 Thu",
          "2022-06-30 14 Thu",
          "2022-06-30 15 Thu",
          "2022-06-30 16 Thu",
          "2022-06-30 17 Thu",
          "2022-06-30 18 Thu",
          "2022-06-30 19 Thu",
          "2022-06-30 20 Thu",
          "2022-06-30 21 Thu",
          "2022-06-30 22 Thu",
          "2022-06-30 23 Thu",
          "2022-07-01 00 Fri",
          "2022-07-01 01 Fri",
          "2022-07-01 02 Fri",
          "2022-07-01 03 Fri",
          "2022-07-07 13 Thu",
          "2022-07-07 14 Thu",
          "2022-07-07 15 Thu",
          "2022-07-07 16 Thu",
          "2022-07-08 09 Fri",
          "2022-07-08 10 Fri",
          "2022-07-08 11 Fri",
          "2022-07-08 12 Fri",
          "2022-07-10 08 Sun",
          "2022-07-10 09 Sun",
          "2022-07-10 10 Sun",
          "2022-07-10 11 Sun",
          "2022-07-11 13 Mon",
          "2022-07-11 14 Mon",
          "2022-07-11 15 Mon",
          "2022-07-11 16 Mon",
          "2022-07-11 17 Mon",
          "2022-07-11 18 Mon",
          "2022-07-11 19 Mon",
          "2022-07-11 20 Mon",
          "2022-07-11 21 Mon",
          "2022-07-11 22 Mon",
          "2022-07-11 23 Mon",
          "2022-07-12 00 Tue",
          "2022-07-12 01 Tue",
          "2022-07-12 02 Tue",
          "2022-07-12 03 Tue",
          "2022-07-12 04 Tue",
          "2022-07-12 05 Tue",
          "2022-07-12 06 Tue",
          "2022-07-12 07 Tue",
          "2022-07-12 08 Tue",
          "2022-07-12 09 Tue",
          "2022-07-12 10 Tue",
          "2022-07-12 12 Tue",
          "2022-07-12 13 Tue",
          "2022-07-12 14 Tue",
          "2022-07-12 15 Tue",
          "2022-07-12 16 Tue",
          "2022-07-12 17 Tue",
          "2022-07-12 18 Tue",
          "2022-07-12 19 Tue",
          "2022-07-12 20 Tue",
          "2022-07-12 21 Tue",
          "2022-07-12 22 Tue",
          "2022-07-12 23 Tue",
          "2022-07-13 00 Wed",
          "2022-07-13 01 Wed",
          "2022-07-13 02 Wed",
          "2022-07-13 03 Wed",
          "2022-07-13 04 Wed",
          "2022-07-13 05 Wed",
          "2022-07-13 06 Wed",
          "2022-07-13 07 Wed",
          "2022-07-13 08 Wed",
          "2022-07-13 09 Wed",
          "2022-07-13 10 Wed",
          "2022-07-13 11 Wed",
          "2022-07-13 12 Wed",
          "2022-07-13 13 Wed",
          "2022-07-13 14 Wed",
          "2022-07-13 15 Wed",
          "2022-07-13 16 Wed",
          "2022-07-13 17 Wed",
          "2022-07-13 18 Wed",
          "2022-07-13 19 Wed",
          "2022-07-13 20 Wed",
          "2022-07-13 21 Wed",
          "2022-07-13 22 Wed",
          "2022-07-13 23 Wed",
          "2022-07-14 00 Thu",
          "2022-07-14 01 Thu",
          "2022-07-14 02 Thu",
          "2022-07-14 03 Thu",
          "2022-07-14 04 Thu",
          "2022-07-14 05 Thu",
          "2022-07-14 06 Thu",
          "2022-07-14 07 Thu",
          "2022-07-14 08 Thu",
          "2022-07-14 09 Thu",
          "2022-07-14 10 Thu",
          "2022-07-14 11 Thu",
          "2022-07-14 12 Thu",
          "2022-07-14 13 Thu",
          "2022-07-14 14 Thu",
          "2022-07-14 15 Thu",
          "2022-07-14 16 Thu",
          "2022-07-14 17 Thu",
          "2022-07-14 18 Thu",
          "2022-07-14 19 Thu",
          "2022-07-14 20 Thu",
          "2022-07-14 21 Thu",
          "2022-07-14 22 Thu",
          "2022-07-14 23 Thu",
          "2022-07-15 00 Fri",
          "2022-07-15 01 Fri",
          "2022-07-15 02 Fri",
          "2022-07-15 03 Fri",
          "2022-07-15 04 Fri",
          "2022-07-15 05 Fri",
          "2022-07-15 06 Fri",
          "2022-07-15 07 Fri",
          "2022-07-15 08 Fri",
          "2022-07-15 09 Fri",
          "2022-07-15 10 Fri",
          "2022-07-15 11 Fri",
          "2022-07-15 12 Fri",
          "2022-07-15 13 Fri",
          "2022-07-15 14 Fri",
          "2022-07-15 15 Fri",
          "2022-07-16 13 Sat",
          "2022-07-18 05 Mon",
          "2022-07-18 06 Mon",
          "2022-07-18 07 Mon",
          "2022-07-18 08 Mon",
          "2022-07-18 09 Mon",
          "2022-07-18 10 Mon",
          "2022-07-18 11 Mon",
          "2022-07-18 12 Mon",
          "2022-07-18 13 Mon",
          "2022-07-18 14 Mon",
          "2022-07-18 15 Mon",
          "2022-07-18 16 Mon",
          "2022-07-18 17 Mon",
          "2022-07-18 18 Mon",
          "2022-07-18 19 Mon",
          "2022-07-18 20 Mon",
          "2022-07-18 21 Mon",
          "2022-07-19 05 Tue",
          "2022-07-19 06 Tue",
          "2022-07-19 07 Tue",
          "2022-07-19 08 Tue",
          "2022-07-19 09 Tue",
          "2022-07-19 10 Tue",
          "2022-07-19 11 Tue",
          "2022-07-19 12 Tue",
          "2022-07-19 13 Tue",
          "2022-07-19 14 Tue",
          "2022-07-19 15 Tue",
          "2022-07-19 16 Tue",
          "2022-07-19 17 Tue",
          "2022-07-19 18 Tue",
          "2022-07-19 19 Tue",
          "2022-07-19 20 Tue",
          "2022-07-19 21 Tue",
          "2022-07-20 05 Wed",
          "2022-07-20 06 Wed",
          "2022-07-20 07 Wed",
          "2022-07-20 08 Wed",
          "2022-07-20 09 Wed",
          "2022-07-20 10 Wed",
          "2022-07-20 11 Wed",
          "2022-07-20 12 Wed",
          "2022-07-20 13 Wed",
          "2022-07-20 14 Wed",
          "2022-07-20 15 Wed",
          "2022-07-20 16 Wed",
          "2022-07-20 17 Wed",
          "2022-07-20 18 Wed",
          "2022-07-20 19 Wed",
          "2022-07-20 20 Wed",
          "2022-07-20 21 Wed",
          "2022-07-21 05 Thu",
          "2022-07-21 06 Thu",
          "2022-07-21 07 Thu",
          "2022-07-21 08 Thu",
          "2022-07-21 09 Thu",
          "2022-07-21 10 Thu",
          "2022-07-21 11 Thu",
          "2022-07-21 12 Thu",
          "2022-07-21 13 Thu",
          "2022-07-21 14 Thu",
          "2022-07-21 15 Thu",
          "2022-07-21 16 Thu",
          "2022-07-21 18 Thu",
          "2022-07-21 19 Thu",
          "2022-07-21 20 Thu",
          "2022-07-21 21 Thu",
          "2022-07-22 05 Fri",
          "2022-07-22 06 Fri",
          "2022-07-22 07 Fri",
          "2022-07-22 08 Fri",
          "2022-07-22 09 Fri",
          "2022-07-22 10 Fri",
          "2022-07-22 11 Fri",
          "2022-07-22 12 Fri",
          "2022-07-22 13 Fri",
          "2022-07-22 14 Fri",
          "2022-07-22 15 Fri",
          "2022-07-22 16 Fri",
          "2022-07-22 17 Fri",
          "2022-07-22 18 Fri",
          "2022-07-22 19 Fri",
          "2022-07-22 20 Fri",
          "2022-07-22 21 Fri",
          "2022-07-25 05 Mon",
          "2022-07-25 06 Mon",
          "2022-07-25 07 Mon",
          "2022-07-25 08 Mon",
          "2022-07-25 09 Mon",
          "2022-07-25 10 Mon",
          "2022-07-25 11 Mon",
          "2022-07-25 12 Mon",
          "2022-07-25 13 Mon",
          "2022-07-25 14 Mon",
          "2022-07-25 15 Mon",
          "2022-07-25 16 Mon",
          "2022-07-25 17 Mon",
          "2022-07-25 18 Mon",
          "2022-07-25 19 Mon",
          "2022-07-25 20 Mon",
          "2022-07-25 21 Mon",
          "2022-07-26 05 Tue",
          "2022-07-26 06 Tue",
          "2022-07-26 07 Tue",
          "2022-07-26 08 Tue",
          "2022-07-26 09 Tue",
          "2022-07-26 10 Tue",
          "2022-07-26 11 Tue",
          "2022-07-26 12 Tue",
          "2022-07-26 13 Tue",
          "2022-07-26 14 Tue",
          "2022-07-26 15 Tue",
          "2022-07-26 16 Tue",
          "2022-07-26 17 Tue",
          "2022-07-26 18 Tue",
          "2022-07-26 19 Tue",
          "2022-07-26 20 Tue",
          "2022-07-26 21 Tue",
          "2022-07-27 05 Wed",
          "2022-07-27 06 Wed",
          "2022-07-27 07 Wed",
          "2022-07-27 08 Wed",
          "2022-07-27 09 Wed",
          "2022-07-27 10 Wed",
          "2022-07-27 11 Wed",
          "2022-07-27 12 Wed",
          "2022-07-27 13 Wed",
          "2022-07-27 14 Wed",
          "2022-07-27 15 Wed",
          "2022-07-27 16 Wed",
          "2022-07-27 17 Wed",
          "2022-07-27 18 Wed",
          "2022-07-27 19 Wed",
          "2022-07-27 20 Wed",
          "2022-07-27 21 Wed",
          "2022-07-27 22 Wed",
          "2022-07-27 23 Wed",
          "2022-07-28 00 Thu",
          "2022-07-28 01 Thu",
          "2022-07-28 02 Thu",
          "2022-07-28 03 Thu",
          "2022-07-28 04 Thu",
          "2022-07-28 05 Thu",
          "2022-07-28 06 Thu",
          "2022-07-28 07 Thu",
          "2022-07-28 08 Thu",
          "2022-07-28 09 Thu",
          "2022-07-28 10 Thu",
          "2022-07-28 11 Thu",
          "2022-07-28 12 Thu",
          "2022-07-28 13 Thu",
          "2022-07-28 14 Thu",
          "2022-07-28 15 Thu",
          "2022-07-28 16 Thu",
          "2022-07-28 17 Thu",
          "2022-07-28 18 Thu",
          "2022-07-28 19 Thu",
          "2022-07-28 20 Thu",
          "2022-07-28 21 Thu",
          "2022-07-28 22 Thu",
          "2022-07-28 23 Thu",
          "2022-07-29 00 Fri",
          "2022-07-29 01 Fri",
          "2022-07-29 02 Fri",
          "2022-07-29 03 Fri",
          "2022-07-29 04 Fri",
          "2022-07-29 05 Fri",
          "2022-07-29 06 Fri",
          "2022-07-29 07 Fri",
          "2022-07-29 08 Fri",
          "2022-07-29 09 Fri",
          "2022-07-29 10 Fri",
          "2022-07-29 11 Fri",
          "2022-07-29 12 Fri",
          "2022-07-29 13 Fri",
          "2022-07-29 14 Fri",
          "2022-07-29 15 Fri",
          "2022-07-29 16 Fri",
          "2022-07-29 17 Fri",
          "2022-07-29 18 Fri",
          "2022-07-29 19 Fri",
          "2022-07-29 20 Fri",
          "2022-07-29 21 Fri",
          "2022-07-29 22 Fri",
          "2022-07-29 23 Fri",
          "2022-07-30 00 Sat",
          "2022-07-30 01 Sat",
          "2022-07-30 02 Sat",
          "2022-07-30 03 Sat",
          "2022-07-30 04 Sat",
          "2022-07-30 05 Sat"
         ],
         "y": [
          0,
          2171,
          4713,
          3855,
          6498,
          8980,
          9348,
          5765,
          3276,
          8340,
          6999,
          8464,
          5878,
          10115,
          8149,
          9811,
          4045,
          5235,
          6129,
          6796,
          8382,
          8467,
          7359,
          6056,
          2914,
          7119,
          7345,
          5671,
          4472,
          5580,
          786,
          5126,
          2147,
          4477,
          6426,
          6887,
          6919,
          7286,
          6227,
          6367,
          5010,
          4315,
          7506,
          3994,
          7515,
          5559,
          5540,
          8151,
          1152,
          8619,
          1873,
          5600,
          3535,
          4343,
          5647,
          6813,
          3605,
          7689,
          8489,
          6536,
          5281,
          7120,
          4131,
          3186,
          8566,
          6765,
          6083,
          2529,
          4803,
          8528,
          9284,
          8412,
          7672,
          9549,
          4478,
          236,
          0,
          0,
          0,
          0,
          5,
          0,
          0,
          0,
          2759,
          2085,
          3446,
          4808,
          5085,
          4128,
          3917,
          5298,
          6140,
          4485,
          4368,
          8134,
          7834,
          6311,
          3471,
          7594,
          3396,
          6931,
          3371,
          6428,
          6101,
          3535,
          4057,
          5763,
          7168,
          2305,
          4810,
          4179,
          2459,
          5042,
          5309,
          4254,
          2856,
          5768,
          2439,
          3550,
          3963,
          4867,
          3963,
          1633,
          2322,
          2612,
          1029,
          5625,
          6033,
          8519,
          5703,
          2266,
          3861,
          3624,
          4931,
          6061,
          6385,
          5633,
          4979,
          7787,
          4109,
          4940,
          1325,
          4838,
          3494,
          4428,
          5395,
          4763,
          7503,
          6348,
          1772,
          7742,
          7295,
          5823,
          7363,
          5385,
          3155,
          7209,
          1545,
          570,
          2022,
          2440,
          4863,
          2158,
          3522,
          5669,
          5577,
          6007,
          5718,
          765,
          4142,
          3493,
          6197,
          6149,
          5444,
          7494,
          7291,
          3824,
          6706,
          5233,
          3273,
          1573,
          5252,
          6666,
          2454,
          655,
          4425,
          5367,
          1953,
          7442,
          6154,
          5770,
          2391,
          4905,
          5139,
          5410,
          1963,
          5753,
          7326,
          5688,
          5884,
          4892,
          7433,
          5495,
          3143,
          6013,
          9086,
          9082,
          8061,
          5852,
          7854,
          6789,
          3360,
          7496,
          8381,
          4503,
          3887,
          8394,
          8166,
          9136,
          3000,
          9338,
          8520,
          9216,
          10127,
          7545,
          9542,
          8616,
          4602,
          7142,
          9944,
          8901,
          7586,
          7683,
          5984,
          6493,
          3432,
          5645,
          6845,
          4422,
          5474,
          5225,
          4296,
          4866,
          2116,
          5926,
          8627,
          6119,
          7532,
          4926,
          7207,
          7831,
          4152,
          7720,
          6880,
          6514,
          7255,
          8991,
          1713,
          4844,
          1882,
          5605,
          7110,
          7180,
          7616,
          7086,
          5037,
          3700,
          3919,
          7664,
          5709,
          9025,
          8515,
          7984,
          10432,
          7471,
          4031,
          8955,
          8728,
          8246,
          6684,
          8036,
          643,
          4359,
          2143,
          5725,
          2587,
          3464,
          6293,
          8245,
          6890,
          2699,
          9818,
          6286,
          7620,
          7282,
          3766,
          3080,
          3073,
          851,
          4928,
          4358,
          5699,
          4269,
          3856,
          4713,
          4067,
          2078,
          4583,
          5644,
          5816,
          6572,
          5467,
          4828,
          5157,
          2421,
          4812,
          5962,
          5884,
          4350,
          2712,
          2972,
          4472,
          1026,
          3374,
          5003,
          5804,
          2215,
          4220,
          2787,
          3758,
          2271,
          2943,
          3751,
          2820,
          3784,
          6183,
          5183,
          4102,
          115,
          4666,
          2913,
          1691,
          562,
          1111,
          523,
          1170,
          2386,
          5713,
          5756,
          6401,
          5398,
          3528,
          2779,
          49,
          0,
          0,
          0,
          2608,
          3679,
          1726,
          6427,
          5218,
          5818,
          6230,
          5416,
          6333,
          5220,
          1925,
          5515,
          4746,
          4874,
          5292,
          4801,
          5742,
          5248,
          2639,
          4870,
          3313,
          1578,
          5756,
          4271,
          6118,
          3236,
          5691,
          10088,
          7214,
          4305,
          6673,
          3734,
          3171,
          2973,
          5799,
          8429,
          6977,
          9329,
          5368,
          8300,
          9925,
          2452,
          6676,
          5335,
          3074,
          5247,
          6049,
          5974,
          4838,
          1834,
          5313,
          5227,
          6125,
          7720,
          3274,
          8186,
          7207,
          4006,
          2139,
          8829,
          7418,
          4005,
          2386,
          7153,
          7410,
          4360,
          7059,
          5926,
          5412,
          8261,
          8381,
          8210,
          6703,
          801,
          3757,
          6862,
          7637,
          6109,
          8482,
          8849,
          3700,
          397,
          5473,
          8308,
          5098,
          5604,
          5279,
          6659,
          8911,
          3298,
          8492,
          6557,
          6407,
          4155,
          4966,
          2893,
          5750,
          2103,
          8629,
          5423,
          5051,
          0,
          3562,
          5230,
          8267,
          8792,
          2835,
          6520,
          8123,
          8058,
          7830,
          8883,
          7430,
          7530,
          423,
          8436,
          9614,
          10083,
          5124,
          8419,
          8146,
          7932,
          4018,
          9007,
          9077,
          9458,
          9478,
          9627,
          7857,
          10365,
          801,
          7051,
          9526,
          2584,
          6488,
          4912,
          4560,
          717,
          6892,
          7308,
          6976,
          7747,
          4160,
          8162,
          4867,
          6205,
          8800,
          7232,
          4462,
          3370,
          4231,
          3245,
          6030,
          5336,
          2085,
          1373,
          67,
          2135,
          1409,
          3328,
          3110,
          2422,
          3989,
          2096,
          4636,
          6966,
          1855,
          5088,
          899,
          1633,
          6193,
          5280,
          5186,
          5735,
          6112,
          3796,
          3386,
          7648,
          4889,
          5672,
          6018,
          8501,
          9059,
          6266,
          3949,
          6894,
          8491,
          7435,
          6295,
          7636,
          3826,
          5715,
          494,
          1969,
          3808,
          4206,
          3354,
          5536,
          4935,
          7536,
          1726,
          5369,
          6452,
          5276,
          104,
          0,
          4996,
          5985,
          8642,
          404,
          8008,
          7516,
          6021,
          2666,
          3400,
          9071,
          8049,
          4488,
          8625,
          6283,
          7315,
          7182,
          7590,
          8462,
          5953,
          3323,
          6973,
          6769,
          7788,
          7878,
          8002,
          9000,
          5948,
          1868,
          9703,
          5693,
          6099,
          7652,
          8812,
          6197,
          7563,
          3524,
          9182,
          8479,
          7047,
          9004,
          5998,
          8482,
          9191,
          3041,
          7262,
          7380,
          5325,
          8156,
          6820,
          7108,
          4119,
          1858,
          3114,
          5524,
          6368,
          6726,
          7111,
          8705,
          6045,
          4277,
          7334,
          5898,
          8179,
          8927,
          8671,
          5218,
          8857,
          2894,
          7361,
          5786,
          1915,
          1023,
          2107,
          2365,
          5279,
          2605,
          5931,
          8498,
          6032,
          13,
          210,
          2619,
          6515,
          4228,
          2099,
          5305,
          4606,
          4946,
          4450,
          5807,
          7122,
          6343,
          1224,
          2104,
          2106,
          4907,
          5563,
          7680,
          3904,
          536,
          119,
          333,
          2,
          0,
          0,
          0,
          0,
          5219,
          1586,
          4853,
          5773,
          3572,
          6888,
          4235,
          6155,
          4859,
          3181,
          6579,
          8888,
          8985,
          5735,
          5616,
          7883,
          8921,
          4375,
          10351,
          4885,
          4364,
          6790,
          4457,
          7073,
          2913,
          5335,
          8160,
          9366,
          6705,
          9700,
          6938,
          5452,
          6650,
          2937,
          5411,
          7917,
          7194,
          7546,
          9267,
          5691,
          9456,
          2142,
          8936,
          7686,
          6978,
          5264,
          4805,
          9503,
          8775,
          4052,
          9853,
          6997,
          6591,
          8663,
          7304,
          4908,
          1568,
          171,
          276,
          0,
          6875,
          5421,
          4861,
          8245,
          8327,
          1716,
          5304,
          8139,
          5827,
          6950,
          2427,
          0,
          0,
          0,
          207,
          4551,
          6958,
          3275,
          4094,
          7445,
          6648,
          8045,
          6720,
          5578,
          8781,
          8874,
          2027,
          7800,
          6139,
          8607,
          9426,
          8530,
          7008,
          4897,
          3114,
          6694,
          4826,
          7101,
          7772,
          8449,
          8557,
          8216,
          1104,
          6928,
          6756,
          7507,
          7159,
          3741,
          6828,
          7568,
          3083,
          9001,
          9301,
          7323,
          7236,
          6990,
          7921,
          8395,
          4448,
          8835,
          8590,
          9207,
          8748,
          8146,
          7232,
          8317,
          2781,
          2514,
          1269,
          523,
          325,
          2872,
          4064,
          7989,
          2281,
          8805,
          6466,
          9542,
          8888,
          8387,
          9636,
          9963,
          4312,
          9838,
          9317,
          8909,
          9489,
          8772,
          5839,
          7236,
          2907,
          8227,
          8353,
          9421,
          8646,
          8286,
          7246,
          4238,
          2987,
          8082,
          7960,
          7910,
          5989,
          7115,
          6695,
          7201,
          1890,
          4566,
          0,
          0,
          512,
          888,
          240,
          0,
          168,
          96,
          156,
          116,
          32,
          68,
          96,
          260,
          1861,
          7767,
          9770,
          2361,
          5278,
          6127,
          6058,
          2669,
          6489,
          5690,
          5500,
          2677,
          7387,
          5687,
          5805,
          4349,
          6114,
          4556,
          2603,
          550,
          110,
          0,
          3692,
          5772,
          7793,
          7178,
          2916,
          6086,
          6946,
          6039,
          4276,
          7198,
          7941,
          6233,
          1871,
          6476,
          7527,
          6880,
          5992,
          5524,
          5881,
          4618,
          48,
          3595,
          4876,
          5866,
          5483,
          5857,
          5826,
          5199,
          2220,
          5631,
          6466,
          5037,
          5196,
          2802,
          5580,
          4576,
          1142,
          5761,
          6375,
          5219,
          5727,
          1690,
          5199,
          9739,
          2187,
          8513,
          8701,
          6803,
          5881,
          6568,
          7169,
          4567,
          3921,
          8236,
          5293,
          8477,
          6726,
          5753,
          7649,
          6500,
          1775,
          7076,
          4679,
          4027,
          566,
          9641,
          7582,
          6059,
          3147,
          8176,
          7780,
          8249,
          5696,
          2774,
          0,
          211,
          5290,
          6500,
          5577,
          3007,
          5981,
          5761,
          8340,
          6404,
          6953,
          7283,
          7563,
          7641,
          3756,
          9069,
          8129,
          5133,
          6349,
          7186,
          9362,
          8978,
          3597,
          6038,
          8402,
          5302,
          7601,
          8874,
          9833,
          8279,
          6593,
          3136,
          8611,
          8112,
          3863,
          4772,
          4139,
          6698,
          5275,
          2440,
          6207,
          5547,
          6101,
          5166,
          753,
          866,
          3297,
          5501,
          3096,
          7410,
          7884,
          3428,
          3974,
          4452,
          6484,
          8215,
          1770,
          6258,
          7720,
          1383,
          831,
          7344,
          7494,
          3845,
          1443,
          8590,
          2978,
          3253,
          4653,
          8168,
          5176,
          3739,
          3697,
          8169,
          6996,
          7504,
          4693,
          5883,
          8157,
          8596,
          8263,
          2444,
          6568,
          5350,
          3679,
          12,
          5259,
          6904,
          6447,
          1082,
          6173,
          6669,
          8003,
          5697,
          5719,
          5902,
          8109,
          7125,
          2246,
          5711,
          8617,
          4358,
          3877,
          8096,
          4472,
          8021,
          2063,
          7422,
          6969,
          5767,
          8264,
          7868,
          7686,
          6391,
          3455,
          2801,
          7483,
          6523,
          5242,
          5629,
          7919,
          8466,
          7200,
          1101,
          7722,
          9618,
          7722,
          7675,
          6002,
          4164,
          8057,
          4649,
          7486,
          8232,
          8020,
          7336,
          7248,
          6537,
          5535,
          5556,
          2163,
          4675,
          6669,
          3630,
          8281,
          7691,
          6707,
          2947,
          7108,
          7005,
          7315,
          7049,
          7967,
          6222,
          5694,
          1581,
          6171,
          4962,
          4259,
          5252,
          6384,
          2323,
          4202,
          6816,
          3241,
          7521,
          7672,
          2835,
          7006,
          5905,
          5288,
          1522,
          7631,
          5291,
          5601,
          6887,
          7088,
          7942,
          6804,
          3767,
          4519,
          4913,
          5755,
          4427,
          5350,
          5171,
          5680,
          5313,
          421,
          5459,
          5009,
          163
         ]
        },
        {
         "name": "Stündlich produzierte Schlechtpackungen",
         "text": [
          "100.00%",
          "15.46%",
          "7.37%",
          "3.82%",
          "0.82%",
          "1.54%",
          "1.14%",
          "5.06%",
          "3.87%",
          "1.00%",
          "4.39%",
          "3.38%",
          "3.95%",
          "1.99%",
          "2.71%",
          "1.97%",
          "4.24%",
          "3.91%",
          "2.90%",
          "2.68%",
          "2.44%",
          "3.08%",
          "5.36%",
          "3.32%",
          "7.32%",
          "3.38%",
          "5.25%",
          "4.72%",
          "7.30%",
          "17.55%",
          "11.49%",
          "6.32%",
          "4.83%",
          "9.88%",
          "4.38%",
          "4.98%",
          "2.93%",
          "2.07%",
          "2.82%",
          "2.47%",
          "4.68%",
          "2.82%",
          "2.87%",
          "6.51%",
          "3.06%",
          "3.09%",
          "3.42%",
          "2.69%",
          "18.64%",
          "4.99%",
          "4.83%",
          "5.53%",
          "12.33%",
          "2.71%",
          "3.17%",
          "3.77%",
          "2.46%",
          "2.62%",
          "3.09%",
          "5.77%",
          "2.64%",
          "3.37%",
          "6.96%",
          "8.45%",
          "3.27%",
          "2.80%",
          "7.50%",
          "8.37%",
          "3.32%",
          "2.65%",
          "3.05%",
          "2.91%",
          "3.42%",
          "2.24%",
          "8.98%",
          "34.44%",
          "100.00%",
          "100.00%",
          "100.00%",
          "100.00%",
          "94.79%",
          "None%",
          "100.00%",
          "100.00%",
          "17.30%",
          "4.53%",
          "4.91%",
          "2.28%",
          "4.56%",
          "4.44%",
          "1.68%",
          "2.75%",
          "2.35%",
          "3.67%",
          "2.67%",
          "4.26%",
          "2.56%",
          "4.03%",
          "2.28%",
          "5.55%",
          "10.44%",
          "4.37%",
          "4.45%",
          "2.96%",
          "2.60%",
          "7.94%",
          "2.85%",
          "4.71%",
          "3.66%",
          "3.96%",
          "8.90%",
          "5.88%",
          "6.86%",
          "3.63%",
          "3.40%",
          "3.67%",
          "3.25%",
          "3.87%",
          "5.02%",
          "6.38%",
          "4.55%",
          "2.03%",
          "3.44%",
          "1.39%",
          "5.15%",
          "6.18%",
          "12.50%",
          "5.11%",
          "3.32%",
          "3.28%",
          "5.33%",
          "6.52%",
          "1.91%",
          "1.95%",
          "5.75%",
          "2.87%",
          "2.19%",
          "2.20%",
          "2.14%",
          "3.72%",
          "9.41%",
          "5.15%",
          "3.14%",
          "4.91%",
          "6.08%",
          "4.90%",
          "3.52%",
          "10.60%",
          "2.61%",
          "4.86%",
          "7.71%",
          "2.54%",
          "5.01%",
          "3.34%",
          "2.61%",
          "4.11%",
          "3.34%",
          "3.73%",
          "13.01%",
          "39.10%",
          "3.16%",
          "2.24%",
          "2.58%",
          "5.35%",
          "8.85%",
          "3.98%",
          "5.92%",
          "4.83%",
          "6.57%",
          "8.93%",
          "3.58%",
          "2.97%",
          "3.65%",
          "8.82%",
          "5.49%",
          "3.63%",
          "3.25%",
          "4.02%",
          "8.39%",
          "6.42%",
          "9.08%",
          "15.97%",
          "7.27%",
          "5.53%",
          "7.47%",
          "44.30%",
          "6.41%",
          "2.77%",
          "7.53%",
          "2.49%",
          "3.60%",
          "5.72%",
          "11.84%",
          "4.05%",
          "3.11%",
          "4.08%",
          "9.12%",
          "3.73%",
          "3.40%",
          "2.87%",
          "3.48%",
          "3.85%",
          "2.91%",
          "6.16%",
          "2.99%",
          "5.10%",
          "2.43%",
          "3.47%",
          "4.04%",
          "4.00%",
          "2.31%",
          "3.46%",
          "6.67%",
          "6.77%",
          "3.27%",
          "5.24%",
          "6.38%",
          "3.78%",
          "2.79%",
          "3.14%",
          "3.85%",
          "2.49%",
          "4.05%",
          "4.24%",
          "3.00%",
          "3.27%",
          "4.20%",
          "4.52%",
          "2.66%",
          "4.62%",
          "3.42%",
          "3.17%",
          "3.04%",
          "2.99%",
          "6.27%",
          "2.33%",
          "5.92%",
          "3.21%",
          "4.29%",
          "7.88%",
          "5.36%",
          "2.37%",
          "3.24%",
          "7.00%",
          "7.19%",
          "2.40%",
          "2.85%",
          "4.87%",
          "4.90%",
          "5.85%",
          "4.67%",
          "4.87%",
          "2.81%",
          "4.55%",
          "5.39%",
          "5.43%",
          "3.11%",
          "2.69%",
          "9.65%",
          "2.50%",
          "7.75%",
          "2.69%",
          "3.19%",
          "3.80%",
          "2.66%",
          "3.83%",
          "4.60%",
          "4.24%",
          "3.38%",
          "2.94%",
          "3.30%",
          "3.08%",
          "3.36%",
          "2.44%",
          "2.32%",
          "5.67%",
          "2.91%",
          "2.83%",
          "3.02%",
          "2.94%",
          "2.28%",
          "2.95%",
          "13.58%",
          "2.79%",
          "10.71%",
          "2.64%",
          "7.08%",
          "9.79%",
          "3.95%",
          "2.68%",
          "2.68%",
          "9.31%",
          "1.90%",
          "4.41%",
          "3.20%",
          "3.98%",
          "8.77%",
          "5.64%",
          "5.15%",
          "15.58%",
          "4.05%",
          "3.41%",
          "2.28%",
          "5.39%",
          "6.04%",
          "8.24%",
          "2.61%",
          "6.90%",
          "5.47%",
          "4.01%",
          "2.28%",
          "1.85%",
          "2.65%",
          "5.11%",
          "4.07%",
          "7.45%",
          "4.07%",
          "4.46%",
          "4.97%",
          "3.07%",
          "17.52%",
          "6.19%",
          "7.76%",
          "10.94%",
          "11.02%",
          "5.67%",
          "1.29%",
          "16.10%",
          "12.52%",
          "15.85%",
          "6.80%",
          "7.23%",
          "15.43%",
          "9.13%",
          "12.31%",
          "7.80%",
          "3.51%",
          "6.11%",
          "7.11%",
          "40.10%",
          "8.72%",
          "25.99%",
          "16.12%",
          "33.10%",
          "33.87%",
          "24.86%",
          "4.41%",
          "8.79%",
          "2.04%",
          "4.07%",
          "2.66%",
          "2.21%",
          "7.55%",
          "4.30%",
          "31.94%",
          "None%",
          "None%",
          "None%",
          "21.26%",
          "4.19%",
          "8.97%",
          "2.27%",
          "3.80%",
          "3.80%",
          "3.14%",
          "5.97%",
          "4.39%",
          "3.33%",
          "4.51%",
          "4.25%",
          "5.83%",
          "2.83%",
          "3.29%",
          "3.36%",
          "5.43%",
          "2.38%",
          "9.13%",
          "3.37%",
          "2.10%",
          "14.61%",
          "7.40%",
          "5.45%",
          "5.93%",
          "8.28%",
          "4.00%",
          "3.37%",
          "5.18%",
          "16.29%",
          "7.63%",
          "8.48%",
          "10.12%",
          "2.46%",
          "7.78%",
          "4.04%",
          "4.37%",
          "3.31%",
          "2.75%",
          "2.31%",
          "4.49%",
          "6.27%",
          "3.75%",
          "2.93%",
          "8.51%",
          "4.95%",
          "3.06%",
          "2.77%",
          "2.62%",
          "10.10%",
          "3.33%",
          "4.48%",
          "2.59%",
          "3.40%",
          "2.50%",
          "4.55%",
          "5.27%",
          "7.78%",
          "18.23%",
          "5.19%",
          "3.71%",
          "8.81%",
          "4.41%",
          "3.86%",
          "4.11%",
          "2.85%",
          "6.03%",
          "3.17%",
          "4.04%",
          "3.85%",
          "4.59%",
          "3.64%",
          "3.36%",
          "1.84%",
          "4.55%",
          "3.73%",
          "2.39%",
          "4.67%",
          "2.10%",
          "4.23%",
          "9.84%",
          "31.08%",
          "5.38%",
          "2.76%",
          "8.77%",
          "3.11%",
          "12.02%",
          "3.66%",
          "3.06%",
          "5.88%",
          "4.11%",
          "3.46%",
          "5.67%",
          "8.88%",
          "4.21%",
          "11.37%",
          "4.17%",
          "9.66%",
          "2.83%",
          "7.01%",
          "5.20%",
          "100.00%",
          "10.59%",
          "3.58%",
          "2.97%",
          "3.09%",
          "5.50%",
          "5.67%",
          "3.02%",
          "3.52%",
          "3.19%",
          "5.58%",
          "3.56%",
          "2.86%",
          "7.24%",
          "2.63%",
          "3.71%",
          "2.75%",
          "6.77%",
          "3.10%",
          "2.47%",
          "3.08%",
          "4.88%",
          "3.28%",
          "3.02%",
          "4.58%",
          "2.73%",
          "2.88%",
          "3.71%",
          "2.51%",
          "7.29%",
          "8.76%",
          "2.48%",
          "11.02%",
          "4.14%",
          "7.39%",
          "4.04%",
          "48.49%",
          "2.98%",
          "2.72%",
          "4.07%",
          "3.07%",
          "4.76%",
          "4.47%",
          "6.55%",
          "3.53%",
          "2.48%",
          "3.42%",
          "0.58%",
          "1.12%",
          "4.71%",
          "2.73%",
          "2.99%",
          "7.75%",
          "11.35%",
          "25.70%",
          "6.94%",
          "5.36%",
          "6.81%",
          "5.02%",
          "3.30%",
          "2.96%",
          "5.02%",
          "9.03%",
          "5.31%",
          "2.93%",
          "4.58%",
          "5.78%",
          "34.28%",
          "19.95%",
          "4.07%",
          "4.35%",
          "10.34%",
          "7.38%",
          "5.33%",
          "4.14%",
          "3.37%",
          "3.14%",
          "5.25%",
          "3.14%",
          "2.81%",
          "3.22%",
          "2.21%",
          "4.71%",
          "3.21%",
          "2.96%",
          "3.07%",
          "4.09%",
          "3.21%",
          "3.59%",
          "7.32%",
          "5.13%",
          "39.46%",
          "21.87%",
          "10.36%",
          "7.76%",
          "11.55%",
          "5.08%",
          "10.60%",
          "5.42%",
          "5.37%",
          "5.21%",
          "3.30%",
          "3.58%",
          "64.86%",
          "None%",
          "7.48%",
          "2.59%",
          "2.68%",
          "29.86%",
          "3.84%",
          "4.23%",
          "3.51%",
          "3.41%",
          "2.97%",
          "3.09%",
          "2.51%",
          "6.03%",
          "3.39%",
          "4.11%",
          "3.85%",
          "3.12%",
          "2.69%",
          "2.60%",
          "2.73%",
          "6.45%",
          "5.67%",
          "5.67%",
          "5.39%",
          "5.13%",
          "4.47%",
          "3.10%",
          "6.48%",
          "10.54%",
          "3.51%",
          "4.35%",
          "4.46%",
          "2.50%",
          "2.61%",
          "4.37%",
          "3.93%",
          "5.88%",
          "2.40%",
          "2.41%",
          "2.77%",
          "2.05%",
          "2.38%",
          "1.28%",
          "1.81%",
          "6.83%",
          "3.94%",
          "5.38%",
          "3.95%",
          "6.64%",
          "7.44%",
          "5.98%",
          "7.73%",
          "7.84%",
          "5.98%",
          "3.29%",
          "5.24%",
          "5.00%",
          "3.49%",
          "3.02%",
          "4.59%",
          "3.67%",
          "2.68%",
          "3.25%",
          "3.46%",
          "3.14%",
          "2.62%",
          "2.94%",
          "2.88%",
          "5.05%",
          "2.01%",
          "1.60%",
          "16.01%",
          "26.51%",
          "5.60%",
          "12.79%",
          "3.53%",
          "7.23%",
          "3.47%",
          "2.72%",
          "5.87%",
          "87.50%",
          "60.23%",
          "10.55%",
          "6.07%",
          "8.25%",
          "9.84%",
          "7.13%",
          "5.92%",
          "5.47%",
          "9.11%",
          "5.11%",
          "3.34%",
          "3.19%",
          "8.93%",
          "14.89%",
          "7.63%",
          "6.64%",
          "4.61%",
          "5.33%",
          "7.05%",
          "10.67%",
          "44.91%",
          "84.05%",
          "99.82%",
          "100.00%",
          "100.00%",
          "100.00%",
          "100.00%",
          "10.51%",
          "10.70%",
          "6.82%",
          "5.30%",
          "3.35%",
          "4.97%",
          "5.13%",
          "3.22%",
          "1.72%",
          "3.96%",
          "5.15%",
          "3.05%",
          "2.51%",
          "5.18%",
          "4.10%",
          "2.53%",
          "2.95%",
          "3.04%",
          "2.42%",
          "4.44%",
          "5.79%",
          "6.32%",
          "4.27%",
          "6.44%",
          "6.63%",
          "9.27%",
          "4.23%",
          "3.40%",
          "3.66%",
          "3.77%",
          "2.99%",
          "4.55%",
          "2.44%",
          "6.58%",
          "6.06%",
          "2.98%",
          "3.62%",
          "2.66%",
          "3.47%",
          "2.82%",
          "3.43%",
          "7.03%",
          "2.27%",
          "3.25%",
          "2.76%",
          "8.61%",
          "6.01%",
          "3.19%",
          "2.76%",
          "4.07%",
          "2.72%",
          "3.78%",
          "3.98%",
          "2.71%",
          "2.77%",
          "4.44%",
          "3.92%",
          "35.23%",
          "50.00%",
          "100.00%",
          "7.59%",
          "4.29%",
          "3.09%",
          "4.84%",
          "3.62%",
          "8.33%",
          "6.36%",
          "3.66%",
          "8.38%",
          "3.47%",
          "4.60%",
          "100.00%",
          "100.00%",
          "100.00%",
          "66.83%",
          "6.59%",
          "2.71%",
          "12.53%",
          "5.76%",
          "2.76%",
          "2.46%",
          "3.40%",
          "5.08%",
          "4.36%",
          "3.21%",
          "2.95%",
          "8.20%",
          "5.80%",
          "2.37%",
          "2.81%",
          "3.74%",
          "5.22%",
          "2.99%",
          "5.54%",
          "3.89%",
          "5.45%",
          "9.42%",
          "5.47%",
          "6.14%",
          "2.48%",
          "3.11%",
          "3.30%",
          "22.03%",
          "3.46%",
          "2.93%",
          "4.05%",
          "3.15%",
          "4.37%",
          "4.53%",
          "5.31%",
          "6.91%",
          "3.59%",
          "4.07%",
          "3.75%",
          "5.19%",
          "5.74%",
          "4.34%",
          "2.56%",
          "2.46%",
          "2.87%",
          "1.94%",
          "2.88%",
          "2.28%",
          "2.75%",
          "3.73%",
          "3.47%",
          "6.55%",
          "13.43%",
          "10.38%",
          "0.95%",
          "3.27%",
          "5.03%",
          "2.68%",
          "3.51%",
          "8.61%",
          "3.20%",
          "2.74%",
          "3.26%",
          "3.31%",
          "2.66%",
          "3.72%",
          "2.78%",
          "2.36%",
          "3.32%",
          "3.67%",
          "3.33%",
          "2.62%",
          "2.27%",
          "1.50%",
          "2.43%",
          "4.63%",
          "1.50%",
          "1.12%",
          "3.31%",
          "2.90%",
          "2.80%",
          "3.54%",
          "5.06%",
          "4.26%",
          "2.67%",
          "3.02%",
          "2.49%",
          "4.39%",
          "3.75%",
          "3.57%",
          "1.95%",
          "5.12%",
          "3.91%",
          "None%",
          "100.00%",
          "23.81%",
          "0.00%",
          "37.50%",
          "None%",
          "25.00%",
          "0.00%",
          "63.89%",
          "3.33%",
          "33.33%",
          "5.56%",
          "76.47%",
          "52.90%",
          "14.79%",
          "7.54%",
          "3.53%",
          "4.49%",
          "3.97%",
          "2.93%",
          "3.66%",
          "5.76%",
          "3.09%",
          "4.01%",
          "4.11%",
          "4.67%",
          "4.11%",
          "3.72%",
          "3.25%",
          "8.02%",
          "6.68%",
          "2.65%",
          "2.33%",
          "55.93%",
          "67.26%",
          "100.00%",
          "15.94%",
          "3.02%",
          "2.20%",
          "2.58%",
          "6.54%",
          "6.77%",
          "3.21%",
          "4.69%",
          "6.72%",
          "2.62%",
          "2.97%",
          "4.17%",
          "7.19%",
          "2.94%",
          "2.60%",
          "2.49%",
          "2.85%",
          "3.33%",
          "3.15%",
          "2.82%",
          "0.00%",
          "15.37%",
          "8.89%",
          "10.14%",
          "5.20%",
          "2.77%",
          "2.12%",
          "0.63%",
          "1.60%",
          "3.45%",
          "2.39%",
          "3.28%",
          "4.20%",
          "7.34%",
          "4.71%",
          "5.61%",
          "4.83%",
          "6.23%",
          "3.41%",
          "5.04%",
          "2.60%",
          "6.11%",
          "2.86%",
          "2.45%",
          "8.88%",
          "2.28%",
          "3.06%",
          "2.93%",
          "5.75%",
          "2.26%",
          "0.10%",
          "9.81%",
          "3.33%",
          "2.51%",
          "3.69%",
          "2.70%",
          "4.02%",
          "3.73%",
          "5.43%",
          "6.93%",
          "8.69%",
          "3.65%",
          "10.57%",
          "3.57%",
          "15.77%",
          "3.67%",
          "5.41%",
          "3.64%",
          "8.30%",
          "2.94%",
          "2.94%",
          "2.36%",
          "3.13%",
          "11.77%",
          "100.00%",
          "60.04%",
          "3.33%",
          "1.87%",
          "3.58%",
          "5.80%",
          "7.70%",
          "6.23%",
          "1.56%",
          "3.32%",
          "3.43%",
          "7.76%",
          "6.77%",
          "5.81%",
          "3.99%",
          "3.36%",
          "2.39%",
          "5.37%",
          "7.50%",
          "3.72%",
          "1.24%",
          "2.58%",
          "1.40%",
          "4.70%",
          "1.11%",
          "6.39%",
          "2.55%",
          "2.70%",
          "2.22%",
          "3.91%",
          "4.62%",
          "3.21%",
          "1.97%",
          "2.31%",
          "4.76%",
          "8.79%",
          "5.24%",
          "5.72%",
          "5.67%",
          "4.09%",
          "9.57%",
          "8.65%",
          "5.50%",
          "2.60%",
          "1.95%",
          "30.61%",
          "8.42%",
          "3.69%",
          "3.73%",
          "2.91%",
          "2.81%",
          "5.41%",
          "12.39%",
          "3.89%",
          "2.11%",
          "2.48%",
          "6.65%",
          "0.48%",
          "1.33%",
          "2.33%",
          "21.31%",
          "2.86%",
          "2.12%",
          "2.90%",
          "4.56%",
          "3.00%",
          "4.55%",
          "7.16%",
          "8.12%",
          "3.04%",
          "1.52%",
          "2.02%",
          "3.72%",
          "0.77%",
          "1.52%",
          "2.60%",
          "2.23%",
          "3.49%",
          "2.61%",
          "2.94%",
          "2.47%",
          "4.83%",
          "3.98%",
          "6.73%",
          "13.39%",
          "75.00%",
          "5.95%",
          "4.43%",
          "3.02%",
          "13.30%",
          "2.57%",
          "2.16%",
          "3.06%",
          "5.43%",
          "3.13%",
          "3.56%",
          "3.19%",
          "4.85%",
          "9.14%",
          "4.05%",
          "2.17%",
          "3.41%",
          "10.25%",
          "3.89%",
          "3.45%",
          "2.28%",
          "10.46%",
          "3.06%",
          "2.56%",
          "2.32%",
          "2.18%",
          "2.72%",
          "1.76%",
          "2.46%",
          "7.12%",
          "2.74%",
          "1.95%",
          "2.93%",
          "2.93%",
          "10.48%",
          "2.95%",
          "4.66%",
          "2.60%",
          "24.80%",
          "2.50%",
          "2.97%",
          "2.50%",
          "4.25%",
          "3.07%",
          "4.14%",
          "3.81%",
          "3.15%",
          "3.73%",
          "3.11%",
          "3.42%",
          "2.34%",
          "2.27%",
          "4.43%",
          "2.69%",
          "2.32%",
          "6.12%",
          "3.57%",
          "2.51%",
          "7.21%",
          "2.81%",
          "2.89%",
          "2.97%",
          "3.31%",
          "3.53%",
          "2.06%",
          "2.93%",
          "3.70%",
          "3.50%",
          "2.17%",
          "2.37%",
          "4.53%",
          "3.34%",
          "15.27%",
          "2.50%",
          "3.60%",
          "5.34%",
          "2.23%",
          "3.27%",
          "3.07%",
          "4.23%",
          "2.68%",
          "3.13%",
          "2.38%",
          "2.69%",
          "2.36%",
          "6.24%",
          "3.91%",
          "1.86%",
          "5.79%",
          "7.02%",
          "2.40%",
          "3.49%",
          "2.38%",
          "1.90%",
          "0.66%",
          "7.70%",
          "4.79%",
          "4.08%",
          "2.92%",
          "2.66%",
          "3.38%",
          "2.61%",
          "2.91%",
          "7.68%",
          "3.62%",
          "4.26%",
          "54.72%"
         ],
         "type": "bar",
         "x": [
          "2022-05-03 10 Tue",
          "2022-05-03 11 Tue",
          "2022-05-03 12 Tue",
          "2022-05-03 13 Tue",
          "2022-05-03 14 Tue",
          "2022-05-03 15 Tue",
          "2022-05-03 16 Tue",
          "2022-05-03 17 Tue",
          "2022-05-03 18 Tue",
          "2022-05-03 19 Tue",
          "2022-05-03 20 Tue",
          "2022-05-03 21 Tue",
          "2022-05-03 22 Tue",
          "2022-05-03 23 Tue",
          "2022-05-04 00 Wed",
          "2022-05-04 01 Wed",
          "2022-05-04 02 Wed",
          "2022-05-04 03 Wed",
          "2022-05-04 04 Wed",
          "2022-05-04 05 Wed",
          "2022-05-04 06 Wed",
          "2022-05-04 07 Wed",
          "2022-05-04 08 Wed",
          "2022-05-04 09 Wed",
          "2022-05-04 10 Wed",
          "2022-05-04 11 Wed",
          "2022-05-04 12 Wed",
          "2022-05-04 13 Wed",
          "2022-05-04 14 Wed",
          "2022-05-04 15 Wed",
          "2022-05-04 16 Wed",
          "2022-05-04 17 Wed",
          "2022-05-04 18 Wed",
          "2022-05-04 19 Wed",
          "2022-05-04 20 Wed",
          "2022-05-04 21 Wed",
          "2022-05-04 22 Wed",
          "2022-05-04 23 Wed",
          "2022-05-05 00 Thu",
          "2022-05-05 01 Thu",
          "2022-05-05 02 Thu",
          "2022-05-05 03 Thu",
          "2022-05-05 04 Thu",
          "2022-05-05 05 Thu",
          "2022-05-05 06 Thu",
          "2022-05-05 07 Thu",
          "2022-05-05 08 Thu",
          "2022-05-05 09 Thu",
          "2022-05-05 10 Thu",
          "2022-05-05 11 Thu",
          "2022-05-05 12 Thu",
          "2022-05-05 13 Thu",
          "2022-05-05 14 Thu",
          "2022-05-05 15 Thu",
          "2022-05-05 16 Thu",
          "2022-05-05 17 Thu",
          "2022-05-05 18 Thu",
          "2022-05-05 19 Thu",
          "2022-05-05 20 Thu",
          "2022-05-05 21 Thu",
          "2022-05-05 22 Thu",
          "2022-05-05 23 Thu",
          "2022-05-06 00 Fri",
          "2022-05-06 06 Fri",
          "2022-05-06 07 Fri",
          "2022-05-06 08 Fri",
          "2022-05-06 09 Fri",
          "2022-05-06 10 Fri",
          "2022-05-06 11 Fri",
          "2022-05-06 12 Fri",
          "2022-05-06 13 Fri",
          "2022-05-06 14 Fri",
          "2022-05-06 15 Fri",
          "2022-05-06 16 Fri",
          "2022-05-06 17 Fri",
          "2022-05-06 18 Fri",
          "2022-05-06 19 Fri",
          "2022-05-06 20 Fri",
          "2022-05-06 21 Fri",
          "2022-05-07 03 Sat",
          "2022-05-08 12 Sun",
          "2022-05-09 05 Mon",
          "2022-05-09 06 Mon",
          "2022-05-09 07 Mon",
          "2022-05-09 08 Mon",
          "2022-05-09 09 Mon",
          "2022-05-09 10 Mon",
          "2022-05-09 11 Mon",
          "2022-05-09 12 Mon",
          "2022-05-09 13 Mon",
          "2022-05-09 14 Mon",
          "2022-05-09 15 Mon",
          "2022-05-09 16 Mon",
          "2022-05-09 17 Mon",
          "2022-05-09 18 Mon",
          "2022-05-09 19 Mon",
          "2022-05-09 20 Mon",
          "2022-05-09 21 Mon",
          "2022-05-09 22 Mon",
          "2022-05-09 23 Mon",
          "2022-05-10 00 Tue",
          "2022-05-10 01 Tue",
          "2022-05-10 02 Tue",
          "2022-05-10 03 Tue",
          "2022-05-10 04 Tue",
          "2022-05-10 05 Tue",
          "2022-05-10 06 Tue",
          "2022-05-10 07 Tue",
          "2022-05-10 08 Tue",
          "2022-05-10 09 Tue",
          "2022-05-10 10 Tue",
          "2022-05-10 11 Tue",
          "2022-05-10 12 Tue",
          "2022-05-10 13 Tue",
          "2022-05-10 14 Tue",
          "2022-05-10 15 Tue",
          "2022-05-10 16 Tue",
          "2022-05-10 17 Tue",
          "2022-05-10 18 Tue",
          "2022-05-10 19 Tue",
          "2022-05-10 20 Tue",
          "2022-05-10 21 Tue",
          "2022-05-10 22 Tue",
          "2022-05-10 23 Tue",
          "2022-05-11 00 Wed",
          "2022-05-11 01 Wed",
          "2022-05-11 02 Wed",
          "2022-05-11 03 Wed",
          "2022-05-11 04 Wed",
          "2022-05-11 05 Wed",
          "2022-05-11 06 Wed",
          "2022-05-11 07 Wed",
          "2022-05-11 08 Wed",
          "2022-05-11 09 Wed",
          "2022-05-11 10 Wed",
          "2022-05-11 11 Wed",
          "2022-05-11 12 Wed",
          "2022-05-11 13 Wed",
          "2022-05-11 14 Wed",
          "2022-05-11 15 Wed",
          "2022-05-11 16 Wed",
          "2022-05-11 17 Wed",
          "2022-05-11 18 Wed",
          "2022-05-11 19 Wed",
          "2022-05-11 20 Wed",
          "2022-05-11 21 Wed",
          "2022-05-11 22 Wed",
          "2022-05-11 23 Wed",
          "2022-05-12 00 Thu",
          "2022-05-12 01 Thu",
          "2022-05-12 02 Thu",
          "2022-05-12 03 Thu",
          "2022-05-12 04 Thu",
          "2022-05-12 05 Thu",
          "2022-05-12 06 Thu",
          "2022-05-12 07 Thu",
          "2022-05-12 08 Thu",
          "2022-05-12 09 Thu",
          "2022-05-12 10 Thu",
          "2022-05-12 14 Thu",
          "2022-05-12 15 Thu",
          "2022-05-12 16 Thu",
          "2022-05-12 17 Thu",
          "2022-05-12 18 Thu",
          "2022-05-12 19 Thu",
          "2022-05-12 20 Thu",
          "2022-05-12 21 Thu",
          "2022-05-12 22 Thu",
          "2022-05-12 23 Thu",
          "2022-05-13 00 Fri",
          "2022-05-13 01 Fri",
          "2022-05-13 02 Fri",
          "2022-05-13 03 Fri",
          "2022-05-13 04 Fri",
          "2022-05-13 05 Fri",
          "2022-05-13 06 Fri",
          "2022-05-13 07 Fri",
          "2022-05-13 08 Fri",
          "2022-05-13 15 Fri",
          "2022-05-13 16 Fri",
          "2022-05-13 17 Fri",
          "2022-05-13 18 Fri",
          "2022-05-13 19 Fri",
          "2022-05-13 20 Fri",
          "2022-05-13 21 Fri",
          "2022-05-16 07 Mon",
          "2022-05-16 08 Mon",
          "2022-05-16 09 Mon",
          "2022-05-16 10 Mon",
          "2022-05-16 11 Mon",
          "2022-05-16 12 Mon",
          "2022-05-16 13 Mon",
          "2022-05-16 14 Mon",
          "2022-05-16 15 Mon",
          "2022-05-16 16 Mon",
          "2022-05-16 17 Mon",
          "2022-05-16 18 Mon",
          "2022-05-16 19 Mon",
          "2022-05-16 20 Mon",
          "2022-05-16 21 Mon",
          "2022-05-16 22 Mon",
          "2022-05-16 23 Mon",
          "2022-05-17 00 Tue",
          "2022-05-17 01 Tue",
          "2022-05-17 02 Tue",
          "2022-05-17 03 Tue",
          "2022-05-17 04 Tue",
          "2022-05-17 05 Tue",
          "2022-05-17 06 Tue",
          "2022-05-17 07 Tue",
          "2022-05-17 08 Tue",
          "2022-05-17 09 Tue",
          "2022-05-17 10 Tue",
          "2022-05-17 11 Tue",
          "2022-05-17 12 Tue",
          "2022-05-17 13 Tue",
          "2022-05-17 14 Tue",
          "2022-05-17 15 Tue",
          "2022-05-17 16 Tue",
          "2022-05-17 17 Tue",
          "2022-05-17 18 Tue",
          "2022-05-17 19 Tue",
          "2022-05-17 20 Tue",
          "2022-05-17 21 Tue",
          "2022-05-17 22 Tue",
          "2022-05-17 23 Tue",
          "2022-05-18 00 Wed",
          "2022-05-18 01 Wed",
          "2022-05-18 02 Wed",
          "2022-05-18 03 Wed",
          "2022-05-18 04 Wed",
          "2022-05-18 05 Wed",
          "2022-05-18 06 Wed",
          "2022-05-18 07 Wed",
          "2022-05-18 08 Wed",
          "2022-05-18 09 Wed",
          "2022-05-18 10 Wed",
          "2022-05-18 11 Wed",
          "2022-05-18 12 Wed",
          "2022-05-18 13 Wed",
          "2022-05-18 14 Wed",
          "2022-05-18 15 Wed",
          "2022-05-18 16 Wed",
          "2022-05-18 17 Wed",
          "2022-05-18 18 Wed",
          "2022-05-18 19 Wed",
          "2022-05-18 20 Wed",
          "2022-05-18 21 Wed",
          "2022-05-18 22 Wed",
          "2022-05-18 23 Wed",
          "2022-05-19 00 Thu",
          "2022-05-19 01 Thu",
          "2022-05-19 02 Thu",
          "2022-05-19 03 Thu",
          "2022-05-19 04 Thu",
          "2022-05-19 05 Thu",
          "2022-05-19 06 Thu",
          "2022-05-19 07 Thu",
          "2022-05-19 08 Thu",
          "2022-05-19 09 Thu",
          "2022-05-19 10 Thu",
          "2022-05-19 11 Thu",
          "2022-05-19 12 Thu",
          "2022-05-19 13 Thu",
          "2022-05-19 14 Thu",
          "2022-05-19 15 Thu",
          "2022-05-19 16 Thu",
          "2022-05-19 17 Thu",
          "2022-05-19 18 Thu",
          "2022-05-19 19 Thu",
          "2022-05-19 20 Thu",
          "2022-05-19 21 Thu",
          "2022-05-19 22 Thu",
          "2022-05-19 23 Thu",
          "2022-05-20 00 Fri",
          "2022-05-20 01 Fri",
          "2022-05-20 02 Fri",
          "2022-05-20 03 Fri",
          "2022-05-20 04 Fri",
          "2022-05-20 05 Fri",
          "2022-05-20 06 Fri",
          "2022-05-20 07 Fri",
          "2022-05-20 08 Fri",
          "2022-05-20 09 Fri",
          "2022-05-20 10 Fri",
          "2022-05-20 11 Fri",
          "2022-05-20 12 Fri",
          "2022-05-23 06 Mon",
          "2022-05-23 07 Mon",
          "2022-05-23 08 Mon",
          "2022-05-23 09 Mon",
          "2022-05-23 10 Mon",
          "2022-05-23 11 Mon",
          "2022-05-23 12 Mon",
          "2022-05-23 13 Mon",
          "2022-05-23 14 Mon",
          "2022-05-23 15 Mon",
          "2022-05-23 16 Mon",
          "2022-05-23 17 Mon",
          "2022-05-23 18 Mon",
          "2022-05-23 19 Mon",
          "2022-05-23 20 Mon",
          "2022-05-23 21 Mon",
          "2022-05-23 22 Mon",
          "2022-05-23 23 Mon",
          "2022-05-24 00 Tue",
          "2022-05-24 01 Tue",
          "2022-05-24 02 Tue",
          "2022-05-24 03 Tue",
          "2022-05-24 04 Tue",
          "2022-05-24 05 Tue",
          "2022-05-24 06 Tue",
          "2022-05-24 07 Tue",
          "2022-05-24 08 Tue",
          "2022-05-24 09 Tue",
          "2022-05-24 10 Tue",
          "2022-05-24 11 Tue",
          "2022-05-24 12 Tue",
          "2022-05-24 13 Tue",
          "2022-05-24 14 Tue",
          "2022-05-24 15 Tue",
          "2022-05-24 16 Tue",
          "2022-05-24 17 Tue",
          "2022-05-24 18 Tue",
          "2022-05-24 19 Tue",
          "2022-05-24 20 Tue",
          "2022-05-24 21 Tue",
          "2022-05-24 22 Tue",
          "2022-05-24 23 Tue",
          "2022-05-25 00 Wed",
          "2022-05-25 01 Wed",
          "2022-05-25 02 Wed",
          "2022-05-25 03 Wed",
          "2022-05-25 04 Wed",
          "2022-05-25 05 Wed",
          "2022-05-25 06 Wed",
          "2022-05-25 07 Wed",
          "2022-05-25 08 Wed",
          "2022-05-25 09 Wed",
          "2022-05-25 10 Wed",
          "2022-05-25 11 Wed",
          "2022-05-25 12 Wed",
          "2022-05-25 13 Wed",
          "2022-05-25 14 Wed",
          "2022-05-25 15 Wed",
          "2022-05-25 16 Wed",
          "2022-05-25 17 Wed",
          "2022-05-25 18 Wed",
          "2022-05-25 19 Wed",
          "2022-05-25 20 Wed",
          "2022-05-25 21 Wed",
          "2022-05-25 22 Wed",
          "2022-05-25 23 Wed",
          "2022-05-26 00 Thu",
          "2022-05-26 01 Thu",
          "2022-05-30 06 Mon",
          "2022-05-30 07 Mon",
          "2022-05-30 15 Mon",
          "2022-05-30 16 Mon",
          "2022-05-30 17 Mon",
          "2022-05-30 18 Mon",
          "2022-05-30 19 Mon",
          "2022-05-30 20 Mon",
          "2022-05-30 21 Mon",
          "2022-05-30 22 Mon",
          "2022-05-30 23 Mon",
          "2022-05-31 00 Tue",
          "2022-05-31 01 Tue",
          "2022-05-31 02 Tue",
          "2022-05-31 03 Tue",
          "2022-05-31 04 Tue",
          "2022-05-31 05 Tue",
          "2022-05-31 06 Tue",
          "2022-05-31 07 Tue",
          "2022-05-31 08 Tue",
          "2022-05-31 09 Tue",
          "2022-05-31 10 Tue",
          "2022-05-31 11 Tue",
          "2022-05-31 12 Tue",
          "2022-05-31 14 Tue",
          "2022-05-31 15 Tue",
          "2022-05-31 16 Tue",
          "2022-05-31 17 Tue",
          "2022-05-31 18 Tue",
          "2022-05-31 19 Tue",
          "2022-05-31 20 Tue",
          "2022-05-31 21 Tue",
          "2022-05-31 22 Tue",
          "2022-05-31 23 Tue",
          "2022-06-01 00 Wed",
          "2022-06-01 01 Wed",
          "2022-06-01 02 Wed",
          "2022-06-01 03 Wed",
          "2022-06-01 04 Wed",
          "2022-06-01 05 Wed",
          "2022-06-01 06 Wed",
          "2022-06-01 07 Wed",
          "2022-06-01 08 Wed",
          "2022-06-01 09 Wed",
          "2022-06-01 10 Wed",
          "2022-06-01 11 Wed",
          "2022-06-01 12 Wed",
          "2022-06-01 13 Wed",
          "2022-06-01 14 Wed",
          "2022-06-01 15 Wed",
          "2022-06-01 16 Wed",
          "2022-06-01 17 Wed",
          "2022-06-01 18 Wed",
          "2022-06-01 19 Wed",
          "2022-06-01 20 Wed",
          "2022-06-01 21 Wed",
          "2022-06-01 22 Wed",
          "2022-06-01 23 Wed",
          "2022-06-02 00 Thu",
          "2022-06-02 01 Thu",
          "2022-06-02 02 Thu",
          "2022-06-02 03 Thu",
          "2022-06-02 04 Thu",
          "2022-06-02 05 Thu",
          "2022-06-02 06 Thu",
          "2022-06-02 07 Thu",
          "2022-06-02 08 Thu",
          "2022-06-02 09 Thu",
          "2022-06-02 10 Thu",
          "2022-06-02 11 Thu",
          "2022-06-02 12 Thu",
          "2022-06-02 13 Thu",
          "2022-06-02 14 Thu",
          "2022-06-02 15 Thu",
          "2022-06-02 16 Thu",
          "2022-06-02 17 Thu",
          "2022-06-02 18 Thu",
          "2022-06-02 19 Thu",
          "2022-06-02 20 Thu",
          "2022-06-02 21 Thu",
          "2022-06-02 22 Thu",
          "2022-06-02 23 Thu",
          "2022-06-03 00 Fri",
          "2022-06-03 01 Fri",
          "2022-06-03 02 Fri",
          "2022-06-03 03 Fri",
          "2022-06-03 04 Fri",
          "2022-06-03 05 Fri",
          "2022-06-03 06 Fri",
          "2022-06-03 07 Fri",
          "2022-06-03 08 Fri",
          "2022-06-03 09 Fri",
          "2022-06-03 10 Fri",
          "2022-06-03 11 Fri",
          "2022-06-03 12 Fri",
          "2022-06-03 13 Fri",
          "2022-06-03 14 Fri",
          "2022-06-03 15 Fri",
          "2022-06-03 16 Fri",
          "2022-06-03 17 Fri",
          "2022-06-03 18 Fri",
          "2022-06-03 19 Fri",
          "2022-06-03 20 Fri",
          "2022-06-03 21 Fri",
          "2022-06-05 05 Sun",
          "2022-06-05 06 Sun",
          "2022-06-05 07 Sun",
          "2022-06-05 08 Sun",
          "2022-06-05 09 Sun",
          "2022-06-05 10 Sun",
          "2022-06-05 11 Sun",
          "2022-06-05 12 Sun",
          "2022-06-05 13 Sun",
          "2022-06-05 14 Sun",
          "2022-06-05 15 Sun",
          "2022-06-05 16 Sun",
          "2022-06-05 17 Sun",
          "2022-06-05 18 Sun",
          "2022-06-05 19 Sun",
          "2022-06-05 20 Sun",
          "2022-06-05 21 Sun",
          "2022-06-05 22 Sun",
          "2022-06-05 23 Sun",
          "2022-06-06 00 Mon",
          "2022-06-06 01 Mon",
          "2022-06-06 02 Mon",
          "2022-06-06 03 Mon",
          "2022-06-06 04 Mon",
          "2022-06-06 05 Mon",
          "2022-06-06 06 Mon",
          "2022-06-06 07 Mon",
          "2022-06-06 08 Mon",
          "2022-06-06 09 Mon",
          "2022-06-06 10 Mon",
          "2022-06-06 11 Mon",
          "2022-06-06 12 Mon",
          "2022-06-06 13 Mon",
          "2022-06-06 14 Mon",
          "2022-06-06 15 Mon",
          "2022-06-06 16 Mon",
          "2022-06-07 21 Tue",
          "2022-06-07 22 Tue",
          "2022-06-07 23 Tue",
          "2022-06-08 00 Wed",
          "2022-06-08 01 Wed",
          "2022-06-08 02 Wed",
          "2022-06-08 03 Wed",
          "2022-06-08 04 Wed",
          "2022-06-08 05 Wed",
          "2022-06-08 06 Wed",
          "2022-06-08 07 Wed",
          "2022-06-08 08 Wed",
          "2022-06-08 09 Wed",
          "2022-06-08 10 Wed",
          "2022-06-08 11 Wed",
          "2022-06-08 12 Wed",
          "2022-06-08 13 Wed",
          "2022-06-08 14 Wed",
          "2022-06-08 15 Wed",
          "2022-06-08 16 Wed",
          "2022-06-08 17 Wed",
          "2022-06-08 18 Wed",
          "2022-06-08 19 Wed",
          "2022-06-08 20 Wed",
          "2022-06-08 21 Wed",
          "2022-06-08 22 Wed",
          "2022-06-08 23 Wed",
          "2022-06-09 00 Thu",
          "2022-06-09 01 Thu",
          "2022-06-09 02 Thu",
          "2022-06-09 03 Thu",
          "2022-06-09 04 Thu",
          "2022-06-09 11 Thu",
          "2022-06-09 12 Thu",
          "2022-06-09 13 Thu",
          "2022-06-09 14 Thu",
          "2022-06-09 15 Thu",
          "2022-06-09 16 Thu",
          "2022-06-09 17 Thu",
          "2022-06-09 18 Thu",
          "2022-06-09 19 Thu",
          "2022-06-09 20 Thu",
          "2022-06-09 21 Thu",
          "2022-06-09 22 Thu",
          "2022-06-09 23 Thu",
          "2022-06-10 00 Fri",
          "2022-06-10 01 Fri",
          "2022-06-10 02 Fri",
          "2022-06-10 03 Fri",
          "2022-06-10 04 Fri",
          "2022-06-10 05 Fri",
          "2022-06-10 06 Fri",
          "2022-06-10 07 Fri",
          "2022-06-10 08 Fri",
          "2022-06-10 09 Fri",
          "2022-06-10 10 Fri",
          "2022-06-10 11 Fri",
          "2022-06-10 12 Fri",
          "2022-06-10 13 Fri",
          "2022-06-10 14 Fri",
          "2022-06-10 15 Fri",
          "2022-06-10 16 Fri",
          "2022-06-10 17 Fri",
          "2022-06-10 18 Fri",
          "2022-06-10 19 Fri",
          "2022-06-10 20 Fri",
          "2022-06-10 21 Fri",
          "2022-06-10 22 Fri",
          "2022-06-13 06 Mon",
          "2022-06-13 07 Mon",
          "2022-06-13 08 Mon",
          "2022-06-13 09 Mon",
          "2022-06-13 10 Mon",
          "2022-06-13 11 Mon",
          "2022-06-13 12 Mon",
          "2022-06-13 13 Mon",
          "2022-06-13 14 Mon",
          "2022-06-13 15 Mon",
          "2022-06-13 16 Mon",
          "2022-06-13 17 Mon",
          "2022-06-13 18 Mon",
          "2022-06-13 19 Mon",
          "2022-06-13 20 Mon",
          "2022-06-13 21 Mon",
          "2022-06-13 22 Mon",
          "2022-06-13 23 Mon",
          "2022-06-14 00 Tue",
          "2022-06-14 01 Tue",
          "2022-06-14 02 Tue",
          "2022-06-14 03 Tue",
          "2022-06-14 04 Tue",
          "2022-06-14 05 Tue",
          "2022-06-14 06 Tue",
          "2022-06-14 07 Tue",
          "2022-06-14 08 Tue",
          "2022-06-14 09 Tue",
          "2022-06-14 10 Tue",
          "2022-06-14 11 Tue",
          "2022-06-14 12 Tue",
          "2022-06-14 13 Tue",
          "2022-06-14 14 Tue",
          "2022-06-14 15 Tue",
          "2022-06-14 16 Tue",
          "2022-06-14 17 Tue",
          "2022-06-14 18 Tue",
          "2022-06-14 19 Tue",
          "2022-06-14 20 Tue",
          "2022-06-14 21 Tue",
          "2022-06-14 22 Tue",
          "2022-06-14 23 Tue",
          "2022-06-15 00 Wed",
          "2022-06-15 01 Wed",
          "2022-06-15 02 Wed",
          "2022-06-15 03 Wed",
          "2022-06-15 04 Wed",
          "2022-06-15 05 Wed",
          "2022-06-15 06 Wed",
          "2022-06-15 07 Wed",
          "2022-06-15 08 Wed",
          "2022-06-15 09 Wed",
          "2022-06-15 10 Wed",
          "2022-06-15 11 Wed",
          "2022-06-15 12 Wed",
          "2022-06-15 13 Wed",
          "2022-06-15 14 Wed",
          "2022-06-15 15 Wed",
          "2022-06-15 16 Wed",
          "2022-06-15 17 Wed",
          "2022-06-15 18 Wed",
          "2022-06-15 19 Wed",
          "2022-06-15 20 Wed",
          "2022-06-15 21 Wed",
          "2022-06-15 22 Wed",
          "2022-06-15 23 Wed",
          "2022-06-16 00 Thu",
          "2022-06-16 01 Thu",
          "2022-06-16 02 Thu",
          "2022-06-16 03 Thu",
          "2022-06-16 04 Thu",
          "2022-06-16 05 Thu",
          "2022-06-16 21 Thu",
          "2022-06-16 22 Thu",
          "2022-06-17 00 Fri",
          "2022-06-17 01 Fri",
          "2022-06-17 02 Fri",
          "2022-06-17 03 Fri",
          "2022-06-17 04 Fri",
          "2022-06-17 05 Fri",
          "2022-06-20 05 Mon",
          "2022-06-20 06 Mon",
          "2022-06-20 07 Mon",
          "2022-06-20 08 Mon",
          "2022-06-20 09 Mon",
          "2022-06-20 10 Mon",
          "2022-06-20 11 Mon",
          "2022-06-20 12 Mon",
          "2022-06-20 13 Mon",
          "2022-06-20 14 Mon",
          "2022-06-20 15 Mon",
          "2022-06-20 16 Mon",
          "2022-06-20 17 Mon",
          "2022-06-20 18 Mon",
          "2022-06-20 19 Mon",
          "2022-06-20 20 Mon",
          "2022-06-20 21 Mon",
          "2022-06-20 22 Mon",
          "2022-06-20 23 Mon",
          "2022-06-21 00 Tue",
          "2022-06-21 01 Tue",
          "2022-06-21 02 Tue",
          "2022-06-21 03 Tue",
          "2022-06-21 04 Tue",
          "2022-06-21 05 Tue",
          "2022-06-21 06 Tue",
          "2022-06-21 07 Tue",
          "2022-06-21 08 Tue",
          "2022-06-21 09 Tue",
          "2022-06-21 10 Tue",
          "2022-06-21 11 Tue",
          "2022-06-21 12 Tue",
          "2022-06-21 13 Tue",
          "2022-06-21 14 Tue",
          "2022-06-21 15 Tue",
          "2022-06-21 16 Tue",
          "2022-06-21 17 Tue",
          "2022-06-21 18 Tue",
          "2022-06-21 19 Tue",
          "2022-06-21 20 Tue",
          "2022-06-21 21 Tue",
          "2022-06-21 22 Tue",
          "2022-06-21 23 Tue",
          "2022-06-22 00 Wed",
          "2022-06-22 01 Wed",
          "2022-06-22 02 Wed",
          "2022-06-22 03 Wed",
          "2022-06-22 04 Wed",
          "2022-06-22 05 Wed",
          "2022-06-22 06 Wed",
          "2022-06-22 07 Wed",
          "2022-06-22 08 Wed",
          "2022-06-22 09 Wed",
          "2022-06-22 10 Wed",
          "2022-06-22 11 Wed",
          "2022-06-22 12 Wed",
          "2022-06-22 13 Wed",
          "2022-06-22 14 Wed",
          "2022-06-22 15 Wed",
          "2022-06-22 16 Wed",
          "2022-06-22 17 Wed",
          "2022-06-22 18 Wed",
          "2022-06-22 19 Wed",
          "2022-06-22 20 Wed",
          "2022-06-22 21 Wed",
          "2022-06-22 22 Wed",
          "2022-06-22 23 Wed",
          "2022-06-23 00 Thu",
          "2022-06-23 01 Thu",
          "2022-06-23 02 Thu",
          "2022-06-23 03 Thu",
          "2022-06-23 04 Thu",
          "2022-06-23 05 Thu",
          "2022-06-23 06 Thu",
          "2022-06-23 07 Thu",
          "2022-06-23 08 Thu",
          "2022-06-23 09 Thu",
          "2022-06-23 10 Thu",
          "2022-06-23 11 Thu",
          "2022-06-23 12 Thu",
          "2022-06-23 13 Thu",
          "2022-06-23 14 Thu",
          "2022-06-23 15 Thu",
          "2022-06-23 16 Thu",
          "2022-06-23 17 Thu",
          "2022-06-23 18 Thu",
          "2022-06-23 19 Thu",
          "2022-06-23 20 Thu",
          "2022-06-23 21 Thu",
          "2022-06-23 22 Thu",
          "2022-06-23 23 Thu",
          "2022-06-24 00 Fri",
          "2022-06-24 01 Fri",
          "2022-06-24 02 Fri",
          "2022-06-24 03 Fri",
          "2022-06-24 04 Fri",
          "2022-06-24 05 Fri",
          "2022-06-24 06 Fri",
          "2022-06-24 07 Fri",
          "2022-06-24 10 Fri",
          "2022-06-24 11 Fri",
          "2022-06-27 05 Mon",
          "2022-06-27 06 Mon",
          "2022-06-27 07 Mon",
          "2022-06-27 08 Mon",
          "2022-06-27 09 Mon",
          "2022-06-27 10 Mon",
          "2022-06-27 11 Mon",
          "2022-06-27 12 Mon",
          "2022-06-27 13 Mon",
          "2022-06-27 14 Mon",
          "2022-06-27 15 Mon",
          "2022-06-27 16 Mon",
          "2022-06-27 17 Mon",
          "2022-06-27 18 Mon",
          "2022-06-27 19 Mon",
          "2022-06-27 20 Mon",
          "2022-06-27 21 Mon",
          "2022-06-27 22 Mon",
          "2022-06-27 23 Mon",
          "2022-06-28 00 Tue",
          "2022-06-28 01 Tue",
          "2022-06-28 02 Tue",
          "2022-06-28 03 Tue",
          "2022-06-28 04 Tue",
          "2022-06-28 05 Tue",
          "2022-06-28 06 Tue",
          "2022-06-28 07 Tue",
          "2022-06-28 08 Tue",
          "2022-06-28 09 Tue",
          "2022-06-28 10 Tue",
          "2022-06-28 11 Tue",
          "2022-06-28 12 Tue",
          "2022-06-28 13 Tue",
          "2022-06-28 14 Tue",
          "2022-06-28 15 Tue",
          "2022-06-28 16 Tue",
          "2022-06-28 17 Tue",
          "2022-06-28 18 Tue",
          "2022-06-28 19 Tue",
          "2022-06-28 20 Tue",
          "2022-06-28 21 Tue",
          "2022-06-28 22 Tue",
          "2022-06-28 23 Tue",
          "2022-06-29 00 Wed",
          "2022-06-29 01 Wed",
          "2022-06-29 02 Wed",
          "2022-06-29 03 Wed",
          "2022-06-29 04 Wed",
          "2022-06-29 05 Wed",
          "2022-06-29 06 Wed",
          "2022-06-29 07 Wed",
          "2022-06-29 08 Wed",
          "2022-06-29 09 Wed",
          "2022-06-29 10 Wed",
          "2022-06-29 11 Wed",
          "2022-06-29 12 Wed",
          "2022-06-29 13 Wed",
          "2022-06-29 14 Wed",
          "2022-06-29 15 Wed",
          "2022-06-29 16 Wed",
          "2022-06-29 17 Wed",
          "2022-06-29 18 Wed",
          "2022-06-29 19 Wed",
          "2022-06-29 20 Wed",
          "2022-06-29 21 Wed",
          "2022-06-29 22 Wed",
          "2022-06-29 23 Wed",
          "2022-06-30 00 Thu",
          "2022-06-30 01 Thu",
          "2022-06-30 02 Thu",
          "2022-06-30 03 Thu",
          "2022-06-30 04 Thu",
          "2022-06-30 05 Thu",
          "2022-06-30 06 Thu",
          "2022-06-30 07 Thu",
          "2022-06-30 08 Thu",
          "2022-06-30 09 Thu",
          "2022-06-30 10 Thu",
          "2022-06-30 11 Thu",
          "2022-06-30 12 Thu",
          "2022-06-30 13 Thu",
          "2022-06-30 14 Thu",
          "2022-06-30 15 Thu",
          "2022-06-30 16 Thu",
          "2022-06-30 17 Thu",
          "2022-06-30 18 Thu",
          "2022-06-30 19 Thu",
          "2022-06-30 20 Thu",
          "2022-06-30 21 Thu",
          "2022-06-30 22 Thu",
          "2022-06-30 23 Thu",
          "2022-07-01 00 Fri",
          "2022-07-01 01 Fri",
          "2022-07-01 02 Fri",
          "2022-07-01 03 Fri",
          "2022-07-07 13 Thu",
          "2022-07-07 14 Thu",
          "2022-07-07 15 Thu",
          "2022-07-07 16 Thu",
          "2022-07-08 09 Fri",
          "2022-07-08 10 Fri",
          "2022-07-08 11 Fri",
          "2022-07-08 12 Fri",
          "2022-07-10 08 Sun",
          "2022-07-10 09 Sun",
          "2022-07-10 10 Sun",
          "2022-07-10 11 Sun",
          "2022-07-11 13 Mon",
          "2022-07-11 14 Mon",
          "2022-07-11 15 Mon",
          "2022-07-11 16 Mon",
          "2022-07-11 17 Mon",
          "2022-07-11 18 Mon",
          "2022-07-11 19 Mon",
          "2022-07-11 20 Mon",
          "2022-07-11 21 Mon",
          "2022-07-11 22 Mon",
          "2022-07-11 23 Mon",
          "2022-07-12 00 Tue",
          "2022-07-12 01 Tue",
          "2022-07-12 02 Tue",
          "2022-07-12 03 Tue",
          "2022-07-12 04 Tue",
          "2022-07-12 05 Tue",
          "2022-07-12 06 Tue",
          "2022-07-12 07 Tue",
          "2022-07-12 08 Tue",
          "2022-07-12 09 Tue",
          "2022-07-12 10 Tue",
          "2022-07-12 12 Tue",
          "2022-07-12 13 Tue",
          "2022-07-12 14 Tue",
          "2022-07-12 15 Tue",
          "2022-07-12 16 Tue",
          "2022-07-12 17 Tue",
          "2022-07-12 18 Tue",
          "2022-07-12 19 Tue",
          "2022-07-12 20 Tue",
          "2022-07-12 21 Tue",
          "2022-07-12 22 Tue",
          "2022-07-12 23 Tue",
          "2022-07-13 00 Wed",
          "2022-07-13 01 Wed",
          "2022-07-13 02 Wed",
          "2022-07-13 03 Wed",
          "2022-07-13 04 Wed",
          "2022-07-13 05 Wed",
          "2022-07-13 06 Wed",
          "2022-07-13 07 Wed",
          "2022-07-13 08 Wed",
          "2022-07-13 09 Wed",
          "2022-07-13 10 Wed",
          "2022-07-13 11 Wed",
          "2022-07-13 12 Wed",
          "2022-07-13 13 Wed",
          "2022-07-13 14 Wed",
          "2022-07-13 15 Wed",
          "2022-07-13 16 Wed",
          "2022-07-13 17 Wed",
          "2022-07-13 18 Wed",
          "2022-07-13 19 Wed",
          "2022-07-13 20 Wed",
          "2022-07-13 21 Wed",
          "2022-07-13 22 Wed",
          "2022-07-13 23 Wed",
          "2022-07-14 00 Thu",
          "2022-07-14 01 Thu",
          "2022-07-14 02 Thu",
          "2022-07-14 03 Thu",
          "2022-07-14 04 Thu",
          "2022-07-14 05 Thu",
          "2022-07-14 06 Thu",
          "2022-07-14 07 Thu",
          "2022-07-14 08 Thu",
          "2022-07-14 09 Thu",
          "2022-07-14 10 Thu",
          "2022-07-14 11 Thu",
          "2022-07-14 12 Thu",
          "2022-07-14 13 Thu",
          "2022-07-14 14 Thu",
          "2022-07-14 15 Thu",
          "2022-07-14 16 Thu",
          "2022-07-14 17 Thu",
          "2022-07-14 18 Thu",
          "2022-07-14 19 Thu",
          "2022-07-14 20 Thu",
          "2022-07-14 21 Thu",
          "2022-07-14 22 Thu",
          "2022-07-14 23 Thu",
          "2022-07-15 00 Fri",
          "2022-07-15 01 Fri",
          "2022-07-15 02 Fri",
          "2022-07-15 03 Fri",
          "2022-07-15 04 Fri",
          "2022-07-15 05 Fri",
          "2022-07-15 06 Fri",
          "2022-07-15 07 Fri",
          "2022-07-15 08 Fri",
          "2022-07-15 09 Fri",
          "2022-07-15 10 Fri",
          "2022-07-15 11 Fri",
          "2022-07-15 12 Fri",
          "2022-07-15 13 Fri",
          "2022-07-15 14 Fri",
          "2022-07-15 15 Fri",
          "2022-07-16 13 Sat",
          "2022-07-18 05 Mon",
          "2022-07-18 06 Mon",
          "2022-07-18 07 Mon",
          "2022-07-18 08 Mon",
          "2022-07-18 09 Mon",
          "2022-07-18 10 Mon",
          "2022-07-18 11 Mon",
          "2022-07-18 12 Mon",
          "2022-07-18 13 Mon",
          "2022-07-18 14 Mon",
          "2022-07-18 15 Mon",
          "2022-07-18 16 Mon",
          "2022-07-18 17 Mon",
          "2022-07-18 18 Mon",
          "2022-07-18 19 Mon",
          "2022-07-18 20 Mon",
          "2022-07-18 21 Mon",
          "2022-07-19 05 Tue",
          "2022-07-19 06 Tue",
          "2022-07-19 07 Tue",
          "2022-07-19 08 Tue",
          "2022-07-19 09 Tue",
          "2022-07-19 10 Tue",
          "2022-07-19 11 Tue",
          "2022-07-19 12 Tue",
          "2022-07-19 13 Tue",
          "2022-07-19 14 Tue",
          "2022-07-19 15 Tue",
          "2022-07-19 16 Tue",
          "2022-07-19 17 Tue",
          "2022-07-19 18 Tue",
          "2022-07-19 19 Tue",
          "2022-07-19 20 Tue",
          "2022-07-19 21 Tue",
          "2022-07-20 05 Wed",
          "2022-07-20 06 Wed",
          "2022-07-20 07 Wed",
          "2022-07-20 08 Wed",
          "2022-07-20 09 Wed",
          "2022-07-20 10 Wed",
          "2022-07-20 11 Wed",
          "2022-07-20 12 Wed",
          "2022-07-20 13 Wed",
          "2022-07-20 14 Wed",
          "2022-07-20 15 Wed",
          "2022-07-20 16 Wed",
          "2022-07-20 17 Wed",
          "2022-07-20 18 Wed",
          "2022-07-20 19 Wed",
          "2022-07-20 20 Wed",
          "2022-07-20 21 Wed",
          "2022-07-21 05 Thu",
          "2022-07-21 06 Thu",
          "2022-07-21 07 Thu",
          "2022-07-21 08 Thu",
          "2022-07-21 09 Thu",
          "2022-07-21 10 Thu",
          "2022-07-21 11 Thu",
          "2022-07-21 12 Thu",
          "2022-07-21 13 Thu",
          "2022-07-21 14 Thu",
          "2022-07-21 15 Thu",
          "2022-07-21 16 Thu",
          "2022-07-21 18 Thu",
          "2022-07-21 19 Thu",
          "2022-07-21 20 Thu",
          "2022-07-21 21 Thu",
          "2022-07-22 05 Fri",
          "2022-07-22 06 Fri",
          "2022-07-22 07 Fri",
          "2022-07-22 08 Fri",
          "2022-07-22 09 Fri",
          "2022-07-22 10 Fri",
          "2022-07-22 11 Fri",
          "2022-07-22 12 Fri",
          "2022-07-22 13 Fri",
          "2022-07-22 14 Fri",
          "2022-07-22 15 Fri",
          "2022-07-22 16 Fri",
          "2022-07-22 17 Fri",
          "2022-07-22 18 Fri",
          "2022-07-22 19 Fri",
          "2022-07-22 20 Fri",
          "2022-07-22 21 Fri",
          "2022-07-25 05 Mon",
          "2022-07-25 06 Mon",
          "2022-07-25 07 Mon",
          "2022-07-25 08 Mon",
          "2022-07-25 09 Mon",
          "2022-07-25 10 Mon",
          "2022-07-25 11 Mon",
          "2022-07-25 12 Mon",
          "2022-07-25 13 Mon",
          "2022-07-25 14 Mon",
          "2022-07-25 15 Mon",
          "2022-07-25 16 Mon",
          "2022-07-25 17 Mon",
          "2022-07-25 18 Mon",
          "2022-07-25 19 Mon",
          "2022-07-25 20 Mon",
          "2022-07-25 21 Mon",
          "2022-07-26 05 Tue",
          "2022-07-26 06 Tue",
          "2022-07-26 07 Tue",
          "2022-07-26 08 Tue",
          "2022-07-26 09 Tue",
          "2022-07-26 10 Tue",
          "2022-07-26 11 Tue",
          "2022-07-26 12 Tue",
          "2022-07-26 13 Tue",
          "2022-07-26 14 Tue",
          "2022-07-26 15 Tue",
          "2022-07-26 16 Tue",
          "2022-07-26 17 Tue",
          "2022-07-26 18 Tue",
          "2022-07-26 19 Tue",
          "2022-07-26 20 Tue",
          "2022-07-26 21 Tue",
          "2022-07-27 05 Wed",
          "2022-07-27 06 Wed",
          "2022-07-27 07 Wed",
          "2022-07-27 08 Wed",
          "2022-07-27 09 Wed",
          "2022-07-27 10 Wed",
          "2022-07-27 11 Wed",
          "2022-07-27 12 Wed",
          "2022-07-27 13 Wed",
          "2022-07-27 14 Wed",
          "2022-07-27 15 Wed",
          "2022-07-27 16 Wed",
          "2022-07-27 17 Wed",
          "2022-07-27 18 Wed",
          "2022-07-27 19 Wed",
          "2022-07-27 20 Wed",
          "2022-07-27 21 Wed",
          "2022-07-27 22 Wed",
          "2022-07-27 23 Wed",
          "2022-07-28 00 Thu",
          "2022-07-28 01 Thu",
          "2022-07-28 02 Thu",
          "2022-07-28 03 Thu",
          "2022-07-28 04 Thu",
          "2022-07-28 05 Thu",
          "2022-07-28 06 Thu",
          "2022-07-28 07 Thu",
          "2022-07-28 08 Thu",
          "2022-07-28 09 Thu",
          "2022-07-28 10 Thu",
          "2022-07-28 11 Thu",
          "2022-07-28 12 Thu",
          "2022-07-28 13 Thu",
          "2022-07-28 14 Thu",
          "2022-07-28 15 Thu",
          "2022-07-28 16 Thu",
          "2022-07-28 17 Thu",
          "2022-07-28 18 Thu",
          "2022-07-28 19 Thu",
          "2022-07-28 20 Thu",
          "2022-07-28 21 Thu",
          "2022-07-28 22 Thu",
          "2022-07-28 23 Thu",
          "2022-07-29 00 Fri",
          "2022-07-29 01 Fri",
          "2022-07-29 02 Fri",
          "2022-07-29 03 Fri",
          "2022-07-29 04 Fri",
          "2022-07-29 05 Fri",
          "2022-07-29 06 Fri",
          "2022-07-29 07 Fri",
          "2022-07-29 08 Fri",
          "2022-07-29 09 Fri",
          "2022-07-29 10 Fri",
          "2022-07-29 11 Fri",
          "2022-07-29 12 Fri",
          "2022-07-29 13 Fri",
          "2022-07-29 14 Fri",
          "2022-07-29 15 Fri",
          "2022-07-29 16 Fri",
          "2022-07-29 17 Fri",
          "2022-07-29 18 Fri",
          "2022-07-29 19 Fri",
          "2022-07-29 20 Fri",
          "2022-07-29 21 Fri",
          "2022-07-29 22 Fri",
          "2022-07-29 23 Fri",
          "2022-07-30 00 Sat",
          "2022-07-30 01 Sat",
          "2022-07-30 02 Sat",
          "2022-07-30 03 Sat",
          "2022-07-30 04 Sat",
          "2022-07-30 05 Sat"
         ],
         "y": [
          120,
          397,
          375,
          153,
          54,
          140,
          108,
          307,
          132,
          84,
          321,
          296,
          242,
          205,
          227,
          197,
          179,
          213,
          183,
          187,
          210,
          269,
          417,
          208,
          230,
          249,
          407,
          281,
          352,
          1188,
          102,
          346,
          109,
          491,
          294,
          361,
          209,
          154,
          181,
          161,
          246,
          125,
          222,
          278,
          237,
          177,
          196,
          225,
          264,
          453,
          95,
          328,
          497,
          121,
          185,
          267,
          91,
          207,
          271,
          400,
          143,
          248,
          309,
          294,
          290,
          195,
          493,
          231,
          165,
          232,
          292,
          252,
          272,
          219,
          442,
          124,
          480,
          384,
          360,
          120,
          91,
          0,
          264,
          408,
          577,
          99,
          178,
          112,
          243,
          192,
          67,
          150,
          148,
          171,
          120,
          362,
          206,
          265,
          81,
          446,
          396,
          317,
          157,
          196,
          163,
          305,
          119,
          285,
          272,
          95,
          470,
          261,
          181,
          190,
          187,
          162,
          96,
          232,
          129,
          242,
          189,
          101,
          141,
          23,
          126,
          172,
          147,
          303,
          207,
          289,
          321,
          158,
          75,
          72,
          301,
          179,
          143,
          127,
          109,
          301,
          427,
          268,
          43,
          250,
          226,
          228,
          197,
          565,
          201,
          324,
          148,
          202,
          385,
          201,
          197,
          231,
          109,
          279,
          231,
          366,
          66,
          56,
          129,
          122,
          342,
          235,
          351,
          305,
          402,
          75,
          154,
          107,
          235,
          595,
          316,
          282,
          245,
          160,
          614,
          359,
          327,
          299,
          412,
          390,
          198,
          521,
          303,
          153,
          159,
          190,
          230,
          350,
          321,
          207,
          165,
          230,
          197,
          223,
          258,
          168,
          212,
          196,
          223,
          361,
          97,
          323,
          226,
          326,
          339,
          244,
          186,
          243,
          240,
          544,
          283,
          249,
          265,
          330,
          234,
          296,
          120,
          238,
          360,
          408,
          313,
          255,
          418,
          408,
          126,
          346,
          352,
          291,
          238,
          237,
          400,
          155,
          216,
          187,
          307,
          378,
          310,
          127,
          144,
          366,
          164,
          146,
          253,
          313,
          388,
          306,
          353,
          401,
          120,
          368,
          392,
          374,
          233,
          249,
          183,
          124,
          158,
          155,
          234,
          284,
          208,
          282,
          243,
          164,
          137,
          232,
          195,
          287,
          296,
          200,
          248,
          449,
          121,
          261,
          272,
          250,
          156,
          244,
          101,
          125,
          257,
          155,
          197,
          376,
          259,
          227,
          190,
          277,
          190,
          290,
          252,
          302,
          362,
          184,
          167,
          157,
          208,
          154,
          133,
          243,
          248,
          423,
          109,
          154,
          265,
          236,
          136,
          124,
          149,
          260,
          219,
          195,
          204,
          278,
          308,
          138,
          576,
          196,
          376,
          126,
          418,
          301,
          76,
          425,
          604,
          525,
          274,
          177,
          537,
          377,
          396,
          320,
          225,
          337,
          314,
          77,
          446,
          1023,
          325,
          278,
          569,
          173,
          54,
          230,
          119,
          244,
          175,
          122,
          288,
          125,
          23,
          0,
          0,
          0,
          704,
          161,
          170,
          149,
          206,
          230,
          202,
          344,
          291,
          180,
          91,
          245,
          294,
          142,
          180,
          167,
          330,
          128,
          265,
          170,
          71,
          270,
          460,
          246,
          386,
          292,
          237,
          352,
          394,
          838,
          551,
          346,
          357,
          75,
          489,
          355,
          319,
          319,
          152,
          196,
          467,
          164,
          260,
          161,
          286,
          273,
          191,
          170,
          130,
          206,
          183,
          245,
          163,
          272,
          84,
          390,
          401,
          338,
          477,
          483,
          286,
          387,
          110,
          287,
          318,
          128,
          453,
          194,
          228,
          331,
          403,
          310,
          233,
          15,
          179,
          266,
          187,
          299,
          182,
          391,
          404,
          179,
          311,
          236,
          490,
          180,
          721,
          253,
          281,
          206,
          364,
          235,
          385,
          405,
          218,
          371,
          250,
          225,
          251,
          409,
          277,
          144,
          422,
          194,
          253,
          280,
          165,
          392,
          253,
          294,
          258,
          525,
          274,
          222,
          33,
          228,
          370,
          285,
          372,
          269,
          206,
          252,
          206,
          305,
          283,
          454,
          266,
          285,
          303,
          267,
          63,
          677,
          242,
          320,
          280,
          392,
          192,
          675,
          212,
          204,
          296,
          245,
          208,
          382,
          341,
          227,
          224,
          256,
          26,
          38,
          209,
          91,
          186,
          448,
          267,
          475,
          5,
          121,
          103,
          176,
          106,
          74,
          211,
          208,
          260,
          210,
          89,
          312,
          469,
          407,
          263,
          240,
          598,
          457,
          344,
          164,
          118,
          248,
          271,
          184,
          174,
          283,
          205,
          310,
          131,
          210,
          269,
          317,
          209,
          284,
          302,
          309,
          322,
          551,
          440,
          354,
          438,
          296,
          585,
          432,
          98,
          295,
          220,
          196,
          192,
          0,
          404,
          159,
          238,
          172,
          320,
          332,
          219,
          94,
          104,
          289,
          207,
          288,
          303,
          269,
          293,
          231,
          210,
          226,
          167,
          229,
          419,
          407,
          444,
          426,
          374,
          288,
          412,
          220,
          353,
          259,
          285,
          196,
          236,
          283,
          309,
          220,
          226,
          209,
          201,
          188,
          146,
          110,
          169,
          223,
          298,
          420,
          219,
          580,
          548,
          452,
          345,
          158,
          198,
          188,
          352,
          354,
          257,
          271,
          291,
          163,
          202,
          198,
          293,
          289,
          233,
          158,
          263,
          154,
          151,
          94,
          365,
          369,
          125,
          347,
          193,
          203,
          213,
          238,
          376,
          91,
          318,
          309,
          421,
          380,
          229,
          407,
          290,
          286,
          446,
          313,
          246,
          209,
          120,
          368,
          174,
          349,
          269,
          432,
          296,
          64,
          97,
          1755,
          1126,
          1176,
          264,
          144,
          192,
          613,
          190,
          355,
          323,
          124,
          360,
          229,
          205,
          85,
          131,
          357,
          280,
          231,
          313,
          240,
          205,
          271,
          137,
          257,
          227,
          268,
          458,
          199,
          487,
          207,
          545,
          360,
          330,
          255,
          380,
          214,
          260,
          166,
          207,
          349,
          243,
          270,
          206,
          333,
          165,
          336,
          162,
          208,
          258,
          198,
          496,
          307,
          313,
          249,
          172,
          275,
          275,
          273,
          241,
          208,
          228,
          64,
          93,
          276,
          2880,
          565,
          243,
          155,
          419,
          313,
          156,
          360,
          309,
          533,
          250,
          117,
          144,
          216,
          96,
          417,
          321,
          194,
          469,
          250,
          211,
          168,
          283,
          360,
          254,
          291,
          270,
          181,
          480,
          149,
          249,
          366,
          470,
          216,
          287,
          126,
          386,
          502,
          411,
          508,
          215,
          275,
          280,
          312,
          248,
          204,
          317,
          233,
          171,
          324,
          424,
          229,
          335,
          395,
          285,
          396,
          426,
          359,
          221,
          112,
          261,
          170,
          273,
          204,
          230,
          280,
          299,
          195,
          390,
          147,
          5,
          11,
          152,
          112,
          291,
          215,
          291,
          182,
          322,
          304,
          229,
          372,
          285,
          104,
          338,
          355,
          307,
          255,
          204,
          89,
          180,
          141,
          125,
          95,
          323,
          258,
          239,
          266,
          226,
          133,
          222,
          248,
          202,
          275,
          277,
          248,
          143,
          102,
          186,
          0,
          76,
          160,
          0,
          144,
          0,
          56,
          0,
          276,
          4,
          16,
          4,
          312,
          292,
          323,
          633,
          358,
          111,
          218,
          185,
          230,
          163,
          207,
          238,
          236,
          131,
          317,
          220,
          195,
          379,
          438,
          124,
          62,
          698,
          226,
          192,
          700,
          180,
          175,
          190,
          204,
          442,
          230,
          297,
          308,
          194,
          243,
          271,
          145,
          196,
          201,
          176,
          176,
          190,
          191,
          134,
          0,
          653,
          476,
          662,
          301,
          167,
          126,
          33,
          36,
          201,
          158,
          171,
          228,
          222,
          276,
          272,
          58,
          383,
          225,
          277,
          153,
          110,
          153,
          245,
          213,
          199,
          275,
          205,
          359,
          152,
          7,
          497,
          135,
          212,
          203,
          235,
          282,
          223,
          439,
          484,
          169,
          268,
          553,
          149,
          106,
          367,
          434,
          229,
          285,
          248,
          236,
          199,
          184,
          370,
          96,
          317,
          182,
          124,
          207,
          185,
          499,
          383,
          132,
          220,
          247,
          613,
          549,
          471,
          156,
          315,
          199,
          291,
          515,
          278,
          118,
          238,
          51,
          298,
          94,
          362,
          199,
          246,
          223,
          337,
          319,
          104,
          173,
          192,
          193,
          460,
          229,
          406,
          317,
          104,
          657,
          525,
          355,
          138,
          15,
          382,
          303,
          211,
          120,
          222,
          228,
          196,
          562,
          180,
          140,
          209,
          126,
          30,
          104,
          33,
          225,
          216,
          162,
          115,
          69,
          266,
          142,
          251,
          411,
          256,
          80,
          77,
          143,
          63,
          108,
          200,
          107,
          213,
          219,
          260,
          209,
          124,
          272,
          386,
          569,
          36,
          333,
          320,
          201,
          166,
          163,
          147,
          253,
          327,
          185,
          218,
          267,
          363,
          226,
          241,
          191,
          154,
          443,
          328,
          160,
          187,
          241,
          234,
          183,
          137,
          184,
          220,
          138,
          161,
          265,
          79,
          149,
          197,
          158,
          659,
          241,
          414,
          192,
          363,
          198,
          294,
          198,
          341,
          190,
          180,
          319,
          151,
          290,
          264,
          284,
          176,
          168,
          303,
          153,
          132,
          141,
          173,
          172,
          282,
          239,
          229,
          205,
          101,
          260,
          147,
          221,
          271,
          289,
          138,
          138,
          75,
          213,
          894,
          109,
          196,
          360,
          53,
          142,
          216,
          143,
          207,
          248,
          69,
          194,
          143,
          352,
          62,
          145,
          325,
          423,
          169,
          256,
          194,
          132,
          25,
          377,
          247,
          245,
          133,
          146,
          181,
          152,
          159,
          35,
          205,
          223,
          197
         ]
        }
       ],
       "layout": {
        "barmode": "stack",
        "legend": {
         "orientation": "h",
         "x": 0.5,
         "xanchor": "center",
         "y": 1,
         "yanchor": "bottom"
        },
        "template": {
         "data": {
          "bar": [
           {
            "error_x": {
             "color": "#2a3f5f"
            },
            "error_y": {
             "color": "#2a3f5f"
            },
            "marker": {
             "line": {
              "color": "#E5ECF6",
              "width": 0.5
             },
             "pattern": {
              "fillmode": "overlay",
              "size": 10,
              "solidity": 0.2
             }
            },
            "type": "bar"
           }
          ],
          "barpolar": [
           {
            "marker": {
             "line": {
              "color": "#E5ECF6",
              "width": 0.5
             },
             "pattern": {
              "fillmode": "overlay",
              "size": 10,
              "solidity": 0.2
             }
            },
            "type": "barpolar"
           }
          ],
          "carpet": [
           {
            "aaxis": {
             "endlinecolor": "#2a3f5f",
             "gridcolor": "white",
             "linecolor": "white",
             "minorgridcolor": "white",
             "startlinecolor": "#2a3f5f"
            },
            "baxis": {
             "endlinecolor": "#2a3f5f",
             "gridcolor": "white",
             "linecolor": "white",
             "minorgridcolor": "white",
             "startlinecolor": "#2a3f5f"
            },
            "type": "carpet"
           }
          ],
          "choropleth": [
           {
            "colorbar": {
             "outlinewidth": 0,
             "ticks": ""
            },
            "type": "choropleth"
           }
          ],
          "contour": [
           {
            "colorbar": {
             "outlinewidth": 0,
             "ticks": ""
            },
            "colorscale": [
             [
              0,
              "#0d0887"
             ],
             [
              0.1111111111111111,
              "#46039f"
             ],
             [
              0.2222222222222222,
              "#7201a8"
             ],
             [
              0.3333333333333333,
              "#9c179e"
             ],
             [
              0.4444444444444444,
              "#bd3786"
             ],
             [
              0.5555555555555556,
              "#d8576b"
             ],
             [
              0.6666666666666666,
              "#ed7953"
             ],
             [
              0.7777777777777778,
              "#fb9f3a"
             ],
             [
              0.8888888888888888,
              "#fdca26"
             ],
             [
              1,
              "#f0f921"
             ]
            ],
            "type": "contour"
           }
          ],
          "contourcarpet": [
           {
            "colorbar": {
             "outlinewidth": 0,
             "ticks": ""
            },
            "type": "contourcarpet"
           }
          ],
          "heatmap": [
           {
            "colorbar": {
             "outlinewidth": 0,
             "ticks": ""
            },
            "colorscale": [
             [
              0,
              "#0d0887"
             ],
             [
              0.1111111111111111,
              "#46039f"
             ],
             [
              0.2222222222222222,
              "#7201a8"
             ],
             [
              0.3333333333333333,
              "#9c179e"
             ],
             [
              0.4444444444444444,
              "#bd3786"
             ],
             [
              0.5555555555555556,
              "#d8576b"
             ],
             [
              0.6666666666666666,
              "#ed7953"
             ],
             [
              0.7777777777777778,
              "#fb9f3a"
             ],
             [
              0.8888888888888888,
              "#fdca26"
             ],
             [
              1,
              "#f0f921"
             ]
            ],
            "type": "heatmap"
           }
          ],
          "heatmapgl": [
           {
            "colorbar": {
             "outlinewidth": 0,
             "ticks": ""
            },
            "colorscale": [
             [
              0,
              "#0d0887"
             ],
             [
              0.1111111111111111,
              "#46039f"
             ],
             [
              0.2222222222222222,
              "#7201a8"
             ],
             [
              0.3333333333333333,
              "#9c179e"
             ],
             [
              0.4444444444444444,
              "#bd3786"
             ],
             [
              0.5555555555555556,
              "#d8576b"
             ],
             [
              0.6666666666666666,
              "#ed7953"
             ],
             [
              0.7777777777777778,
              "#fb9f3a"
             ],
             [
              0.8888888888888888,
              "#fdca26"
             ],
             [
              1,
              "#f0f921"
             ]
            ],
            "type": "heatmapgl"
           }
          ],
          "histogram": [
           {
            "marker": {
             "pattern": {
              "fillmode": "overlay",
              "size": 10,
              "solidity": 0.2
             }
            },
            "type": "histogram"
           }
          ],
          "histogram2d": [
           {
            "colorbar": {
             "outlinewidth": 0,
             "ticks": ""
            },
            "colorscale": [
             [
              0,
              "#0d0887"
             ],
             [
              0.1111111111111111,
              "#46039f"
             ],
             [
              0.2222222222222222,
              "#7201a8"
             ],
             [
              0.3333333333333333,
              "#9c179e"
             ],
             [
              0.4444444444444444,
              "#bd3786"
             ],
             [
              0.5555555555555556,
              "#d8576b"
             ],
             [
              0.6666666666666666,
              "#ed7953"
             ],
             [
              0.7777777777777778,
              "#fb9f3a"
             ],
             [
              0.8888888888888888,
              "#fdca26"
             ],
             [
              1,
              "#f0f921"
             ]
            ],
            "type": "histogram2d"
           }
          ],
          "histogram2dcontour": [
           {
            "colorbar": {
             "outlinewidth": 0,
             "ticks": ""
            },
            "colorscale": [
             [
              0,
              "#0d0887"
             ],
             [
              0.1111111111111111,
              "#46039f"
             ],
             [
              0.2222222222222222,
              "#7201a8"
             ],
             [
              0.3333333333333333,
              "#9c179e"
             ],
             [
              0.4444444444444444,
              "#bd3786"
             ],
             [
              0.5555555555555556,
              "#d8576b"
             ],
             [
              0.6666666666666666,
              "#ed7953"
             ],
             [
              0.7777777777777778,
              "#fb9f3a"
             ],
             [
              0.8888888888888888,
              "#fdca26"
             ],
             [
              1,
              "#f0f921"
             ]
            ],
            "type": "histogram2dcontour"
           }
          ],
          "mesh3d": [
           {
            "colorbar": {
             "outlinewidth": 0,
             "ticks": ""
            },
            "type": "mesh3d"
           }
          ],
          "parcoords": [
           {
            "line": {
             "colorbar": {
              "outlinewidth": 0,
              "ticks": ""
             }
            },
            "type": "parcoords"
           }
          ],
          "pie": [
           {
            "automargin": true,
            "type": "pie"
           }
          ],
          "scatter": [
           {
            "fillpattern": {
             "fillmode": "overlay",
             "size": 10,
             "solidity": 0.2
            },
            "type": "scatter"
           }
          ],
          "scatter3d": [
           {
            "line": {
             "colorbar": {
              "outlinewidth": 0,
              "ticks": ""
             }
            },
            "marker": {
             "colorbar": {
              "outlinewidth": 0,
              "ticks": ""
             }
            },
            "type": "scatter3d"
           }
          ],
          "scattercarpet": [
           {
            "marker": {
             "colorbar": {
              "outlinewidth": 0,
              "ticks": ""
             }
            },
            "type": "scattercarpet"
           }
          ],
          "scattergeo": [
           {
            "marker": {
             "colorbar": {
              "outlinewidth": 0,
              "ticks": ""
             }
            },
            "type": "scattergeo"
           }
          ],
          "scattergl": [
           {
            "marker": {
             "colorbar": {
              "outlinewidth": 0,
              "ticks": ""
             }
            },
            "type": "scattergl"
           }
          ],
          "scattermapbox": [
           {
            "marker": {
             "colorbar": {
              "outlinewidth": 0,
              "ticks": ""
             }
            },
            "type": "scattermapbox"
           }
          ],
          "scatterpolar": [
           {
            "marker": {
             "colorbar": {
              "outlinewidth": 0,
              "ticks": ""
             }
            },
            "type": "scatterpolar"
           }
          ],
          "scatterpolargl": [
           {
            "marker": {
             "colorbar": {
              "outlinewidth": 0,
              "ticks": ""
             }
            },
            "type": "scatterpolargl"
           }
          ],
          "scatterternary": [
           {
            "marker": {
             "colorbar": {
              "outlinewidth": 0,
              "ticks": ""
             }
            },
            "type": "scatterternary"
           }
          ],
          "surface": [
           {
            "colorbar": {
             "outlinewidth": 0,
             "ticks": ""
            },
            "colorscale": [
             [
              0,
              "#0d0887"
             ],
             [
              0.1111111111111111,
              "#46039f"
             ],
             [
              0.2222222222222222,
              "#7201a8"
             ],
             [
              0.3333333333333333,
              "#9c179e"
             ],
             [
              0.4444444444444444,
              "#bd3786"
             ],
             [
              0.5555555555555556,
              "#d8576b"
             ],
             [
              0.6666666666666666,
              "#ed7953"
             ],
             [
              0.7777777777777778,
              "#fb9f3a"
             ],
             [
              0.8888888888888888,
              "#fdca26"
             ],
             [
              1,
              "#f0f921"
             ]
            ],
            "type": "surface"
           }
          ],
          "table": [
           {
            "cells": {
             "fill": {
              "color": "#EBF0F8"
             },
             "line": {
              "color": "white"
             }
            },
            "header": {
             "fill": {
              "color": "#C8D4E3"
             },
             "line": {
              "color": "white"
             }
            },
            "type": "table"
           }
          ]
         },
         "layout": {
          "annotationdefaults": {
           "arrowcolor": "#2a3f5f",
           "arrowhead": 0,
           "arrowwidth": 1
          },
          "autotypenumbers": "strict",
          "coloraxis": {
           "colorbar": {
            "outlinewidth": 0,
            "ticks": ""
           }
          },
          "colorscale": {
           "diverging": [
            [
             0,
             "#8e0152"
            ],
            [
             0.1,
             "#c51b7d"
            ],
            [
             0.2,
             "#de77ae"
            ],
            [
             0.3,
             "#f1b6da"
            ],
            [
             0.4,
             "#fde0ef"
            ],
            [
             0.5,
             "#f7f7f7"
            ],
            [
             0.6,
             "#e6f5d0"
            ],
            [
             0.7,
             "#b8e186"
            ],
            [
             0.8,
             "#7fbc41"
            ],
            [
             0.9,
             "#4d9221"
            ],
            [
             1,
             "#276419"
            ]
           ],
           "sequential": [
            [
             0,
             "#0d0887"
            ],
            [
             0.1111111111111111,
             "#46039f"
            ],
            [
             0.2222222222222222,
             "#7201a8"
            ],
            [
             0.3333333333333333,
             "#9c179e"
            ],
            [
             0.4444444444444444,
             "#bd3786"
            ],
            [
             0.5555555555555556,
             "#d8576b"
            ],
            [
             0.6666666666666666,
             "#ed7953"
            ],
            [
             0.7777777777777778,
             "#fb9f3a"
            ],
            [
             0.8888888888888888,
             "#fdca26"
            ],
            [
             1,
             "#f0f921"
            ]
           ],
           "sequentialminus": [
            [
             0,
             "#0d0887"
            ],
            [
             0.1111111111111111,
             "#46039f"
            ],
            [
             0.2222222222222222,
             "#7201a8"
            ],
            [
             0.3333333333333333,
             "#9c179e"
            ],
            [
             0.4444444444444444,
             "#bd3786"
            ],
            [
             0.5555555555555556,
             "#d8576b"
            ],
            [
             0.6666666666666666,
             "#ed7953"
            ],
            [
             0.7777777777777778,
             "#fb9f3a"
            ],
            [
             0.8888888888888888,
             "#fdca26"
            ],
            [
             1,
             "#f0f921"
            ]
           ]
          },
          "colorway": [
           "#636efa",
           "#EF553B",
           "#00cc96",
           "#ab63fa",
           "#FFA15A",
           "#19d3f3",
           "#FF6692",
           "#B6E880",
           "#FF97FF",
           "#FECB52"
          ],
          "font": {
           "color": "#2a3f5f"
          },
          "geo": {
           "bgcolor": "white",
           "lakecolor": "white",
           "landcolor": "#E5ECF6",
           "showlakes": true,
           "showland": true,
           "subunitcolor": "white"
          },
          "hoverlabel": {
           "align": "left"
          },
          "hovermode": "closest",
          "mapbox": {
           "style": "light"
          },
          "paper_bgcolor": "white",
          "plot_bgcolor": "#E5ECF6",
          "polar": {
           "angularaxis": {
            "gridcolor": "white",
            "linecolor": "white",
            "ticks": ""
           },
           "bgcolor": "#E5ECF6",
           "radialaxis": {
            "gridcolor": "white",
            "linecolor": "white",
            "ticks": ""
           }
          },
          "scene": {
           "xaxis": {
            "backgroundcolor": "#E5ECF6",
            "gridcolor": "white",
            "gridwidth": 2,
            "linecolor": "white",
            "showbackground": true,
            "ticks": "",
            "zerolinecolor": "white"
           },
           "yaxis": {
            "backgroundcolor": "#E5ECF6",
            "gridcolor": "white",
            "gridwidth": 2,
            "linecolor": "white",
            "showbackground": true,
            "ticks": "",
            "zerolinecolor": "white"
           },
           "zaxis": {
            "backgroundcolor": "#E5ECF6",
            "gridcolor": "white",
            "gridwidth": 2,
            "linecolor": "white",
            "showbackground": true,
            "ticks": "",
            "zerolinecolor": "white"
           }
          },
          "shapedefaults": {
           "line": {
            "color": "#2a3f5f"
           }
          },
          "ternary": {
           "aaxis": {
            "gridcolor": "white",
            "linecolor": "white",
            "ticks": ""
           },
           "baxis": {
            "gridcolor": "white",
            "linecolor": "white",
            "ticks": ""
           },
           "bgcolor": "#E5ECF6",
           "caxis": {
            "gridcolor": "white",
            "linecolor": "white",
            "ticks": ""
           }
          },
          "title": {
           "x": 0.05
          },
          "xaxis": {
           "automargin": true,
           "gridcolor": "white",
           "linecolor": "white",
           "ticks": "",
           "title": {
            "standoff": 15
           },
           "zerolinecolor": "white",
           "zerolinewidth": 2
          },
          "yaxis": {
           "automargin": true,
           "gridcolor": "white",
           "linecolor": "white",
           "ticks": "",
           "title": {
            "standoff": 15
           },
           "zerolinecolor": "white",
           "zerolinewidth": 2
          }
         }
        },
        "title": {
         "text": "Stündlich produzierte Packungen"
        },
        "xaxis": {
         "tickangle": -90
        },
        "yaxis": {
         "title": {
          "text": "Anzahl Packungen"
         }
        }
       }
      }
     },
     "metadata": {},
     "output_type": "display_data"
    }
   ],
   "source": [
    "pd_hourly_produced_packs_all = hourly_produced_packs_all.toPandas()\n",
    "fig = go.Figure(data=[\n",
    "    go.Bar(name='Stündlich produzierte Gutpackungen',\n",
    "           x=pd_hourly_produced_packs_all.date, \n",
    "           y=pd_hourly_produced_packs_all.hourly_good_packs),\n",
    "    go.Bar(name='Stündlich produzierte Schlechtpackungen',\n",
    "           x=pd_hourly_produced_packs_all.date,\n",
    "           y=pd_hourly_produced_packs_all.hourly_reject_packs,\n",
    "           text=pd_hourly_produced_packs_all.hourly_reject_packs_percentage.apply(lambda x: f\"{x}%\"))\n",
    "])\n",
    "# Change the bar mode\n",
    "fig.update_layout(barmode='stack')\n",
    "fig.update_layout(\n",
    "    title=f\"Stündlich produzierte Packungen\",\n",
    "    yaxis_title=\"Anzahl Packungen\",\n",
    "    legend=dict(\n",
    "       orientation=\"h\",\n",
    "       yanchor=\"bottom\",\n",
    "       y=1,\n",
    "       xanchor=\"center\",\n",
    "       x=0.5\n",
    "    )\n",
    ")\n",
    "fig.update_xaxes(tickangle=-90)\n",
    "# fig.update_yaxes(type=\"log\")\n",
    "fig.show()"
   ]
  },
  {
   "attachments": {},
   "cell_type": "markdown",
   "metadata": {},
   "source": [
    "### Prognose der täglichen Gesamtproduktion an Gutpackungen"
   ]
  },
  {
   "cell_type": "code",
   "execution_count": 39,
   "metadata": {},
   "outputs": [
    {
     "name": "stderr",
     "output_type": "stream",
     "text": [
      "07:53:16 - cmdstanpy - INFO - CmdStan installation c:\\Users\\user\\Desktop\\InnovativeCheeseProducingCompany\\.venv\\lib\\site-packages\\prophet\\stan_model\\cmdstan-2.26.1 missing makefile, cannot get version.\n",
      "07:53:16 - cmdstanpy - INFO - Cannot determine whether version is before 2.28.\n",
      "07:53:16 - cmdstanpy - INFO - CmdStan start processing\n"
     ]
    },
    {
     "data": {
      "application/vnd.jupyter.widget-view+json": {
       "model_id": "b7e3970c173f492ea3a760b8d792782e",
       "version_major": 2,
       "version_minor": 0
      },
      "text/plain": [
       "chain 1 |          | 00:00 Status"
      ]
     },
     "metadata": {},
     "output_type": "display_data"
    },
    {
     "data": {
      "application/vnd.jupyter.widget-view+json": {
       "model_id": "cfe54f8b3baf406f86cbad78b9ab5e94",
       "version_major": 2,
       "version_minor": 0
      },
      "text/plain": [
       "chain 2 |          | 00:00 Status"
      ]
     },
     "metadata": {},
     "output_type": "display_data"
    },
    {
     "data": {
      "application/vnd.jupyter.widget-view+json": {
       "model_id": "54dfd2e1b3d54246948d876610ad1ee8",
       "version_major": 2,
       "version_minor": 0
      },
      "text/plain": [
       "chain 3 |          | 00:00 Status"
      ]
     },
     "metadata": {},
     "output_type": "display_data"
    },
    {
     "data": {
      "application/vnd.jupyter.widget-view+json": {
       "model_id": "b6e9697305374b0e81a033beecec19c1",
       "version_major": 2,
       "version_minor": 0
      },
      "text/plain": [
       "chain 4 |          | 00:00 Status"
      ]
     },
     "metadata": {},
     "output_type": "display_data"
    },
    {
     "name": "stdout",
     "output_type": "stream",
     "text": [
      "                                                                                                                                                                                                                                                                                                                                "
     ]
    },
    {
     "name": "stderr",
     "output_type": "stream",
     "text": [
      "07:53:50 - cmdstanpy - INFO - CmdStan done processing.\n",
      "07:53:50 - cmdstanpy - WARNING - Non-fatal error during sampling:\n",
      "Exception: normal_id_glm_lpdf: Scale vector is 0, but must be positive finite! (in 'D:/a/prophet/prophet/python/stan/prophet.stan', line 137, column 2 to line 142, column 4)\n",
      "Exception: normal_id_glm_lpdf: Scale vector is 0, but must be positive finite! (in 'D:/a/prophet/prophet/python/stan/prophet.stan', line 137, column 2 to line 142, column 4)\n",
      "Exception: normal_id_glm_lpdf: Scale vector is inf, but must be positive finite! (in 'D:/a/prophet/prophet/python/stan/prophet.stan', line 137, column 2 to line 142, column 4)\n",
      "Exception: normal_id_glm_lpdf: Scale vector is 0, but must be positive finite! (in 'D:/a/prophet/prophet/python/stan/prophet.stan', line 137, column 2 to line 142, column 4)\n",
      "Consider re-running with show_console=True if the above output is unclear!\n"
     ]
    },
    {
     "name": "stdout",
     "output_type": "stream",
     "text": [
      "\n"
     ]
    },
    {
     "name": "stderr",
     "output_type": "stream",
     "text": [
      "07:53:51 - cmdstanpy - WARNING - Some chains may have failed to converge.\n",
      "\tChain 2 had 1 divergent transitions (0.0%)\n",
      "\tChain 3 had 90 divergent transitions (1.8%)\n",
      "\tChain 4 had 5 divergent transitions (0.1%)\n",
      "\tUse function \"diagnose()\" to see further information.\n"
     ]
    },
    {
     "data": {
      "text/plain": [
       "<prophet.forecaster.Prophet at 0x17a4e289130>"
      ]
     },
     "execution_count": 39,
     "metadata": {},
     "output_type": "execute_result"
    }
   ],
   "source": [
    "pd_daily_produced_good_packs_all = pd_daily_produced_packs_all[[\"date\", \"daily_good_packs\"]].rename(columns={\"date\": \"ds\", \"daily_good_packs\": \"y\"})\n",
    "# boundaries for logistic growth model\n",
    "pd_daily_produced_good_packs_all[\"cap\"] = 200000.0\n",
    "pd_daily_produced_good_packs_all[\"floor\"] = 0.0\n",
    "# instantiate the model and set parameters\n",
    "model = Prophet(\n",
    "    interval_width=0.95, # uncertainty level\n",
    "    growth='logistic',\n",
    "    daily_seasonality=\"auto\",\n",
    "    weekly_seasonality=True, # above investigations show weekly trends\n",
    "    seasonality_mode='multiplicative',\n",
    "    seasonality_prior_scale=5.0,\n",
    "    mcmc_samples=10000,\n",
    ")\n",
    "\n",
    "# fit the model to historical daily produced good packs (all) data\n",
    "model.fit(pd_daily_produced_good_packs_all)"
   ]
  },
  {
   "cell_type": "code",
   "execution_count": 40,
   "metadata": {},
   "outputs": [],
   "source": [
    "# look 60 days ahead\n",
    "pd_future = model.make_future_dataframe(\n",
    "    periods=60,\n",
    "    freq='D',\n",
    "    include_history=True\n",
    ")\n",
    "# boundaries for logistic growth model\n",
    "pd_future[\"cap\"] = 200000.0\n",
    "pd_future[\"floor\"] = 0.0\n",
    "\n",
    "# predict over the dataset\n",
    "pd_historical_and_forecast = model.predict(pd_future)"
   ]
  },
  {
   "cell_type": "code",
   "execution_count": 41,
   "metadata": {},
   "outputs": [
    {
     "data": {
      "application/vnd.plotly.v1+json": {
       "config": {
        "plotlyServerURL": "https://plot.ly"
       },
       "data": [
        {
         "marker": {
          "color": "black",
          "size": 4
         },
         "mode": "markers",
         "name": "Actual",
         "type": "scatter",
         "x": [
          "2022-05-03T00:00:00",
          "2022-05-04T00:00:00",
          "2022-05-05T00:00:00",
          "2022-05-06T00:00:00",
          "2022-05-07T00:00:00",
          "2022-05-08T00:00:00",
          "2022-05-09T00:00:00",
          "2022-05-10T00:00:00",
          "2022-05-11T00:00:00",
          "2022-05-12T00:00:00",
          "2022-05-13T00:00:00",
          "2022-05-16T00:00:00",
          "2022-05-17T00:00:00",
          "2022-05-18T00:00:00",
          "2022-05-19T00:00:00",
          "2022-05-20T00:00:00",
          "2022-05-23T00:00:00",
          "2022-05-24T00:00:00",
          "2022-05-25T00:00:00",
          "2022-05-26T00:00:00",
          "2022-05-30T00:00:00",
          "2022-05-31T00:00:00",
          "2022-06-01T00:00:00",
          "2022-06-02T00:00:00",
          "2022-06-03T00:00:00",
          "2022-06-05T00:00:00",
          "2022-06-06T00:00:00",
          "2022-06-07T00:00:00",
          "2022-06-08T00:00:00",
          "2022-06-09T00:00:00",
          "2022-06-10T00:00:00",
          "2022-06-13T00:00:00",
          "2022-06-14T00:00:00",
          "2022-06-15T00:00:00",
          "2022-06-16T00:00:00",
          "2022-06-17T00:00:00",
          "2022-06-20T00:00:00",
          "2022-06-21T00:00:00",
          "2022-06-22T00:00:00",
          "2022-06-23T00:00:00",
          "2022-06-24T00:00:00",
          "2022-06-27T00:00:00",
          "2022-06-28T00:00:00",
          "2022-06-29T00:00:00",
          "2022-06-30T00:00:00",
          "2022-07-01T00:00:00",
          "2022-07-07T00:00:00",
          "2022-07-08T00:00:00",
          "2022-07-10T00:00:00",
          "2022-07-11T00:00:00",
          "2022-07-12T00:00:00",
          "2022-07-13T00:00:00",
          "2022-07-14T00:00:00",
          "2022-07-15T00:00:00",
          "2022-07-16T00:00:00",
          "2022-07-18T00:00:00",
          "2022-07-19T00:00:00",
          "2022-07-20T00:00:00",
          "2022-07-21T00:00:00",
          "2022-07-22T00:00:00",
          "2022-07-25T00:00:00",
          "2022-07-26T00:00:00",
          "2022-07-27T00:00:00",
          "2022-07-28T00:00:00",
          "2022-07-29T00:00:00",
          "2022-07-30T00:00:00"
         ],
         "y": [
          84402,
          143584,
          136486,
          84222,
          0,
          5,
          79863,
          104147,
          110662,
          99686,
          75956,
          81117,
          169877,
          151944,
          151139,
          78040,
          92477,
          104152,
          79515,
          2828,
          37122,
          115448,
          133143,
          146699,
          122002,
          125159,
          120887,
          14917,
          102837,
          89493,
          116331,
          106241,
          166917,
          155621,
          35161,
          30710,
          77847,
          87018,
          160590,
          136776,
          46935,
          113705,
          157159,
          146545,
          180678,
          20352,
          1400,
          504,
          372,
          48736,
          108924,
          123045,
          139803,
          91376,
          0,
          102598,
          120116,
          78580,
          76034,
          101735,
          94033,
          102400,
          130783,
          133146,
          133154,
          22045
         ]
        },
        {
         "hoverinfo": "skip",
         "line": {
          "width": 0
         },
         "mode": "lines",
         "type": "scatter",
         "x": [
          "2022-05-03T00:00:00",
          "2022-05-04T00:00:00",
          "2022-05-05T00:00:00",
          "2022-05-06T00:00:00",
          "2022-05-07T00:00:00",
          "2022-05-08T00:00:00",
          "2022-05-09T00:00:00",
          "2022-05-10T00:00:00",
          "2022-05-11T00:00:00",
          "2022-05-12T00:00:00",
          "2022-05-13T00:00:00",
          "2022-05-16T00:00:00",
          "2022-05-17T00:00:00",
          "2022-05-18T00:00:00",
          "2022-05-19T00:00:00",
          "2022-05-20T00:00:00",
          "2022-05-23T00:00:00",
          "2022-05-24T00:00:00",
          "2022-05-25T00:00:00",
          "2022-05-26T00:00:00",
          "2022-05-30T00:00:00",
          "2022-05-31T00:00:00",
          "2022-06-01T00:00:00",
          "2022-06-02T00:00:00",
          "2022-06-03T00:00:00",
          "2022-06-05T00:00:00",
          "2022-06-06T00:00:00",
          "2022-06-07T00:00:00",
          "2022-06-08T00:00:00",
          "2022-06-09T00:00:00",
          "2022-06-10T00:00:00",
          "2022-06-13T00:00:00",
          "2022-06-14T00:00:00",
          "2022-06-15T00:00:00",
          "2022-06-16T00:00:00",
          "2022-06-17T00:00:00",
          "2022-06-20T00:00:00",
          "2022-06-21T00:00:00",
          "2022-06-22T00:00:00",
          "2022-06-23T00:00:00",
          "2022-06-24T00:00:00",
          "2022-06-27T00:00:00",
          "2022-06-28T00:00:00",
          "2022-06-29T00:00:00",
          "2022-06-30T00:00:00",
          "2022-07-01T00:00:00",
          "2022-07-07T00:00:00",
          "2022-07-08T00:00:00",
          "2022-07-10T00:00:00",
          "2022-07-11T00:00:00",
          "2022-07-12T00:00:00",
          "2022-07-13T00:00:00",
          "2022-07-14T00:00:00",
          "2022-07-15T00:00:00",
          "2022-07-16T00:00:00",
          "2022-07-18T00:00:00",
          "2022-07-19T00:00:00",
          "2022-07-20T00:00:00",
          "2022-07-21T00:00:00",
          "2022-07-22T00:00:00",
          "2022-07-25T00:00:00",
          "2022-07-26T00:00:00",
          "2022-07-27T00:00:00",
          "2022-07-28T00:00:00",
          "2022-07-29T00:00:00",
          "2022-07-30T00:00:00",
          "2022-07-31T00:00:00",
          "2022-08-01T00:00:00",
          "2022-08-02T00:00:00",
          "2022-08-03T00:00:00",
          "2022-08-04T00:00:00",
          "2022-08-05T00:00:00",
          "2022-08-06T00:00:00",
          "2022-08-07T00:00:00",
          "2022-08-08T00:00:00",
          "2022-08-09T00:00:00",
          "2022-08-10T00:00:00",
          "2022-08-11T00:00:00",
          "2022-08-12T00:00:00",
          "2022-08-13T00:00:00",
          "2022-08-14T00:00:00",
          "2022-08-15T00:00:00",
          "2022-08-16T00:00:00",
          "2022-08-17T00:00:00",
          "2022-08-18T00:00:00",
          "2022-08-19T00:00:00",
          "2022-08-20T00:00:00",
          "2022-08-21T00:00:00",
          "2022-08-22T00:00:00",
          "2022-08-23T00:00:00",
          "2022-08-24T00:00:00",
          "2022-08-25T00:00:00",
          "2022-08-26T00:00:00",
          "2022-08-27T00:00:00",
          "2022-08-28T00:00:00",
          "2022-08-29T00:00:00",
          "2022-08-30T00:00:00",
          "2022-08-31T00:00:00",
          "2022-09-01T00:00:00",
          "2022-09-02T00:00:00",
          "2022-09-03T00:00:00",
          "2022-09-04T00:00:00",
          "2022-09-05T00:00:00",
          "2022-09-06T00:00:00",
          "2022-09-07T00:00:00",
          "2022-09-08T00:00:00",
          "2022-09-09T00:00:00",
          "2022-09-10T00:00:00",
          "2022-09-11T00:00:00",
          "2022-09-12T00:00:00",
          "2022-09-13T00:00:00",
          "2022-09-14T00:00:00",
          "2022-09-15T00:00:00",
          "2022-09-16T00:00:00",
          "2022-09-17T00:00:00",
          "2022-09-18T00:00:00",
          "2022-09-19T00:00:00",
          "2022-09-20T00:00:00",
          "2022-09-21T00:00:00",
          "2022-09-22T00:00:00",
          "2022-09-23T00:00:00",
          "2022-09-24T00:00:00",
          "2022-09-25T00:00:00",
          "2022-09-26T00:00:00",
          "2022-09-27T00:00:00",
          "2022-09-28T00:00:00"
         ],
         "y": [
          20433.903929588076,
          35555.355009034975,
          11695.672932458789,
          -15363.769698981048,
          -98023.297644142,
          -64510.80120704116,
          -5791.715456107672,
          21780.03870403904,
          35466.36702296929,
          10782.042042097288,
          -15060.74813804669,
          -5256.397650446741,
          21585.88785199087,
          34446.51562935594,
          11161.252457682589,
          -15219.488599685317,
          -4657.83074517144,
          20261.28244655562,
          37128.92787466774,
          11336.290510508892,
          -5262.503939278557,
          19593.739888534008,
          35276.13412296722,
          12229.278267187443,
          -15340.211582431712,
          -62204.99645293316,
          -5736.149172352061,
          19968.553774515563,
          35667.12137808863,
          12367.4040712835,
          -15778.300082189464,
          -6177.225371457605,
          18974.343640615512,
          35428.06169836073,
          12184.723084375391,
          -15713.007955934361,
          -5549.853071691401,
          19649.162419717988,
          34497.46993375554,
          11352.496507258315,
          -16543.677728778952,
          -6066.986266451475,
          20338.538533361192,
          34483.08971256093,
          11241.042018823668,
          -17424.44626910992,
          10130.988276495547,
          -15746.772262411185,
          -62923.57621484001,
          -5421.949758477864,
          18531.238453308484,
          32603.0580850774,
          10224.232305414467,
          -18511.72103031954,
          -97829.2019376396,
          -7230.062571128739,
          17248.530326882017,
          32527.177168663013,
          10252.071203389502,
          -16908.255873081525,
          -7989.077971918343,
          18178.170061916055,
          31308.956978521383,
          9338.801802375192,
          -15310.840811307575,
          -98396.82673675654,
          -62861.09951148681,
          -6679.892562147345,
          17798.512798351076,
          30854.888203146624,
          9746.622474955588,
          -15964.260857516494,
          -95486.03538595756,
          -63214.38210779464,
          -9610.65159711033,
          15652.634888405093,
          28865.858796804987,
          8616.469626959613,
          -18254.883715376363,
          -97464.28051535248,
          -64154.35758501768,
          -8778.266999381041,
          16195.032383566457,
          27980.759773759415,
          6748.063548755231,
          -16664.392829776476,
          -97629.52994528798,
          -63705.01918421089,
          -9304.234072320694,
          13856.833419064229,
          26900.86308397711,
          6647.999632779578,
          -17126.84735637567,
          -98604.6200276474,
          -63709.478142513,
          -9765.713684834884,
          13391.923841514697,
          26852.512640335288,
          5729.522521908485,
          -19530.121649581775,
          -96428.04642138153,
          -62531.542477260446,
          -10036.331468790482,
          12548.012684459978,
          24693.93140649117,
          3704.1469152704,
          -20631.532755355605,
          -96340.49300160559,
          -63876.14078173159,
          -11614.283635753673,
          11468.91815877163,
          24366.564523933754,
          2906.3908316438465,
          -20091.84002422872,
          -98828.32225218375,
          -64505.44584366351,
          -10349.148813729284,
          8252.377598114126,
          22829.37976152741,
          2856.415454710044,
          -19080.63545259554,
          -98711.19021281476,
          -61765.6521984286,
          -12456.841892511606,
          9659.674130693847,
          20086.987135783904
         ]
        },
        {
         "fill": "tonexty",
         "fillcolor": "rgba(0, 114, 178, 0.2)",
         "line": {
          "color": "#0072B2",
          "width": 2
         },
         "mode": "lines",
         "name": "Predicted",
         "type": "scatter",
         "x": [
          "2022-05-03T00:00:00",
          "2022-05-04T00:00:00",
          "2022-05-05T00:00:00",
          "2022-05-06T00:00:00",
          "2022-05-07T00:00:00",
          "2022-05-08T00:00:00",
          "2022-05-09T00:00:00",
          "2022-05-10T00:00:00",
          "2022-05-11T00:00:00",
          "2022-05-12T00:00:00",
          "2022-05-13T00:00:00",
          "2022-05-16T00:00:00",
          "2022-05-17T00:00:00",
          "2022-05-18T00:00:00",
          "2022-05-19T00:00:00",
          "2022-05-20T00:00:00",
          "2022-05-23T00:00:00",
          "2022-05-24T00:00:00",
          "2022-05-25T00:00:00",
          "2022-05-26T00:00:00",
          "2022-05-30T00:00:00",
          "2022-05-31T00:00:00",
          "2022-06-01T00:00:00",
          "2022-06-02T00:00:00",
          "2022-06-03T00:00:00",
          "2022-06-05T00:00:00",
          "2022-06-06T00:00:00",
          "2022-06-07T00:00:00",
          "2022-06-08T00:00:00",
          "2022-06-09T00:00:00",
          "2022-06-10T00:00:00",
          "2022-06-13T00:00:00",
          "2022-06-14T00:00:00",
          "2022-06-15T00:00:00",
          "2022-06-16T00:00:00",
          "2022-06-17T00:00:00",
          "2022-06-20T00:00:00",
          "2022-06-21T00:00:00",
          "2022-06-22T00:00:00",
          "2022-06-23T00:00:00",
          "2022-06-24T00:00:00",
          "2022-06-27T00:00:00",
          "2022-06-28T00:00:00",
          "2022-06-29T00:00:00",
          "2022-06-30T00:00:00",
          "2022-07-01T00:00:00",
          "2022-07-07T00:00:00",
          "2022-07-08T00:00:00",
          "2022-07-10T00:00:00",
          "2022-07-11T00:00:00",
          "2022-07-12T00:00:00",
          "2022-07-13T00:00:00",
          "2022-07-14T00:00:00",
          "2022-07-15T00:00:00",
          "2022-07-16T00:00:00",
          "2022-07-18T00:00:00",
          "2022-07-19T00:00:00",
          "2022-07-20T00:00:00",
          "2022-07-21T00:00:00",
          "2022-07-22T00:00:00",
          "2022-07-25T00:00:00",
          "2022-07-26T00:00:00",
          "2022-07-27T00:00:00",
          "2022-07-28T00:00:00",
          "2022-07-29T00:00:00",
          "2022-07-30T00:00:00",
          "2022-07-31T00:00:00",
          "2022-08-01T00:00:00",
          "2022-08-02T00:00:00",
          "2022-08-03T00:00:00",
          "2022-08-04T00:00:00",
          "2022-08-05T00:00:00",
          "2022-08-06T00:00:00",
          "2022-08-07T00:00:00",
          "2022-08-08T00:00:00",
          "2022-08-09T00:00:00",
          "2022-08-10T00:00:00",
          "2022-08-11T00:00:00",
          "2022-08-12T00:00:00",
          "2022-08-13T00:00:00",
          "2022-08-14T00:00:00",
          "2022-08-15T00:00:00",
          "2022-08-16T00:00:00",
          "2022-08-17T00:00:00",
          "2022-08-18T00:00:00",
          "2022-08-19T00:00:00",
          "2022-08-20T00:00:00",
          "2022-08-21T00:00:00",
          "2022-08-22T00:00:00",
          "2022-08-23T00:00:00",
          "2022-08-24T00:00:00",
          "2022-08-25T00:00:00",
          "2022-08-26T00:00:00",
          "2022-08-27T00:00:00",
          "2022-08-28T00:00:00",
          "2022-08-29T00:00:00",
          "2022-08-30T00:00:00",
          "2022-08-31T00:00:00",
          "2022-09-01T00:00:00",
          "2022-09-02T00:00:00",
          "2022-09-03T00:00:00",
          "2022-09-04T00:00:00",
          "2022-09-05T00:00:00",
          "2022-09-06T00:00:00",
          "2022-09-07T00:00:00",
          "2022-09-08T00:00:00",
          "2022-09-09T00:00:00",
          "2022-09-10T00:00:00",
          "2022-09-11T00:00:00",
          "2022-09-12T00:00:00",
          "2022-09-13T00:00:00",
          "2022-09-14T00:00:00",
          "2022-09-15T00:00:00",
          "2022-09-16T00:00:00",
          "2022-09-17T00:00:00",
          "2022-09-18T00:00:00",
          "2022-09-19T00:00:00",
          "2022-09-20T00:00:00",
          "2022-09-21T00:00:00",
          "2022-09-22T00:00:00",
          "2022-09-23T00:00:00",
          "2022-09-24T00:00:00",
          "2022-09-25T00:00:00",
          "2022-09-26T00:00:00",
          "2022-09-27T00:00:00",
          "2022-09-28T00:00:00"
         ],
         "y": [
          143961.73227914886,
          163882.97669657745,
          132446.1364603804,
          96714.12307703661,
          1572.1724118635252,
          46721.62221485819,
          111037.72302746058,
          143668.0668163691,
          163547.04849033582,
          132171.7655630905,
          96512.03141732971,
          110800.32864340476,
          143359.1380139462,
          163193.04690140716,
          131885.35897129256,
          96302.18028724827,
          110556.89103154653,
          143044.0619574689,
          162834.5694089265,
          131597.00689590853,
          110321.93953165237,
          142743.03980040227,
          162495.28298044906,
          131325.71158529544,
          95897.11896382572,
          46329.35641175493,
          110108.49631460148,
          142470.105572276,
          162190.607799434,
          131082.9890098923,
          95722.07863666197,
          109910.87433226212,
          142215.15416138872,
          161898.88644641676,
          130846.54387681028,
          95549.28645420952,
          109709.24052065461,
          141953.55930096135,
          161599.8058235913,
          130603.27234908697,
          95369.98102377016,
          109500.41666648195,
          141685.8277569534,
          161298.31335342393,
          130363.47146017017,
          95198.21591443464,
          130152.56779133211,
          95045.13139040991,
          45920.823586807164,
          109141.21574042163,
          141225.6614766224,
          160779.70549876866,
          129950.19201688444,
          94900.70364332377,
          1542.842624827247,
          108987.88167634625,
          141030.26551605848,
          160560.6878534494,
          129773.1382013746,
          94771.37989946236,
          108839.27840452812,
          140837.93734856593,
          160341.68479289548,
          129596.09626565852,
          94642.06489789924,
          1538.6370425307407,
          45729.536454813504,
          108690.68540388456,
          140645.62257193026,
          160122.69709110388,
          129419.06683543192,
          94512.7590960154,
          1536.534473672917,
          45667.034865058085,
          108542.10319977447,
          140453.32186590583,
          159903.72552210526,
          129242.05053644945,
          94383.46295111791,
          1534.4320628990454,
          45604.53800650555,
          108393.53231740276,
          140261.03590965286,
          159684.7708594907,
          129065.0479941321,
          94254.17691930532,
          1532.3298175869998,
          45542.04609949914,
          108244.97328096167,
          140068.76538276765,
          159465.83387668867,
          128888.05983352025,
          94124.90145758213,
          1530.2277453107938,
          45479.55936483673,
          108096.4266160213,
          139876.51096407615,
          159246.91534680116,
          128711.0866796374,
          93995.63702244774,
          1528.1258534121466,
          45417.07802315931,
          107947.89284643198,
          139684.27333253057,
          159028.0160429744,
          128534.12915752904,
          93866.38407023977,
          1526.024149224926,
          45354.60229511479,
          107799.37249681386,
          139492.0531665967,
          158809.13673753044,
          128357.1878914822,
          93737.14305716811,
          1523.9226401852718,
          45292.13240066779,
          107650.86609094968,
          139299.85114439574,
          158590.2782030973,
          128180.26350601298,
          93607.91443923337,
          1521.8213337574068,
          45229.66856109592,
          107502.37415325815,
          139107.66794438034,
          158371.44121157334
         ]
        },
        {
         "fill": "tonexty",
         "fillcolor": "rgba(0, 114, 178, 0.2)",
         "hoverinfo": "skip",
         "line": {
          "width": 0
         },
         "mode": "lines",
         "type": "scatter",
         "x": [
          "2022-05-03T00:00:00",
          "2022-05-04T00:00:00",
          "2022-05-05T00:00:00",
          "2022-05-06T00:00:00",
          "2022-05-07T00:00:00",
          "2022-05-08T00:00:00",
          "2022-05-09T00:00:00",
          "2022-05-10T00:00:00",
          "2022-05-11T00:00:00",
          "2022-05-12T00:00:00",
          "2022-05-13T00:00:00",
          "2022-05-16T00:00:00",
          "2022-05-17T00:00:00",
          "2022-05-18T00:00:00",
          "2022-05-19T00:00:00",
          "2022-05-20T00:00:00",
          "2022-05-23T00:00:00",
          "2022-05-24T00:00:00",
          "2022-05-25T00:00:00",
          "2022-05-26T00:00:00",
          "2022-05-30T00:00:00",
          "2022-05-31T00:00:00",
          "2022-06-01T00:00:00",
          "2022-06-02T00:00:00",
          "2022-06-03T00:00:00",
          "2022-06-05T00:00:00",
          "2022-06-06T00:00:00",
          "2022-06-07T00:00:00",
          "2022-06-08T00:00:00",
          "2022-06-09T00:00:00",
          "2022-06-10T00:00:00",
          "2022-06-13T00:00:00",
          "2022-06-14T00:00:00",
          "2022-06-15T00:00:00",
          "2022-06-16T00:00:00",
          "2022-06-17T00:00:00",
          "2022-06-20T00:00:00",
          "2022-06-21T00:00:00",
          "2022-06-22T00:00:00",
          "2022-06-23T00:00:00",
          "2022-06-24T00:00:00",
          "2022-06-27T00:00:00",
          "2022-06-28T00:00:00",
          "2022-06-29T00:00:00",
          "2022-06-30T00:00:00",
          "2022-07-01T00:00:00",
          "2022-07-07T00:00:00",
          "2022-07-08T00:00:00",
          "2022-07-10T00:00:00",
          "2022-07-11T00:00:00",
          "2022-07-12T00:00:00",
          "2022-07-13T00:00:00",
          "2022-07-14T00:00:00",
          "2022-07-15T00:00:00",
          "2022-07-16T00:00:00",
          "2022-07-18T00:00:00",
          "2022-07-19T00:00:00",
          "2022-07-20T00:00:00",
          "2022-07-21T00:00:00",
          "2022-07-22T00:00:00",
          "2022-07-25T00:00:00",
          "2022-07-26T00:00:00",
          "2022-07-27T00:00:00",
          "2022-07-28T00:00:00",
          "2022-07-29T00:00:00",
          "2022-07-30T00:00:00",
          "2022-07-31T00:00:00",
          "2022-08-01T00:00:00",
          "2022-08-02T00:00:00",
          "2022-08-03T00:00:00",
          "2022-08-04T00:00:00",
          "2022-08-05T00:00:00",
          "2022-08-06T00:00:00",
          "2022-08-07T00:00:00",
          "2022-08-08T00:00:00",
          "2022-08-09T00:00:00",
          "2022-08-10T00:00:00",
          "2022-08-11T00:00:00",
          "2022-08-12T00:00:00",
          "2022-08-13T00:00:00",
          "2022-08-14T00:00:00",
          "2022-08-15T00:00:00",
          "2022-08-16T00:00:00",
          "2022-08-17T00:00:00",
          "2022-08-18T00:00:00",
          "2022-08-19T00:00:00",
          "2022-08-20T00:00:00",
          "2022-08-21T00:00:00",
          "2022-08-22T00:00:00",
          "2022-08-23T00:00:00",
          "2022-08-24T00:00:00",
          "2022-08-25T00:00:00",
          "2022-08-26T00:00:00",
          "2022-08-27T00:00:00",
          "2022-08-28T00:00:00",
          "2022-08-29T00:00:00",
          "2022-08-30T00:00:00",
          "2022-08-31T00:00:00",
          "2022-09-01T00:00:00",
          "2022-09-02T00:00:00",
          "2022-09-03T00:00:00",
          "2022-09-04T00:00:00",
          "2022-09-05T00:00:00",
          "2022-09-06T00:00:00",
          "2022-09-07T00:00:00",
          "2022-09-08T00:00:00",
          "2022-09-09T00:00:00",
          "2022-09-10T00:00:00",
          "2022-09-11T00:00:00",
          "2022-09-12T00:00:00",
          "2022-09-13T00:00:00",
          "2022-09-14T00:00:00",
          "2022-09-15T00:00:00",
          "2022-09-16T00:00:00",
          "2022-09-17T00:00:00",
          "2022-09-18T00:00:00",
          "2022-09-19T00:00:00",
          "2022-09-20T00:00:00",
          "2022-09-21T00:00:00",
          "2022-09-22T00:00:00",
          "2022-09-23T00:00:00",
          "2022-09-24T00:00:00",
          "2022-09-25T00:00:00",
          "2022-09-26T00:00:00",
          "2022-09-27T00:00:00",
          "2022-09-28T00:00:00"
         ],
         "y": [
          203134.97351014928,
          217554.42184538115,
          192684.93229072914,
          165466.34909067268,
          101377.02459159543,
          137666.4193302503,
          176139.84086051627,
          201651.01110065222,
          218277.82392267254,
          192721.6905028366,
          164931.84525887782,
          175752.5864165928,
          201005.937521938,
          217263.3074379105,
          192612.0084837514,
          164834.6178682957,
          174426.08130549287,
          199971.28941007316,
          216547.20143347452,
          190125.1701012822,
          175003.5757741722,
          199435.6295911749,
          214554.9808868048,
          190511.58692361956,
          162774.04690407004,
          137429.55170451468,
          176600.426152136,
          201306.24257968442,
          214115.92699842068,
          188318.8308487946,
          162658.06541484717,
          175079.9909630094,
          198640.0813405299,
          215041.7678494189,
          189464.5597333193,
          162885.62545426152,
          176012.74161372226,
          199054.53336236184,
          215656.4158667092,
          189420.99102704108,
          163772.8306418236,
          173891.9596161382,
          198674.0170220034,
          214708.73908742119,
          190086.01024721138,
          163377.8822436144,
          190573.68325901215,
          161940.23814561134,
          135278.13380435688,
          173798.79322012656,
          199258.83847313034,
          214289.89542725685,
          190723.5151499717,
          164100.44680159734,
          101683.11902430182,
          174499.127610554,
          199334.38510674558,
          214751.1743221626,
          190137.6223564137,
          162751.47237656653,
          174518.58327257683,
          201816.99054879142,
          215571.33345399238,
          190112.52421435382,
          162632.35625694518,
          102356.8069161802,
          135047.30423960334,
          174967.18014970105,
          200412.56755159257,
          215939.56376127517,
          191675.99951069165,
          162937.3688243785,
          99475.74159692935,
          135387.64537982247,
          175102.79741005824,
          200454.67727631133,
          214238.83491072018,
          190973.01902802614,
          164081.8787554087,
          103029.61494013456,
          137150.7518276132,
          175466.22452042054,
          201645.5068206391,
          219875.63378581632,
          192663.0778284057,
          164597.59553302932,
          102184.82314321904,
          137580.17621088002,
          175862.56418656692,
          204250.7599396341,
          220347.2394066453,
          194405.20093265755,
          164089.5294429613,
          101874.39115595375,
          137101.51482689098,
          177039.88439377944,
          203634.59600068082,
          220564.19711659467,
          195169.72801560568,
          164723.84474648704,
          102713.14589371359,
          137531.47499403736,
          179607.91005035152,
          206136.26187094653,
          225392.31426817432,
          195191.99242721676,
          164899.78189580128,
          100778.25732722638,
          135388.83783262724,
          177983.9559898851,
          207642.61108925537,
          223883.94894487585,
          195228.67846966785,
          164644.87478448893,
          100038.60825839645,
          137815.76954918914,
          181221.20239451708,
          208605.36636686377,
          226303.09731818634,
          197896.01152932868,
          166561.92487884636,
          101463.5766019612,
          137243.03371606075,
          181662.0945437982,
          209347.10207601177,
          228689.12687415772
         ]
        },
        {
         "line": {
          "color": "black",
          "dash": "dash",
          "width": 2
         },
         "mode": "lines",
         "name": "Cap",
         "type": "scatter",
         "x": [
          "2022-05-03T00:00:00",
          "2022-05-04T00:00:00",
          "2022-05-05T00:00:00",
          "2022-05-06T00:00:00",
          "2022-05-07T00:00:00",
          "2022-05-08T00:00:00",
          "2022-05-09T00:00:00",
          "2022-05-10T00:00:00",
          "2022-05-11T00:00:00",
          "2022-05-12T00:00:00",
          "2022-05-13T00:00:00",
          "2022-05-16T00:00:00",
          "2022-05-17T00:00:00",
          "2022-05-18T00:00:00",
          "2022-05-19T00:00:00",
          "2022-05-20T00:00:00",
          "2022-05-23T00:00:00",
          "2022-05-24T00:00:00",
          "2022-05-25T00:00:00",
          "2022-05-26T00:00:00",
          "2022-05-30T00:00:00",
          "2022-05-31T00:00:00",
          "2022-06-01T00:00:00",
          "2022-06-02T00:00:00",
          "2022-06-03T00:00:00",
          "2022-06-05T00:00:00",
          "2022-06-06T00:00:00",
          "2022-06-07T00:00:00",
          "2022-06-08T00:00:00",
          "2022-06-09T00:00:00",
          "2022-06-10T00:00:00",
          "2022-06-13T00:00:00",
          "2022-06-14T00:00:00",
          "2022-06-15T00:00:00",
          "2022-06-16T00:00:00",
          "2022-06-17T00:00:00",
          "2022-06-20T00:00:00",
          "2022-06-21T00:00:00",
          "2022-06-22T00:00:00",
          "2022-06-23T00:00:00",
          "2022-06-24T00:00:00",
          "2022-06-27T00:00:00",
          "2022-06-28T00:00:00",
          "2022-06-29T00:00:00",
          "2022-06-30T00:00:00",
          "2022-07-01T00:00:00",
          "2022-07-07T00:00:00",
          "2022-07-08T00:00:00",
          "2022-07-10T00:00:00",
          "2022-07-11T00:00:00",
          "2022-07-12T00:00:00",
          "2022-07-13T00:00:00",
          "2022-07-14T00:00:00",
          "2022-07-15T00:00:00",
          "2022-07-16T00:00:00",
          "2022-07-18T00:00:00",
          "2022-07-19T00:00:00",
          "2022-07-20T00:00:00",
          "2022-07-21T00:00:00",
          "2022-07-22T00:00:00",
          "2022-07-25T00:00:00",
          "2022-07-26T00:00:00",
          "2022-07-27T00:00:00",
          "2022-07-28T00:00:00",
          "2022-07-29T00:00:00",
          "2022-07-30T00:00:00",
          "2022-07-31T00:00:00",
          "2022-08-01T00:00:00",
          "2022-08-02T00:00:00",
          "2022-08-03T00:00:00",
          "2022-08-04T00:00:00",
          "2022-08-05T00:00:00",
          "2022-08-06T00:00:00",
          "2022-08-07T00:00:00",
          "2022-08-08T00:00:00",
          "2022-08-09T00:00:00",
          "2022-08-10T00:00:00",
          "2022-08-11T00:00:00",
          "2022-08-12T00:00:00",
          "2022-08-13T00:00:00",
          "2022-08-14T00:00:00",
          "2022-08-15T00:00:00",
          "2022-08-16T00:00:00",
          "2022-08-17T00:00:00",
          "2022-08-18T00:00:00",
          "2022-08-19T00:00:00",
          "2022-08-20T00:00:00",
          "2022-08-21T00:00:00",
          "2022-08-22T00:00:00",
          "2022-08-23T00:00:00",
          "2022-08-24T00:00:00",
          "2022-08-25T00:00:00",
          "2022-08-26T00:00:00",
          "2022-08-27T00:00:00",
          "2022-08-28T00:00:00",
          "2022-08-29T00:00:00",
          "2022-08-30T00:00:00",
          "2022-08-31T00:00:00",
          "2022-09-01T00:00:00",
          "2022-09-02T00:00:00",
          "2022-09-03T00:00:00",
          "2022-09-04T00:00:00",
          "2022-09-05T00:00:00",
          "2022-09-06T00:00:00",
          "2022-09-07T00:00:00",
          "2022-09-08T00:00:00",
          "2022-09-09T00:00:00",
          "2022-09-10T00:00:00",
          "2022-09-11T00:00:00",
          "2022-09-12T00:00:00",
          "2022-09-13T00:00:00",
          "2022-09-14T00:00:00",
          "2022-09-15T00:00:00",
          "2022-09-16T00:00:00",
          "2022-09-17T00:00:00",
          "2022-09-18T00:00:00",
          "2022-09-19T00:00:00",
          "2022-09-20T00:00:00",
          "2022-09-21T00:00:00",
          "2022-09-22T00:00:00",
          "2022-09-23T00:00:00",
          "2022-09-24T00:00:00",
          "2022-09-25T00:00:00",
          "2022-09-26T00:00:00",
          "2022-09-27T00:00:00",
          "2022-09-28T00:00:00"
         ],
         "y": [
          200000,
          200000,
          200000,
          200000,
          200000,
          200000,
          200000,
          200000,
          200000,
          200000,
          200000,
          200000,
          200000,
          200000,
          200000,
          200000,
          200000,
          200000,
          200000,
          200000,
          200000,
          200000,
          200000,
          200000,
          200000,
          200000,
          200000,
          200000,
          200000,
          200000,
          200000,
          200000,
          200000,
          200000,
          200000,
          200000,
          200000,
          200000,
          200000,
          200000,
          200000,
          200000,
          200000,
          200000,
          200000,
          200000,
          200000,
          200000,
          200000,
          200000,
          200000,
          200000,
          200000,
          200000,
          200000,
          200000,
          200000,
          200000,
          200000,
          200000,
          200000,
          200000,
          200000,
          200000,
          200000,
          200000,
          200000,
          200000,
          200000,
          200000,
          200000,
          200000,
          200000,
          200000,
          200000,
          200000,
          200000,
          200000,
          200000,
          200000,
          200000,
          200000,
          200000,
          200000,
          200000,
          200000,
          200000,
          200000,
          200000,
          200000,
          200000,
          200000,
          200000,
          200000,
          200000,
          200000,
          200000,
          200000,
          200000,
          200000,
          200000,
          200000,
          200000,
          200000,
          200000,
          200000,
          200000,
          200000,
          200000,
          200000,
          200000,
          200000,
          200000,
          200000,
          200000,
          200000,
          200000,
          200000,
          200000,
          200000,
          200000,
          200000,
          200000,
          200000,
          200000,
          200000
         ]
        },
        {
         "line": {
          "color": "black",
          "dash": "dash",
          "width": 2
         },
         "mode": "lines",
         "name": "Floor",
         "type": "scatter",
         "x": [
          "2022-05-03T00:00:00",
          "2022-05-04T00:00:00",
          "2022-05-05T00:00:00",
          "2022-05-06T00:00:00",
          "2022-05-07T00:00:00",
          "2022-05-08T00:00:00",
          "2022-05-09T00:00:00",
          "2022-05-10T00:00:00",
          "2022-05-11T00:00:00",
          "2022-05-12T00:00:00",
          "2022-05-13T00:00:00",
          "2022-05-16T00:00:00",
          "2022-05-17T00:00:00",
          "2022-05-18T00:00:00",
          "2022-05-19T00:00:00",
          "2022-05-20T00:00:00",
          "2022-05-23T00:00:00",
          "2022-05-24T00:00:00",
          "2022-05-25T00:00:00",
          "2022-05-26T00:00:00",
          "2022-05-30T00:00:00",
          "2022-05-31T00:00:00",
          "2022-06-01T00:00:00",
          "2022-06-02T00:00:00",
          "2022-06-03T00:00:00",
          "2022-06-05T00:00:00",
          "2022-06-06T00:00:00",
          "2022-06-07T00:00:00",
          "2022-06-08T00:00:00",
          "2022-06-09T00:00:00",
          "2022-06-10T00:00:00",
          "2022-06-13T00:00:00",
          "2022-06-14T00:00:00",
          "2022-06-15T00:00:00",
          "2022-06-16T00:00:00",
          "2022-06-17T00:00:00",
          "2022-06-20T00:00:00",
          "2022-06-21T00:00:00",
          "2022-06-22T00:00:00",
          "2022-06-23T00:00:00",
          "2022-06-24T00:00:00",
          "2022-06-27T00:00:00",
          "2022-06-28T00:00:00",
          "2022-06-29T00:00:00",
          "2022-06-30T00:00:00",
          "2022-07-01T00:00:00",
          "2022-07-07T00:00:00",
          "2022-07-08T00:00:00",
          "2022-07-10T00:00:00",
          "2022-07-11T00:00:00",
          "2022-07-12T00:00:00",
          "2022-07-13T00:00:00",
          "2022-07-14T00:00:00",
          "2022-07-15T00:00:00",
          "2022-07-16T00:00:00",
          "2022-07-18T00:00:00",
          "2022-07-19T00:00:00",
          "2022-07-20T00:00:00",
          "2022-07-21T00:00:00",
          "2022-07-22T00:00:00",
          "2022-07-25T00:00:00",
          "2022-07-26T00:00:00",
          "2022-07-27T00:00:00",
          "2022-07-28T00:00:00",
          "2022-07-29T00:00:00",
          "2022-07-30T00:00:00",
          "2022-07-31T00:00:00",
          "2022-08-01T00:00:00",
          "2022-08-02T00:00:00",
          "2022-08-03T00:00:00",
          "2022-08-04T00:00:00",
          "2022-08-05T00:00:00",
          "2022-08-06T00:00:00",
          "2022-08-07T00:00:00",
          "2022-08-08T00:00:00",
          "2022-08-09T00:00:00",
          "2022-08-10T00:00:00",
          "2022-08-11T00:00:00",
          "2022-08-12T00:00:00",
          "2022-08-13T00:00:00",
          "2022-08-14T00:00:00",
          "2022-08-15T00:00:00",
          "2022-08-16T00:00:00",
          "2022-08-17T00:00:00",
          "2022-08-18T00:00:00",
          "2022-08-19T00:00:00",
          "2022-08-20T00:00:00",
          "2022-08-21T00:00:00",
          "2022-08-22T00:00:00",
          "2022-08-23T00:00:00",
          "2022-08-24T00:00:00",
          "2022-08-25T00:00:00",
          "2022-08-26T00:00:00",
          "2022-08-27T00:00:00",
          "2022-08-28T00:00:00",
          "2022-08-29T00:00:00",
          "2022-08-30T00:00:00",
          "2022-08-31T00:00:00",
          "2022-09-01T00:00:00",
          "2022-09-02T00:00:00",
          "2022-09-03T00:00:00",
          "2022-09-04T00:00:00",
          "2022-09-05T00:00:00",
          "2022-09-06T00:00:00",
          "2022-09-07T00:00:00",
          "2022-09-08T00:00:00",
          "2022-09-09T00:00:00",
          "2022-09-10T00:00:00",
          "2022-09-11T00:00:00",
          "2022-09-12T00:00:00",
          "2022-09-13T00:00:00",
          "2022-09-14T00:00:00",
          "2022-09-15T00:00:00",
          "2022-09-16T00:00:00",
          "2022-09-17T00:00:00",
          "2022-09-18T00:00:00",
          "2022-09-19T00:00:00",
          "2022-09-20T00:00:00",
          "2022-09-21T00:00:00",
          "2022-09-22T00:00:00",
          "2022-09-23T00:00:00",
          "2022-09-24T00:00:00",
          "2022-09-25T00:00:00",
          "2022-09-26T00:00:00",
          "2022-09-27T00:00:00",
          "2022-09-28T00:00:00"
         ],
         "y": [
          0,
          0,
          0,
          0,
          0,
          0,
          0,
          0,
          0,
          0,
          0,
          0,
          0,
          0,
          0,
          0,
          0,
          0,
          0,
          0,
          0,
          0,
          0,
          0,
          0,
          0,
          0,
          0,
          0,
          0,
          0,
          0,
          0,
          0,
          0,
          0,
          0,
          0,
          0,
          0,
          0,
          0,
          0,
          0,
          0,
          0,
          0,
          0,
          0,
          0,
          0,
          0,
          0,
          0,
          0,
          0,
          0,
          0,
          0,
          0,
          0,
          0,
          0,
          0,
          0,
          0,
          0,
          0,
          0,
          0,
          0,
          0,
          0,
          0,
          0,
          0,
          0,
          0,
          0,
          0,
          0,
          0,
          0,
          0,
          0,
          0,
          0,
          0,
          0,
          0,
          0,
          0,
          0,
          0,
          0,
          0,
          0,
          0,
          0,
          0,
          0,
          0,
          0,
          0,
          0,
          0,
          0,
          0,
          0,
          0,
          0,
          0,
          0,
          0,
          0,
          0,
          0,
          0,
          0,
          0,
          0,
          0,
          0,
          0,
          0,
          0
         ]
        }
       ],
       "layout": {
        "height": 600,
        "showlegend": false,
        "template": {
         "data": {
          "bar": [
           {
            "error_x": {
             "color": "#2a3f5f"
            },
            "error_y": {
             "color": "#2a3f5f"
            },
            "marker": {
             "line": {
              "color": "#E5ECF6",
              "width": 0.5
             },
             "pattern": {
              "fillmode": "overlay",
              "size": 10,
              "solidity": 0.2
             }
            },
            "type": "bar"
           }
          ],
          "barpolar": [
           {
            "marker": {
             "line": {
              "color": "#E5ECF6",
              "width": 0.5
             },
             "pattern": {
              "fillmode": "overlay",
              "size": 10,
              "solidity": 0.2
             }
            },
            "type": "barpolar"
           }
          ],
          "carpet": [
           {
            "aaxis": {
             "endlinecolor": "#2a3f5f",
             "gridcolor": "white",
             "linecolor": "white",
             "minorgridcolor": "white",
             "startlinecolor": "#2a3f5f"
            },
            "baxis": {
             "endlinecolor": "#2a3f5f",
             "gridcolor": "white",
             "linecolor": "white",
             "minorgridcolor": "white",
             "startlinecolor": "#2a3f5f"
            },
            "type": "carpet"
           }
          ],
          "choropleth": [
           {
            "colorbar": {
             "outlinewidth": 0,
             "ticks": ""
            },
            "type": "choropleth"
           }
          ],
          "contour": [
           {
            "colorbar": {
             "outlinewidth": 0,
             "ticks": ""
            },
            "colorscale": [
             [
              0,
              "#0d0887"
             ],
             [
              0.1111111111111111,
              "#46039f"
             ],
             [
              0.2222222222222222,
              "#7201a8"
             ],
             [
              0.3333333333333333,
              "#9c179e"
             ],
             [
              0.4444444444444444,
              "#bd3786"
             ],
             [
              0.5555555555555556,
              "#d8576b"
             ],
             [
              0.6666666666666666,
              "#ed7953"
             ],
             [
              0.7777777777777778,
              "#fb9f3a"
             ],
             [
              0.8888888888888888,
              "#fdca26"
             ],
             [
              1,
              "#f0f921"
             ]
            ],
            "type": "contour"
           }
          ],
          "contourcarpet": [
           {
            "colorbar": {
             "outlinewidth": 0,
             "ticks": ""
            },
            "type": "contourcarpet"
           }
          ],
          "heatmap": [
           {
            "colorbar": {
             "outlinewidth": 0,
             "ticks": ""
            },
            "colorscale": [
             [
              0,
              "#0d0887"
             ],
             [
              0.1111111111111111,
              "#46039f"
             ],
             [
              0.2222222222222222,
              "#7201a8"
             ],
             [
              0.3333333333333333,
              "#9c179e"
             ],
             [
              0.4444444444444444,
              "#bd3786"
             ],
             [
              0.5555555555555556,
              "#d8576b"
             ],
             [
              0.6666666666666666,
              "#ed7953"
             ],
             [
              0.7777777777777778,
              "#fb9f3a"
             ],
             [
              0.8888888888888888,
              "#fdca26"
             ],
             [
              1,
              "#f0f921"
             ]
            ],
            "type": "heatmap"
           }
          ],
          "heatmapgl": [
           {
            "colorbar": {
             "outlinewidth": 0,
             "ticks": ""
            },
            "colorscale": [
             [
              0,
              "#0d0887"
             ],
             [
              0.1111111111111111,
              "#46039f"
             ],
             [
              0.2222222222222222,
              "#7201a8"
             ],
             [
              0.3333333333333333,
              "#9c179e"
             ],
             [
              0.4444444444444444,
              "#bd3786"
             ],
             [
              0.5555555555555556,
              "#d8576b"
             ],
             [
              0.6666666666666666,
              "#ed7953"
             ],
             [
              0.7777777777777778,
              "#fb9f3a"
             ],
             [
              0.8888888888888888,
              "#fdca26"
             ],
             [
              1,
              "#f0f921"
             ]
            ],
            "type": "heatmapgl"
           }
          ],
          "histogram": [
           {
            "marker": {
             "pattern": {
              "fillmode": "overlay",
              "size": 10,
              "solidity": 0.2
             }
            },
            "type": "histogram"
           }
          ],
          "histogram2d": [
           {
            "colorbar": {
             "outlinewidth": 0,
             "ticks": ""
            },
            "colorscale": [
             [
              0,
              "#0d0887"
             ],
             [
              0.1111111111111111,
              "#46039f"
             ],
             [
              0.2222222222222222,
              "#7201a8"
             ],
             [
              0.3333333333333333,
              "#9c179e"
             ],
             [
              0.4444444444444444,
              "#bd3786"
             ],
             [
              0.5555555555555556,
              "#d8576b"
             ],
             [
              0.6666666666666666,
              "#ed7953"
             ],
             [
              0.7777777777777778,
              "#fb9f3a"
             ],
             [
              0.8888888888888888,
              "#fdca26"
             ],
             [
              1,
              "#f0f921"
             ]
            ],
            "type": "histogram2d"
           }
          ],
          "histogram2dcontour": [
           {
            "colorbar": {
             "outlinewidth": 0,
             "ticks": ""
            },
            "colorscale": [
             [
              0,
              "#0d0887"
             ],
             [
              0.1111111111111111,
              "#46039f"
             ],
             [
              0.2222222222222222,
              "#7201a8"
             ],
             [
              0.3333333333333333,
              "#9c179e"
             ],
             [
              0.4444444444444444,
              "#bd3786"
             ],
             [
              0.5555555555555556,
              "#d8576b"
             ],
             [
              0.6666666666666666,
              "#ed7953"
             ],
             [
              0.7777777777777778,
              "#fb9f3a"
             ],
             [
              0.8888888888888888,
              "#fdca26"
             ],
             [
              1,
              "#f0f921"
             ]
            ],
            "type": "histogram2dcontour"
           }
          ],
          "mesh3d": [
           {
            "colorbar": {
             "outlinewidth": 0,
             "ticks": ""
            },
            "type": "mesh3d"
           }
          ],
          "parcoords": [
           {
            "line": {
             "colorbar": {
              "outlinewidth": 0,
              "ticks": ""
             }
            },
            "type": "parcoords"
           }
          ],
          "pie": [
           {
            "automargin": true,
            "type": "pie"
           }
          ],
          "scatter": [
           {
            "fillpattern": {
             "fillmode": "overlay",
             "size": 10,
             "solidity": 0.2
            },
            "type": "scatter"
           }
          ],
          "scatter3d": [
           {
            "line": {
             "colorbar": {
              "outlinewidth": 0,
              "ticks": ""
             }
            },
            "marker": {
             "colorbar": {
              "outlinewidth": 0,
              "ticks": ""
             }
            },
            "type": "scatter3d"
           }
          ],
          "scattercarpet": [
           {
            "marker": {
             "colorbar": {
              "outlinewidth": 0,
              "ticks": ""
             }
            },
            "type": "scattercarpet"
           }
          ],
          "scattergeo": [
           {
            "marker": {
             "colorbar": {
              "outlinewidth": 0,
              "ticks": ""
             }
            },
            "type": "scattergeo"
           }
          ],
          "scattergl": [
           {
            "marker": {
             "colorbar": {
              "outlinewidth": 0,
              "ticks": ""
             }
            },
            "type": "scattergl"
           }
          ],
          "scattermapbox": [
           {
            "marker": {
             "colorbar": {
              "outlinewidth": 0,
              "ticks": ""
             }
            },
            "type": "scattermapbox"
           }
          ],
          "scatterpolar": [
           {
            "marker": {
             "colorbar": {
              "outlinewidth": 0,
              "ticks": ""
             }
            },
            "type": "scatterpolar"
           }
          ],
          "scatterpolargl": [
           {
            "marker": {
             "colorbar": {
              "outlinewidth": 0,
              "ticks": ""
             }
            },
            "type": "scatterpolargl"
           }
          ],
          "scatterternary": [
           {
            "marker": {
             "colorbar": {
              "outlinewidth": 0,
              "ticks": ""
             }
            },
            "type": "scatterternary"
           }
          ],
          "surface": [
           {
            "colorbar": {
             "outlinewidth": 0,
             "ticks": ""
            },
            "colorscale": [
             [
              0,
              "#0d0887"
             ],
             [
              0.1111111111111111,
              "#46039f"
             ],
             [
              0.2222222222222222,
              "#7201a8"
             ],
             [
              0.3333333333333333,
              "#9c179e"
             ],
             [
              0.4444444444444444,
              "#bd3786"
             ],
             [
              0.5555555555555556,
              "#d8576b"
             ],
             [
              0.6666666666666666,
              "#ed7953"
             ],
             [
              0.7777777777777778,
              "#fb9f3a"
             ],
             [
              0.8888888888888888,
              "#fdca26"
             ],
             [
              1,
              "#f0f921"
             ]
            ],
            "type": "surface"
           }
          ],
          "table": [
           {
            "cells": {
             "fill": {
              "color": "#EBF0F8"
             },
             "line": {
              "color": "white"
             }
            },
            "header": {
             "fill": {
              "color": "#C8D4E3"
             },
             "line": {
              "color": "white"
             }
            },
            "type": "table"
           }
          ]
         },
         "layout": {
          "annotationdefaults": {
           "arrowcolor": "#2a3f5f",
           "arrowhead": 0,
           "arrowwidth": 1
          },
          "autotypenumbers": "strict",
          "coloraxis": {
           "colorbar": {
            "outlinewidth": 0,
            "ticks": ""
           }
          },
          "colorscale": {
           "diverging": [
            [
             0,
             "#8e0152"
            ],
            [
             0.1,
             "#c51b7d"
            ],
            [
             0.2,
             "#de77ae"
            ],
            [
             0.3,
             "#f1b6da"
            ],
            [
             0.4,
             "#fde0ef"
            ],
            [
             0.5,
             "#f7f7f7"
            ],
            [
             0.6,
             "#e6f5d0"
            ],
            [
             0.7,
             "#b8e186"
            ],
            [
             0.8,
             "#7fbc41"
            ],
            [
             0.9,
             "#4d9221"
            ],
            [
             1,
             "#276419"
            ]
           ],
           "sequential": [
            [
             0,
             "#0d0887"
            ],
            [
             0.1111111111111111,
             "#46039f"
            ],
            [
             0.2222222222222222,
             "#7201a8"
            ],
            [
             0.3333333333333333,
             "#9c179e"
            ],
            [
             0.4444444444444444,
             "#bd3786"
            ],
            [
             0.5555555555555556,
             "#d8576b"
            ],
            [
             0.6666666666666666,
             "#ed7953"
            ],
            [
             0.7777777777777778,
             "#fb9f3a"
            ],
            [
             0.8888888888888888,
             "#fdca26"
            ],
            [
             1,
             "#f0f921"
            ]
           ],
           "sequentialminus": [
            [
             0,
             "#0d0887"
            ],
            [
             0.1111111111111111,
             "#46039f"
            ],
            [
             0.2222222222222222,
             "#7201a8"
            ],
            [
             0.3333333333333333,
             "#9c179e"
            ],
            [
             0.4444444444444444,
             "#bd3786"
            ],
            [
             0.5555555555555556,
             "#d8576b"
            ],
            [
             0.6666666666666666,
             "#ed7953"
            ],
            [
             0.7777777777777778,
             "#fb9f3a"
            ],
            [
             0.8888888888888888,
             "#fdca26"
            ],
            [
             1,
             "#f0f921"
            ]
           ]
          },
          "colorway": [
           "#636efa",
           "#EF553B",
           "#00cc96",
           "#ab63fa",
           "#FFA15A",
           "#19d3f3",
           "#FF6692",
           "#B6E880",
           "#FF97FF",
           "#FECB52"
          ],
          "font": {
           "color": "#2a3f5f"
          },
          "geo": {
           "bgcolor": "white",
           "lakecolor": "white",
           "landcolor": "#E5ECF6",
           "showlakes": true,
           "showland": true,
           "subunitcolor": "white"
          },
          "hoverlabel": {
           "align": "left"
          },
          "hovermode": "closest",
          "mapbox": {
           "style": "light"
          },
          "paper_bgcolor": "white",
          "plot_bgcolor": "#E5ECF6",
          "polar": {
           "angularaxis": {
            "gridcolor": "white",
            "linecolor": "white",
            "ticks": ""
           },
           "bgcolor": "#E5ECF6",
           "radialaxis": {
            "gridcolor": "white",
            "linecolor": "white",
            "ticks": ""
           }
          },
          "scene": {
           "xaxis": {
            "backgroundcolor": "#E5ECF6",
            "gridcolor": "white",
            "gridwidth": 2,
            "linecolor": "white",
            "showbackground": true,
            "ticks": "",
            "zerolinecolor": "white"
           },
           "yaxis": {
            "backgroundcolor": "#E5ECF6",
            "gridcolor": "white",
            "gridwidth": 2,
            "linecolor": "white",
            "showbackground": true,
            "ticks": "",
            "zerolinecolor": "white"
           },
           "zaxis": {
            "backgroundcolor": "#E5ECF6",
            "gridcolor": "white",
            "gridwidth": 2,
            "linecolor": "white",
            "showbackground": true,
            "ticks": "",
            "zerolinecolor": "white"
           }
          },
          "shapedefaults": {
           "line": {
            "color": "#2a3f5f"
           }
          },
          "ternary": {
           "aaxis": {
            "gridcolor": "white",
            "linecolor": "white",
            "ticks": ""
           },
           "baxis": {
            "gridcolor": "white",
            "linecolor": "white",
            "ticks": ""
           },
           "bgcolor": "#E5ECF6",
           "caxis": {
            "gridcolor": "white",
            "linecolor": "white",
            "ticks": ""
           }
          },
          "title": {
           "x": 0.05
          },
          "xaxis": {
           "automargin": true,
           "gridcolor": "white",
           "linecolor": "white",
           "ticks": "",
           "title": {
            "standoff": 15
           },
           "zerolinecolor": "white",
           "zerolinewidth": 2
          },
          "yaxis": {
           "automargin": true,
           "gridcolor": "white",
           "linecolor": "white",
           "ticks": "",
           "title": {
            "standoff": 15
           },
           "zerolinecolor": "white",
           "zerolinewidth": 2
          }
         }
        },
        "width": 900,
        "xaxis": {
         "rangeselector": {
          "buttons": [
           {
            "count": 7,
            "label": "1w",
            "step": "day",
            "stepmode": "backward"
           },
           {
            "count": 1,
            "label": "1m",
            "step": "month",
            "stepmode": "backward"
           },
           {
            "count": 6,
            "label": "6m",
            "step": "month",
            "stepmode": "backward"
           },
           {
            "count": 1,
            "label": "1y",
            "step": "year",
            "stepmode": "backward"
           },
           {
            "step": "all"
           }
          ]
         },
         "rangeslider": {
          "visible": true
         },
         "title": {
          "text": "Datum"
         },
         "type": "date"
        },
        "yaxis": {
         "title": {
          "text": "Anzahl Gutpackungen"
         }
        }
       }
      }
     },
     "metadata": {},
     "output_type": "display_data"
    }
   ],
   "source": [
    "fig_predict = plot_plotly(model, pd_historical_and_forecast, xlabel='Datum', ylabel='Anzahl Gutpackungen')\n",
    "fig_predict.show()"
   ]
  },
  {
   "cell_type": "code",
   "execution_count": 42,
   "metadata": {},
   "outputs": [
    {
     "data": {
      "application/vnd.plotly.v1+json": {
       "config": {
        "plotlyServerURL": "https://plot.ly"
       },
       "data": [
        {
         "line": {
          "color": "#0072B2",
          "width": 2
         },
         "mode": "lines",
         "name": "trend",
         "type": "scatter",
         "x": [
          "2022-05-03T00:00:00",
          "2022-05-04T00:00:00",
          "2022-05-05T00:00:00",
          "2022-05-06T00:00:00",
          "2022-05-07T00:00:00",
          "2022-05-08T00:00:00",
          "2022-05-09T00:00:00",
          "2022-05-10T00:00:00",
          "2022-05-11T00:00:00",
          "2022-05-12T00:00:00",
          "2022-05-13T00:00:00",
          "2022-05-16T00:00:00",
          "2022-05-17T00:00:00",
          "2022-05-18T00:00:00",
          "2022-05-19T00:00:00",
          "2022-05-20T00:00:00",
          "2022-05-23T00:00:00",
          "2022-05-24T00:00:00",
          "2022-05-25T00:00:00",
          "2022-05-26T00:00:00",
          "2022-05-30T00:00:00",
          "2022-05-31T00:00:00",
          "2022-06-01T00:00:00",
          "2022-06-02T00:00:00",
          "2022-06-03T00:00:00",
          "2022-06-05T00:00:00",
          "2022-06-06T00:00:00",
          "2022-06-07T00:00:00",
          "2022-06-08T00:00:00",
          "2022-06-09T00:00:00",
          "2022-06-10T00:00:00",
          "2022-06-13T00:00:00",
          "2022-06-14T00:00:00",
          "2022-06-15T00:00:00",
          "2022-06-16T00:00:00",
          "2022-06-17T00:00:00",
          "2022-06-20T00:00:00",
          "2022-06-21T00:00:00",
          "2022-06-22T00:00:00",
          "2022-06-23T00:00:00",
          "2022-06-24T00:00:00",
          "2022-06-27T00:00:00",
          "2022-06-28T00:00:00",
          "2022-06-29T00:00:00",
          "2022-06-30T00:00:00",
          "2022-07-01T00:00:00",
          "2022-07-07T00:00:00",
          "2022-07-08T00:00:00",
          "2022-07-10T00:00:00",
          "2022-07-11T00:00:00",
          "2022-07-12T00:00:00",
          "2022-07-13T00:00:00",
          "2022-07-14T00:00:00",
          "2022-07-15T00:00:00",
          "2022-07-16T00:00:00",
          "2022-07-18T00:00:00",
          "2022-07-19T00:00:00",
          "2022-07-20T00:00:00",
          "2022-07-21T00:00:00",
          "2022-07-22T00:00:00",
          "2022-07-25T00:00:00",
          "2022-07-26T00:00:00",
          "2022-07-27T00:00:00",
          "2022-07-28T00:00:00",
          "2022-07-29T00:00:00",
          "2022-07-30T00:00:00",
          "2022-07-31T00:00:00",
          "2022-08-01T00:00:00",
          "2022-08-02T00:00:00",
          "2022-08-03T00:00:00",
          "2022-08-04T00:00:00",
          "2022-08-05T00:00:00",
          "2022-08-06T00:00:00",
          "2022-08-07T00:00:00",
          "2022-08-08T00:00:00",
          "2022-08-09T00:00:00",
          "2022-08-10T00:00:00",
          "2022-08-11T00:00:00",
          "2022-08-12T00:00:00",
          "2022-08-13T00:00:00",
          "2022-08-14T00:00:00",
          "2022-08-15T00:00:00",
          "2022-08-16T00:00:00",
          "2022-08-17T00:00:00",
          "2022-08-18T00:00:00",
          "2022-08-19T00:00:00",
          "2022-08-20T00:00:00",
          "2022-08-21T00:00:00",
          "2022-08-22T00:00:00",
          "2022-08-23T00:00:00",
          "2022-08-24T00:00:00",
          "2022-08-25T00:00:00",
          "2022-08-26T00:00:00",
          "2022-08-27T00:00:00",
          "2022-08-28T00:00:00",
          "2022-08-29T00:00:00",
          "2022-08-30T00:00:00",
          "2022-08-31T00:00:00",
          "2022-09-01T00:00:00",
          "2022-09-02T00:00:00",
          "2022-09-03T00:00:00",
          "2022-09-04T00:00:00",
          "2022-09-05T00:00:00",
          "2022-09-06T00:00:00",
          "2022-09-07T00:00:00",
          "2022-09-08T00:00:00",
          "2022-09-09T00:00:00",
          "2022-09-10T00:00:00",
          "2022-09-11T00:00:00",
          "2022-09-12T00:00:00",
          "2022-09-13T00:00:00",
          "2022-09-14T00:00:00",
          "2022-09-15T00:00:00",
          "2022-09-16T00:00:00",
          "2022-09-17T00:00:00",
          "2022-09-18T00:00:00",
          "2022-09-19T00:00:00",
          "2022-09-20T00:00:00",
          "2022-09-21T00:00:00",
          "2022-09-22T00:00:00",
          "2022-09-23T00:00:00",
          "2022-09-24T00:00:00",
          "2022-09-25T00:00:00",
          "2022-09-26T00:00:00",
          "2022-09-27T00:00:00",
          "2022-09-28T00:00:00"
         ],
         "xaxis": "x",
         "y": [
          99543.85842931406,
          99515.27193225837,
          99486.68551442708,
          99457.72435200476,
          99428.76328055147,
          99399.53949702393,
          99370.31581606195,
          99340.8003471533,
          99311.28499310324,
          99280.59229114997,
          99249.89972474557,
          99157.86590012102,
          99127.18826792372,
          99096.32328629868,
          99065.45847686371,
          99034.09550524998,
          98940.00775530325,
          98909.32560489175,
          98878.64365985425,
          98848.86331586089,
          98729.74403477213,
          98701.18065886143,
          98672.61749491755,
          98645.08031420785,
          98617.5433390205,
          98564.99997709134,
          98538.72859150228,
          98512.45740766445,
          98487.6084469327,
          98462.75967301374,
          98437.53744072221,
          98361.87194973532,
          98336.1685651104,
          98310.46540039121,
          98285.15432172325,
          98259.84346284147,
          98181.42502594093,
          98155.28603939622,
          98128.85355687942,
          98102.4213359167,
          98075.45146814843,
          97994.5435609751,
          97970.16023894672,
          97945.77715838219,
          97922.29531435875,
          97898.81369956002,
          97763.87538957286,
          97741.38645002965,
          97695.8526155694,
          97673.086055637,
          97651.97341016134,
          97630.86097412271,
          97611.86117791569,
          97592.86155422537,
          97573.86210442276,
          97535.863731964,
          97516.86481204948,
          97497.86607150585,
          97478.86751170376,
          97459.86913401385,
          97402.87510732266,
          97383.87747178663,
          97364.88002521507,
          97345.88276897832,
          97326.8857044466,
          97307.88883299011,
          97288.89215597897,
          97269.89567478327,
          97250.89939077302,
          97231.90330531819,
          97212.90741978868,
          97193.91173555433,
          97174.91625398495,
          97155.92097645029,
          97136.92590432,
          97117.93103896368,
          97098.93638175087,
          97079.94193405112,
          97060.94769723383,
          97041.95367266837,
          97022.95986172408,
          97003.9662657702,
          96984.97288617589,
          96965.9797243103,
          96946.9867815425,
          96927.99405924142,
          96909.00155877609,
          96890.00928151535,
          96871.01722882797,
          96852.02540208274,
          96833.03380264832,
          96814.04243189332,
          96795.05129118625,
          96776.06038189564,
          96757.0697053899,
          96738.07926303735,
          96719.08905620627,
          96700.09908626489,
          96681.10935458135,
          96662.11986252369,
          96643.13061145991,
          96624.141602758,
          96605.15283778578,
          96586.16431791103,
          96567.17604450154,
          96548.18801892489,
          96529.20024254869,
          96510.21271674044,
          96491.22544286758,
          96472.23842229747,
          96453.25165639739,
          96434.26514653458,
          96415.27889407617,
          96396.29290038925,
          96377.30716684075,
          96358.32169479763,
          96339.33648562676,
          96320.35154069484,
          96301.36686136865,
          96282.38244901471,
          96263.39830499963,
          96244.41443068982,
          96225.43082745172,
          96206.44749665157,
          96187.46443965564,
          96168.48165783002
         ],
         "yaxis": "y"
        },
        {
         "line": {
          "color": "rgba(0, 114, 178, 0.2)",
          "width": 0
         },
         "mode": "lines",
         "name": "trend_upper",
         "type": "scatter",
         "x": [
          "2022-05-03T00:00:00",
          "2022-05-04T00:00:00",
          "2022-05-05T00:00:00",
          "2022-05-06T00:00:00",
          "2022-05-07T00:00:00",
          "2022-05-08T00:00:00",
          "2022-05-09T00:00:00",
          "2022-05-10T00:00:00",
          "2022-05-11T00:00:00",
          "2022-05-12T00:00:00",
          "2022-05-13T00:00:00",
          "2022-05-16T00:00:00",
          "2022-05-17T00:00:00",
          "2022-05-18T00:00:00",
          "2022-05-19T00:00:00",
          "2022-05-20T00:00:00",
          "2022-05-23T00:00:00",
          "2022-05-24T00:00:00",
          "2022-05-25T00:00:00",
          "2022-05-26T00:00:00",
          "2022-05-30T00:00:00",
          "2022-05-31T00:00:00",
          "2022-06-01T00:00:00",
          "2022-06-02T00:00:00",
          "2022-06-03T00:00:00",
          "2022-06-05T00:00:00",
          "2022-06-06T00:00:00",
          "2022-06-07T00:00:00",
          "2022-06-08T00:00:00",
          "2022-06-09T00:00:00",
          "2022-06-10T00:00:00",
          "2022-06-13T00:00:00",
          "2022-06-14T00:00:00",
          "2022-06-15T00:00:00",
          "2022-06-16T00:00:00",
          "2022-06-17T00:00:00",
          "2022-06-20T00:00:00",
          "2022-06-21T00:00:00",
          "2022-06-22T00:00:00",
          "2022-06-23T00:00:00",
          "2022-06-24T00:00:00",
          "2022-06-27T00:00:00",
          "2022-06-28T00:00:00",
          "2022-06-29T00:00:00",
          "2022-06-30T00:00:00",
          "2022-07-01T00:00:00",
          "2022-07-07T00:00:00",
          "2022-07-08T00:00:00",
          "2022-07-10T00:00:00",
          "2022-07-11T00:00:00",
          "2022-07-12T00:00:00",
          "2022-07-13T00:00:00",
          "2022-07-14T00:00:00",
          "2022-07-15T00:00:00",
          "2022-07-16T00:00:00",
          "2022-07-18T00:00:00",
          "2022-07-19T00:00:00",
          "2022-07-20T00:00:00",
          "2022-07-21T00:00:00",
          "2022-07-22T00:00:00",
          "2022-07-25T00:00:00",
          "2022-07-26T00:00:00",
          "2022-07-27T00:00:00",
          "2022-07-28T00:00:00",
          "2022-07-29T00:00:00",
          "2022-07-30T00:00:00",
          "2022-07-31T00:00:00",
          "2022-08-01T00:00:00",
          "2022-08-02T00:00:00",
          "2022-08-03T00:00:00",
          "2022-08-04T00:00:00",
          "2022-08-05T00:00:00",
          "2022-08-06T00:00:00",
          "2022-08-07T00:00:00",
          "2022-08-08T00:00:00",
          "2022-08-09T00:00:00",
          "2022-08-10T00:00:00",
          "2022-08-11T00:00:00",
          "2022-08-12T00:00:00",
          "2022-08-13T00:00:00",
          "2022-08-14T00:00:00",
          "2022-08-15T00:00:00",
          "2022-08-16T00:00:00",
          "2022-08-17T00:00:00",
          "2022-08-18T00:00:00",
          "2022-08-19T00:00:00",
          "2022-08-20T00:00:00",
          "2022-08-21T00:00:00",
          "2022-08-22T00:00:00",
          "2022-08-23T00:00:00",
          "2022-08-24T00:00:00",
          "2022-08-25T00:00:00",
          "2022-08-26T00:00:00",
          "2022-08-27T00:00:00",
          "2022-08-28T00:00:00",
          "2022-08-29T00:00:00",
          "2022-08-30T00:00:00",
          "2022-08-31T00:00:00",
          "2022-09-01T00:00:00",
          "2022-09-02T00:00:00",
          "2022-09-03T00:00:00",
          "2022-09-04T00:00:00",
          "2022-09-05T00:00:00",
          "2022-09-06T00:00:00",
          "2022-09-07T00:00:00",
          "2022-09-08T00:00:00",
          "2022-09-09T00:00:00",
          "2022-09-10T00:00:00",
          "2022-09-11T00:00:00",
          "2022-09-12T00:00:00",
          "2022-09-13T00:00:00",
          "2022-09-14T00:00:00",
          "2022-09-15T00:00:00",
          "2022-09-16T00:00:00",
          "2022-09-17T00:00:00",
          "2022-09-18T00:00:00",
          "2022-09-19T00:00:00",
          "2022-09-20T00:00:00",
          "2022-09-21T00:00:00",
          "2022-09-22T00:00:00",
          "2022-09-23T00:00:00",
          "2022-09-24T00:00:00",
          "2022-09-25T00:00:00",
          "2022-09-26T00:00:00",
          "2022-09-27T00:00:00",
          "2022-09-28T00:00:00"
         ],
         "xaxis": "x",
         "y": [
          94771.65157909816,
          94662.41770039932,
          94516.56472062695,
          94384.53334443485,
          94248.03261470777,
          94095.83897910692,
          94004.42079020233,
          93842.25372734506,
          93677.07466357954,
          93522.02560777839,
          93378.62405946583,
          92943.02355791559,
          92777.64888818195,
          92655.64562451304,
          92535.36820467908,
          92391.8024876988,
          92036.3214673704,
          91900.92806793284,
          91808.23455811788,
          91645.95444846882,
          91252.0591099158,
          91186.81959575992,
          91125.16425577899,
          91037.25921657847,
          90960.45632880116,
          90780.79737636395,
          90661.65939440938,
          90604.84403426197,
          90529.42066361776,
          90455.31316372861,
          90395.25938626983,
          90269.72429153767,
          90230.51545500479,
          90191.00767409078,
          90172.53813111428,
          90173.382301197,
          90064.62205910031,
          90068.20796779491,
          90008.93638137417,
          90033.15979651466,
          90052.29042828051,
          90071.0301613263,
          90123.4962189106,
          90217.13205175268,
          90254.806252916,
          90287.50794950398,
          90645.0689323822,
          90793.4117239386,
          91041.39740227826,
          91153.31773212778,
          91230.08040517787,
          91347.36969499655,
          91491.93602298725,
          91628.89003808597,
          91792.84958170564,
          92129.18722847328,
          92291.01821534602,
          92458.45520395228,
          92679.92057236565,
          92851.88396880259,
          93376.76666856367,
          93571.19364909256,
          93737.42397596115,
          93936.29875769363,
          94135.24274426998,
          94377.98582995596,
          94630.72323855078,
          94897.124180415,
          95137.62048853807,
          95373.74713290627,
          95566.73609413933,
          95824.01888625354,
          96049.88814345794,
          96304.83630761238,
          96567.23560432077,
          96803.4078109401,
          97012.55933765345,
          97208.69166817173,
          97460.63539016635,
          97729.88284898167,
          98008.52132944985,
          98299.65445999257,
          98554.11077554466,
          98848.50840078191,
          99129.8337867384,
          99380.79723038805,
          99677.96361633072,
          99967.14693662038,
          100234.35954701643,
          100543.49964589984,
          100842.83736927391,
          101117.78952510623,
          101435.39799747162,
          101737.91947234275,
          102006.0910559002,
          102311.07741290903,
          102591.36062943265,
          102905.18863123046,
          103242.70557447422,
          103578.38393158019,
          103811.58809617217,
          104115.982920221,
          104432.70099682553,
          104749.48494125865,
          105045.7374446145,
          105338.13488367651,
          105643.27954218841,
          105877.60039485428,
          106174.21517700673,
          106450.7019223195,
          106776.04164939803,
          107077.03950511472,
          107376.93127481347,
          107690.52765985951,
          108002.11245782908,
          108296.09769128087,
          108582.75156520786,
          108855.69373164533,
          109146.71709733187,
          109477.42567166899,
          109784.15528455786,
          110138.60120374999,
          110482.23159926075,
          110778.46663401842,
          111096.0786911467,
          111417.43202624976
         ],
         "yaxis": "y"
        },
        {
         "fill": "tonexty",
         "fillcolor": "rgba(0, 114, 178, 0.2)",
         "line": {
          "color": "rgba(0, 114, 178, 0.2)",
          "width": 0
         },
         "mode": "lines",
         "name": "trend_lower",
         "type": "scatter",
         "x": [
          "2022-05-03T00:00:00",
          "2022-05-04T00:00:00",
          "2022-05-05T00:00:00",
          "2022-05-06T00:00:00",
          "2022-05-07T00:00:00",
          "2022-05-08T00:00:00",
          "2022-05-09T00:00:00",
          "2022-05-10T00:00:00",
          "2022-05-11T00:00:00",
          "2022-05-12T00:00:00",
          "2022-05-13T00:00:00",
          "2022-05-16T00:00:00",
          "2022-05-17T00:00:00",
          "2022-05-18T00:00:00",
          "2022-05-19T00:00:00",
          "2022-05-20T00:00:00",
          "2022-05-23T00:00:00",
          "2022-05-24T00:00:00",
          "2022-05-25T00:00:00",
          "2022-05-26T00:00:00",
          "2022-05-30T00:00:00",
          "2022-05-31T00:00:00",
          "2022-06-01T00:00:00",
          "2022-06-02T00:00:00",
          "2022-06-03T00:00:00",
          "2022-06-05T00:00:00",
          "2022-06-06T00:00:00",
          "2022-06-07T00:00:00",
          "2022-06-08T00:00:00",
          "2022-06-09T00:00:00",
          "2022-06-10T00:00:00",
          "2022-06-13T00:00:00",
          "2022-06-14T00:00:00",
          "2022-06-15T00:00:00",
          "2022-06-16T00:00:00",
          "2022-06-17T00:00:00",
          "2022-06-20T00:00:00",
          "2022-06-21T00:00:00",
          "2022-06-22T00:00:00",
          "2022-06-23T00:00:00",
          "2022-06-24T00:00:00",
          "2022-06-27T00:00:00",
          "2022-06-28T00:00:00",
          "2022-06-29T00:00:00",
          "2022-06-30T00:00:00",
          "2022-07-01T00:00:00",
          "2022-07-07T00:00:00",
          "2022-07-08T00:00:00",
          "2022-07-10T00:00:00",
          "2022-07-11T00:00:00",
          "2022-07-12T00:00:00",
          "2022-07-13T00:00:00",
          "2022-07-14T00:00:00",
          "2022-07-15T00:00:00",
          "2022-07-16T00:00:00",
          "2022-07-18T00:00:00",
          "2022-07-19T00:00:00",
          "2022-07-20T00:00:00",
          "2022-07-21T00:00:00",
          "2022-07-22T00:00:00",
          "2022-07-25T00:00:00",
          "2022-07-26T00:00:00",
          "2022-07-27T00:00:00",
          "2022-07-28T00:00:00",
          "2022-07-29T00:00:00",
          "2022-07-30T00:00:00",
          "2022-07-31T00:00:00",
          "2022-08-01T00:00:00",
          "2022-08-02T00:00:00",
          "2022-08-03T00:00:00",
          "2022-08-04T00:00:00",
          "2022-08-05T00:00:00",
          "2022-08-06T00:00:00",
          "2022-08-07T00:00:00",
          "2022-08-08T00:00:00",
          "2022-08-09T00:00:00",
          "2022-08-10T00:00:00",
          "2022-08-11T00:00:00",
          "2022-08-12T00:00:00",
          "2022-08-13T00:00:00",
          "2022-08-14T00:00:00",
          "2022-08-15T00:00:00",
          "2022-08-16T00:00:00",
          "2022-08-17T00:00:00",
          "2022-08-18T00:00:00",
          "2022-08-19T00:00:00",
          "2022-08-20T00:00:00",
          "2022-08-21T00:00:00",
          "2022-08-22T00:00:00",
          "2022-08-23T00:00:00",
          "2022-08-24T00:00:00",
          "2022-08-25T00:00:00",
          "2022-08-26T00:00:00",
          "2022-08-27T00:00:00",
          "2022-08-28T00:00:00",
          "2022-08-29T00:00:00",
          "2022-08-30T00:00:00",
          "2022-08-31T00:00:00",
          "2022-09-01T00:00:00",
          "2022-09-02T00:00:00",
          "2022-09-03T00:00:00",
          "2022-09-04T00:00:00",
          "2022-09-05T00:00:00",
          "2022-09-06T00:00:00",
          "2022-09-07T00:00:00",
          "2022-09-08T00:00:00",
          "2022-09-09T00:00:00",
          "2022-09-10T00:00:00",
          "2022-09-11T00:00:00",
          "2022-09-12T00:00:00",
          "2022-09-13T00:00:00",
          "2022-09-14T00:00:00",
          "2022-09-15T00:00:00",
          "2022-09-16T00:00:00",
          "2022-09-17T00:00:00",
          "2022-09-18T00:00:00",
          "2022-09-19T00:00:00",
          "2022-09-20T00:00:00",
          "2022-09-21T00:00:00",
          "2022-09-22T00:00:00",
          "2022-09-23T00:00:00",
          "2022-09-24T00:00:00",
          "2022-09-25T00:00:00",
          "2022-09-26T00:00:00",
          "2022-09-27T00:00:00",
          "2022-09-28T00:00:00"
         ],
         "xaxis": "x",
         "y": [
          60196.42424039069,
          60295.09503387637,
          60379.56993754898,
          60516.945991252986,
          60627.23233614923,
          60706.71123856385,
          60856.74898536395,
          60933.98318241785,
          61098.154885876145,
          61229.95365698126,
          61356.2895812212,
          61688.322154918045,
          61723.15575399396,
          61825.76377632085,
          61924.84994879773,
          62042.890146709695,
          62158.54494843572,
          62237.625747717866,
          62214.33235557525,
          62240.75040664431,
          62297.64603326185,
          62323.1546677371,
          62219.79780333104,
          62237.15569807105,
          62253.46536637393,
          62225.41920061185,
          62198.305309640076,
          62199.36409339228,
          62232.65428579983,
          62204.03218035905,
          62185.818000604915,
          62110.61927922682,
          62066.00332564527,
          62019.22464798194,
          62054.48241633144,
          62040.30879765154,
          61850.96020498962,
          61860.97382338037,
          61803.681960873226,
          61767.783421344626,
          61654.892407584106,
          61531.89258227208,
          61419.206298495454,
          61288.16603883331,
          61229.82905267398,
          61155.86610644465,
          60584.15862830399,
          60460.03678499494,
          60210.24421411629,
          60086.33827509125,
          59947.36628940099,
          59844.383428202826,
          59652.866957461454,
          59539.654871218416,
          59400.00436590868,
          59024.694013456494,
          58890.05153316434,
          58746.999715747676,
          58584.7047251897,
          58422.21508484464,
          58002.92350035983,
          57850.95100309006,
          57733.052213937684,
          57538.63749247206,
          57327.379892630874,
          57084.95075030422,
          56903.59498010038,
          56714.61168357868,
          56547.947538491324,
          56332.28753202666,
          56132.95397196176,
          55905.74307180306,
          55667.80882498176,
          55496.22079764143,
          55255.169272187195,
          55039.29509719517,
          54801.46901080021,
          54548.237118035024,
          54332.63844652843,
          54118.15792460275,
          53924.416947004116,
          53700.41022736847,
          53452.82468393701,
          53214.967451115255,
          52968.13941310752,
          52742.68617275971,
          52509.901677660746,
          52242.7877349869,
          51956.60929456781,
          51693.60135981911,
          51428.136548003466,
          51187.91424252335,
          50947.01076776002,
          50747.18225643577,
          50516.7879814006,
          50261.21140410858,
          50007.23664958498,
          49751.219559603676,
          49486.486843156315,
          49245.94599668841,
          48984.09389863341,
          48728.03156756897,
          48475.084756893666,
          48232.27313784259,
          48001.26236956437,
          47786.14204977225,
          47569.8437069355,
          47320.26235565717,
          47093.879521508454,
          46877.5932914418,
          46666.835653641625,
          46420.49760677867,
          46200.21058665843,
          45933.83317444971,
          45693.163369120084,
          45494.90981469021,
          45296.6536280541,
          45051.37680155861,
          44814.504782779164,
          44615.94251665086,
          44366.40142740762,
          44107.877056824545,
          43883.30702215251,
          43652.49611089664,
          43382.226037831024,
          43129.474411413146
         ],
         "yaxis": "y"
        },
        {
         "line": {
          "color": "black",
          "dash": "dash",
          "width": 2
         },
         "mode": "lines",
         "name": "Cap",
         "type": "scatter",
         "x": [
          "2022-05-03T00:00:00",
          "2022-05-04T00:00:00",
          "2022-05-05T00:00:00",
          "2022-05-06T00:00:00",
          "2022-05-07T00:00:00",
          "2022-05-08T00:00:00",
          "2022-05-09T00:00:00",
          "2022-05-10T00:00:00",
          "2022-05-11T00:00:00",
          "2022-05-12T00:00:00",
          "2022-05-13T00:00:00",
          "2022-05-16T00:00:00",
          "2022-05-17T00:00:00",
          "2022-05-18T00:00:00",
          "2022-05-19T00:00:00",
          "2022-05-20T00:00:00",
          "2022-05-23T00:00:00",
          "2022-05-24T00:00:00",
          "2022-05-25T00:00:00",
          "2022-05-26T00:00:00",
          "2022-05-30T00:00:00",
          "2022-05-31T00:00:00",
          "2022-06-01T00:00:00",
          "2022-06-02T00:00:00",
          "2022-06-03T00:00:00",
          "2022-06-05T00:00:00",
          "2022-06-06T00:00:00",
          "2022-06-07T00:00:00",
          "2022-06-08T00:00:00",
          "2022-06-09T00:00:00",
          "2022-06-10T00:00:00",
          "2022-06-13T00:00:00",
          "2022-06-14T00:00:00",
          "2022-06-15T00:00:00",
          "2022-06-16T00:00:00",
          "2022-06-17T00:00:00",
          "2022-06-20T00:00:00",
          "2022-06-21T00:00:00",
          "2022-06-22T00:00:00",
          "2022-06-23T00:00:00",
          "2022-06-24T00:00:00",
          "2022-06-27T00:00:00",
          "2022-06-28T00:00:00",
          "2022-06-29T00:00:00",
          "2022-06-30T00:00:00",
          "2022-07-01T00:00:00",
          "2022-07-07T00:00:00",
          "2022-07-08T00:00:00",
          "2022-07-10T00:00:00",
          "2022-07-11T00:00:00",
          "2022-07-12T00:00:00",
          "2022-07-13T00:00:00",
          "2022-07-14T00:00:00",
          "2022-07-15T00:00:00",
          "2022-07-16T00:00:00",
          "2022-07-18T00:00:00",
          "2022-07-19T00:00:00",
          "2022-07-20T00:00:00",
          "2022-07-21T00:00:00",
          "2022-07-22T00:00:00",
          "2022-07-25T00:00:00",
          "2022-07-26T00:00:00",
          "2022-07-27T00:00:00",
          "2022-07-28T00:00:00",
          "2022-07-29T00:00:00",
          "2022-07-30T00:00:00",
          "2022-07-31T00:00:00",
          "2022-08-01T00:00:00",
          "2022-08-02T00:00:00",
          "2022-08-03T00:00:00",
          "2022-08-04T00:00:00",
          "2022-08-05T00:00:00",
          "2022-08-06T00:00:00",
          "2022-08-07T00:00:00",
          "2022-08-08T00:00:00",
          "2022-08-09T00:00:00",
          "2022-08-10T00:00:00",
          "2022-08-11T00:00:00",
          "2022-08-12T00:00:00",
          "2022-08-13T00:00:00",
          "2022-08-14T00:00:00",
          "2022-08-15T00:00:00",
          "2022-08-16T00:00:00",
          "2022-08-17T00:00:00",
          "2022-08-18T00:00:00",
          "2022-08-19T00:00:00",
          "2022-08-20T00:00:00",
          "2022-08-21T00:00:00",
          "2022-08-22T00:00:00",
          "2022-08-23T00:00:00",
          "2022-08-24T00:00:00",
          "2022-08-25T00:00:00",
          "2022-08-26T00:00:00",
          "2022-08-27T00:00:00",
          "2022-08-28T00:00:00",
          "2022-08-29T00:00:00",
          "2022-08-30T00:00:00",
          "2022-08-31T00:00:00",
          "2022-09-01T00:00:00",
          "2022-09-02T00:00:00",
          "2022-09-03T00:00:00",
          "2022-09-04T00:00:00",
          "2022-09-05T00:00:00",
          "2022-09-06T00:00:00",
          "2022-09-07T00:00:00",
          "2022-09-08T00:00:00",
          "2022-09-09T00:00:00",
          "2022-09-10T00:00:00",
          "2022-09-11T00:00:00",
          "2022-09-12T00:00:00",
          "2022-09-13T00:00:00",
          "2022-09-14T00:00:00",
          "2022-09-15T00:00:00",
          "2022-09-16T00:00:00",
          "2022-09-17T00:00:00",
          "2022-09-18T00:00:00",
          "2022-09-19T00:00:00",
          "2022-09-20T00:00:00",
          "2022-09-21T00:00:00",
          "2022-09-22T00:00:00",
          "2022-09-23T00:00:00",
          "2022-09-24T00:00:00",
          "2022-09-25T00:00:00",
          "2022-09-26T00:00:00",
          "2022-09-27T00:00:00",
          "2022-09-28T00:00:00"
         ],
         "xaxis": "x",
         "y": [
          200000,
          200000,
          200000,
          200000,
          200000,
          200000,
          200000,
          200000,
          200000,
          200000,
          200000,
          200000,
          200000,
          200000,
          200000,
          200000,
          200000,
          200000,
          200000,
          200000,
          200000,
          200000,
          200000,
          200000,
          200000,
          200000,
          200000,
          200000,
          200000,
          200000,
          200000,
          200000,
          200000,
          200000,
          200000,
          200000,
          200000,
          200000,
          200000,
          200000,
          200000,
          200000,
          200000,
          200000,
          200000,
          200000,
          200000,
          200000,
          200000,
          200000,
          200000,
          200000,
          200000,
          200000,
          200000,
          200000,
          200000,
          200000,
          200000,
          200000,
          200000,
          200000,
          200000,
          200000,
          200000,
          200000,
          200000,
          200000,
          200000,
          200000,
          200000,
          200000,
          200000,
          200000,
          200000,
          200000,
          200000,
          200000,
          200000,
          200000,
          200000,
          200000,
          200000,
          200000,
          200000,
          200000,
          200000,
          200000,
          200000,
          200000,
          200000,
          200000,
          200000,
          200000,
          200000,
          200000,
          200000,
          200000,
          200000,
          200000,
          200000,
          200000,
          200000,
          200000,
          200000,
          200000,
          200000,
          200000,
          200000,
          200000,
          200000,
          200000,
          200000,
          200000,
          200000,
          200000,
          200000,
          200000,
          200000,
          200000,
          200000,
          200000,
          200000,
          200000,
          200000,
          200000
         ],
         "yaxis": "y"
        },
        {
         "line": {
          "color": "black",
          "dash": "dash",
          "width": 2
         },
         "mode": "lines",
         "name": "Floor",
         "type": "scatter",
         "x": [
          "2022-05-03T00:00:00",
          "2022-05-04T00:00:00",
          "2022-05-05T00:00:00",
          "2022-05-06T00:00:00",
          "2022-05-07T00:00:00",
          "2022-05-08T00:00:00",
          "2022-05-09T00:00:00",
          "2022-05-10T00:00:00",
          "2022-05-11T00:00:00",
          "2022-05-12T00:00:00",
          "2022-05-13T00:00:00",
          "2022-05-16T00:00:00",
          "2022-05-17T00:00:00",
          "2022-05-18T00:00:00",
          "2022-05-19T00:00:00",
          "2022-05-20T00:00:00",
          "2022-05-23T00:00:00",
          "2022-05-24T00:00:00",
          "2022-05-25T00:00:00",
          "2022-05-26T00:00:00",
          "2022-05-30T00:00:00",
          "2022-05-31T00:00:00",
          "2022-06-01T00:00:00",
          "2022-06-02T00:00:00",
          "2022-06-03T00:00:00",
          "2022-06-05T00:00:00",
          "2022-06-06T00:00:00",
          "2022-06-07T00:00:00",
          "2022-06-08T00:00:00",
          "2022-06-09T00:00:00",
          "2022-06-10T00:00:00",
          "2022-06-13T00:00:00",
          "2022-06-14T00:00:00",
          "2022-06-15T00:00:00",
          "2022-06-16T00:00:00",
          "2022-06-17T00:00:00",
          "2022-06-20T00:00:00",
          "2022-06-21T00:00:00",
          "2022-06-22T00:00:00",
          "2022-06-23T00:00:00",
          "2022-06-24T00:00:00",
          "2022-06-27T00:00:00",
          "2022-06-28T00:00:00",
          "2022-06-29T00:00:00",
          "2022-06-30T00:00:00",
          "2022-07-01T00:00:00",
          "2022-07-07T00:00:00",
          "2022-07-08T00:00:00",
          "2022-07-10T00:00:00",
          "2022-07-11T00:00:00",
          "2022-07-12T00:00:00",
          "2022-07-13T00:00:00",
          "2022-07-14T00:00:00",
          "2022-07-15T00:00:00",
          "2022-07-16T00:00:00",
          "2022-07-18T00:00:00",
          "2022-07-19T00:00:00",
          "2022-07-20T00:00:00",
          "2022-07-21T00:00:00",
          "2022-07-22T00:00:00",
          "2022-07-25T00:00:00",
          "2022-07-26T00:00:00",
          "2022-07-27T00:00:00",
          "2022-07-28T00:00:00",
          "2022-07-29T00:00:00",
          "2022-07-30T00:00:00",
          "2022-07-31T00:00:00",
          "2022-08-01T00:00:00",
          "2022-08-02T00:00:00",
          "2022-08-03T00:00:00",
          "2022-08-04T00:00:00",
          "2022-08-05T00:00:00",
          "2022-08-06T00:00:00",
          "2022-08-07T00:00:00",
          "2022-08-08T00:00:00",
          "2022-08-09T00:00:00",
          "2022-08-10T00:00:00",
          "2022-08-11T00:00:00",
          "2022-08-12T00:00:00",
          "2022-08-13T00:00:00",
          "2022-08-14T00:00:00",
          "2022-08-15T00:00:00",
          "2022-08-16T00:00:00",
          "2022-08-17T00:00:00",
          "2022-08-18T00:00:00",
          "2022-08-19T00:00:00",
          "2022-08-20T00:00:00",
          "2022-08-21T00:00:00",
          "2022-08-22T00:00:00",
          "2022-08-23T00:00:00",
          "2022-08-24T00:00:00",
          "2022-08-25T00:00:00",
          "2022-08-26T00:00:00",
          "2022-08-27T00:00:00",
          "2022-08-28T00:00:00",
          "2022-08-29T00:00:00",
          "2022-08-30T00:00:00",
          "2022-08-31T00:00:00",
          "2022-09-01T00:00:00",
          "2022-09-02T00:00:00",
          "2022-09-03T00:00:00",
          "2022-09-04T00:00:00",
          "2022-09-05T00:00:00",
          "2022-09-06T00:00:00",
          "2022-09-07T00:00:00",
          "2022-09-08T00:00:00",
          "2022-09-09T00:00:00",
          "2022-09-10T00:00:00",
          "2022-09-11T00:00:00",
          "2022-09-12T00:00:00",
          "2022-09-13T00:00:00",
          "2022-09-14T00:00:00",
          "2022-09-15T00:00:00",
          "2022-09-16T00:00:00",
          "2022-09-17T00:00:00",
          "2022-09-18T00:00:00",
          "2022-09-19T00:00:00",
          "2022-09-20T00:00:00",
          "2022-09-21T00:00:00",
          "2022-09-22T00:00:00",
          "2022-09-23T00:00:00",
          "2022-09-24T00:00:00",
          "2022-09-25T00:00:00",
          "2022-09-26T00:00:00",
          "2022-09-27T00:00:00",
          "2022-09-28T00:00:00"
         ],
         "xaxis": "x",
         "y": [
          0,
          0,
          0,
          0,
          0,
          0,
          0,
          0,
          0,
          0,
          0,
          0,
          0,
          0,
          0,
          0,
          0,
          0,
          0,
          0,
          0,
          0,
          0,
          0,
          0,
          0,
          0,
          0,
          0,
          0,
          0,
          0,
          0,
          0,
          0,
          0,
          0,
          0,
          0,
          0,
          0,
          0,
          0,
          0,
          0,
          0,
          0,
          0,
          0,
          0,
          0,
          0,
          0,
          0,
          0,
          0,
          0,
          0,
          0,
          0,
          0,
          0,
          0,
          0,
          0,
          0,
          0,
          0,
          0,
          0,
          0,
          0,
          0,
          0,
          0,
          0,
          0,
          0,
          0,
          0,
          0,
          0,
          0,
          0,
          0,
          0,
          0,
          0,
          0,
          0,
          0,
          0,
          0,
          0,
          0,
          0,
          0,
          0,
          0,
          0,
          0,
          0,
          0,
          0,
          0,
          0,
          0,
          0,
          0,
          0,
          0,
          0,
          0,
          0,
          0,
          0,
          0,
          0,
          0,
          0,
          0,
          0,
          0,
          0,
          0,
          0
         ],
         "yaxis": "y"
        },
        {
         "line": {
          "color": "#0072B2",
          "width": 2
         },
         "mode": "lines",
         "name": "weekly",
         "type": "scatter",
         "x": [
          "2017-01-01T00:00:00",
          "2017-01-02T00:00:00",
          "2017-01-03T00:00:00",
          "2017-01-04T00:00:00",
          "2017-01-05T00:00:00",
          "2017-01-06T00:00:00",
          "2017-01-07T00:00:00"
         ],
         "xaxis": "x2",
         "y": [
          -0.5299613815991919,
          0.1174134057599863,
          0.4462141065340612,
          0.6468123285450429,
          0.3312950951731341,
          -0.027585602755780956,
          -0.9841879516559022
         ],
         "yaxis": "y2"
        },
        {
         "line": {
          "color": "rgba(0, 114, 178, 0.2)",
          "width": 0
         },
         "mode": "lines",
         "name": "weekly_upper",
         "type": "scatter",
         "x": [
          "2017-01-01T00:00:00",
          "2017-01-02T00:00:00",
          "2017-01-03T00:00:00",
          "2017-01-04T00:00:00",
          "2017-01-05T00:00:00",
          "2017-01-06T00:00:00",
          "2017-01-07T00:00:00"
         ],
         "xaxis": "x2",
         "y": [
          0.0577783132838437,
          0.4873826111729501,
          0.8151570459110089,
          1.0539936149544908,
          0.692018143499889,
          0.3110432847874936,
          -0.36512154038009115
         ],
         "yaxis": "y2"
        },
        {
         "fill": "tonexty",
         "fillcolor": "rgba(0, 114, 178, 0.2)",
         "line": {
          "color": "rgba(0, 114, 178, 0.2)",
          "width": 0
         },
         "mode": "lines",
         "name": "weekly_lower",
         "type": "scatter",
         "x": [
          "2017-01-01T00:00:00",
          "2017-01-02T00:00:00",
          "2017-01-03T00:00:00",
          "2017-01-04T00:00:00",
          "2017-01-05T00:00:00",
          "2017-01-06T00:00:00",
          "2017-01-07T00:00:00"
         ],
         "xaxis": "x2",
         "y": [
          -1.1984987702110121,
          -0.2101624998666189,
          0.11223156758916876,
          0.2968983847505681,
          0.007032676250733221,
          -0.3455255395799704,
          -1.7269100206287353
         ],
         "yaxis": "y2"
        }
       ],
       "layout": {
        "height": 800,
        "showlegend": false,
        "template": {
         "data": {
          "bar": [
           {
            "error_x": {
             "color": "#2a3f5f"
            },
            "error_y": {
             "color": "#2a3f5f"
            },
            "marker": {
             "line": {
              "color": "#E5ECF6",
              "width": 0.5
             },
             "pattern": {
              "fillmode": "overlay",
              "size": 10,
              "solidity": 0.2
             }
            },
            "type": "bar"
           }
          ],
          "barpolar": [
           {
            "marker": {
             "line": {
              "color": "#E5ECF6",
              "width": 0.5
             },
             "pattern": {
              "fillmode": "overlay",
              "size": 10,
              "solidity": 0.2
             }
            },
            "type": "barpolar"
           }
          ],
          "carpet": [
           {
            "aaxis": {
             "endlinecolor": "#2a3f5f",
             "gridcolor": "white",
             "linecolor": "white",
             "minorgridcolor": "white",
             "startlinecolor": "#2a3f5f"
            },
            "baxis": {
             "endlinecolor": "#2a3f5f",
             "gridcolor": "white",
             "linecolor": "white",
             "minorgridcolor": "white",
             "startlinecolor": "#2a3f5f"
            },
            "type": "carpet"
           }
          ],
          "choropleth": [
           {
            "colorbar": {
             "outlinewidth": 0,
             "ticks": ""
            },
            "type": "choropleth"
           }
          ],
          "contour": [
           {
            "colorbar": {
             "outlinewidth": 0,
             "ticks": ""
            },
            "colorscale": [
             [
              0,
              "#0d0887"
             ],
             [
              0.1111111111111111,
              "#46039f"
             ],
             [
              0.2222222222222222,
              "#7201a8"
             ],
             [
              0.3333333333333333,
              "#9c179e"
             ],
             [
              0.4444444444444444,
              "#bd3786"
             ],
             [
              0.5555555555555556,
              "#d8576b"
             ],
             [
              0.6666666666666666,
              "#ed7953"
             ],
             [
              0.7777777777777778,
              "#fb9f3a"
             ],
             [
              0.8888888888888888,
              "#fdca26"
             ],
             [
              1,
              "#f0f921"
             ]
            ],
            "type": "contour"
           }
          ],
          "contourcarpet": [
           {
            "colorbar": {
             "outlinewidth": 0,
             "ticks": ""
            },
            "type": "contourcarpet"
           }
          ],
          "heatmap": [
           {
            "colorbar": {
             "outlinewidth": 0,
             "ticks": ""
            },
            "colorscale": [
             [
              0,
              "#0d0887"
             ],
             [
              0.1111111111111111,
              "#46039f"
             ],
             [
              0.2222222222222222,
              "#7201a8"
             ],
             [
              0.3333333333333333,
              "#9c179e"
             ],
             [
              0.4444444444444444,
              "#bd3786"
             ],
             [
              0.5555555555555556,
              "#d8576b"
             ],
             [
              0.6666666666666666,
              "#ed7953"
             ],
             [
              0.7777777777777778,
              "#fb9f3a"
             ],
             [
              0.8888888888888888,
              "#fdca26"
             ],
             [
              1,
              "#f0f921"
             ]
            ],
            "type": "heatmap"
           }
          ],
          "heatmapgl": [
           {
            "colorbar": {
             "outlinewidth": 0,
             "ticks": ""
            },
            "colorscale": [
             [
              0,
              "#0d0887"
             ],
             [
              0.1111111111111111,
              "#46039f"
             ],
             [
              0.2222222222222222,
              "#7201a8"
             ],
             [
              0.3333333333333333,
              "#9c179e"
             ],
             [
              0.4444444444444444,
              "#bd3786"
             ],
             [
              0.5555555555555556,
              "#d8576b"
             ],
             [
              0.6666666666666666,
              "#ed7953"
             ],
             [
              0.7777777777777778,
              "#fb9f3a"
             ],
             [
              0.8888888888888888,
              "#fdca26"
             ],
             [
              1,
              "#f0f921"
             ]
            ],
            "type": "heatmapgl"
           }
          ],
          "histogram": [
           {
            "marker": {
             "pattern": {
              "fillmode": "overlay",
              "size": 10,
              "solidity": 0.2
             }
            },
            "type": "histogram"
           }
          ],
          "histogram2d": [
           {
            "colorbar": {
             "outlinewidth": 0,
             "ticks": ""
            },
            "colorscale": [
             [
              0,
              "#0d0887"
             ],
             [
              0.1111111111111111,
              "#46039f"
             ],
             [
              0.2222222222222222,
              "#7201a8"
             ],
             [
              0.3333333333333333,
              "#9c179e"
             ],
             [
              0.4444444444444444,
              "#bd3786"
             ],
             [
              0.5555555555555556,
              "#d8576b"
             ],
             [
              0.6666666666666666,
              "#ed7953"
             ],
             [
              0.7777777777777778,
              "#fb9f3a"
             ],
             [
              0.8888888888888888,
              "#fdca26"
             ],
             [
              1,
              "#f0f921"
             ]
            ],
            "type": "histogram2d"
           }
          ],
          "histogram2dcontour": [
           {
            "colorbar": {
             "outlinewidth": 0,
             "ticks": ""
            },
            "colorscale": [
             [
              0,
              "#0d0887"
             ],
             [
              0.1111111111111111,
              "#46039f"
             ],
             [
              0.2222222222222222,
              "#7201a8"
             ],
             [
              0.3333333333333333,
              "#9c179e"
             ],
             [
              0.4444444444444444,
              "#bd3786"
             ],
             [
              0.5555555555555556,
              "#d8576b"
             ],
             [
              0.6666666666666666,
              "#ed7953"
             ],
             [
              0.7777777777777778,
              "#fb9f3a"
             ],
             [
              0.8888888888888888,
              "#fdca26"
             ],
             [
              1,
              "#f0f921"
             ]
            ],
            "type": "histogram2dcontour"
           }
          ],
          "mesh3d": [
           {
            "colorbar": {
             "outlinewidth": 0,
             "ticks": ""
            },
            "type": "mesh3d"
           }
          ],
          "parcoords": [
           {
            "line": {
             "colorbar": {
              "outlinewidth": 0,
              "ticks": ""
             }
            },
            "type": "parcoords"
           }
          ],
          "pie": [
           {
            "automargin": true,
            "type": "pie"
           }
          ],
          "scatter": [
           {
            "fillpattern": {
             "fillmode": "overlay",
             "size": 10,
             "solidity": 0.2
            },
            "type": "scatter"
           }
          ],
          "scatter3d": [
           {
            "line": {
             "colorbar": {
              "outlinewidth": 0,
              "ticks": ""
             }
            },
            "marker": {
             "colorbar": {
              "outlinewidth": 0,
              "ticks": ""
             }
            },
            "type": "scatter3d"
           }
          ],
          "scattercarpet": [
           {
            "marker": {
             "colorbar": {
              "outlinewidth": 0,
              "ticks": ""
             }
            },
            "type": "scattercarpet"
           }
          ],
          "scattergeo": [
           {
            "marker": {
             "colorbar": {
              "outlinewidth": 0,
              "ticks": ""
             }
            },
            "type": "scattergeo"
           }
          ],
          "scattergl": [
           {
            "marker": {
             "colorbar": {
              "outlinewidth": 0,
              "ticks": ""
             }
            },
            "type": "scattergl"
           }
          ],
          "scattermapbox": [
           {
            "marker": {
             "colorbar": {
              "outlinewidth": 0,
              "ticks": ""
             }
            },
            "type": "scattermapbox"
           }
          ],
          "scatterpolar": [
           {
            "marker": {
             "colorbar": {
              "outlinewidth": 0,
              "ticks": ""
             }
            },
            "type": "scatterpolar"
           }
          ],
          "scatterpolargl": [
           {
            "marker": {
             "colorbar": {
              "outlinewidth": 0,
              "ticks": ""
             }
            },
            "type": "scatterpolargl"
           }
          ],
          "scatterternary": [
           {
            "marker": {
             "colorbar": {
              "outlinewidth": 0,
              "ticks": ""
             }
            },
            "type": "scatterternary"
           }
          ],
          "surface": [
           {
            "colorbar": {
             "outlinewidth": 0,
             "ticks": ""
            },
            "colorscale": [
             [
              0,
              "#0d0887"
             ],
             [
              0.1111111111111111,
              "#46039f"
             ],
             [
              0.2222222222222222,
              "#7201a8"
             ],
             [
              0.3333333333333333,
              "#9c179e"
             ],
             [
              0.4444444444444444,
              "#bd3786"
             ],
             [
              0.5555555555555556,
              "#d8576b"
             ],
             [
              0.6666666666666666,
              "#ed7953"
             ],
             [
              0.7777777777777778,
              "#fb9f3a"
             ],
             [
              0.8888888888888888,
              "#fdca26"
             ],
             [
              1,
              "#f0f921"
             ]
            ],
            "type": "surface"
           }
          ],
          "table": [
           {
            "cells": {
             "fill": {
              "color": "#EBF0F8"
             },
             "line": {
              "color": "white"
             }
            },
            "header": {
             "fill": {
              "color": "#C8D4E3"
             },
             "line": {
              "color": "white"
             }
            },
            "type": "table"
           }
          ]
         },
         "layout": {
          "annotationdefaults": {
           "arrowcolor": "#2a3f5f",
           "arrowhead": 0,
           "arrowwidth": 1
          },
          "autotypenumbers": "strict",
          "coloraxis": {
           "colorbar": {
            "outlinewidth": 0,
            "ticks": ""
           }
          },
          "colorscale": {
           "diverging": [
            [
             0,
             "#8e0152"
            ],
            [
             0.1,
             "#c51b7d"
            ],
            [
             0.2,
             "#de77ae"
            ],
            [
             0.3,
             "#f1b6da"
            ],
            [
             0.4,
             "#fde0ef"
            ],
            [
             0.5,
             "#f7f7f7"
            ],
            [
             0.6,
             "#e6f5d0"
            ],
            [
             0.7,
             "#b8e186"
            ],
            [
             0.8,
             "#7fbc41"
            ],
            [
             0.9,
             "#4d9221"
            ],
            [
             1,
             "#276419"
            ]
           ],
           "sequential": [
            [
             0,
             "#0d0887"
            ],
            [
             0.1111111111111111,
             "#46039f"
            ],
            [
             0.2222222222222222,
             "#7201a8"
            ],
            [
             0.3333333333333333,
             "#9c179e"
            ],
            [
             0.4444444444444444,
             "#bd3786"
            ],
            [
             0.5555555555555556,
             "#d8576b"
            ],
            [
             0.6666666666666666,
             "#ed7953"
            ],
            [
             0.7777777777777778,
             "#fb9f3a"
            ],
            [
             0.8888888888888888,
             "#fdca26"
            ],
            [
             1,
             "#f0f921"
            ]
           ],
           "sequentialminus": [
            [
             0,
             "#0d0887"
            ],
            [
             0.1111111111111111,
             "#46039f"
            ],
            [
             0.2222222222222222,
             "#7201a8"
            ],
            [
             0.3333333333333333,
             "#9c179e"
            ],
            [
             0.4444444444444444,
             "#bd3786"
            ],
            [
             0.5555555555555556,
             "#d8576b"
            ],
            [
             0.6666666666666666,
             "#ed7953"
            ],
            [
             0.7777777777777778,
             "#fb9f3a"
            ],
            [
             0.8888888888888888,
             "#fdca26"
            ],
            [
             1,
             "#f0f921"
            ]
           ]
          },
          "colorway": [
           "#636efa",
           "#EF553B",
           "#00cc96",
           "#ab63fa",
           "#FFA15A",
           "#19d3f3",
           "#FF6692",
           "#B6E880",
           "#FF97FF",
           "#FECB52"
          ],
          "font": {
           "color": "#2a3f5f"
          },
          "geo": {
           "bgcolor": "white",
           "lakecolor": "white",
           "landcolor": "#E5ECF6",
           "showlakes": true,
           "showland": true,
           "subunitcolor": "white"
          },
          "hoverlabel": {
           "align": "left"
          },
          "hovermode": "closest",
          "mapbox": {
           "style": "light"
          },
          "paper_bgcolor": "white",
          "plot_bgcolor": "#E5ECF6",
          "polar": {
           "angularaxis": {
            "gridcolor": "white",
            "linecolor": "white",
            "ticks": ""
           },
           "bgcolor": "#E5ECF6",
           "radialaxis": {
            "gridcolor": "white",
            "linecolor": "white",
            "ticks": ""
           }
          },
          "scene": {
           "xaxis": {
            "backgroundcolor": "#E5ECF6",
            "gridcolor": "white",
            "gridwidth": 2,
            "linecolor": "white",
            "showbackground": true,
            "ticks": "",
            "zerolinecolor": "white"
           },
           "yaxis": {
            "backgroundcolor": "#E5ECF6",
            "gridcolor": "white",
            "gridwidth": 2,
            "linecolor": "white",
            "showbackground": true,
            "ticks": "",
            "zerolinecolor": "white"
           },
           "zaxis": {
            "backgroundcolor": "#E5ECF6",
            "gridcolor": "white",
            "gridwidth": 2,
            "linecolor": "white",
            "showbackground": true,
            "ticks": "",
            "zerolinecolor": "white"
           }
          },
          "shapedefaults": {
           "line": {
            "color": "#2a3f5f"
           }
          },
          "ternary": {
           "aaxis": {
            "gridcolor": "white",
            "linecolor": "white",
            "ticks": ""
           },
           "baxis": {
            "gridcolor": "white",
            "linecolor": "white",
            "ticks": ""
           },
           "bgcolor": "#E5ECF6",
           "caxis": {
            "gridcolor": "white",
            "linecolor": "white",
            "ticks": ""
           }
          },
          "title": {
           "x": 0.05
          },
          "xaxis": {
           "automargin": true,
           "gridcolor": "white",
           "linecolor": "white",
           "ticks": "",
           "title": {
            "standoff": 15
           },
           "zerolinecolor": "white",
           "zerolinewidth": 2
          },
          "yaxis": {
           "automargin": true,
           "gridcolor": "white",
           "linecolor": "white",
           "ticks": "",
           "title": {
            "standoff": 15
           },
           "zerolinecolor": "white",
           "zerolinewidth": 2
          }
         }
        },
        "width": 900,
        "xaxis": {
         "anchor": "y",
         "domain": [
          0,
          1
         ],
         "range": [
          "2022-04-25T14:24:00",
          "2022-10-05T09:36:00"
         ],
         "type": "date"
        },
        "xaxis2": {
         "anchor": "y2",
         "domain": [
          0,
          1
         ],
         "range": [
          "2016-12-31T16:48:00",
          "2017-01-07T07:12:00"
         ],
         "tickformat": "%A",
         "type": "date"
        },
        "yaxis": {
         "anchor": "x",
         "domain": [
          0.575,
          1
         ],
         "rangemode": "normal",
         "title": {
          "text": "trend"
         },
         "zerolinecolor": "#AAA"
        },
        "yaxis2": {
         "anchor": "x2",
         "domain": [
          0,
          0.425
         ],
         "hoverformat": ".2%",
         "tickformat": "%",
         "title": {
          "text": "weekly"
         },
         "zerolinecolor": "#AAA"
        }
       }
      }
     },
     "metadata": {},
     "output_type": "display_data"
    }
   ],
   "source": [
    "fig_components = plot_components_plotly(model, pd_historical_and_forecast, figsize = (900, 400))\n",
    "fig_components.show()"
   ]
  },
  {
   "cell_type": "code",
   "execution_count": 43,
   "metadata": {},
   "outputs": [
    {
     "data": {
      "application/vnd.plotly.v1+json": {
       "config": {
        "plotlyServerURL": "https://plot.ly"
       },
       "data": [
        {
         "name": "Täglich produzierte Gutpackungen historisch",
         "type": "bar",
         "x": [
          "2022-05-03 Tue",
          "2022-05-04 Wed",
          "2022-05-05 Thu",
          "2022-05-06 Fri",
          "2022-05-07 Sat",
          "2022-05-08 Sun",
          "2022-05-09 Mon",
          "2022-05-10 Tue",
          "2022-05-11 Wed",
          "2022-05-12 Thu",
          "2022-05-13 Fri",
          "2022-05-16 Mon",
          "2022-05-17 Tue",
          "2022-05-18 Wed",
          "2022-05-19 Thu",
          "2022-05-20 Fri",
          "2022-05-23 Mon",
          "2022-05-24 Tue",
          "2022-05-25 Wed",
          "2022-05-26 Thu",
          "2022-05-30 Mon",
          "2022-05-31 Tue",
          "2022-06-01 Wed",
          "2022-06-02 Thu",
          "2022-06-03 Fri",
          "2022-06-05 Sun",
          "2022-06-06 Mon",
          "2022-06-07 Tue",
          "2022-06-08 Wed",
          "2022-06-09 Thu",
          "2022-06-10 Fri",
          "2022-06-13 Mon",
          "2022-06-14 Tue",
          "2022-06-15 Wed",
          "2022-06-16 Thu",
          "2022-06-17 Fri",
          "2022-06-20 Mon",
          "2022-06-21 Tue",
          "2022-06-22 Wed",
          "2022-06-23 Thu",
          "2022-06-24 Fri",
          "2022-06-27 Mon",
          "2022-06-28 Tue",
          "2022-06-29 Wed",
          "2022-06-30 Thu",
          "2022-07-01 Fri",
          "2022-07-07 Thu",
          "2022-07-08 Fri",
          "2022-07-10 Sun",
          "2022-07-11 Mon",
          "2022-07-12 Tue",
          "2022-07-13 Wed",
          "2022-07-14 Thu",
          "2022-07-15 Fri",
          "2022-07-16 Sat",
          "2022-07-18 Mon",
          "2022-07-19 Tue",
          "2022-07-20 Wed",
          "2022-07-21 Thu",
          "2022-07-22 Fri",
          "2022-07-25 Mon",
          "2022-07-26 Tue",
          "2022-07-27 Wed",
          "2022-07-28 Thu",
          "2022-07-29 Fri",
          "2022-07-30 Sat"
         ],
         "y": [
          84402,
          143584,
          136486,
          84222,
          0,
          5,
          79863,
          104147,
          110662,
          99686,
          75956,
          81117,
          169877,
          151944,
          151139,
          78040,
          92477,
          104152,
          79515,
          2828,
          37122,
          115448,
          133143,
          146699,
          122002,
          125159,
          120887,
          14917,
          102837,
          89493,
          116331,
          106241,
          166917,
          155621,
          35161,
          30710,
          77847,
          87018,
          160590,
          136776,
          46935,
          113705,
          157159,
          146545,
          180678,
          20352,
          1400,
          504,
          372,
          48736,
          108924,
          123045,
          139803,
          91376,
          0,
          102598,
          120116,
          78580,
          76034,
          101735,
          94033,
          102400,
          130783,
          133146,
          133154,
          22045
         ]
        },
        {
         "name": "Täglich produzierte Gutpackungen prognostiziert",
         "type": "bar",
         "x": [
          "2022-07-31 Sun",
          "2022-08-01 Mon",
          "2022-08-02 Tue",
          "2022-08-03 Wed",
          "2022-08-04 Thu",
          "2022-08-05 Fri",
          "2022-08-06 Sat",
          "2022-08-07 Sun",
          "2022-08-08 Mon",
          "2022-08-09 Tue",
          "2022-08-10 Wed",
          "2022-08-11 Thu",
          "2022-08-12 Fri",
          "2022-08-13 Sat",
          "2022-08-14 Sun",
          "2022-08-15 Mon",
          "2022-08-16 Tue",
          "2022-08-17 Wed",
          "2022-08-18 Thu",
          "2022-08-19 Fri",
          "2022-08-20 Sat",
          "2022-08-21 Sun",
          "2022-08-22 Mon",
          "2022-08-23 Tue",
          "2022-08-24 Wed",
          "2022-08-25 Thu",
          "2022-08-26 Fri",
          "2022-08-27 Sat",
          "2022-08-28 Sun",
          "2022-08-29 Mon",
          "2022-08-30 Tue",
          "2022-08-31 Wed",
          "2022-09-01 Thu",
          "2022-09-02 Fri",
          "2022-09-03 Sat",
          "2022-09-04 Sun",
          "2022-09-05 Mon",
          "2022-09-06 Tue",
          "2022-09-07 Wed",
          "2022-09-08 Thu",
          "2022-09-09 Fri",
          "2022-09-10 Sat",
          "2022-09-11 Sun",
          "2022-09-12 Mon",
          "2022-09-13 Tue",
          "2022-09-14 Wed",
          "2022-09-15 Thu",
          "2022-09-16 Fri",
          "2022-09-17 Sat",
          "2022-09-18 Sun",
          "2022-09-19 Mon",
          "2022-09-20 Tue",
          "2022-09-21 Wed",
          "2022-09-22 Thu",
          "2022-09-23 Fri",
          "2022-09-24 Sat",
          "2022-09-25 Sun",
          "2022-09-26 Mon",
          "2022-09-27 Tue",
          "2022-09-28 Wed"
         ],
         "y": [
          45729.536454813504,
          108690.68540388456,
          140645.62257193026,
          160122.69709110388,
          129419.06683543192,
          94512.7590960154,
          1536.534473672917,
          45667.034865058085,
          108542.10319977447,
          140453.32186590583,
          159903.72552210526,
          129242.05053644945,
          94383.46295111791,
          1534.4320628990454,
          45604.53800650555,
          108393.53231740276,
          140261.03590965286,
          159684.7708594907,
          129065.0479941321,
          94254.17691930532,
          1532.3298175869998,
          45542.04609949914,
          108244.97328096167,
          140068.76538276765,
          159465.83387668867,
          128888.05983352025,
          94124.90145758213,
          1530.2277453107938,
          45479.55936483673,
          108096.4266160213,
          139876.51096407615,
          159246.91534680116,
          128711.0866796374,
          93995.63702244774,
          1528.1258534121466,
          45417.07802315931,
          107947.89284643198,
          139684.27333253057,
          159028.0160429744,
          128534.12915752904,
          93866.38407023977,
          1526.024149224926,
          45354.60229511479,
          107799.37249681386,
          139492.0531665967,
          158809.13673753044,
          128357.1878914822,
          93737.14305716811,
          1523.9226401852718,
          45292.13240066779,
          107650.86609094968,
          139299.85114439574,
          158590.2782030973,
          128180.26350601298,
          93607.91443923337,
          1521.8213337574068,
          45229.66856109592,
          107502.37415325815,
          139107.66794438034,
          158371.44121157334
         ]
        }
       ],
       "layout": {
        "barmode": "stack",
        "legend": {
         "orientation": "h",
         "traceorder": "normal",
         "x": 0.5,
         "xanchor": "center",
         "y": 1,
         "yanchor": "bottom"
        },
        "template": {
         "data": {
          "bar": [
           {
            "error_x": {
             "color": "#2a3f5f"
            },
            "error_y": {
             "color": "#2a3f5f"
            },
            "marker": {
             "line": {
              "color": "#E5ECF6",
              "width": 0.5
             },
             "pattern": {
              "fillmode": "overlay",
              "size": 10,
              "solidity": 0.2
             }
            },
            "type": "bar"
           }
          ],
          "barpolar": [
           {
            "marker": {
             "line": {
              "color": "#E5ECF6",
              "width": 0.5
             },
             "pattern": {
              "fillmode": "overlay",
              "size": 10,
              "solidity": 0.2
             }
            },
            "type": "barpolar"
           }
          ],
          "carpet": [
           {
            "aaxis": {
             "endlinecolor": "#2a3f5f",
             "gridcolor": "white",
             "linecolor": "white",
             "minorgridcolor": "white",
             "startlinecolor": "#2a3f5f"
            },
            "baxis": {
             "endlinecolor": "#2a3f5f",
             "gridcolor": "white",
             "linecolor": "white",
             "minorgridcolor": "white",
             "startlinecolor": "#2a3f5f"
            },
            "type": "carpet"
           }
          ],
          "choropleth": [
           {
            "colorbar": {
             "outlinewidth": 0,
             "ticks": ""
            },
            "type": "choropleth"
           }
          ],
          "contour": [
           {
            "colorbar": {
             "outlinewidth": 0,
             "ticks": ""
            },
            "colorscale": [
             [
              0,
              "#0d0887"
             ],
             [
              0.1111111111111111,
              "#46039f"
             ],
             [
              0.2222222222222222,
              "#7201a8"
             ],
             [
              0.3333333333333333,
              "#9c179e"
             ],
             [
              0.4444444444444444,
              "#bd3786"
             ],
             [
              0.5555555555555556,
              "#d8576b"
             ],
             [
              0.6666666666666666,
              "#ed7953"
             ],
             [
              0.7777777777777778,
              "#fb9f3a"
             ],
             [
              0.8888888888888888,
              "#fdca26"
             ],
             [
              1,
              "#f0f921"
             ]
            ],
            "type": "contour"
           }
          ],
          "contourcarpet": [
           {
            "colorbar": {
             "outlinewidth": 0,
             "ticks": ""
            },
            "type": "contourcarpet"
           }
          ],
          "heatmap": [
           {
            "colorbar": {
             "outlinewidth": 0,
             "ticks": ""
            },
            "colorscale": [
             [
              0,
              "#0d0887"
             ],
             [
              0.1111111111111111,
              "#46039f"
             ],
             [
              0.2222222222222222,
              "#7201a8"
             ],
             [
              0.3333333333333333,
              "#9c179e"
             ],
             [
              0.4444444444444444,
              "#bd3786"
             ],
             [
              0.5555555555555556,
              "#d8576b"
             ],
             [
              0.6666666666666666,
              "#ed7953"
             ],
             [
              0.7777777777777778,
              "#fb9f3a"
             ],
             [
              0.8888888888888888,
              "#fdca26"
             ],
             [
              1,
              "#f0f921"
             ]
            ],
            "type": "heatmap"
           }
          ],
          "heatmapgl": [
           {
            "colorbar": {
             "outlinewidth": 0,
             "ticks": ""
            },
            "colorscale": [
             [
              0,
              "#0d0887"
             ],
             [
              0.1111111111111111,
              "#46039f"
             ],
             [
              0.2222222222222222,
              "#7201a8"
             ],
             [
              0.3333333333333333,
              "#9c179e"
             ],
             [
              0.4444444444444444,
              "#bd3786"
             ],
             [
              0.5555555555555556,
              "#d8576b"
             ],
             [
              0.6666666666666666,
              "#ed7953"
             ],
             [
              0.7777777777777778,
              "#fb9f3a"
             ],
             [
              0.8888888888888888,
              "#fdca26"
             ],
             [
              1,
              "#f0f921"
             ]
            ],
            "type": "heatmapgl"
           }
          ],
          "histogram": [
           {
            "marker": {
             "pattern": {
              "fillmode": "overlay",
              "size": 10,
              "solidity": 0.2
             }
            },
            "type": "histogram"
           }
          ],
          "histogram2d": [
           {
            "colorbar": {
             "outlinewidth": 0,
             "ticks": ""
            },
            "colorscale": [
             [
              0,
              "#0d0887"
             ],
             [
              0.1111111111111111,
              "#46039f"
             ],
             [
              0.2222222222222222,
              "#7201a8"
             ],
             [
              0.3333333333333333,
              "#9c179e"
             ],
             [
              0.4444444444444444,
              "#bd3786"
             ],
             [
              0.5555555555555556,
              "#d8576b"
             ],
             [
              0.6666666666666666,
              "#ed7953"
             ],
             [
              0.7777777777777778,
              "#fb9f3a"
             ],
             [
              0.8888888888888888,
              "#fdca26"
             ],
             [
              1,
              "#f0f921"
             ]
            ],
            "type": "histogram2d"
           }
          ],
          "histogram2dcontour": [
           {
            "colorbar": {
             "outlinewidth": 0,
             "ticks": ""
            },
            "colorscale": [
             [
              0,
              "#0d0887"
             ],
             [
              0.1111111111111111,
              "#46039f"
             ],
             [
              0.2222222222222222,
              "#7201a8"
             ],
             [
              0.3333333333333333,
              "#9c179e"
             ],
             [
              0.4444444444444444,
              "#bd3786"
             ],
             [
              0.5555555555555556,
              "#d8576b"
             ],
             [
              0.6666666666666666,
              "#ed7953"
             ],
             [
              0.7777777777777778,
              "#fb9f3a"
             ],
             [
              0.8888888888888888,
              "#fdca26"
             ],
             [
              1,
              "#f0f921"
             ]
            ],
            "type": "histogram2dcontour"
           }
          ],
          "mesh3d": [
           {
            "colorbar": {
             "outlinewidth": 0,
             "ticks": ""
            },
            "type": "mesh3d"
           }
          ],
          "parcoords": [
           {
            "line": {
             "colorbar": {
              "outlinewidth": 0,
              "ticks": ""
             }
            },
            "type": "parcoords"
           }
          ],
          "pie": [
           {
            "automargin": true,
            "type": "pie"
           }
          ],
          "scatter": [
           {
            "fillpattern": {
             "fillmode": "overlay",
             "size": 10,
             "solidity": 0.2
            },
            "type": "scatter"
           }
          ],
          "scatter3d": [
           {
            "line": {
             "colorbar": {
              "outlinewidth": 0,
              "ticks": ""
             }
            },
            "marker": {
             "colorbar": {
              "outlinewidth": 0,
              "ticks": ""
             }
            },
            "type": "scatter3d"
           }
          ],
          "scattercarpet": [
           {
            "marker": {
             "colorbar": {
              "outlinewidth": 0,
              "ticks": ""
             }
            },
            "type": "scattercarpet"
           }
          ],
          "scattergeo": [
           {
            "marker": {
             "colorbar": {
              "outlinewidth": 0,
              "ticks": ""
             }
            },
            "type": "scattergeo"
           }
          ],
          "scattergl": [
           {
            "marker": {
             "colorbar": {
              "outlinewidth": 0,
              "ticks": ""
             }
            },
            "type": "scattergl"
           }
          ],
          "scattermapbox": [
           {
            "marker": {
             "colorbar": {
              "outlinewidth": 0,
              "ticks": ""
             }
            },
            "type": "scattermapbox"
           }
          ],
          "scatterpolar": [
           {
            "marker": {
             "colorbar": {
              "outlinewidth": 0,
              "ticks": ""
             }
            },
            "type": "scatterpolar"
           }
          ],
          "scatterpolargl": [
           {
            "marker": {
             "colorbar": {
              "outlinewidth": 0,
              "ticks": ""
             }
            },
            "type": "scatterpolargl"
           }
          ],
          "scatterternary": [
           {
            "marker": {
             "colorbar": {
              "outlinewidth": 0,
              "ticks": ""
             }
            },
            "type": "scatterternary"
           }
          ],
          "surface": [
           {
            "colorbar": {
             "outlinewidth": 0,
             "ticks": ""
            },
            "colorscale": [
             [
              0,
              "#0d0887"
             ],
             [
              0.1111111111111111,
              "#46039f"
             ],
             [
              0.2222222222222222,
              "#7201a8"
             ],
             [
              0.3333333333333333,
              "#9c179e"
             ],
             [
              0.4444444444444444,
              "#bd3786"
             ],
             [
              0.5555555555555556,
              "#d8576b"
             ],
             [
              0.6666666666666666,
              "#ed7953"
             ],
             [
              0.7777777777777778,
              "#fb9f3a"
             ],
             [
              0.8888888888888888,
              "#fdca26"
             ],
             [
              1,
              "#f0f921"
             ]
            ],
            "type": "surface"
           }
          ],
          "table": [
           {
            "cells": {
             "fill": {
              "color": "#EBF0F8"
             },
             "line": {
              "color": "white"
             }
            },
            "header": {
             "fill": {
              "color": "#C8D4E3"
             },
             "line": {
              "color": "white"
             }
            },
            "type": "table"
           }
          ]
         },
         "layout": {
          "annotationdefaults": {
           "arrowcolor": "#2a3f5f",
           "arrowhead": 0,
           "arrowwidth": 1
          },
          "autotypenumbers": "strict",
          "coloraxis": {
           "colorbar": {
            "outlinewidth": 0,
            "ticks": ""
           }
          },
          "colorscale": {
           "diverging": [
            [
             0,
             "#8e0152"
            ],
            [
             0.1,
             "#c51b7d"
            ],
            [
             0.2,
             "#de77ae"
            ],
            [
             0.3,
             "#f1b6da"
            ],
            [
             0.4,
             "#fde0ef"
            ],
            [
             0.5,
             "#f7f7f7"
            ],
            [
             0.6,
             "#e6f5d0"
            ],
            [
             0.7,
             "#b8e186"
            ],
            [
             0.8,
             "#7fbc41"
            ],
            [
             0.9,
             "#4d9221"
            ],
            [
             1,
             "#276419"
            ]
           ],
           "sequential": [
            [
             0,
             "#0d0887"
            ],
            [
             0.1111111111111111,
             "#46039f"
            ],
            [
             0.2222222222222222,
             "#7201a8"
            ],
            [
             0.3333333333333333,
             "#9c179e"
            ],
            [
             0.4444444444444444,
             "#bd3786"
            ],
            [
             0.5555555555555556,
             "#d8576b"
            ],
            [
             0.6666666666666666,
             "#ed7953"
            ],
            [
             0.7777777777777778,
             "#fb9f3a"
            ],
            [
             0.8888888888888888,
             "#fdca26"
            ],
            [
             1,
             "#f0f921"
            ]
           ],
           "sequentialminus": [
            [
             0,
             "#0d0887"
            ],
            [
             0.1111111111111111,
             "#46039f"
            ],
            [
             0.2222222222222222,
             "#7201a8"
            ],
            [
             0.3333333333333333,
             "#9c179e"
            ],
            [
             0.4444444444444444,
             "#bd3786"
            ],
            [
             0.5555555555555556,
             "#d8576b"
            ],
            [
             0.6666666666666666,
             "#ed7953"
            ],
            [
             0.7777777777777778,
             "#fb9f3a"
            ],
            [
             0.8888888888888888,
             "#fdca26"
            ],
            [
             1,
             "#f0f921"
            ]
           ]
          },
          "colorway": [
           "#636efa",
           "#EF553B",
           "#00cc96",
           "#ab63fa",
           "#FFA15A",
           "#19d3f3",
           "#FF6692",
           "#B6E880",
           "#FF97FF",
           "#FECB52"
          ],
          "font": {
           "color": "#2a3f5f"
          },
          "geo": {
           "bgcolor": "white",
           "lakecolor": "white",
           "landcolor": "#E5ECF6",
           "showlakes": true,
           "showland": true,
           "subunitcolor": "white"
          },
          "hoverlabel": {
           "align": "left"
          },
          "hovermode": "closest",
          "mapbox": {
           "style": "light"
          },
          "paper_bgcolor": "white",
          "plot_bgcolor": "#E5ECF6",
          "polar": {
           "angularaxis": {
            "gridcolor": "white",
            "linecolor": "white",
            "ticks": ""
           },
           "bgcolor": "#E5ECF6",
           "radialaxis": {
            "gridcolor": "white",
            "linecolor": "white",
            "ticks": ""
           }
          },
          "scene": {
           "xaxis": {
            "backgroundcolor": "#E5ECF6",
            "gridcolor": "white",
            "gridwidth": 2,
            "linecolor": "white",
            "showbackground": true,
            "ticks": "",
            "zerolinecolor": "white"
           },
           "yaxis": {
            "backgroundcolor": "#E5ECF6",
            "gridcolor": "white",
            "gridwidth": 2,
            "linecolor": "white",
            "showbackground": true,
            "ticks": "",
            "zerolinecolor": "white"
           },
           "zaxis": {
            "backgroundcolor": "#E5ECF6",
            "gridcolor": "white",
            "gridwidth": 2,
            "linecolor": "white",
            "showbackground": true,
            "ticks": "",
            "zerolinecolor": "white"
           }
          },
          "shapedefaults": {
           "line": {
            "color": "#2a3f5f"
           }
          },
          "ternary": {
           "aaxis": {
            "gridcolor": "white",
            "linecolor": "white",
            "ticks": ""
           },
           "baxis": {
            "gridcolor": "white",
            "linecolor": "white",
            "ticks": ""
           },
           "bgcolor": "#E5ECF6",
           "caxis": {
            "gridcolor": "white",
            "linecolor": "white",
            "ticks": ""
           }
          },
          "title": {
           "x": 0.05
          },
          "xaxis": {
           "automargin": true,
           "gridcolor": "white",
           "linecolor": "white",
           "ticks": "",
           "title": {
            "standoff": 15
           },
           "zerolinecolor": "white",
           "zerolinewidth": 2
          },
          "yaxis": {
           "automargin": true,
           "gridcolor": "white",
           "linecolor": "white",
           "ticks": "",
           "title": {
            "standoff": 15
           },
           "zerolinecolor": "white",
           "zerolinewidth": 2
          }
         }
        },
        "title": {
         "text": "Täglich produzierte Gutpackungen: historisch und prognostiziert"
        },
        "xaxis": {
         "tickangle": -90
        },
        "yaxis": {
         "title": {
          "text": "Anzahl Packungen"
         }
        }
       }
      }
     },
     "metadata": {},
     "output_type": "display_data"
    }
   ],
   "source": [
    "end_historical = pd_daily_produced_good_packs_all.ds.max()\n",
    "fig = go.Figure(data=[\n",
    "    go.Bar(name='Täglich produzierte Gutpackungen historisch',\n",
    "           x=pd_daily_produced_good_packs_all.ds, \n",
    "           y=pd_daily_produced_good_packs_all.y),\n",
    "    go.Bar(name='Täglich produzierte Gutpackungen prognostiziert',\n",
    "           x=pd_historical_and_forecast[pd_historical_and_forecast.ds > end_historical].ds.dt.strftime(\"%Y-%m-%d %a\"), \n",
    "           y=pd_historical_and_forecast[pd_historical_and_forecast.ds > end_historical].yhat) # yhat are the forecasts\n",
    "])\n",
    "# Change the bar mode\n",
    "fig.update_layout(barmode='stack')\n",
    "fig.update_layout(\n",
    "    title=f\"Täglich produzierte Gutpackungen: historisch und prognostiziert\",\n",
    "    yaxis_title=\"Anzahl Packungen\",\n",
    "    legend=dict(\n",
    "       orientation=\"h\",\n",
    "       traceorder=\"normal\",\n",
    "       yanchor=\"bottom\",\n",
    "       y=1,\n",
    "       xanchor=\"center\",\n",
    "       x=0.5\n",
    "    )\n",
    ")\n",
    "fig.update_xaxes(tickangle=-90)\n",
    "# fig.update_yaxes(type=\"log\")\n",
    "fig.show()\n",
    "fig.write_html(file=os.path.join(results_path, r\"plots\\history_and_forecast_good_packs.html\"))"
   ]
  }
 ],
 "metadata": {
  "kernelspec": {
   "display_name": ".venv",
   "language": "python",
   "name": "python3"
  },
  "language_info": {
   "codemirror_mode": {
    "name": "ipython",
    "version": 3
   },
   "file_extension": ".py",
   "mimetype": "text/x-python",
   "name": "python",
   "nbconvert_exporter": "python",
   "pygments_lexer": "ipython3",
   "version": "3.9.0"
  },
  "orig_nbformat": 4
 },
 "nbformat": 4,
 "nbformat_minor": 2
}
